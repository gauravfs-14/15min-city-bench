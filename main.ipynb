{
 "cells": [
  {
   "cell_type": "code",
   "execution_count": null,
   "id": "4c6c7358",
   "metadata": {},
   "outputs": [
    {
     "data": {
      "application/vnd.jupyter.widget-view+json": {
       "model_id": "ef40224d36fc496a8fcb77e2b5f284af",
       "version_major": 2,
       "version_minor": 0
      },
      "text/plain": [
       "🔬 Benchmarking Datasets:   0%|          | 0/3 [00:00<?, ?it/s]"
      ]
     },
     "metadata": {},
     "output_type": "display_data"
    },
    {
     "name": "stdout",
     "output_type": "stream",
     "text": [
      "\n",
      "📂 Benchmarking on dataset: news\n"
     ]
    },
    {
     "data": {
      "application/vnd.jupyter.widget-view+json": {
       "model_id": "e6443e9d29d6415ea9cebdcf7df7de57",
       "version_major": 2,
       "version_minor": 0
      },
      "text/plain": [
       "🔬 Benchmarking Models on news:   0%|          | 0/5 [00:00<?, ?it/s]"
      ]
     },
     "metadata": {},
     "output_type": "display_data"
    },
    {
     "name": "stdout",
     "output_type": "stream",
     "text": [
      "\n",
      "🔍 Model: distilroberta-base\n",
      " ↪ Fold 1/5\n"
     ]
    },
    {
     "name": "stderr",
     "output_type": "stream",
     "text": [
      "/Users/gchhetri/Developer/Python/15min-city-bench/.venv/lib/python3.12/site-packages/sklearn/model_selection/_split.py:811: UserWarning: The least populated class in y has only 1 members, which is less than n_splits=5.\n",
      "  warnings.warn(\n"
     ]
    },
    {
     "data": {
      "application/vnd.jupyter.widget-view+json": {
       "model_id": "00b5857d3ae34c189dffd410f5b0ff15",
       "version_major": 2,
       "version_minor": 0
      },
      "text/plain": [
       "Map:   0%|          | 0/16 [00:00<?, ? examples/s]"
      ]
     },
     "metadata": {},
     "output_type": "display_data"
    },
    {
     "data": {
      "application/vnd.jupyter.widget-view+json": {
       "model_id": "c5b4c98938f046449df43c5311e878a7",
       "version_major": 2,
       "version_minor": 0
      },
      "text/plain": [
       "Map:   0%|          | 0/4 [00:00<?, ? examples/s]"
      ]
     },
     "metadata": {},
     "output_type": "display_data"
    },
    {
     "name": "stderr",
     "output_type": "stream",
     "text": [
      "/Users/gchhetri/Developer/Python/15min-city-bench/.venv/lib/python3.12/site-packages/transformers/training_args.py:1604: FutureWarning: using `no_cuda` is deprecated and will be removed in version 5.0 of 🤗 Transformers. Use `use_cpu` instead\n",
      "  warnings.warn(\n"
     ]
    },
    {
     "name": "stdout",
     "output_type": "stream",
     "text": [
      "{'eval_loss': 0.5104106664657593, 'eval_accuracy': 1.0, 'eval_f1': 1.0, 'eval_precision': 1.0, 'eval_recall': 1.0, 'eval_runtime': 0.046, 'eval_samples_per_second': 86.934, 'eval_steps_per_second': 21.733, 'epoch': 1.0}\n",
      "{'eval_loss': 0.43783479928970337, 'eval_accuracy': 1.0, 'eval_f1': 1.0, 'eval_precision': 1.0, 'eval_recall': 1.0, 'eval_runtime': 0.0478, 'eval_samples_per_second': 83.724, 'eval_steps_per_second': 20.931, 'epoch': 2.0}\n",
      "{'eval_loss': 0.3775639832019806, 'eval_accuracy': 1.0, 'eval_f1': 1.0, 'eval_precision': 1.0, 'eval_recall': 1.0, 'eval_runtime': 0.0475, 'eval_samples_per_second': 84.212, 'eval_steps_per_second': 21.053, 'epoch': 3.0}\n",
      "{'eval_loss': 0.33523350954055786, 'eval_accuracy': 1.0, 'eval_f1': 1.0, 'eval_precision': 1.0, 'eval_recall': 1.0, 'eval_runtime': 0.0509, 'eval_samples_per_second': 78.576, 'eval_steps_per_second': 19.644, 'epoch': 4.0}\n",
      "{'eval_loss': 0.31555527448654175, 'eval_accuracy': 1.0, 'eval_f1': 1.0, 'eval_precision': 1.0, 'eval_recall': 1.0, 'eval_runtime': 0.0487, 'eval_samples_per_second': 82.195, 'eval_steps_per_second': 20.549, 'epoch': 5.0}\n",
      "{'train_runtime': 9.7063, 'train_samples_per_second': 8.242, 'train_steps_per_second': 1.03, 'train_loss': 0.4666297912597656, 'epoch': 5.0}\n",
      "{'eval_loss': 0.31555527448654175, 'eval_model_preparation_time': 0.0006, 'eval_accuracy': 1.0, 'eval_f1': 1.0, 'eval_precision': 1.0, 'eval_recall': 1.0, 'eval_runtime': 0.0494, 'eval_samples_per_second': 80.92, 'eval_steps_per_second': 20.23}\n"
     ]
    },
    {
     "name": "stderr",
     "output_type": "stream",
     "text": [
      "/Users/gchhetri/Developer/Python/15min-city-bench/.venv/lib/python3.12/site-packages/sklearn/metrics/_ranking.py:1192: UndefinedMetricWarning: No negative samples in y_true, false positive value should be meaningless\n",
      "  warnings.warn(\n"
     ]
    },
    {
     "name": "stdout",
     "output_type": "stream",
     "text": [
      " ↪ Fold 2/5\n"
     ]
    },
    {
     "data": {
      "application/vnd.jupyter.widget-view+json": {
       "model_id": "3b146764401f4389b00072a34147d1ce",
       "version_major": 2,
       "version_minor": 0
      },
      "text/plain": [
       "Map:   0%|          | 0/16 [00:00<?, ? examples/s]"
      ]
     },
     "metadata": {},
     "output_type": "display_data"
    },
    {
     "data": {
      "application/vnd.jupyter.widget-view+json": {
       "model_id": "dd869a304af2437093d0fea3a4ee3cec",
       "version_major": 2,
       "version_minor": 0
      },
      "text/plain": [
       "Map:   0%|          | 0/4 [00:00<?, ? examples/s]"
      ]
     },
     "metadata": {},
     "output_type": "display_data"
    },
    {
     "name": "stderr",
     "output_type": "stream",
     "text": [
      "/Users/gchhetri/Developer/Python/15min-city-bench/.venv/lib/python3.12/site-packages/transformers/training_args.py:1604: FutureWarning: using `no_cuda` is deprecated and will be removed in version 5.0 of 🤗 Transformers. Use `use_cpu` instead\n",
      "  warnings.warn(\n"
     ]
    },
    {
     "name": "stdout",
     "output_type": "stream",
     "text": [
      "{'eval_loss': 0.5129880309104919, 'eval_accuracy': 1.0, 'eval_f1': 1.0, 'eval_precision': 1.0, 'eval_recall': 1.0, 'eval_runtime': 0.0436, 'eval_samples_per_second': 91.802, 'eval_steps_per_second': 22.951, 'epoch': 1.0}\n",
      "{'eval_loss': 0.441173791885376, 'eval_accuracy': 1.0, 'eval_f1': 1.0, 'eval_precision': 1.0, 'eval_recall': 1.0, 'eval_runtime': 0.0514, 'eval_samples_per_second': 77.884, 'eval_steps_per_second': 19.471, 'epoch': 2.0}\n",
      "{'eval_loss': 0.38261696696281433, 'eval_accuracy': 1.0, 'eval_f1': 1.0, 'eval_precision': 1.0, 'eval_recall': 1.0, 'eval_runtime': 0.0431, 'eval_samples_per_second': 92.734, 'eval_steps_per_second': 23.184, 'epoch': 3.0}\n",
      "{'eval_loss': 0.3402680456638336, 'eval_accuracy': 1.0, 'eval_f1': 1.0, 'eval_precision': 1.0, 'eval_recall': 1.0, 'eval_runtime': 0.045, 'eval_samples_per_second': 88.932, 'eval_steps_per_second': 22.233, 'epoch': 4.0}\n",
      "{'eval_loss': 0.3208633065223694, 'eval_accuracy': 1.0, 'eval_f1': 1.0, 'eval_precision': 1.0, 'eval_recall': 1.0, 'eval_runtime': 0.0503, 'eval_samples_per_second': 79.591, 'eval_steps_per_second': 19.898, 'epoch': 5.0}\n",
      "{'train_runtime': 9.0448, 'train_samples_per_second': 8.845, 'train_steps_per_second': 1.106, 'train_loss': 0.4795540332794189, 'epoch': 5.0}\n",
      "{'eval_loss': 0.3208633065223694, 'eval_model_preparation_time': 0.0004, 'eval_accuracy': 1.0, 'eval_f1': 1.0, 'eval_precision': 1.0, 'eval_recall': 1.0, 'eval_runtime': 0.0469, 'eval_samples_per_second': 85.346, 'eval_steps_per_second': 21.337}\n"
     ]
    },
    {
     "name": "stderr",
     "output_type": "stream",
     "text": [
      "/Users/gchhetri/Developer/Python/15min-city-bench/.venv/lib/python3.12/site-packages/sklearn/metrics/_ranking.py:1192: UndefinedMetricWarning: No negative samples in y_true, false positive value should be meaningless\n",
      "  warnings.warn(\n"
     ]
    },
    {
     "name": "stdout",
     "output_type": "stream",
     "text": [
      " ↪ Fold 3/5\n"
     ]
    },
    {
     "data": {
      "application/vnd.jupyter.widget-view+json": {
       "model_id": "5bd2276fec754dec8cacb55f651d6e1b",
       "version_major": 2,
       "version_minor": 0
      },
      "text/plain": [
       "Map:   0%|          | 0/16 [00:00<?, ? examples/s]"
      ]
     },
     "metadata": {},
     "output_type": "display_data"
    },
    {
     "data": {
      "application/vnd.jupyter.widget-view+json": {
       "model_id": "0d5469c2c8d5435eb41a62b604bcb592",
       "version_major": 2,
       "version_minor": 0
      },
      "text/plain": [
       "Map:   0%|          | 0/4 [00:00<?, ? examples/s]"
      ]
     },
     "metadata": {},
     "output_type": "display_data"
    },
    {
     "name": "stderr",
     "output_type": "stream",
     "text": [
      "/Users/gchhetri/Developer/Python/15min-city-bench/.venv/lib/python3.12/site-packages/transformers/training_args.py:1604: FutureWarning: using `no_cuda` is deprecated and will be removed in version 5.0 of 🤗 Transformers. Use `use_cpu` instead\n",
      "  warnings.warn(\n"
     ]
    },
    {
     "name": "stdout",
     "output_type": "stream",
     "text": [
      "{'eval_loss': 0.5095083117485046, 'eval_accuracy': 1.0, 'eval_f1': 1.0, 'eval_precision': 1.0, 'eval_recall': 1.0, 'eval_runtime': 0.0535, 'eval_samples_per_second': 74.745, 'eval_steps_per_second': 18.686, 'epoch': 1.0}\n",
      "{'eval_loss': 0.4344220459461212, 'eval_accuracy': 1.0, 'eval_f1': 1.0, 'eval_precision': 1.0, 'eval_recall': 1.0, 'eval_runtime': 0.0508, 'eval_samples_per_second': 78.704, 'eval_steps_per_second': 19.676, 'epoch': 2.0}\n",
      "{'eval_loss': 0.37284398078918457, 'eval_accuracy': 1.0, 'eval_f1': 1.0, 'eval_precision': 1.0, 'eval_recall': 1.0, 'eval_runtime': 0.0504, 'eval_samples_per_second': 79.363, 'eval_steps_per_second': 19.841, 'epoch': 3.0}\n",
      "{'eval_loss': 0.3286250829696655, 'eval_accuracy': 1.0, 'eval_f1': 1.0, 'eval_precision': 1.0, 'eval_recall': 1.0, 'eval_runtime': 0.0471, 'eval_samples_per_second': 84.915, 'eval_steps_per_second': 21.229, 'epoch': 4.0}\n",
      "{'eval_loss': 0.3083650767803192, 'eval_accuracy': 1.0, 'eval_f1': 1.0, 'eval_precision': 1.0, 'eval_recall': 1.0, 'eval_runtime': 0.0518, 'eval_samples_per_second': 77.146, 'eval_steps_per_second': 19.286, 'epoch': 5.0}\n",
      "{'train_runtime': 8.798, 'train_samples_per_second': 9.093, 'train_steps_per_second': 1.137, 'train_loss': 0.4594838619232178, 'epoch': 5.0}\n",
      "{'eval_loss': 0.3083650767803192, 'eval_model_preparation_time': 0.0004, 'eval_accuracy': 1.0, 'eval_f1': 1.0, 'eval_precision': 1.0, 'eval_recall': 1.0, 'eval_runtime': 0.0472, 'eval_samples_per_second': 84.823, 'eval_steps_per_second': 21.206}\n"
     ]
    },
    {
     "name": "stderr",
     "output_type": "stream",
     "text": [
      "/Users/gchhetri/Developer/Python/15min-city-bench/.venv/lib/python3.12/site-packages/sklearn/metrics/_ranking.py:1192: UndefinedMetricWarning: No negative samples in y_true, false positive value should be meaningless\n",
      "  warnings.warn(\n"
     ]
    },
    {
     "name": "stdout",
     "output_type": "stream",
     "text": [
      " ↪ Fold 4/5\n"
     ]
    },
    {
     "data": {
      "application/vnd.jupyter.widget-view+json": {
       "model_id": "056ea89c781d4cfba487d2a7d4ce7e7b",
       "version_major": 2,
       "version_minor": 0
      },
      "text/plain": [
       "Map:   0%|          | 0/16 [00:00<?, ? examples/s]"
      ]
     },
     "metadata": {},
     "output_type": "display_data"
    },
    {
     "data": {
      "application/vnd.jupyter.widget-view+json": {
       "model_id": "e48a95212d9a4d2f90c672c065413e4c",
       "version_major": 2,
       "version_minor": 0
      },
      "text/plain": [
       "Map:   0%|          | 0/4 [00:00<?, ? examples/s]"
      ]
     },
     "metadata": {},
     "output_type": "display_data"
    },
    {
     "name": "stderr",
     "output_type": "stream",
     "text": [
      "/Users/gchhetri/Developer/Python/15min-city-bench/.venv/lib/python3.12/site-packages/transformers/training_args.py:1604: FutureWarning: using `no_cuda` is deprecated and will be removed in version 5.0 of 🤗 Transformers. Use `use_cpu` instead\n",
      "  warnings.warn(\n"
     ]
    },
    {
     "name": "stdout",
     "output_type": "stream",
     "text": [
      "{'eval_loss': 0.5157418251037598, 'eval_accuracy': 1.0, 'eval_f1': 1.0, 'eval_precision': 1.0, 'eval_recall': 1.0, 'eval_runtime': 0.0515, 'eval_samples_per_second': 77.667, 'eval_steps_per_second': 19.417, 'epoch': 1.0}\n",
      "{'eval_loss': 0.44534122943878174, 'eval_accuracy': 1.0, 'eval_f1': 1.0, 'eval_precision': 1.0, 'eval_recall': 1.0, 'eval_runtime': 0.0551, 'eval_samples_per_second': 72.633, 'eval_steps_per_second': 18.158, 'epoch': 2.0}\n",
      "{'eval_loss': 0.38738515973091125, 'eval_accuracy': 1.0, 'eval_f1': 1.0, 'eval_precision': 1.0, 'eval_recall': 1.0, 'eval_runtime': 0.0544, 'eval_samples_per_second': 73.505, 'eval_steps_per_second': 18.376, 'epoch': 3.0}\n",
      "{'eval_loss': 0.3457464873790741, 'eval_accuracy': 1.0, 'eval_f1': 1.0, 'eval_precision': 1.0, 'eval_recall': 1.0, 'eval_runtime': 0.0542, 'eval_samples_per_second': 73.779, 'eval_steps_per_second': 18.445, 'epoch': 4.0}\n",
      "{'eval_loss': 0.3266436755657196, 'eval_accuracy': 1.0, 'eval_f1': 1.0, 'eval_precision': 1.0, 'eval_recall': 1.0, 'eval_runtime': 0.0539, 'eval_samples_per_second': 74.211, 'eval_steps_per_second': 18.553, 'epoch': 5.0}\n",
      "{'train_runtime': 9.2199, 'train_samples_per_second': 8.677, 'train_steps_per_second': 1.085, 'train_loss': 0.4682605266571045, 'epoch': 5.0}\n",
      "{'eval_loss': 0.3266436755657196, 'eval_model_preparation_time': 0.0004, 'eval_accuracy': 1.0, 'eval_f1': 1.0, 'eval_precision': 1.0, 'eval_recall': 1.0, 'eval_runtime': 0.0531, 'eval_samples_per_second': 75.35, 'eval_steps_per_second': 18.837}\n",
      " ↪ Fold 5/5\n"
     ]
    },
    {
     "name": "stderr",
     "output_type": "stream",
     "text": [
      "/Users/gchhetri/Developer/Python/15min-city-bench/.venv/lib/python3.12/site-packages/sklearn/metrics/_ranking.py:1192: UndefinedMetricWarning: No negative samples in y_true, false positive value should be meaningless\n",
      "  warnings.warn(\n"
     ]
    },
    {
     "data": {
      "application/vnd.jupyter.widget-view+json": {
       "model_id": "7c186f04ded9456d8f5661c03f22d059",
       "version_major": 2,
       "version_minor": 0
      },
      "text/plain": [
       "Map:   0%|          | 0/16 [00:00<?, ? examples/s]"
      ]
     },
     "metadata": {},
     "output_type": "display_data"
    },
    {
     "data": {
      "application/vnd.jupyter.widget-view+json": {
       "model_id": "20eaf9edcae64843941472d285e34f01",
       "version_major": 2,
       "version_minor": 0
      },
      "text/plain": [
       "Map:   0%|          | 0/4 [00:00<?, ? examples/s]"
      ]
     },
     "metadata": {},
     "output_type": "display_data"
    },
    {
     "name": "stderr",
     "output_type": "stream",
     "text": [
      "/Users/gchhetri/Developer/Python/15min-city-bench/.venv/lib/python3.12/site-packages/transformers/training_args.py:1604: FutureWarning: using `no_cuda` is deprecated and will be removed in version 5.0 of 🤗 Transformers. Use `use_cpu` instead\n",
      "  warnings.warn(\n"
     ]
    },
    {
     "name": "stdout",
     "output_type": "stream",
     "text": [
      "{'eval_loss': 0.6097471117973328, 'eval_accuracy': 0.75, 'eval_f1': 0.8571428571428571, 'eval_precision': 0.75, 'eval_recall': 1.0, 'eval_runtime': 0.0384, 'eval_samples_per_second': 104.226, 'eval_steps_per_second': 26.057, 'epoch': 1.0}\n",
      "{'eval_loss': 0.5834760069847107, 'eval_accuracy': 0.75, 'eval_f1': 0.8571428571428571, 'eval_precision': 0.75, 'eval_recall': 1.0, 'eval_runtime': 0.044, 'eval_samples_per_second': 90.998, 'eval_steps_per_second': 22.749, 'epoch': 2.0}\n",
      "{'eval_loss': 0.5668638944625854, 'eval_accuracy': 0.75, 'eval_f1': 0.8571428571428571, 'eval_precision': 0.75, 'eval_recall': 1.0, 'eval_runtime': 0.0372, 'eval_samples_per_second': 107.409, 'eval_steps_per_second': 26.852, 'epoch': 3.0}\n",
      "{'eval_loss': 0.5592674612998962, 'eval_accuracy': 0.75, 'eval_f1': 0.8571428571428571, 'eval_precision': 0.75, 'eval_recall': 1.0, 'eval_runtime': 0.041, 'eval_samples_per_second': 97.484, 'eval_steps_per_second': 24.371, 'epoch': 4.0}\n",
      "{'eval_loss': 0.5573137998580933, 'eval_accuracy': 0.75, 'eval_f1': 0.8571428571428571, 'eval_precision': 0.75, 'eval_recall': 1.0, 'eval_runtime': 0.0406, 'eval_samples_per_second': 98.447, 'eval_steps_per_second': 24.612, 'epoch': 5.0}\n",
      "{'train_runtime': 8.6603, 'train_samples_per_second': 9.238, 'train_steps_per_second': 1.155, 'train_loss': 0.43601503372192385, 'epoch': 5.0}\n",
      "{'eval_loss': 0.5573137998580933, 'eval_model_preparation_time': 0.0004, 'eval_accuracy': 0.75, 'eval_f1': 0.8571428571428571, 'eval_precision': 0.75, 'eval_recall': 1.0, 'eval_runtime': 0.0381, 'eval_samples_per_second': 104.863, 'eval_steps_per_second': 26.216}\n",
      "\n",
      "🔍 Model: distilbert-base-uncased\n",
      " ↪ Fold 1/5\n"
     ]
    },
    {
     "name": "stderr",
     "output_type": "stream",
     "text": [
      "/Users/gchhetri/Developer/Python/15min-city-bench/.venv/lib/python3.12/site-packages/sklearn/model_selection/_split.py:811: UserWarning: The least populated class in y has only 1 members, which is less than n_splits=5.\n",
      "  warnings.warn(\n"
     ]
    },
    {
     "data": {
      "application/vnd.jupyter.widget-view+json": {
       "model_id": "f3dc43a2406e4e738a1dc19940e5e1b5",
       "version_major": 2,
       "version_minor": 0
      },
      "text/plain": [
       "Map:   0%|          | 0/16 [00:00<?, ? examples/s]"
      ]
     },
     "metadata": {},
     "output_type": "display_data"
    },
    {
     "data": {
      "application/vnd.jupyter.widget-view+json": {
       "model_id": "b2897ce596974b789616094c49c90716",
       "version_major": 2,
       "version_minor": 0
      },
      "text/plain": [
       "Map:   0%|          | 0/4 [00:00<?, ? examples/s]"
      ]
     },
     "metadata": {},
     "output_type": "display_data"
    },
    {
     "name": "stderr",
     "output_type": "stream",
     "text": [
      "/Users/gchhetri/Developer/Python/15min-city-bench/.venv/lib/python3.12/site-packages/transformers/training_args.py:1604: FutureWarning: using `no_cuda` is deprecated and will be removed in version 5.0 of 🤗 Transformers. Use `use_cpu` instead\n",
      "  warnings.warn(\n"
     ]
    },
    {
     "name": "stdout",
     "output_type": "stream",
     "text": [
      "{'eval_loss': 0.5682563781738281, 'eval_accuracy': 1.0, 'eval_f1': 1.0, 'eval_precision': 1.0, 'eval_recall': 1.0, 'eval_runtime': 0.0514, 'eval_samples_per_second': 77.842, 'eval_steps_per_second': 19.461, 'epoch': 1.0}\n",
      "{'eval_loss': 0.45573580265045166, 'eval_accuracy': 1.0, 'eval_f1': 1.0, 'eval_precision': 1.0, 'eval_recall': 1.0, 'eval_runtime': 0.047, 'eval_samples_per_second': 85.079, 'eval_steps_per_second': 21.27, 'epoch': 2.0}\n",
      "{'eval_loss': 0.37585723400115967, 'eval_accuracy': 1.0, 'eval_f1': 1.0, 'eval_precision': 1.0, 'eval_recall': 1.0, 'eval_runtime': 0.0505, 'eval_samples_per_second': 79.149, 'eval_steps_per_second': 19.787, 'epoch': 3.0}\n",
      "{'eval_loss': 0.3291619122028351, 'eval_accuracy': 1.0, 'eval_f1': 1.0, 'eval_precision': 1.0, 'eval_recall': 1.0, 'eval_runtime': 0.0459, 'eval_samples_per_second': 87.064, 'eval_steps_per_second': 21.766, 'epoch': 4.0}\n",
      "{'eval_loss': 0.3104778528213501, 'eval_accuracy': 1.0, 'eval_f1': 1.0, 'eval_precision': 1.0, 'eval_recall': 1.0, 'eval_runtime': 0.0468, 'eval_samples_per_second': 85.549, 'eval_steps_per_second': 21.387, 'epoch': 5.0}\n",
      "{'train_runtime': 7.4703, 'train_samples_per_second': 10.709, 'train_steps_per_second': 1.339, 'train_loss': 0.5072902202606201, 'epoch': 5.0}\n",
      "{'eval_loss': 0.3104778528213501, 'eval_model_preparation_time': 0.0003, 'eval_accuracy': 1.0, 'eval_f1': 1.0, 'eval_precision': 1.0, 'eval_recall': 1.0, 'eval_runtime': 0.0415, 'eval_samples_per_second': 96.386, 'eval_steps_per_second': 24.096}\n",
      " ↪ Fold 2/5\n"
     ]
    },
    {
     "name": "stderr",
     "output_type": "stream",
     "text": [
      "/Users/gchhetri/Developer/Python/15min-city-bench/.venv/lib/python3.12/site-packages/sklearn/metrics/_ranking.py:1192: UndefinedMetricWarning: No negative samples in y_true, false positive value should be meaningless\n",
      "  warnings.warn(\n"
     ]
    },
    {
     "data": {
      "application/vnd.jupyter.widget-view+json": {
       "model_id": "ef7fffed873948edb8dba99824038ed8",
       "version_major": 2,
       "version_minor": 0
      },
      "text/plain": [
       "Map:   0%|          | 0/16 [00:00<?, ? examples/s]"
      ]
     },
     "metadata": {},
     "output_type": "display_data"
    },
    {
     "data": {
      "application/vnd.jupyter.widget-view+json": {
       "model_id": "9419f3f9fae54e269fe3a1269778993e",
       "version_major": 2,
       "version_minor": 0
      },
      "text/plain": [
       "Map:   0%|          | 0/4 [00:00<?, ? examples/s]"
      ]
     },
     "metadata": {},
     "output_type": "display_data"
    },
    {
     "name": "stderr",
     "output_type": "stream",
     "text": [
      "/Users/gchhetri/Developer/Python/15min-city-bench/.venv/lib/python3.12/site-packages/transformers/training_args.py:1604: FutureWarning: using `no_cuda` is deprecated and will be removed in version 5.0 of 🤗 Transformers. Use `use_cpu` instead\n",
      "  warnings.warn(\n"
     ]
    },
    {
     "name": "stdout",
     "output_type": "stream",
     "text": [
      "{'eval_loss': 0.5733491778373718, 'eval_accuracy': 1.0, 'eval_f1': 1.0, 'eval_precision': 1.0, 'eval_recall': 1.0, 'eval_runtime': 0.0422, 'eval_samples_per_second': 94.72, 'eval_steps_per_second': 23.68, 'epoch': 1.0}\n",
      "{'eval_loss': 0.46325135231018066, 'eval_accuracy': 1.0, 'eval_f1': 1.0, 'eval_precision': 1.0, 'eval_recall': 1.0, 'eval_runtime': 0.0454, 'eval_samples_per_second': 88.109, 'eval_steps_per_second': 22.027, 'epoch': 2.0}\n",
      "{'eval_loss': 0.38677626848220825, 'eval_accuracy': 1.0, 'eval_f1': 1.0, 'eval_precision': 1.0, 'eval_recall': 1.0, 'eval_runtime': 0.0466, 'eval_samples_per_second': 85.798, 'eval_steps_per_second': 21.45, 'epoch': 3.0}\n",
      "{'eval_loss': 0.3402654528617859, 'eval_accuracy': 1.0, 'eval_f1': 1.0, 'eval_precision': 1.0, 'eval_recall': 1.0, 'eval_runtime': 0.0486, 'eval_samples_per_second': 82.296, 'eval_steps_per_second': 20.574, 'epoch': 4.0}\n",
      "{'eval_loss': 0.32178327441215515, 'eval_accuracy': 1.0, 'eval_f1': 1.0, 'eval_precision': 1.0, 'eval_recall': 1.0, 'eval_runtime': 0.0457, 'eval_samples_per_second': 87.487, 'eval_steps_per_second': 21.872, 'epoch': 5.0}\n",
      "{'train_runtime': 7.0995, 'train_samples_per_second': 11.268, 'train_steps_per_second': 1.409, 'train_loss': 0.503553056716919, 'epoch': 5.0}\n",
      "{'eval_loss': 0.32178327441215515, 'eval_model_preparation_time': 0.0003, 'eval_accuracy': 1.0, 'eval_f1': 1.0, 'eval_precision': 1.0, 'eval_recall': 1.0, 'eval_runtime': 0.0404, 'eval_samples_per_second': 99.009, 'eval_steps_per_second': 24.752}\n",
      " ↪ Fold 3/5\n"
     ]
    },
    {
     "name": "stderr",
     "output_type": "stream",
     "text": [
      "/Users/gchhetri/Developer/Python/15min-city-bench/.venv/lib/python3.12/site-packages/sklearn/metrics/_ranking.py:1192: UndefinedMetricWarning: No negative samples in y_true, false positive value should be meaningless\n",
      "  warnings.warn(\n"
     ]
    },
    {
     "data": {
      "application/vnd.jupyter.widget-view+json": {
       "model_id": "001b5205d5024fcb9d4976653dfd2bf7",
       "version_major": 2,
       "version_minor": 0
      },
      "text/plain": [
       "Map:   0%|          | 0/16 [00:00<?, ? examples/s]"
      ]
     },
     "metadata": {},
     "output_type": "display_data"
    },
    {
     "data": {
      "application/vnd.jupyter.widget-view+json": {
       "model_id": "f2aed7104350473699779227a92f3de1",
       "version_major": 2,
       "version_minor": 0
      },
      "text/plain": [
       "Map:   0%|          | 0/4 [00:00<?, ? examples/s]"
      ]
     },
     "metadata": {},
     "output_type": "display_data"
    },
    {
     "name": "stderr",
     "output_type": "stream",
     "text": [
      "/Users/gchhetri/Developer/Python/15min-city-bench/.venv/lib/python3.12/site-packages/transformers/training_args.py:1604: FutureWarning: using `no_cuda` is deprecated and will be removed in version 5.0 of 🤗 Transformers. Use `use_cpu` instead\n",
      "  warnings.warn(\n"
     ]
    },
    {
     "name": "stdout",
     "output_type": "stream",
     "text": [
      "{'eval_loss': 0.5862260460853577, 'eval_accuracy': 1.0, 'eval_f1': 1.0, 'eval_precision': 1.0, 'eval_recall': 1.0, 'eval_runtime': 0.0483, 'eval_samples_per_second': 82.733, 'eval_steps_per_second': 20.683, 'epoch': 1.0}\n",
      "{'eval_loss': 0.4746074080467224, 'eval_accuracy': 1.0, 'eval_f1': 1.0, 'eval_precision': 1.0, 'eval_recall': 1.0, 'eval_runtime': 0.046, 'eval_samples_per_second': 87.045, 'eval_steps_per_second': 21.761, 'epoch': 2.0}\n",
      "{'eval_loss': 0.3934471607208252, 'eval_accuracy': 1.0, 'eval_f1': 1.0, 'eval_precision': 1.0, 'eval_recall': 1.0, 'eval_runtime': 0.0445, 'eval_samples_per_second': 89.973, 'eval_steps_per_second': 22.493, 'epoch': 3.0}\n",
      "{'eval_loss': 0.3443710207939148, 'eval_accuracy': 1.0, 'eval_f1': 1.0, 'eval_precision': 1.0, 'eval_recall': 1.0, 'eval_runtime': 0.0459, 'eval_samples_per_second': 87.06, 'eval_steps_per_second': 21.765, 'epoch': 4.0}\n",
      "{'eval_loss': 0.32438212633132935, 'eval_accuracy': 1.0, 'eval_f1': 1.0, 'eval_precision': 1.0, 'eval_recall': 1.0, 'eval_runtime': 0.0443, 'eval_samples_per_second': 90.255, 'eval_steps_per_second': 22.564, 'epoch': 5.0}\n",
      "{'train_runtime': 7.0029, 'train_samples_per_second': 11.424, 'train_steps_per_second': 1.428, 'train_loss': 0.5187541007995605, 'epoch': 5.0}\n",
      "{'eval_loss': 0.32438212633132935, 'eval_model_preparation_time': 0.0003, 'eval_accuracy': 1.0, 'eval_f1': 1.0, 'eval_precision': 1.0, 'eval_recall': 1.0, 'eval_runtime': 0.0454, 'eval_samples_per_second': 88.09, 'eval_steps_per_second': 22.022}\n",
      " ↪ Fold 4/5\n"
     ]
    },
    {
     "name": "stderr",
     "output_type": "stream",
     "text": [
      "/Users/gchhetri/Developer/Python/15min-city-bench/.venv/lib/python3.12/site-packages/sklearn/metrics/_ranking.py:1192: UndefinedMetricWarning: No negative samples in y_true, false positive value should be meaningless\n",
      "  warnings.warn(\n"
     ]
    },
    {
     "data": {
      "application/vnd.jupyter.widget-view+json": {
       "model_id": "cd03efcd63104c7695d764eaeb0332b5",
       "version_major": 2,
       "version_minor": 0
      },
      "text/plain": [
       "Map:   0%|          | 0/16 [00:00<?, ? examples/s]"
      ]
     },
     "metadata": {},
     "output_type": "display_data"
    },
    {
     "data": {
      "application/vnd.jupyter.widget-view+json": {
       "model_id": "c1e5e3253fd64e0c94673fca3b923805",
       "version_major": 2,
       "version_minor": 0
      },
      "text/plain": [
       "Map:   0%|          | 0/4 [00:00<?, ? examples/s]"
      ]
     },
     "metadata": {},
     "output_type": "display_data"
    },
    {
     "name": "stderr",
     "output_type": "stream",
     "text": [
      "/Users/gchhetri/Developer/Python/15min-city-bench/.venv/lib/python3.12/site-packages/transformers/training_args.py:1604: FutureWarning: using `no_cuda` is deprecated and will be removed in version 5.0 of 🤗 Transformers. Use `use_cpu` instead\n",
      "  warnings.warn(\n"
     ]
    },
    {
     "name": "stdout",
     "output_type": "stream",
     "text": [
      "{'eval_loss': 0.5984178781509399, 'eval_accuracy': 1.0, 'eval_f1': 1.0, 'eval_precision': 1.0, 'eval_recall': 1.0, 'eval_runtime': 0.0445, 'eval_samples_per_second': 89.922, 'eval_steps_per_second': 22.48, 'epoch': 1.0}\n",
      "{'eval_loss': 0.49153566360473633, 'eval_accuracy': 1.0, 'eval_f1': 1.0, 'eval_precision': 1.0, 'eval_recall': 1.0, 'eval_runtime': 0.0515, 'eval_samples_per_second': 77.709, 'eval_steps_per_second': 19.427, 'epoch': 2.0}\n",
      "{'eval_loss': 0.4127868413925171, 'eval_accuracy': 1.0, 'eval_f1': 1.0, 'eval_precision': 1.0, 'eval_recall': 1.0, 'eval_runtime': 0.0522, 'eval_samples_per_second': 76.59, 'eval_steps_per_second': 19.148, 'epoch': 3.0}\n",
      "{'eval_loss': 0.3632453382015228, 'eval_accuracy': 1.0, 'eval_f1': 1.0, 'eval_precision': 1.0, 'eval_recall': 1.0, 'eval_runtime': 0.0491, 'eval_samples_per_second': 81.438, 'eval_steps_per_second': 20.36, 'epoch': 4.0}\n",
      "{'eval_loss': 0.34284111857414246, 'eval_accuracy': 1.0, 'eval_f1': 1.0, 'eval_precision': 1.0, 'eval_recall': 1.0, 'eval_runtime': 0.0461, 'eval_samples_per_second': 86.778, 'eval_steps_per_second': 21.694, 'epoch': 5.0}\n",
      "{'train_runtime': 7.3165, 'train_samples_per_second': 10.934, 'train_steps_per_second': 1.367, 'train_loss': 0.5071352481842041, 'epoch': 5.0}\n",
      "{'eval_loss': 0.34284111857414246, 'eval_model_preparation_time': 0.0004, 'eval_accuracy': 1.0, 'eval_f1': 1.0, 'eval_precision': 1.0, 'eval_recall': 1.0, 'eval_runtime': 0.0526, 'eval_samples_per_second': 75.998, 'eval_steps_per_second': 18.999}\n"
     ]
    },
    {
     "name": "stderr",
     "output_type": "stream",
     "text": [
      "/Users/gchhetri/Developer/Python/15min-city-bench/.venv/lib/python3.12/site-packages/sklearn/metrics/_ranking.py:1192: UndefinedMetricWarning: No negative samples in y_true, false positive value should be meaningless\n",
      "  warnings.warn(\n"
     ]
    },
    {
     "name": "stdout",
     "output_type": "stream",
     "text": [
      " ↪ Fold 5/5\n"
     ]
    },
    {
     "data": {
      "application/vnd.jupyter.widget-view+json": {
       "model_id": "d3b7d4466cbc4e41b1133ad6b9e268ce",
       "version_major": 2,
       "version_minor": 0
      },
      "text/plain": [
       "Map:   0%|          | 0/16 [00:00<?, ? examples/s]"
      ]
     },
     "metadata": {},
     "output_type": "display_data"
    },
    {
     "data": {
      "application/vnd.jupyter.widget-view+json": {
       "model_id": "b5e1fbba53174edebff9bc5e959e80e7",
       "version_major": 2,
       "version_minor": 0
      },
      "text/plain": [
       "Map:   0%|          | 0/4 [00:00<?, ? examples/s]"
      ]
     },
     "metadata": {},
     "output_type": "display_data"
    },
    {
     "name": "stderr",
     "output_type": "stream",
     "text": [
      "/Users/gchhetri/Developer/Python/15min-city-bench/.venv/lib/python3.12/site-packages/transformers/training_args.py:1604: FutureWarning: using `no_cuda` is deprecated and will be removed in version 5.0 of 🤗 Transformers. Use `use_cpu` instead\n",
      "  warnings.warn(\n"
     ]
    },
    {
     "name": "stdout",
     "output_type": "stream",
     "text": [
      "{'eval_loss': 0.6352851390838623, 'eval_accuracy': 0.75, 'eval_f1': 0.8571428571428571, 'eval_precision': 0.75, 'eval_recall': 1.0, 'eval_runtime': 0.0451, 'eval_samples_per_second': 88.617, 'eval_steps_per_second': 22.154, 'epoch': 1.0}\n",
      "{'eval_loss': 0.5835099816322327, 'eval_accuracy': 0.75, 'eval_f1': 0.8571428571428571, 'eval_precision': 0.75, 'eval_recall': 1.0, 'eval_runtime': 0.0441, 'eval_samples_per_second': 90.697, 'eval_steps_per_second': 22.674, 'epoch': 2.0}\n",
      "{'eval_loss': 0.5575036406517029, 'eval_accuracy': 0.75, 'eval_f1': 0.8571428571428571, 'eval_precision': 0.75, 'eval_recall': 1.0, 'eval_runtime': 0.0473, 'eval_samples_per_second': 84.601, 'eval_steps_per_second': 21.15, 'epoch': 3.0}\n",
      "{'eval_loss': 0.5500603318214417, 'eval_accuracy': 0.75, 'eval_f1': 0.8571428571428571, 'eval_precision': 0.75, 'eval_recall': 1.0, 'eval_runtime': 0.0375, 'eval_samples_per_second': 106.559, 'eval_steps_per_second': 26.64, 'epoch': 4.0}\n",
      "{'eval_loss': 0.5499261617660522, 'eval_accuracy': 0.75, 'eval_f1': 0.8571428571428571, 'eval_precision': 0.75, 'eval_recall': 1.0, 'eval_runtime': 0.0413, 'eval_samples_per_second': 96.883, 'eval_steps_per_second': 24.221, 'epoch': 5.0}\n",
      "{'train_runtime': 8.0172, 'train_samples_per_second': 9.979, 'train_steps_per_second': 1.247, 'train_loss': 0.47549805641174314, 'epoch': 5.0}\n",
      "{'eval_loss': 0.5499261617660522, 'eval_model_preparation_time': 0.0003, 'eval_accuracy': 0.75, 'eval_f1': 0.8571428571428571, 'eval_precision': 0.75, 'eval_recall': 1.0, 'eval_runtime': 0.0437, 'eval_samples_per_second': 91.59, 'eval_steps_per_second': 22.897}\n",
      "\n",
      "🔍 Model: nreimers/MiniLM-L6-H384-uncased\n",
      " ↪ Fold 1/5\n"
     ]
    },
    {
     "name": "stderr",
     "output_type": "stream",
     "text": [
      "/Users/gchhetri/Developer/Python/15min-city-bench/.venv/lib/python3.12/site-packages/sklearn/model_selection/_split.py:811: UserWarning: The least populated class in y has only 1 members, which is less than n_splits=5.\n",
      "  warnings.warn(\n"
     ]
    },
    {
     "data": {
      "application/vnd.jupyter.widget-view+json": {
       "model_id": "49c52caca6c54bd0815eefbf1094fecb",
       "version_major": 2,
       "version_minor": 0
      },
      "text/plain": [
       "Map:   0%|          | 0/16 [00:00<?, ? examples/s]"
      ]
     },
     "metadata": {},
     "output_type": "display_data"
    },
    {
     "data": {
      "application/vnd.jupyter.widget-view+json": {
       "model_id": "80e6f4d75b484edb8735a791c709bc03",
       "version_major": 2,
       "version_minor": 0
      },
      "text/plain": [
       "Map:   0%|          | 0/4 [00:00<?, ? examples/s]"
      ]
     },
     "metadata": {},
     "output_type": "display_data"
    },
    {
     "name": "stderr",
     "output_type": "stream",
     "text": [
      "/Users/gchhetri/Developer/Python/15min-city-bench/.venv/lib/python3.12/site-packages/transformers/training_args.py:1604: FutureWarning: using `no_cuda` is deprecated and will be removed in version 5.0 of 🤗 Transformers. Use `use_cpu` instead\n",
      "  warnings.warn(\n"
     ]
    },
    {
     "name": "stdout",
     "output_type": "stream",
     "text": [
      "{'eval_loss': 0.6413271427154541, 'eval_accuracy': 1.0, 'eval_f1': 1.0, 'eval_precision': 1.0, 'eval_recall': 1.0, 'eval_runtime': 0.0253, 'eval_samples_per_second': 158.109, 'eval_steps_per_second': 39.527, 'epoch': 1.0}\n",
      "{'eval_loss': 0.6247813701629639, 'eval_accuracy': 1.0, 'eval_f1': 1.0, 'eval_precision': 1.0, 'eval_recall': 1.0, 'eval_runtime': 0.0239, 'eval_samples_per_second': 167.182, 'eval_steps_per_second': 41.796, 'epoch': 2.0}\n"
     ]
    },
    {
     "name": "stderr",
     "output_type": "stream",
     "text": [
      "/Users/gchhetri/Developer/Python/15min-city-bench/.venv/lib/python3.12/site-packages/transformers/trainer.py:4090: UserWarning: mtime may not be reliable on this filesystem, falling back to numerical ordering\n",
      "  warnings.warn(\"mtime may not be reliable on this filesystem, falling back to numerical ordering\")\n"
     ]
    },
    {
     "name": "stdout",
     "output_type": "stream",
     "text": [
      "{'eval_loss': 0.6118291616439819, 'eval_accuracy': 1.0, 'eval_f1': 1.0, 'eval_precision': 1.0, 'eval_recall': 1.0, 'eval_runtime': 0.0304, 'eval_samples_per_second': 131.385, 'eval_steps_per_second': 32.846, 'epoch': 3.0}\n",
      "{'eval_loss': 0.6031471490859985, 'eval_accuracy': 1.0, 'eval_f1': 1.0, 'eval_precision': 1.0, 'eval_recall': 1.0, 'eval_runtime': 0.0294, 'eval_samples_per_second': 136.061, 'eval_steps_per_second': 34.015, 'epoch': 4.0}\n",
      "{'eval_loss': 0.5992786884307861, 'eval_accuracy': 1.0, 'eval_f1': 1.0, 'eval_precision': 1.0, 'eval_recall': 1.0, 'eval_runtime': 0.0296, 'eval_samples_per_second': 135.346, 'eval_steps_per_second': 33.836, 'epoch': 5.0}\n",
      "{'train_runtime': 3.385, 'train_samples_per_second': 23.633, 'train_steps_per_second': 2.954, 'train_loss': 0.6344058990478516, 'epoch': 5.0}\n",
      "{'eval_loss': 0.5992786884307861, 'eval_model_preparation_time': 0.0004, 'eval_accuracy': 1.0, 'eval_f1': 1.0, 'eval_precision': 1.0, 'eval_recall': 1.0, 'eval_runtime': 0.034, 'eval_samples_per_second': 117.62, 'eval_steps_per_second': 29.405}\n",
      " ↪ Fold 2/5\n"
     ]
    },
    {
     "name": "stderr",
     "output_type": "stream",
     "text": [
      "/Users/gchhetri/Developer/Python/15min-city-bench/.venv/lib/python3.12/site-packages/sklearn/metrics/_ranking.py:1192: UndefinedMetricWarning: No negative samples in y_true, false positive value should be meaningless\n",
      "  warnings.warn(\n"
     ]
    },
    {
     "data": {
      "application/vnd.jupyter.widget-view+json": {
       "model_id": "16dfddb2e90b4db885679bf544fd0fa3",
       "version_major": 2,
       "version_minor": 0
      },
      "text/plain": [
       "Map:   0%|          | 0/16 [00:00<?, ? examples/s]"
      ]
     },
     "metadata": {},
     "output_type": "display_data"
    },
    {
     "data": {
      "application/vnd.jupyter.widget-view+json": {
       "model_id": "a58288491f824156b5b776a8f267c9ed",
       "version_major": 2,
       "version_minor": 0
      },
      "text/plain": [
       "Map:   0%|          | 0/4 [00:00<?, ? examples/s]"
      ]
     },
     "metadata": {},
     "output_type": "display_data"
    },
    {
     "name": "stderr",
     "output_type": "stream",
     "text": [
      "/Users/gchhetri/Developer/Python/15min-city-bench/.venv/lib/python3.12/site-packages/transformers/training_args.py:1604: FutureWarning: using `no_cuda` is deprecated and will be removed in version 5.0 of 🤗 Transformers. Use `use_cpu` instead\n",
      "  warnings.warn(\n"
     ]
    },
    {
     "name": "stdout",
     "output_type": "stream",
     "text": [
      "{'eval_loss': 0.6415010094642639, 'eval_accuracy': 1.0, 'eval_f1': 1.0, 'eval_precision': 1.0, 'eval_recall': 1.0, 'eval_runtime': 0.0232, 'eval_samples_per_second': 172.52, 'eval_steps_per_second': 43.13, 'epoch': 1.0}\n",
      "{'eval_loss': 0.6242043375968933, 'eval_accuracy': 1.0, 'eval_f1': 1.0, 'eval_precision': 1.0, 'eval_recall': 1.0, 'eval_runtime': 0.0268, 'eval_samples_per_second': 149.076, 'eval_steps_per_second': 37.269, 'epoch': 2.0}\n"
     ]
    },
    {
     "name": "stderr",
     "output_type": "stream",
     "text": [
      "/Users/gchhetri/Developer/Python/15min-city-bench/.venv/lib/python3.12/site-packages/transformers/trainer.py:4090: UserWarning: mtime may not be reliable on this filesystem, falling back to numerical ordering\n",
      "  warnings.warn(\"mtime may not be reliable on this filesystem, falling back to numerical ordering\")\n"
     ]
    },
    {
     "name": "stdout",
     "output_type": "stream",
     "text": [
      "{'eval_loss': 0.6110087037086487, 'eval_accuracy': 1.0, 'eval_f1': 1.0, 'eval_precision': 1.0, 'eval_recall': 1.0, 'eval_runtime': 0.0237, 'eval_samples_per_second': 168.498, 'eval_steps_per_second': 42.125, 'epoch': 3.0}\n",
      "{'eval_loss': 0.6021733283996582, 'eval_accuracy': 1.0, 'eval_f1': 1.0, 'eval_precision': 1.0, 'eval_recall': 1.0, 'eval_runtime': 0.0229, 'eval_samples_per_second': 174.338, 'eval_steps_per_second': 43.584, 'epoch': 4.0}\n",
      "{'eval_loss': 0.5982338190078735, 'eval_accuracy': 1.0, 'eval_f1': 1.0, 'eval_precision': 1.0, 'eval_recall': 1.0, 'eval_runtime': 0.0246, 'eval_samples_per_second': 162.886, 'eval_steps_per_second': 40.721, 'epoch': 5.0}\n",
      "{'train_runtime': 3.0684, 'train_samples_per_second': 26.073, 'train_steps_per_second': 3.259, 'train_loss': 0.633378267288208, 'epoch': 5.0}\n",
      "{'eval_loss': 0.5982338190078735, 'eval_model_preparation_time': 0.0004, 'eval_accuracy': 1.0, 'eval_f1': 1.0, 'eval_precision': 1.0, 'eval_recall': 1.0, 'eval_runtime': 0.0244, 'eval_samples_per_second': 163.666, 'eval_steps_per_second': 40.916}\n",
      " ↪ Fold 3/5\n"
     ]
    },
    {
     "name": "stderr",
     "output_type": "stream",
     "text": [
      "/Users/gchhetri/Developer/Python/15min-city-bench/.venv/lib/python3.12/site-packages/sklearn/metrics/_ranking.py:1192: UndefinedMetricWarning: No negative samples in y_true, false positive value should be meaningless\n",
      "  warnings.warn(\n"
     ]
    },
    {
     "data": {
      "application/vnd.jupyter.widget-view+json": {
       "model_id": "03466a7133204fdc8c0d1ab628a190ac",
       "version_major": 2,
       "version_minor": 0
      },
      "text/plain": [
       "Map:   0%|          | 0/16 [00:00<?, ? examples/s]"
      ]
     },
     "metadata": {},
     "output_type": "display_data"
    },
    {
     "data": {
      "application/vnd.jupyter.widget-view+json": {
       "model_id": "f201c9e1b6d84d72b93412fcf54032c6",
       "version_major": 2,
       "version_minor": 0
      },
      "text/plain": [
       "Map:   0%|          | 0/4 [00:00<?, ? examples/s]"
      ]
     },
     "metadata": {},
     "output_type": "display_data"
    },
    {
     "name": "stderr",
     "output_type": "stream",
     "text": [
      "/Users/gchhetri/Developer/Python/15min-city-bench/.venv/lib/python3.12/site-packages/transformers/training_args.py:1604: FutureWarning: using `no_cuda` is deprecated and will be removed in version 5.0 of 🤗 Transformers. Use `use_cpu` instead\n",
      "  warnings.warn(\n"
     ]
    },
    {
     "name": "stdout",
     "output_type": "stream",
     "text": [
      "{'eval_loss': 0.641278862953186, 'eval_accuracy': 1.0, 'eval_f1': 1.0, 'eval_precision': 1.0, 'eval_recall': 1.0, 'eval_runtime': 0.0349, 'eval_samples_per_second': 114.509, 'eval_steps_per_second': 28.627, 'epoch': 1.0}\n",
      "{'eval_loss': 0.6238588094711304, 'eval_accuracy': 1.0, 'eval_f1': 1.0, 'eval_precision': 1.0, 'eval_recall': 1.0, 'eval_runtime': 0.0265, 'eval_samples_per_second': 151.035, 'eval_steps_per_second': 37.759, 'epoch': 2.0}\n"
     ]
    },
    {
     "name": "stderr",
     "output_type": "stream",
     "text": [
      "/Users/gchhetri/Developer/Python/15min-city-bench/.venv/lib/python3.12/site-packages/transformers/trainer.py:4090: UserWarning: mtime may not be reliable on this filesystem, falling back to numerical ordering\n",
      "  warnings.warn(\"mtime may not be reliable on this filesystem, falling back to numerical ordering\")\n"
     ]
    },
    {
     "name": "stdout",
     "output_type": "stream",
     "text": [
      "{'eval_loss': 0.6104609370231628, 'eval_accuracy': 1.0, 'eval_f1': 1.0, 'eval_precision': 1.0, 'eval_recall': 1.0, 'eval_runtime': 0.0265, 'eval_samples_per_second': 150.71, 'eval_steps_per_second': 37.678, 'epoch': 3.0}\n",
      "{'eval_loss': 0.6014566421508789, 'eval_accuracy': 1.0, 'eval_f1': 1.0, 'eval_precision': 1.0, 'eval_recall': 1.0, 'eval_runtime': 0.0283, 'eval_samples_per_second': 141.249, 'eval_steps_per_second': 35.312, 'epoch': 4.0}\n",
      "{'eval_loss': 0.5974432826042175, 'eval_accuracy': 1.0, 'eval_f1': 1.0, 'eval_precision': 1.0, 'eval_recall': 1.0, 'eval_runtime': 0.0287, 'eval_samples_per_second': 139.471, 'eval_steps_per_second': 34.868, 'epoch': 5.0}\n",
      "{'train_runtime': 3.1737, 'train_samples_per_second': 25.207, 'train_steps_per_second': 3.151, 'train_loss': 0.6315218448638916, 'epoch': 5.0}\n",
      "{'eval_loss': 0.5974432826042175, 'eval_model_preparation_time': 0.0004, 'eval_accuracy': 1.0, 'eval_f1': 1.0, 'eval_precision': 1.0, 'eval_recall': 1.0, 'eval_runtime': 0.0288, 'eval_samples_per_second': 139.108, 'eval_steps_per_second': 34.777}\n",
      " ↪ Fold 4/5\n"
     ]
    },
    {
     "name": "stderr",
     "output_type": "stream",
     "text": [
      "/Users/gchhetri/Developer/Python/15min-city-bench/.venv/lib/python3.12/site-packages/sklearn/metrics/_ranking.py:1192: UndefinedMetricWarning: No negative samples in y_true, false positive value should be meaningless\n",
      "  warnings.warn(\n"
     ]
    },
    {
     "data": {
      "application/vnd.jupyter.widget-view+json": {
       "model_id": "059d3c4d8e4d49d3b62f80f442922a22",
       "version_major": 2,
       "version_minor": 0
      },
      "text/plain": [
       "Map:   0%|          | 0/16 [00:00<?, ? examples/s]"
      ]
     },
     "metadata": {},
     "output_type": "display_data"
    },
    {
     "data": {
      "application/vnd.jupyter.widget-view+json": {
       "model_id": "f7c59a2c1fd8487aa1c4c07d018c8148",
       "version_major": 2,
       "version_minor": 0
      },
      "text/plain": [
       "Map:   0%|          | 0/4 [00:00<?, ? examples/s]"
      ]
     },
     "metadata": {},
     "output_type": "display_data"
    },
    {
     "name": "stderr",
     "output_type": "stream",
     "text": [
      "/Users/gchhetri/Developer/Python/15min-city-bench/.venv/lib/python3.12/site-packages/transformers/training_args.py:1604: FutureWarning: using `no_cuda` is deprecated and will be removed in version 5.0 of 🤗 Transformers. Use `use_cpu` instead\n",
      "  warnings.warn(\n"
     ]
    },
    {
     "name": "stdout",
     "output_type": "stream",
     "text": [
      "{'eval_loss': 0.6411703824996948, 'eval_accuracy': 1.0, 'eval_f1': 1.0, 'eval_precision': 1.0, 'eval_recall': 1.0, 'eval_runtime': 0.0268, 'eval_samples_per_second': 148.998, 'eval_steps_per_second': 37.25, 'epoch': 1.0}\n",
      "{'eval_loss': 0.6236487030982971, 'eval_accuracy': 1.0, 'eval_f1': 1.0, 'eval_precision': 1.0, 'eval_recall': 1.0, 'eval_runtime': 0.0269, 'eval_samples_per_second': 148.96, 'eval_steps_per_second': 37.24, 'epoch': 2.0}\n"
     ]
    },
    {
     "name": "stderr",
     "output_type": "stream",
     "text": [
      "/Users/gchhetri/Developer/Python/15min-city-bench/.venv/lib/python3.12/site-packages/transformers/trainer.py:4090: UserWarning: mtime may not be reliable on this filesystem, falling back to numerical ordering\n",
      "  warnings.warn(\"mtime may not be reliable on this filesystem, falling back to numerical ordering\")\n"
     ]
    },
    {
     "name": "stdout",
     "output_type": "stream",
     "text": [
      "{'eval_loss': 0.6102192401885986, 'eval_accuracy': 1.0, 'eval_f1': 1.0, 'eval_precision': 1.0, 'eval_recall': 1.0, 'eval_runtime': 0.0266, 'eval_samples_per_second': 150.358, 'eval_steps_per_second': 37.589, 'epoch': 3.0}\n",
      "{'eval_loss': 0.6012459993362427, 'eval_accuracy': 1.0, 'eval_f1': 1.0, 'eval_precision': 1.0, 'eval_recall': 1.0, 'eval_runtime': 0.0284, 'eval_samples_per_second': 140.636, 'eval_steps_per_second': 35.159, 'epoch': 4.0}\n",
      "{'eval_loss': 0.5972380638122559, 'eval_accuracy': 1.0, 'eval_f1': 1.0, 'eval_precision': 1.0, 'eval_recall': 1.0, 'eval_runtime': 0.0303, 'eval_samples_per_second': 132.017, 'eval_steps_per_second': 33.004, 'epoch': 5.0}\n",
      "{'train_runtime': 3.1601, 'train_samples_per_second': 25.316, 'train_steps_per_second': 3.164, 'train_loss': 0.6330025672912598, 'epoch': 5.0}\n",
      "{'eval_loss': 0.5972380638122559, 'eval_model_preparation_time': 0.0004, 'eval_accuracy': 1.0, 'eval_f1': 1.0, 'eval_precision': 1.0, 'eval_recall': 1.0, 'eval_runtime': 0.0259, 'eval_samples_per_second': 154.464, 'eval_steps_per_second': 38.616}\n",
      " ↪ Fold 5/5\n"
     ]
    },
    {
     "name": "stderr",
     "output_type": "stream",
     "text": [
      "/Users/gchhetri/Developer/Python/15min-city-bench/.venv/lib/python3.12/site-packages/sklearn/metrics/_ranking.py:1192: UndefinedMetricWarning: No negative samples in y_true, false positive value should be meaningless\n",
      "  warnings.warn(\n"
     ]
    },
    {
     "data": {
      "application/vnd.jupyter.widget-view+json": {
       "model_id": "170b72813dea43978e7464620925e428",
       "version_major": 2,
       "version_minor": 0
      },
      "text/plain": [
       "Map:   0%|          | 0/16 [00:00<?, ? examples/s]"
      ]
     },
     "metadata": {},
     "output_type": "display_data"
    },
    {
     "data": {
      "application/vnd.jupyter.widget-view+json": {
       "model_id": "15f11cf26de74b61872754388c377d7d",
       "version_major": 2,
       "version_minor": 0
      },
      "text/plain": [
       "Map:   0%|          | 0/4 [00:00<?, ? examples/s]"
      ]
     },
     "metadata": {},
     "output_type": "display_data"
    },
    {
     "name": "stderr",
     "output_type": "stream",
     "text": [
      "/Users/gchhetri/Developer/Python/15min-city-bench/.venv/lib/python3.12/site-packages/transformers/training_args.py:1604: FutureWarning: using `no_cuda` is deprecated and will be removed in version 5.0 of 🤗 Transformers. Use `use_cpu` instead\n",
      "  warnings.warn(\n"
     ]
    },
    {
     "name": "stdout",
     "output_type": "stream",
     "text": [
      "{'eval_loss': 0.6676132678985596, 'eval_accuracy': 0.75, 'eval_f1': 0.8571428571428571, 'eval_precision': 0.75, 'eval_recall': 1.0, 'eval_runtime': 0.0236, 'eval_samples_per_second': 169.19, 'eval_steps_per_second': 42.297, 'epoch': 1.0}\n",
      "{'eval_loss': 0.6593160629272461, 'eval_accuracy': 0.75, 'eval_f1': 0.8571428571428571, 'eval_precision': 0.75, 'eval_recall': 1.0, 'eval_runtime': 0.021, 'eval_samples_per_second': 190.477, 'eval_steps_per_second': 47.619, 'epoch': 2.0}\n"
     ]
    },
    {
     "name": "stderr",
     "output_type": "stream",
     "text": [
      "/Users/gchhetri/Developer/Python/15min-city-bench/.venv/lib/python3.12/site-packages/transformers/trainer.py:4090: UserWarning: mtime may not be reliable on this filesystem, falling back to numerical ordering\n",
      "  warnings.warn(\"mtime may not be reliable on this filesystem, falling back to numerical ordering\")\n"
     ]
    },
    {
     "name": "stdout",
     "output_type": "stream",
     "text": [
      "{'eval_loss': 0.653051495552063, 'eval_accuracy': 0.75, 'eval_f1': 0.8571428571428571, 'eval_precision': 0.75, 'eval_recall': 1.0, 'eval_runtime': 0.0222, 'eval_samples_per_second': 179.911, 'eval_steps_per_second': 44.978, 'epoch': 3.0}\n",
      "{'eval_loss': 0.648930013179779, 'eval_accuracy': 0.75, 'eval_f1': 0.8571428571428571, 'eval_precision': 0.75, 'eval_recall': 1.0, 'eval_runtime': 0.022, 'eval_samples_per_second': 181.818, 'eval_steps_per_second': 45.454, 'epoch': 4.0}\n",
      "{'eval_loss': 0.647109866142273, 'eval_accuracy': 0.75, 'eval_f1': 0.8571428571428571, 'eval_precision': 0.75, 'eval_recall': 1.0, 'eval_runtime': 0.0248, 'eval_samples_per_second': 161.459, 'eval_steps_per_second': 40.365, 'epoch': 5.0}\n",
      "{'train_runtime': 3.1765, 'train_samples_per_second': 25.185, 'train_steps_per_second': 3.148, 'train_loss': 0.6233575344085693, 'epoch': 5.0}\n",
      "{'eval_loss': 0.647109866142273, 'eval_model_preparation_time': 0.0004, 'eval_accuracy': 0.75, 'eval_f1': 0.8571428571428571, 'eval_precision': 0.75, 'eval_recall': 1.0, 'eval_runtime': 0.0267, 'eval_samples_per_second': 149.567, 'eval_steps_per_second': 37.392}\n",
      "\n",
      "🔍 Model: google/electra-small-discriminator\n",
      " ↪ Fold 1/5\n"
     ]
    },
    {
     "name": "stderr",
     "output_type": "stream",
     "text": [
      "/Users/gchhetri/Developer/Python/15min-city-bench/.venv/lib/python3.12/site-packages/sklearn/model_selection/_split.py:811: UserWarning: The least populated class in y has only 1 members, which is less than n_splits=5.\n",
      "  warnings.warn(\n"
     ]
    },
    {
     "data": {
      "application/vnd.jupyter.widget-view+json": {
       "model_id": "a2a046cf0ae2468b950a6a068618c1c6",
       "version_major": 2,
       "version_minor": 0
      },
      "text/plain": [
       "Map:   0%|          | 0/16 [00:00<?, ? examples/s]"
      ]
     },
     "metadata": {},
     "output_type": "display_data"
    },
    {
     "data": {
      "application/vnd.jupyter.widget-view+json": {
       "model_id": "4e9ea70d4ef44fa9b703945e3599db6c",
       "version_major": 2,
       "version_minor": 0
      },
      "text/plain": [
       "Map:   0%|          | 0/4 [00:00<?, ? examples/s]"
      ]
     },
     "metadata": {},
     "output_type": "display_data"
    },
    {
     "name": "stderr",
     "output_type": "stream",
     "text": [
      "/Users/gchhetri/Developer/Python/15min-city-bench/.venv/lib/python3.12/site-packages/transformers/training_args.py:1604: FutureWarning: using `no_cuda` is deprecated and will be removed in version 5.0 of 🤗 Transformers. Use `use_cpu` instead\n",
      "  warnings.warn(\n"
     ]
    },
    {
     "name": "stdout",
     "output_type": "stream",
     "text": [
      "{'eval_loss': 0.6384766101837158, 'eval_accuracy': 1.0, 'eval_f1': 1.0, 'eval_precision': 1.0, 'eval_recall': 1.0, 'eval_runtime': 0.0351, 'eval_samples_per_second': 113.863, 'eval_steps_per_second': 28.466, 'epoch': 1.0}\n",
      "{'eval_loss': 0.6120104193687439, 'eval_accuracy': 1.0, 'eval_f1': 1.0, 'eval_precision': 1.0, 'eval_recall': 1.0, 'eval_runtime': 0.0384, 'eval_samples_per_second': 104.194, 'eval_steps_per_second': 26.049, 'epoch': 2.0}\n"
     ]
    },
    {
     "name": "stderr",
     "output_type": "stream",
     "text": [
      "/Users/gchhetri/Developer/Python/15min-city-bench/.venv/lib/python3.12/site-packages/transformers/trainer.py:4090: UserWarning: mtime may not be reliable on this filesystem, falling back to numerical ordering\n",
      "  warnings.warn(\"mtime may not be reliable on this filesystem, falling back to numerical ordering\")\n"
     ]
    },
    {
     "name": "stdout",
     "output_type": "stream",
     "text": [
      "{'eval_loss': 0.594028651714325, 'eval_accuracy': 1.0, 'eval_f1': 1.0, 'eval_precision': 1.0, 'eval_recall': 1.0, 'eval_runtime': 0.0392, 'eval_samples_per_second': 102.093, 'eval_steps_per_second': 25.523, 'epoch': 3.0}\n",
      "{'eval_loss': 0.5834106206893921, 'eval_accuracy': 1.0, 'eval_f1': 1.0, 'eval_precision': 1.0, 'eval_recall': 1.0, 'eval_runtime': 0.0343, 'eval_samples_per_second': 116.452, 'eval_steps_per_second': 29.113, 'epoch': 4.0}\n",
      "{'eval_loss': 0.5788293480873108, 'eval_accuracy': 1.0, 'eval_f1': 1.0, 'eval_precision': 1.0, 'eval_recall': 1.0, 'eval_runtime': 0.0349, 'eval_samples_per_second': 114.518, 'eval_steps_per_second': 28.629, 'epoch': 5.0}\n",
      "{'train_runtime': 2.6886, 'train_samples_per_second': 29.755, 'train_steps_per_second': 3.719, 'train_loss': 0.6218463897705078, 'epoch': 5.0}\n",
      "{'eval_loss': 0.5788293480873108, 'eval_model_preparation_time': 0.0008, 'eval_accuracy': 1.0, 'eval_f1': 1.0, 'eval_precision': 1.0, 'eval_recall': 1.0, 'eval_runtime': 0.0484, 'eval_samples_per_second': 82.706, 'eval_steps_per_second': 20.677}\n",
      " ↪ Fold 2/5\n"
     ]
    },
    {
     "name": "stderr",
     "output_type": "stream",
     "text": [
      "/Users/gchhetri/Developer/Python/15min-city-bench/.venv/lib/python3.12/site-packages/sklearn/metrics/_ranking.py:1192: UndefinedMetricWarning: No negative samples in y_true, false positive value should be meaningless\n",
      "  warnings.warn(\n"
     ]
    },
    {
     "data": {
      "application/vnd.jupyter.widget-view+json": {
       "model_id": "69d008ee406046f19896e49f3f8b59b9",
       "version_major": 2,
       "version_minor": 0
      },
      "text/plain": [
       "Map:   0%|          | 0/16 [00:00<?, ? examples/s]"
      ]
     },
     "metadata": {},
     "output_type": "display_data"
    },
    {
     "data": {
      "application/vnd.jupyter.widget-view+json": {
       "model_id": "2a9cdbcb2fd14243bde934ea33055bd4",
       "version_major": 2,
       "version_minor": 0
      },
      "text/plain": [
       "Map:   0%|          | 0/4 [00:00<?, ? examples/s]"
      ]
     },
     "metadata": {},
     "output_type": "display_data"
    },
    {
     "name": "stderr",
     "output_type": "stream",
     "text": [
      "/Users/gchhetri/Developer/Python/15min-city-bench/.venv/lib/python3.12/site-packages/transformers/training_args.py:1604: FutureWarning: using `no_cuda` is deprecated and will be removed in version 5.0 of 🤗 Transformers. Use `use_cpu` instead\n",
      "  warnings.warn(\n"
     ]
    },
    {
     "name": "stdout",
     "output_type": "stream",
     "text": [
      "{'eval_loss': 0.640403151512146, 'eval_accuracy': 1.0, 'eval_f1': 1.0, 'eval_precision': 1.0, 'eval_recall': 1.0, 'eval_runtime': 0.0403, 'eval_samples_per_second': 99.239, 'eval_steps_per_second': 24.81, 'epoch': 1.0}\n",
      "{'eval_loss': 0.6142677664756775, 'eval_accuracy': 1.0, 'eval_f1': 1.0, 'eval_precision': 1.0, 'eval_recall': 1.0, 'eval_runtime': 0.0392, 'eval_samples_per_second': 102.105, 'eval_steps_per_second': 25.526, 'epoch': 2.0}\n"
     ]
    },
    {
     "name": "stderr",
     "output_type": "stream",
     "text": [
      "/Users/gchhetri/Developer/Python/15min-city-bench/.venv/lib/python3.12/site-packages/transformers/trainer.py:4090: UserWarning: mtime may not be reliable on this filesystem, falling back to numerical ordering\n",
      "  warnings.warn(\"mtime may not be reliable on this filesystem, falling back to numerical ordering\")\n"
     ]
    },
    {
     "name": "stdout",
     "output_type": "stream",
     "text": [
      "{'eval_loss': 0.5961129665374756, 'eval_accuracy': 1.0, 'eval_f1': 1.0, 'eval_precision': 1.0, 'eval_recall': 1.0, 'eval_runtime': 0.0359, 'eval_samples_per_second': 111.389, 'eval_steps_per_second': 27.847, 'epoch': 3.0}\n",
      "{'eval_loss': 0.5846660733222961, 'eval_accuracy': 1.0, 'eval_f1': 1.0, 'eval_precision': 1.0, 'eval_recall': 1.0, 'eval_runtime': 0.0385, 'eval_samples_per_second': 103.78, 'eval_steps_per_second': 25.945, 'epoch': 4.0}\n",
      "{'eval_loss': 0.5798133015632629, 'eval_accuracy': 1.0, 'eval_f1': 1.0, 'eval_precision': 1.0, 'eval_recall': 1.0, 'eval_runtime': 0.0348, 'eval_samples_per_second': 115.078, 'eval_steps_per_second': 28.769, 'epoch': 5.0}\n",
      "{'train_runtime': 2.7658, 'train_samples_per_second': 28.925, 'train_steps_per_second': 3.616, 'train_loss': 0.6211355209350586, 'epoch': 5.0}\n",
      "{'eval_loss': 0.5798133015632629, 'eval_model_preparation_time': 0.0007, 'eval_accuracy': 1.0, 'eval_f1': 1.0, 'eval_precision': 1.0, 'eval_recall': 1.0, 'eval_runtime': 0.0384, 'eval_samples_per_second': 104.251, 'eval_steps_per_second': 26.063}\n",
      " ↪ Fold 3/5\n"
     ]
    },
    {
     "name": "stderr",
     "output_type": "stream",
     "text": [
      "/Users/gchhetri/Developer/Python/15min-city-bench/.venv/lib/python3.12/site-packages/sklearn/metrics/_ranking.py:1192: UndefinedMetricWarning: No negative samples in y_true, false positive value should be meaningless\n",
      "  warnings.warn(\n"
     ]
    },
    {
     "data": {
      "application/vnd.jupyter.widget-view+json": {
       "model_id": "fc92b12fc9ba450a8ca850a8fb6a112e",
       "version_major": 2,
       "version_minor": 0
      },
      "text/plain": [
       "Map:   0%|          | 0/16 [00:00<?, ? examples/s]"
      ]
     },
     "metadata": {},
     "output_type": "display_data"
    },
    {
     "data": {
      "application/vnd.jupyter.widget-view+json": {
       "model_id": "fbf7f685c92e4988b03a0d42c6a4edd5",
       "version_major": 2,
       "version_minor": 0
      },
      "text/plain": [
       "Map:   0%|          | 0/4 [00:00<?, ? examples/s]"
      ]
     },
     "metadata": {},
     "output_type": "display_data"
    },
    {
     "name": "stderr",
     "output_type": "stream",
     "text": [
      "/Users/gchhetri/Developer/Python/15min-city-bench/.venv/lib/python3.12/site-packages/transformers/training_args.py:1604: FutureWarning: using `no_cuda` is deprecated and will be removed in version 5.0 of 🤗 Transformers. Use `use_cpu` instead\n",
      "  warnings.warn(\n"
     ]
    },
    {
     "name": "stdout",
     "output_type": "stream",
     "text": [
      "{'eval_loss': 0.6284337043762207, 'eval_accuracy': 1.0, 'eval_f1': 1.0, 'eval_precision': 1.0, 'eval_recall': 1.0, 'eval_runtime': 0.0461, 'eval_samples_per_second': 86.685, 'eval_steps_per_second': 21.671, 'epoch': 1.0}\n",
      "{'eval_loss': 0.6026598811149597, 'eval_accuracy': 1.0, 'eval_f1': 1.0, 'eval_precision': 1.0, 'eval_recall': 1.0, 'eval_runtime': 0.0316, 'eval_samples_per_second': 126.562, 'eval_steps_per_second': 31.641, 'epoch': 2.0}\n"
     ]
    },
    {
     "name": "stderr",
     "output_type": "stream",
     "text": [
      "/Users/gchhetri/Developer/Python/15min-city-bench/.venv/lib/python3.12/site-packages/transformers/trainer.py:4090: UserWarning: mtime may not be reliable on this filesystem, falling back to numerical ordering\n",
      "  warnings.warn(\"mtime may not be reliable on this filesystem, falling back to numerical ordering\")\n"
     ]
    },
    {
     "name": "stdout",
     "output_type": "stream",
     "text": [
      "{'eval_loss': 0.5845935344696045, 'eval_accuracy': 1.0, 'eval_f1': 1.0, 'eval_precision': 1.0, 'eval_recall': 1.0, 'eval_runtime': 0.0424, 'eval_samples_per_second': 94.435, 'eval_steps_per_second': 23.609, 'epoch': 3.0}\n",
      "{'eval_loss': 0.5733273029327393, 'eval_accuracy': 1.0, 'eval_f1': 1.0, 'eval_precision': 1.0, 'eval_recall': 1.0, 'eval_runtime': 0.0396, 'eval_samples_per_second': 101.074, 'eval_steps_per_second': 25.268, 'epoch': 4.0}\n",
      "{'eval_loss': 0.5686826705932617, 'eval_accuracy': 1.0, 'eval_f1': 1.0, 'eval_precision': 1.0, 'eval_recall': 1.0, 'eval_runtime': 0.0489, 'eval_samples_per_second': 81.741, 'eval_steps_per_second': 20.435, 'epoch': 5.0}\n",
      "{'train_runtime': 2.7498, 'train_samples_per_second': 29.093, 'train_steps_per_second': 3.637, 'train_loss': 0.626883602142334, 'epoch': 5.0}\n",
      "{'eval_loss': 0.5686826705932617, 'eval_model_preparation_time': 0.0007, 'eval_accuracy': 1.0, 'eval_f1': 1.0, 'eval_precision': 1.0, 'eval_recall': 1.0, 'eval_runtime': 0.0525, 'eval_samples_per_second': 76.215, 'eval_steps_per_second': 19.054}\n",
      " ↪ Fold 4/5\n"
     ]
    },
    {
     "name": "stderr",
     "output_type": "stream",
     "text": [
      "/Users/gchhetri/Developer/Python/15min-city-bench/.venv/lib/python3.12/site-packages/sklearn/metrics/_ranking.py:1192: UndefinedMetricWarning: No negative samples in y_true, false positive value should be meaningless\n",
      "  warnings.warn(\n"
     ]
    },
    {
     "data": {
      "application/vnd.jupyter.widget-view+json": {
       "model_id": "797845783bdf4fe6a4b2cabf3813ea95",
       "version_major": 2,
       "version_minor": 0
      },
      "text/plain": [
       "Map:   0%|          | 0/16 [00:00<?, ? examples/s]"
      ]
     },
     "metadata": {},
     "output_type": "display_data"
    },
    {
     "data": {
      "application/vnd.jupyter.widget-view+json": {
       "model_id": "db8156fa912b4ac698d533645a7fc1ba",
       "version_major": 2,
       "version_minor": 0
      },
      "text/plain": [
       "Map:   0%|          | 0/4 [00:00<?, ? examples/s]"
      ]
     },
     "metadata": {},
     "output_type": "display_data"
    },
    {
     "name": "stderr",
     "output_type": "stream",
     "text": [
      "/Users/gchhetri/Developer/Python/15min-city-bench/.venv/lib/python3.12/site-packages/transformers/training_args.py:1604: FutureWarning: using `no_cuda` is deprecated and will be removed in version 5.0 of 🤗 Transformers. Use `use_cpu` instead\n",
      "  warnings.warn(\n"
     ]
    },
    {
     "name": "stdout",
     "output_type": "stream",
     "text": [
      "{'eval_loss': 0.6284909248352051, 'eval_accuracy': 1.0, 'eval_f1': 1.0, 'eval_precision': 1.0, 'eval_recall': 1.0, 'eval_runtime': 0.032, 'eval_samples_per_second': 125.133, 'eval_steps_per_second': 31.283, 'epoch': 1.0}\n",
      "{'eval_loss': 0.6009376049041748, 'eval_accuracy': 1.0, 'eval_f1': 1.0, 'eval_precision': 1.0, 'eval_recall': 1.0, 'eval_runtime': 0.0387, 'eval_samples_per_second': 103.289, 'eval_steps_per_second': 25.822, 'epoch': 2.0}\n"
     ]
    },
    {
     "name": "stderr",
     "output_type": "stream",
     "text": [
      "/Users/gchhetri/Developer/Python/15min-city-bench/.venv/lib/python3.12/site-packages/transformers/trainer.py:4090: UserWarning: mtime may not be reliable on this filesystem, falling back to numerical ordering\n",
      "  warnings.warn(\"mtime may not be reliable on this filesystem, falling back to numerical ordering\")\n"
     ]
    },
    {
     "name": "stdout",
     "output_type": "stream",
     "text": [
      "{'eval_loss': 0.5822533369064331, 'eval_accuracy': 1.0, 'eval_f1': 1.0, 'eval_precision': 1.0, 'eval_recall': 1.0, 'eval_runtime': 0.0421, 'eval_samples_per_second': 94.942, 'eval_steps_per_second': 23.736, 'epoch': 3.0}\n",
      "{'eval_loss': 0.5710343718528748, 'eval_accuracy': 1.0, 'eval_f1': 1.0, 'eval_precision': 1.0, 'eval_recall': 1.0, 'eval_runtime': 0.0454, 'eval_samples_per_second': 88.092, 'eval_steps_per_second': 22.023, 'epoch': 4.0}\n",
      "{'eval_loss': 0.566364049911499, 'eval_accuracy': 1.0, 'eval_f1': 1.0, 'eval_precision': 1.0, 'eval_recall': 1.0, 'eval_runtime': 0.0411, 'eval_samples_per_second': 97.25, 'eval_steps_per_second': 24.313, 'epoch': 5.0}\n",
      "{'train_runtime': 2.798, 'train_samples_per_second': 28.591, 'train_steps_per_second': 3.574, 'train_loss': 0.6242022514343262, 'epoch': 5.0}\n",
      "{'eval_loss': 0.566364049911499, 'eval_model_preparation_time': 0.0007, 'eval_accuracy': 1.0, 'eval_f1': 1.0, 'eval_precision': 1.0, 'eval_recall': 1.0, 'eval_runtime': 0.0394, 'eval_samples_per_second': 101.598, 'eval_steps_per_second': 25.399}\n",
      " ↪ Fold 5/5\n"
     ]
    },
    {
     "name": "stderr",
     "output_type": "stream",
     "text": [
      "/Users/gchhetri/Developer/Python/15min-city-bench/.venv/lib/python3.12/site-packages/sklearn/metrics/_ranking.py:1192: UndefinedMetricWarning: No negative samples in y_true, false positive value should be meaningless\n",
      "  warnings.warn(\n"
     ]
    },
    {
     "data": {
      "application/vnd.jupyter.widget-view+json": {
       "model_id": "c7a99fcfea9442029d0ed699126b089c",
       "version_major": 2,
       "version_minor": 0
      },
      "text/plain": [
       "Map:   0%|          | 0/16 [00:00<?, ? examples/s]"
      ]
     },
     "metadata": {},
     "output_type": "display_data"
    },
    {
     "data": {
      "application/vnd.jupyter.widget-view+json": {
       "model_id": "18228065905e4d509a3634c853af1ef6",
       "version_major": 2,
       "version_minor": 0
      },
      "text/plain": [
       "Map:   0%|          | 0/4 [00:00<?, ? examples/s]"
      ]
     },
     "metadata": {},
     "output_type": "display_data"
    },
    {
     "name": "stderr",
     "output_type": "stream",
     "text": [
      "/Users/gchhetri/Developer/Python/15min-city-bench/.venv/lib/python3.12/site-packages/transformers/training_args.py:1604: FutureWarning: using `no_cuda` is deprecated and will be removed in version 5.0 of 🤗 Transformers. Use `use_cpu` instead\n",
      "  warnings.warn(\n"
     ]
    },
    {
     "name": "stdout",
     "output_type": "stream",
     "text": [
      "{'eval_loss': 0.667129397392273, 'eval_accuracy': 0.75, 'eval_f1': 0.8571428571428571, 'eval_precision': 0.75, 'eval_recall': 1.0, 'eval_runtime': 0.0402, 'eval_samples_per_second': 99.456, 'eval_steps_per_second': 24.864, 'epoch': 1.0}\n",
      "{'eval_loss': 0.6537655591964722, 'eval_accuracy': 0.75, 'eval_f1': 0.8571428571428571, 'eval_precision': 0.75, 'eval_recall': 1.0, 'eval_runtime': 0.0369, 'eval_samples_per_second': 108.412, 'eval_steps_per_second': 27.103, 'epoch': 2.0}\n"
     ]
    },
    {
     "name": "stderr",
     "output_type": "stream",
     "text": [
      "/Users/gchhetri/Developer/Python/15min-city-bench/.venv/lib/python3.12/site-packages/transformers/trainer.py:4090: UserWarning: mtime may not be reliable on this filesystem, falling back to numerical ordering\n",
      "  warnings.warn(\"mtime may not be reliable on this filesystem, falling back to numerical ordering\")\n"
     ]
    },
    {
     "name": "stdout",
     "output_type": "stream",
     "text": [
      "{'eval_loss': 0.645092248916626, 'eval_accuracy': 0.75, 'eval_f1': 0.8571428571428571, 'eval_precision': 0.75, 'eval_recall': 1.0, 'eval_runtime': 0.0431, 'eval_samples_per_second': 92.84, 'eval_steps_per_second': 23.21, 'epoch': 3.0}\n",
      "{'eval_loss': 0.6399703025817871, 'eval_accuracy': 0.75, 'eval_f1': 0.8571428571428571, 'eval_precision': 0.75, 'eval_recall': 1.0, 'eval_runtime': 0.0457, 'eval_samples_per_second': 87.609, 'eval_steps_per_second': 21.902, 'epoch': 4.0}\n",
      "{'eval_loss': 0.6378117799758911, 'eval_accuracy': 0.75, 'eval_f1': 0.8571428571428571, 'eval_precision': 0.75, 'eval_recall': 1.0, 'eval_runtime': 0.0456, 'eval_samples_per_second': 87.814, 'eval_steps_per_second': 21.953, 'epoch': 5.0}\n",
      "{'train_runtime': 2.7941, 'train_samples_per_second': 28.632, 'train_steps_per_second': 3.579, 'train_loss': 0.6060432434082031, 'epoch': 5.0}\n",
      "{'eval_loss': 0.6378117799758911, 'eval_model_preparation_time': 0.0007, 'eval_accuracy': 0.75, 'eval_f1': 0.8571428571428571, 'eval_precision': 0.75, 'eval_recall': 1.0, 'eval_runtime': 0.0466, 'eval_samples_per_second': 85.896, 'eval_steps_per_second': 21.474}\n",
      "\n",
      "🔍 Model: huawei-noah/TinyBERT_General_4L_312D\n",
      " ↪ Fold 1/5\n"
     ]
    },
    {
     "name": "stderr",
     "output_type": "stream",
     "text": [
      "/Users/gchhetri/Developer/Python/15min-city-bench/.venv/lib/python3.12/site-packages/sklearn/model_selection/_split.py:811: UserWarning: The least populated class in y has only 1 members, which is less than n_splits=5.\n",
      "  warnings.warn(\n"
     ]
    },
    {
     "data": {
      "application/vnd.jupyter.widget-view+json": {
       "model_id": "1494e73fd5e946e6b1ba7176a49941c2",
       "version_major": 2,
       "version_minor": 0
      },
      "text/plain": [
       "Map:   0%|          | 0/16 [00:00<?, ? examples/s]"
      ]
     },
     "metadata": {},
     "output_type": "display_data"
    },
    {
     "data": {
      "application/vnd.jupyter.widget-view+json": {
       "model_id": "0034c2da43284e9182abd99427f534ac",
       "version_major": 2,
       "version_minor": 0
      },
      "text/plain": [
       "Map:   0%|          | 0/4 [00:00<?, ? examples/s]"
      ]
     },
     "metadata": {},
     "output_type": "display_data"
    },
    {
     "name": "stderr",
     "output_type": "stream",
     "text": [
      "/Users/gchhetri/Developer/Python/15min-city-bench/.venv/lib/python3.12/site-packages/transformers/training_args.py:1604: FutureWarning: using `no_cuda` is deprecated and will be removed in version 5.0 of 🤗 Transformers. Use `use_cpu` instead\n",
      "  warnings.warn(\n"
     ]
    },
    {
     "name": "stdout",
     "output_type": "stream",
     "text": [
      "{'eval_loss': 0.6735574007034302, 'eval_accuracy': 1.0, 'eval_f1': 1.0, 'eval_precision': 1.0, 'eval_recall': 1.0, 'eval_runtime': 0.0149, 'eval_samples_per_second': 268.187, 'eval_steps_per_second': 67.047, 'epoch': 1.0}\n",
      "{'eval_loss': 0.6580131649971008, 'eval_accuracy': 1.0, 'eval_f1': 1.0, 'eval_precision': 1.0, 'eval_recall': 1.0, 'eval_runtime': 0.0151, 'eval_samples_per_second': 265.202, 'eval_steps_per_second': 66.301, 'epoch': 2.0}\n"
     ]
    },
    {
     "name": "stderr",
     "output_type": "stream",
     "text": [
      "/Users/gchhetri/Developer/Python/15min-city-bench/.venv/lib/python3.12/site-packages/transformers/trainer.py:4090: UserWarning: mtime may not be reliable on this filesystem, falling back to numerical ordering\n",
      "  warnings.warn(\"mtime may not be reliable on this filesystem, falling back to numerical ordering\")\n"
     ]
    },
    {
     "name": "stdout",
     "output_type": "stream",
     "text": [
      "{'eval_loss': 0.6467887163162231, 'eval_accuracy': 1.0, 'eval_f1': 1.0, 'eval_precision': 1.0, 'eval_recall': 1.0, 'eval_runtime': 0.015, 'eval_samples_per_second': 266.542, 'eval_steps_per_second': 66.635, 'epoch': 3.0}\n"
     ]
    },
    {
     "name": "stderr",
     "output_type": "stream",
     "text": [
      "/Users/gchhetri/Developer/Python/15min-city-bench/.venv/lib/python3.12/site-packages/transformers/trainer.py:4090: UserWarning: mtime may not be reliable on this filesystem, falling back to numerical ordering\n",
      "  warnings.warn(\"mtime may not be reliable on this filesystem, falling back to numerical ordering\")\n"
     ]
    },
    {
     "name": "stdout",
     "output_type": "stream",
     "text": [
      "{'eval_loss': 0.6394584774971008, 'eval_accuracy': 1.0, 'eval_f1': 1.0, 'eval_precision': 1.0, 'eval_recall': 1.0, 'eval_runtime': 0.0186, 'eval_samples_per_second': 215.446, 'eval_steps_per_second': 53.862, 'epoch': 4.0}\n"
     ]
    },
    {
     "name": "stderr",
     "output_type": "stream",
     "text": [
      "/Users/gchhetri/Developer/Python/15min-city-bench/.venv/lib/python3.12/site-packages/transformers/trainer.py:4090: UserWarning: mtime may not be reliable on this filesystem, falling back to numerical ordering\n",
      "  warnings.warn(\"mtime may not be reliable on this filesystem, falling back to numerical ordering\")\n"
     ]
    },
    {
     "name": "stdout",
     "output_type": "stream",
     "text": [
      "{'eval_loss': 0.6362018585205078, 'eval_accuracy': 1.0, 'eval_f1': 1.0, 'eval_precision': 1.0, 'eval_recall': 1.0, 'eval_runtime': 0.0146, 'eval_samples_per_second': 273.053, 'eval_steps_per_second': 68.263, 'epoch': 5.0}\n",
      "{'train_runtime': 1.9293, 'train_samples_per_second': 41.466, 'train_steps_per_second': 5.183, 'train_loss': 0.6637040615081787, 'epoch': 5.0}\n",
      "{'eval_loss': 0.6362018585205078, 'eval_model_preparation_time': 0.0003, 'eval_accuracy': 1.0, 'eval_f1': 1.0, 'eval_precision': 1.0, 'eval_recall': 1.0, 'eval_runtime': 0.0166, 'eval_samples_per_second': 241.691, 'eval_steps_per_second': 60.423}\n"
     ]
    },
    {
     "name": "stderr",
     "output_type": "stream",
     "text": [
      "/Users/gchhetri/Developer/Python/15min-city-bench/.venv/lib/python3.12/site-packages/transformers/trainer.py:4090: UserWarning: mtime may not be reliable on this filesystem, falling back to numerical ordering\n",
      "  warnings.warn(\"mtime may not be reliable on this filesystem, falling back to numerical ordering\")\n",
      "/Users/gchhetri/Developer/Python/15min-city-bench/.venv/lib/python3.12/site-packages/sklearn/metrics/_ranking.py:1192: UndefinedMetricWarning: No negative samples in y_true, false positive value should be meaningless\n",
      "  warnings.warn(\n"
     ]
    },
    {
     "name": "stdout",
     "output_type": "stream",
     "text": [
      " ↪ Fold 2/5\n"
     ]
    },
    {
     "data": {
      "application/vnd.jupyter.widget-view+json": {
       "model_id": "c83fc23c66714b03bd384427cf4974ea",
       "version_major": 2,
       "version_minor": 0
      },
      "text/plain": [
       "Map:   0%|          | 0/16 [00:00<?, ? examples/s]"
      ]
     },
     "metadata": {},
     "output_type": "display_data"
    },
    {
     "data": {
      "application/vnd.jupyter.widget-view+json": {
       "model_id": "d2ccd7bff4ea4db287068e0d5f23c1d4",
       "version_major": 2,
       "version_minor": 0
      },
      "text/plain": [
       "Map:   0%|          | 0/4 [00:00<?, ? examples/s]"
      ]
     },
     "metadata": {},
     "output_type": "display_data"
    },
    {
     "name": "stderr",
     "output_type": "stream",
     "text": [
      "/Users/gchhetri/Developer/Python/15min-city-bench/.venv/lib/python3.12/site-packages/transformers/training_args.py:1604: FutureWarning: using `no_cuda` is deprecated and will be removed in version 5.0 of 🤗 Transformers. Use `use_cpu` instead\n",
      "  warnings.warn(\n"
     ]
    },
    {
     "name": "stdout",
     "output_type": "stream",
     "text": [
      "{'eval_loss': 0.6743131875991821, 'eval_accuracy': 1.0, 'eval_f1': 1.0, 'eval_precision': 1.0, 'eval_recall': 1.0, 'eval_runtime': 0.0172, 'eval_samples_per_second': 232.352, 'eval_steps_per_second': 58.088, 'epoch': 1.0}\n",
      "{'eval_loss': 0.6597821116447449, 'eval_accuracy': 1.0, 'eval_f1': 1.0, 'eval_precision': 1.0, 'eval_recall': 1.0, 'eval_runtime': 0.017, 'eval_samples_per_second': 235.173, 'eval_steps_per_second': 58.793, 'epoch': 2.0}\n"
     ]
    },
    {
     "name": "stderr",
     "output_type": "stream",
     "text": [
      "/Users/gchhetri/Developer/Python/15min-city-bench/.venv/lib/python3.12/site-packages/transformers/trainer.py:4090: UserWarning: mtime may not be reliable on this filesystem, falling back to numerical ordering\n",
      "  warnings.warn(\"mtime may not be reliable on this filesystem, falling back to numerical ordering\")\n"
     ]
    },
    {
     "name": "stdout",
     "output_type": "stream",
     "text": [
      "{'eval_loss': 0.6489158868789673, 'eval_accuracy': 1.0, 'eval_f1': 1.0, 'eval_precision': 1.0, 'eval_recall': 1.0, 'eval_runtime': 0.0172, 'eval_samples_per_second': 232.313, 'eval_steps_per_second': 58.078, 'epoch': 3.0}\n"
     ]
    },
    {
     "name": "stderr",
     "output_type": "stream",
     "text": [
      "/Users/gchhetri/Developer/Python/15min-city-bench/.venv/lib/python3.12/site-packages/transformers/trainer.py:4090: UserWarning: mtime may not be reliable on this filesystem, falling back to numerical ordering\n",
      "  warnings.warn(\"mtime may not be reliable on this filesystem, falling back to numerical ordering\")\n"
     ]
    },
    {
     "name": "stdout",
     "output_type": "stream",
     "text": [
      "{'eval_loss': 0.641653299331665, 'eval_accuracy': 1.0, 'eval_f1': 1.0, 'eval_precision': 1.0, 'eval_recall': 1.0, 'eval_runtime': 0.0175, 'eval_samples_per_second': 228.862, 'eval_steps_per_second': 57.216, 'epoch': 4.0}\n"
     ]
    },
    {
     "name": "stderr",
     "output_type": "stream",
     "text": [
      "/Users/gchhetri/Developer/Python/15min-city-bench/.venv/lib/python3.12/site-packages/transformers/trainer.py:4090: UserWarning: mtime may not be reliable on this filesystem, falling back to numerical ordering\n",
      "  warnings.warn(\"mtime may not be reliable on this filesystem, falling back to numerical ordering\")\n"
     ]
    },
    {
     "name": "stdout",
     "output_type": "stream",
     "text": [
      "{'eval_loss': 0.6384150385856628, 'eval_accuracy': 1.0, 'eval_f1': 1.0, 'eval_precision': 1.0, 'eval_recall': 1.0, 'eval_runtime': 0.0192, 'eval_samples_per_second': 208.418, 'eval_steps_per_second': 52.104, 'epoch': 5.0}\n",
      "{'train_runtime': 1.96, 'train_samples_per_second': 40.816, 'train_steps_per_second': 5.102, 'train_loss': 0.6647652149200439, 'epoch': 5.0}\n"
     ]
    },
    {
     "name": "stderr",
     "output_type": "stream",
     "text": [
      "/Users/gchhetri/Developer/Python/15min-city-bench/.venv/lib/python3.12/site-packages/transformers/trainer.py:4090: UserWarning: mtime may not be reliable on this filesystem, falling back to numerical ordering\n",
      "  warnings.warn(\"mtime may not be reliable on this filesystem, falling back to numerical ordering\")\n",
      "/Users/gchhetri/Developer/Python/15min-city-bench/.venv/lib/python3.12/site-packages/sklearn/metrics/_ranking.py:1192: UndefinedMetricWarning: No negative samples in y_true, false positive value should be meaningless\n",
      "  warnings.warn(\n"
     ]
    },
    {
     "name": "stdout",
     "output_type": "stream",
     "text": [
      "{'eval_loss': 0.6384150385856628, 'eval_model_preparation_time': 0.0003, 'eval_accuracy': 1.0, 'eval_f1': 1.0, 'eval_precision': 1.0, 'eval_recall': 1.0, 'eval_runtime': 0.0184, 'eval_samples_per_second': 217.06, 'eval_steps_per_second': 54.265}\n",
      " ↪ Fold 3/5\n"
     ]
    },
    {
     "data": {
      "application/vnd.jupyter.widget-view+json": {
       "model_id": "876c8db857394d6082bc8aa266798242",
       "version_major": 2,
       "version_minor": 0
      },
      "text/plain": [
       "Map:   0%|          | 0/16 [00:00<?, ? examples/s]"
      ]
     },
     "metadata": {},
     "output_type": "display_data"
    },
    {
     "data": {
      "application/vnd.jupyter.widget-view+json": {
       "model_id": "ca8b13a9b7804934851f67e4a1afd31f",
       "version_major": 2,
       "version_minor": 0
      },
      "text/plain": [
       "Map:   0%|          | 0/4 [00:00<?, ? examples/s]"
      ]
     },
     "metadata": {},
     "output_type": "display_data"
    },
    {
     "name": "stderr",
     "output_type": "stream",
     "text": [
      "/Users/gchhetri/Developer/Python/15min-city-bench/.venv/lib/python3.12/site-packages/transformers/training_args.py:1604: FutureWarning: using `no_cuda` is deprecated and will be removed in version 5.0 of 🤗 Transformers. Use `use_cpu` instead\n",
      "  warnings.warn(\n"
     ]
    },
    {
     "name": "stdout",
     "output_type": "stream",
     "text": [
      "{'eval_loss': 0.6731956601142883, 'eval_accuracy': 1.0, 'eval_f1': 1.0, 'eval_precision': 1.0, 'eval_recall': 1.0, 'eval_runtime': 0.0152, 'eval_samples_per_second': 263.905, 'eval_steps_per_second': 65.976, 'epoch': 1.0}\n",
      "{'eval_loss': 0.6573101282119751, 'eval_accuracy': 1.0, 'eval_f1': 1.0, 'eval_precision': 1.0, 'eval_recall': 1.0, 'eval_runtime': 0.0173, 'eval_samples_per_second': 231.883, 'eval_steps_per_second': 57.971, 'epoch': 2.0}\n"
     ]
    },
    {
     "name": "stderr",
     "output_type": "stream",
     "text": [
      "/Users/gchhetri/Developer/Python/15min-city-bench/.venv/lib/python3.12/site-packages/transformers/trainer.py:4090: UserWarning: mtime may not be reliable on this filesystem, falling back to numerical ordering\n",
      "  warnings.warn(\"mtime may not be reliable on this filesystem, falling back to numerical ordering\")\n"
     ]
    },
    {
     "name": "stdout",
     "output_type": "stream",
     "text": [
      "{'eval_loss': 0.6458633542060852, 'eval_accuracy': 1.0, 'eval_f1': 1.0, 'eval_precision': 1.0, 'eval_recall': 1.0, 'eval_runtime': 0.0196, 'eval_samples_per_second': 203.976, 'eval_steps_per_second': 50.994, 'epoch': 3.0}\n"
     ]
    },
    {
     "name": "stderr",
     "output_type": "stream",
     "text": [
      "/Users/gchhetri/Developer/Python/15min-city-bench/.venv/lib/python3.12/site-packages/transformers/trainer.py:4090: UserWarning: mtime may not be reliable on this filesystem, falling back to numerical ordering\n",
      "  warnings.warn(\"mtime may not be reliable on this filesystem, falling back to numerical ordering\")\n"
     ]
    },
    {
     "name": "stdout",
     "output_type": "stream",
     "text": [
      "{'eval_loss': 0.6384623646736145, 'eval_accuracy': 1.0, 'eval_f1': 1.0, 'eval_precision': 1.0, 'eval_recall': 1.0, 'eval_runtime': 0.018, 'eval_samples_per_second': 221.704, 'eval_steps_per_second': 55.426, 'epoch': 4.0}\n"
     ]
    },
    {
     "name": "stderr",
     "output_type": "stream",
     "text": [
      "/Users/gchhetri/Developer/Python/15min-city-bench/.venv/lib/python3.12/site-packages/transformers/trainer.py:4090: UserWarning: mtime may not be reliable on this filesystem, falling back to numerical ordering\n",
      "  warnings.warn(\"mtime may not be reliable on this filesystem, falling back to numerical ordering\")\n"
     ]
    },
    {
     "name": "stdout",
     "output_type": "stream",
     "text": [
      "{'eval_loss': 0.6352106928825378, 'eval_accuracy': 1.0, 'eval_f1': 1.0, 'eval_precision': 1.0, 'eval_recall': 1.0, 'eval_runtime': 0.0177, 'eval_samples_per_second': 226.209, 'eval_steps_per_second': 56.552, 'epoch': 5.0}\n",
      "{'train_runtime': 1.9162, 'train_samples_per_second': 41.75, 'train_steps_per_second': 5.219, 'train_loss': 0.6638826847076416, 'epoch': 5.0}\n",
      "{'eval_loss': 0.6352106928825378, 'eval_model_preparation_time': 0.0003, 'eval_accuracy': 1.0, 'eval_f1': 1.0, 'eval_precision': 1.0, 'eval_recall': 1.0, 'eval_runtime': 0.017, 'eval_samples_per_second': 235.864, 'eval_steps_per_second': 58.966}\n"
     ]
    },
    {
     "name": "stderr",
     "output_type": "stream",
     "text": [
      "/Users/gchhetri/Developer/Python/15min-city-bench/.venv/lib/python3.12/site-packages/transformers/trainer.py:4090: UserWarning: mtime may not be reliable on this filesystem, falling back to numerical ordering\n",
      "  warnings.warn(\"mtime may not be reliable on this filesystem, falling back to numerical ordering\")\n",
      "/Users/gchhetri/Developer/Python/15min-city-bench/.venv/lib/python3.12/site-packages/sklearn/metrics/_ranking.py:1192: UndefinedMetricWarning: No negative samples in y_true, false positive value should be meaningless\n",
      "  warnings.warn(\n"
     ]
    },
    {
     "name": "stdout",
     "output_type": "stream",
     "text": [
      " ↪ Fold 4/5\n"
     ]
    },
    {
     "data": {
      "application/vnd.jupyter.widget-view+json": {
       "model_id": "5bc8bc1ccac042bb808907adfbe6085f",
       "version_major": 2,
       "version_minor": 0
      },
      "text/plain": [
       "Map:   0%|          | 0/16 [00:00<?, ? examples/s]"
      ]
     },
     "metadata": {},
     "output_type": "display_data"
    },
    {
     "data": {
      "application/vnd.jupyter.widget-view+json": {
       "model_id": "1f54806ffa664f989ef9b2ee2cfca27f",
       "version_major": 2,
       "version_minor": 0
      },
      "text/plain": [
       "Map:   0%|          | 0/4 [00:00<?, ? examples/s]"
      ]
     },
     "metadata": {},
     "output_type": "display_data"
    },
    {
     "name": "stderr",
     "output_type": "stream",
     "text": [
      "/Users/gchhetri/Developer/Python/15min-city-bench/.venv/lib/python3.12/site-packages/transformers/training_args.py:1604: FutureWarning: using `no_cuda` is deprecated and will be removed in version 5.0 of 🤗 Transformers. Use `use_cpu` instead\n",
      "  warnings.warn(\n"
     ]
    },
    {
     "name": "stdout",
     "output_type": "stream",
     "text": [
      "{'eval_loss': 0.6732776165008545, 'eval_accuracy': 1.0, 'eval_f1': 1.0, 'eval_precision': 1.0, 'eval_recall': 1.0, 'eval_runtime': 0.0151, 'eval_samples_per_second': 265.185, 'eval_steps_per_second': 66.296, 'epoch': 1.0}\n",
      "{'eval_loss': 0.6580018997192383, 'eval_accuracy': 1.0, 'eval_f1': 1.0, 'eval_precision': 1.0, 'eval_recall': 1.0, 'eval_runtime': 0.0169, 'eval_samples_per_second': 236.156, 'eval_steps_per_second': 59.039, 'epoch': 2.0}\n"
     ]
    },
    {
     "name": "stderr",
     "output_type": "stream",
     "text": [
      "/Users/gchhetri/Developer/Python/15min-city-bench/.venv/lib/python3.12/site-packages/transformers/trainer.py:4090: UserWarning: mtime may not be reliable on this filesystem, falling back to numerical ordering\n",
      "  warnings.warn(\"mtime may not be reliable on this filesystem, falling back to numerical ordering\")\n"
     ]
    },
    {
     "name": "stdout",
     "output_type": "stream",
     "text": [
      "{'eval_loss': 0.6465921401977539, 'eval_accuracy': 1.0, 'eval_f1': 1.0, 'eval_precision': 1.0, 'eval_recall': 1.0, 'eval_runtime': 0.0174, 'eval_samples_per_second': 230.266, 'eval_steps_per_second': 57.567, 'epoch': 3.0}\n"
     ]
    },
    {
     "name": "stderr",
     "output_type": "stream",
     "text": [
      "/Users/gchhetri/Developer/Python/15min-city-bench/.venv/lib/python3.12/site-packages/transformers/trainer.py:4090: UserWarning: mtime may not be reliable on this filesystem, falling back to numerical ordering\n",
      "  warnings.warn(\"mtime may not be reliable on this filesystem, falling back to numerical ordering\")\n"
     ]
    },
    {
     "name": "stdout",
     "output_type": "stream",
     "text": [
      "{'eval_loss': 0.6390236616134644, 'eval_accuracy': 1.0, 'eval_f1': 1.0, 'eval_precision': 1.0, 'eval_recall': 1.0, 'eval_runtime': 0.016, 'eval_samples_per_second': 249.527, 'eval_steps_per_second': 62.382, 'epoch': 4.0}\n"
     ]
    },
    {
     "name": "stderr",
     "output_type": "stream",
     "text": [
      "/Users/gchhetri/Developer/Python/15min-city-bench/.venv/lib/python3.12/site-packages/transformers/trainer.py:4090: UserWarning: mtime may not be reliable on this filesystem, falling back to numerical ordering\n",
      "  warnings.warn(\"mtime may not be reliable on this filesystem, falling back to numerical ordering\")\n"
     ]
    },
    {
     "name": "stdout",
     "output_type": "stream",
     "text": [
      "{'eval_loss': 0.6356635093688965, 'eval_accuracy': 1.0, 'eval_f1': 1.0, 'eval_precision': 1.0, 'eval_recall': 1.0, 'eval_runtime': 0.0174, 'eval_samples_per_second': 229.501, 'eval_steps_per_second': 57.375, 'epoch': 5.0}\n",
      "{'train_runtime': 1.9021, 'train_samples_per_second': 42.058, 'train_steps_per_second': 5.257, 'train_loss': 0.6641981601715088, 'epoch': 5.0}\n",
      "{'eval_loss': 0.6356635093688965, 'eval_model_preparation_time': 0.0003, 'eval_accuracy': 1.0, 'eval_f1': 1.0, 'eval_precision': 1.0, 'eval_recall': 1.0, 'eval_runtime': 0.0163, 'eval_samples_per_second': 244.734, 'eval_steps_per_second': 61.183}\n"
     ]
    },
    {
     "name": "stderr",
     "output_type": "stream",
     "text": [
      "/Users/gchhetri/Developer/Python/15min-city-bench/.venv/lib/python3.12/site-packages/transformers/trainer.py:4090: UserWarning: mtime may not be reliable on this filesystem, falling back to numerical ordering\n",
      "  warnings.warn(\"mtime may not be reliable on this filesystem, falling back to numerical ordering\")\n",
      "/Users/gchhetri/Developer/Python/15min-city-bench/.venv/lib/python3.12/site-packages/sklearn/metrics/_ranking.py:1192: UndefinedMetricWarning: No negative samples in y_true, false positive value should be meaningless\n",
      "  warnings.warn(\n"
     ]
    },
    {
     "name": "stdout",
     "output_type": "stream",
     "text": [
      " ↪ Fold 5/5\n"
     ]
    },
    {
     "data": {
      "application/vnd.jupyter.widget-view+json": {
       "model_id": "64be7c41408c4ae1922551021b5cc307",
       "version_major": 2,
       "version_minor": 0
      },
      "text/plain": [
       "Map:   0%|          | 0/16 [00:00<?, ? examples/s]"
      ]
     },
     "metadata": {},
     "output_type": "display_data"
    },
    {
     "data": {
      "application/vnd.jupyter.widget-view+json": {
       "model_id": "9628ad4367bb451d8cf3f00f10112ac2",
       "version_major": 2,
       "version_minor": 0
      },
      "text/plain": [
       "Map:   0%|          | 0/4 [00:00<?, ? examples/s]"
      ]
     },
     "metadata": {},
     "output_type": "display_data"
    },
    {
     "name": "stderr",
     "output_type": "stream",
     "text": [
      "/Users/gchhetri/Developer/Python/15min-city-bench/.venv/lib/python3.12/site-packages/transformers/training_args.py:1604: FutureWarning: using `no_cuda` is deprecated and will be removed in version 5.0 of 🤗 Transformers. Use `use_cpu` instead\n",
      "  warnings.warn(\n"
     ]
    },
    {
     "name": "stdout",
     "output_type": "stream",
     "text": [
      "{'eval_loss': 0.6843529939651489, 'eval_accuracy': 0.75, 'eval_f1': 0.8571428571428571, 'eval_precision': 0.75, 'eval_recall': 1.0, 'eval_runtime': 0.0156, 'eval_samples_per_second': 256.674, 'eval_steps_per_second': 64.168, 'epoch': 1.0}\n",
      "{'eval_loss': 0.6767174005508423, 'eval_accuracy': 0.75, 'eval_f1': 0.8571428571428571, 'eval_precision': 0.75, 'eval_recall': 1.0, 'eval_runtime': 0.016, 'eval_samples_per_second': 249.639, 'eval_steps_per_second': 62.41, 'epoch': 2.0}\n"
     ]
    },
    {
     "name": "stderr",
     "output_type": "stream",
     "text": [
      "/Users/gchhetri/Developer/Python/15min-city-bench/.venv/lib/python3.12/site-packages/transformers/trainer.py:4090: UserWarning: mtime may not be reliable on this filesystem, falling back to numerical ordering\n",
      "  warnings.warn(\"mtime may not be reliable on this filesystem, falling back to numerical ordering\")\n"
     ]
    },
    {
     "name": "stdout",
     "output_type": "stream",
     "text": [
      "{'eval_loss': 0.6711568236351013, 'eval_accuracy': 0.75, 'eval_f1': 0.8571428571428571, 'eval_precision': 0.75, 'eval_recall': 1.0, 'eval_runtime': 0.0176, 'eval_samples_per_second': 227.494, 'eval_steps_per_second': 56.873, 'epoch': 3.0}\n"
     ]
    },
    {
     "name": "stderr",
     "output_type": "stream",
     "text": [
      "/Users/gchhetri/Developer/Python/15min-city-bench/.venv/lib/python3.12/site-packages/transformers/trainer.py:4090: UserWarning: mtime may not be reliable on this filesystem, falling back to numerical ordering\n",
      "  warnings.warn(\"mtime may not be reliable on this filesystem, falling back to numerical ordering\")\n"
     ]
    },
    {
     "name": "stdout",
     "output_type": "stream",
     "text": [
      "{'eval_loss': 0.6675578355789185, 'eval_accuracy': 0.75, 'eval_f1': 0.8571428571428571, 'eval_precision': 0.75, 'eval_recall': 1.0, 'eval_runtime': 0.018, 'eval_samples_per_second': 221.631, 'eval_steps_per_second': 55.408, 'epoch': 4.0}\n"
     ]
    },
    {
     "name": "stderr",
     "output_type": "stream",
     "text": [
      "/Users/gchhetri/Developer/Python/15min-city-bench/.venv/lib/python3.12/site-packages/transformers/trainer.py:4090: UserWarning: mtime may not be reliable on this filesystem, falling back to numerical ordering\n",
      "  warnings.warn(\"mtime may not be reliable on this filesystem, falling back to numerical ordering\")\n"
     ]
    },
    {
     "name": "stdout",
     "output_type": "stream",
     "text": [
      "{'eval_loss': 0.6659827828407288, 'eval_accuracy': 0.75, 'eval_f1': 0.8571428571428571, 'eval_precision': 0.75, 'eval_recall': 1.0, 'eval_runtime': 0.0162, 'eval_samples_per_second': 246.822, 'eval_steps_per_second': 61.705, 'epoch': 5.0}\n",
      "{'train_runtime': 1.9326, 'train_samples_per_second': 41.394, 'train_steps_per_second': 5.174, 'train_loss': 0.6598307609558105, 'epoch': 5.0}\n",
      "{'eval_loss': 0.6659827828407288, 'eval_model_preparation_time': 0.0003, 'eval_accuracy': 0.75, 'eval_f1': 0.8571428571428571, 'eval_precision': 0.75, 'eval_recall': 1.0, 'eval_runtime': 0.0176, 'eval_samples_per_second': 227.623, 'eval_steps_per_second': 56.906}\n",
      "\n",
      "📂 Benchmarking on dataset: reddit\n"
     ]
    },
    {
     "name": "stderr",
     "output_type": "stream",
     "text": [
      "/Users/gchhetri/Developer/Python/15min-city-bench/.venv/lib/python3.12/site-packages/transformers/trainer.py:4090: UserWarning: mtime may not be reliable on this filesystem, falling back to numerical ordering\n",
      "  warnings.warn(\"mtime may not be reliable on this filesystem, falling back to numerical ordering\")\n"
     ]
    },
    {
     "data": {
      "application/vnd.jupyter.widget-view+json": {
       "model_id": "e61572e60e5349909ffad2c9e0c538e7",
       "version_major": 2,
       "version_minor": 0
      },
      "text/plain": [
       "🔬 Benchmarking Models on reddit:   0%|          | 0/5 [00:00<?, ?it/s]"
      ]
     },
     "metadata": {},
     "output_type": "display_data"
    },
    {
     "name": "stderr",
     "output_type": "stream",
     "text": [
      "/Users/gchhetri/Developer/Python/15min-city-bench/.venv/lib/python3.12/site-packages/sklearn/model_selection/_split.py:811: UserWarning: The least populated class in y has only 4 members, which is less than n_splits=5.\n",
      "  warnings.warn(\n"
     ]
    },
    {
     "name": "stdout",
     "output_type": "stream",
     "text": [
      "\n",
      "🔍 Model: distilroberta-base\n",
      " ↪ Fold 1/5\n"
     ]
    },
    {
     "data": {
      "application/vnd.jupyter.widget-view+json": {
       "model_id": "1bed8d762a2f41c1849f2cbc82a49beb",
       "version_major": 2,
       "version_minor": 0
      },
      "text/plain": [
       "Map:   0%|          | 0/16 [00:00<?, ? examples/s]"
      ]
     },
     "metadata": {},
     "output_type": "display_data"
    },
    {
     "data": {
      "application/vnd.jupyter.widget-view+json": {
       "model_id": "54e7c0450bf9434f8cca2419e6cdb7d8",
       "version_major": 2,
       "version_minor": 0
      },
      "text/plain": [
       "Map:   0%|          | 0/4 [00:00<?, ? examples/s]"
      ]
     },
     "metadata": {},
     "output_type": "display_data"
    },
    {
     "name": "stderr",
     "output_type": "stream",
     "text": [
      "/Users/gchhetri/Developer/Python/15min-city-bench/.venv/lib/python3.12/site-packages/transformers/training_args.py:1604: FutureWarning: using `no_cuda` is deprecated and will be removed in version 5.0 of 🤗 Transformers. Use `use_cpu` instead\n",
      "  warnings.warn(\n"
     ]
    },
    {
     "name": "stdout",
     "output_type": "stream",
     "text": [
      "{'eval_loss': 0.539257287979126, 'eval_accuracy': 1.0, 'eval_f1': 1.0, 'eval_precision': 1.0, 'eval_recall': 1.0, 'eval_runtime': 0.0983, 'eval_samples_per_second': 40.691, 'eval_steps_per_second': 10.173, 'epoch': 1.0}\n",
      "{'eval_loss': 0.48676425218582153, 'eval_accuracy': 1.0, 'eval_f1': 1.0, 'eval_precision': 1.0, 'eval_recall': 1.0, 'eval_runtime': 0.1011, 'eval_samples_per_second': 39.566, 'eval_steps_per_second': 9.892, 'epoch': 2.0}\n",
      "{'eval_loss': 0.4603368043899536, 'eval_accuracy': 1.0, 'eval_f1': 1.0, 'eval_precision': 1.0, 'eval_recall': 1.0, 'eval_runtime': 0.092, 'eval_samples_per_second': 43.468, 'eval_steps_per_second': 10.867, 'epoch': 3.0}\n",
      "{'eval_loss': 0.43837225437164307, 'eval_accuracy': 1.0, 'eval_f1': 1.0, 'eval_precision': 1.0, 'eval_recall': 1.0, 'eval_runtime': 0.0935, 'eval_samples_per_second': 42.758, 'eval_steps_per_second': 10.69, 'epoch': 4.0}\n",
      "{'eval_loss': 0.4295467734336853, 'eval_accuracy': 1.0, 'eval_f1': 1.0, 'eval_precision': 1.0, 'eval_recall': 1.0, 'eval_runtime': 0.0974, 'eval_samples_per_second': 41.049, 'eval_steps_per_second': 10.262, 'epoch': 5.0}\n",
      "{'train_runtime': 27.5658, 'train_samples_per_second': 2.902, 'train_steps_per_second': 0.363, 'train_loss': 0.618809700012207, 'epoch': 5.0}\n",
      "{'eval_loss': 0.4295467734336853, 'eval_model_preparation_time': 0.0004, 'eval_accuracy': 1.0, 'eval_f1': 1.0, 'eval_precision': 1.0, 'eval_recall': 1.0, 'eval_runtime': 0.0867, 'eval_samples_per_second': 46.129, 'eval_steps_per_second': 11.532}\n"
     ]
    },
    {
     "name": "stderr",
     "output_type": "stream",
     "text": [
      "/Users/gchhetri/Developer/Python/15min-city-bench/.venv/lib/python3.12/site-packages/sklearn/metrics/_ranking.py:1192: UndefinedMetricWarning: No negative samples in y_true, false positive value should be meaningless\n",
      "  warnings.warn(\n"
     ]
    },
    {
     "name": "stdout",
     "output_type": "stream",
     "text": [
      " ↪ Fold 2/5\n"
     ]
    },
    {
     "data": {
      "application/vnd.jupyter.widget-view+json": {
       "model_id": "65647a12db474be1b156da1a1d6f5235",
       "version_major": 2,
       "version_minor": 0
      },
      "text/plain": [
       "Map:   0%|          | 0/16 [00:00<?, ? examples/s]"
      ]
     },
     "metadata": {},
     "output_type": "display_data"
    },
    {
     "data": {
      "application/vnd.jupyter.widget-view+json": {
       "model_id": "b52c2e0d7a1d4392b8f2adecc3b1089b",
       "version_major": 2,
       "version_minor": 0
      },
      "text/plain": [
       "Map:   0%|          | 0/4 [00:00<?, ? examples/s]"
      ]
     },
     "metadata": {},
     "output_type": "display_data"
    },
    {
     "name": "stderr",
     "output_type": "stream",
     "text": [
      "/Users/gchhetri/Developer/Python/15min-city-bench/.venv/lib/python3.12/site-packages/transformers/training_args.py:1604: FutureWarning: using `no_cuda` is deprecated and will be removed in version 5.0 of 🤗 Transformers. Use `use_cpu` instead\n",
      "  warnings.warn(\n"
     ]
    },
    {
     "name": "stdout",
     "output_type": "stream",
     "text": [
      "{'eval_loss': 0.6118143796920776, 'eval_accuracy': 0.75, 'eval_f1': 0.8571428571428571, 'eval_precision': 0.75, 'eval_recall': 1.0, 'eval_runtime': 0.1505, 'eval_samples_per_second': 26.576, 'eval_steps_per_second': 6.644, 'epoch': 1.0}\n",
      "{'eval_loss': 0.5893929600715637, 'eval_accuracy': 0.75, 'eval_f1': 0.8571428571428571, 'eval_precision': 0.75, 'eval_recall': 1.0, 'eval_runtime': 0.1658, 'eval_samples_per_second': 24.132, 'eval_steps_per_second': 6.033, 'epoch': 2.0}\n",
      "{'eval_loss': 0.5749375224113464, 'eval_accuracy': 0.75, 'eval_f1': 0.8571428571428571, 'eval_precision': 0.75, 'eval_recall': 1.0, 'eval_runtime': 0.1464, 'eval_samples_per_second': 27.318, 'eval_steps_per_second': 6.829, 'epoch': 3.0}\n",
      "{'eval_loss': 0.5672343969345093, 'eval_accuracy': 0.75, 'eval_f1': 0.8571428571428571, 'eval_precision': 0.75, 'eval_recall': 1.0, 'eval_runtime': 0.1506, 'eval_samples_per_second': 26.564, 'eval_steps_per_second': 6.641, 'epoch': 4.0}\n",
      "{'eval_loss': 0.5640168190002441, 'eval_accuracy': 0.75, 'eval_f1': 0.8571428571428571, 'eval_precision': 0.75, 'eval_recall': 1.0, 'eval_runtime': 0.1494, 'eval_samples_per_second': 26.771, 'eval_steps_per_second': 6.693, 'epoch': 5.0}\n",
      "{'train_runtime': 27.5842, 'train_samples_per_second': 2.9, 'train_steps_per_second': 0.363, 'train_loss': 0.560072660446167, 'epoch': 5.0}\n",
      "{'eval_loss': 0.5640168190002441, 'eval_model_preparation_time': 0.0004, 'eval_accuracy': 0.75, 'eval_f1': 0.8571428571428571, 'eval_precision': 0.75, 'eval_recall': 1.0, 'eval_runtime': 0.1281, 'eval_samples_per_second': 31.215, 'eval_steps_per_second': 7.804}\n",
      " ↪ Fold 3/5\n"
     ]
    },
    {
     "data": {
      "application/vnd.jupyter.widget-view+json": {
       "model_id": "fd8461c8bb9049059ccb272ee3f804d5",
       "version_major": 2,
       "version_minor": 0
      },
      "text/plain": [
       "Map:   0%|          | 0/16 [00:00<?, ? examples/s]"
      ]
     },
     "metadata": {},
     "output_type": "display_data"
    },
    {
     "data": {
      "application/vnd.jupyter.widget-view+json": {
       "model_id": "bf0692572b7d47d7adf8ac105cd9c8a8",
       "version_major": 2,
       "version_minor": 0
      },
      "text/plain": [
       "Map:   0%|          | 0/4 [00:00<?, ? examples/s]"
      ]
     },
     "metadata": {},
     "output_type": "display_data"
    },
    {
     "name": "stderr",
     "output_type": "stream",
     "text": [
      "/Users/gchhetri/Developer/Python/15min-city-bench/.venv/lib/python3.12/site-packages/transformers/training_args.py:1604: FutureWarning: using `no_cuda` is deprecated and will be removed in version 5.0 of 🤗 Transformers. Use `use_cpu` instead\n",
      "  warnings.warn(\n"
     ]
    },
    {
     "name": "stdout",
     "output_type": "stream",
     "text": [
      "{'eval_loss': 0.6178035736083984, 'eval_accuracy': 0.75, 'eval_f1': 0.8571428571428571, 'eval_precision': 0.75, 'eval_recall': 1.0, 'eval_runtime': 0.1257, 'eval_samples_per_second': 31.834, 'eval_steps_per_second': 7.958, 'epoch': 1.0}\n",
      "{'eval_loss': 0.5912039875984192, 'eval_accuracy': 0.75, 'eval_f1': 0.8571428571428571, 'eval_precision': 0.75, 'eval_recall': 1.0, 'eval_runtime': 0.1497, 'eval_samples_per_second': 26.721, 'eval_steps_per_second': 6.68, 'epoch': 2.0}\n",
      "{'eval_loss': 0.5684667229652405, 'eval_accuracy': 0.75, 'eval_f1': 0.8571428571428571, 'eval_precision': 0.75, 'eval_recall': 1.0, 'eval_runtime': 0.1447, 'eval_samples_per_second': 27.639, 'eval_steps_per_second': 6.91, 'epoch': 3.0}\n",
      "{'eval_loss': 0.551744818687439, 'eval_accuracy': 0.75, 'eval_f1': 0.8571428571428571, 'eval_precision': 0.75, 'eval_recall': 1.0, 'eval_runtime': 0.1318, 'eval_samples_per_second': 30.359, 'eval_steps_per_second': 7.59, 'epoch': 4.0}\n",
      "{'eval_loss': 0.5435188412666321, 'eval_accuracy': 0.75, 'eval_f1': 0.8571428571428571, 'eval_precision': 0.75, 'eval_recall': 1.0, 'eval_runtime': 0.1479, 'eval_samples_per_second': 27.046, 'eval_steps_per_second': 6.762, 'epoch': 5.0}\n",
      "{'train_runtime': 30.8548, 'train_samples_per_second': 2.593, 'train_steps_per_second': 0.324, 'train_loss': 0.5609367370605469, 'epoch': 5.0}\n",
      "{'eval_loss': 0.5435188412666321, 'eval_model_preparation_time': 0.0004, 'eval_accuracy': 0.75, 'eval_f1': 0.8571428571428571, 'eval_precision': 0.75, 'eval_recall': 1.0, 'eval_runtime': 0.1254, 'eval_samples_per_second': 31.91, 'eval_steps_per_second': 7.977}\n",
      " ↪ Fold 4/5\n"
     ]
    },
    {
     "data": {
      "application/vnd.jupyter.widget-view+json": {
       "model_id": "7e0bfab6477740cabe5796cbf84238e7",
       "version_major": 2,
       "version_minor": 0
      },
      "text/plain": [
       "Map:   0%|          | 0/16 [00:00<?, ? examples/s]"
      ]
     },
     "metadata": {},
     "output_type": "display_data"
    },
    {
     "data": {
      "application/vnd.jupyter.widget-view+json": {
       "model_id": "513fe0345cdc41d18bc1d24d85429c15",
       "version_major": 2,
       "version_minor": 0
      },
      "text/plain": [
       "Map:   0%|          | 0/4 [00:00<?, ? examples/s]"
      ]
     },
     "metadata": {},
     "output_type": "display_data"
    },
    {
     "name": "stderr",
     "output_type": "stream",
     "text": [
      "/Users/gchhetri/Developer/Python/15min-city-bench/.venv/lib/python3.12/site-packages/transformers/training_args.py:1604: FutureWarning: using `no_cuda` is deprecated and will be removed in version 5.0 of 🤗 Transformers. Use `use_cpu` instead\n",
      "  warnings.warn(\n"
     ]
    },
    {
     "name": "stdout",
     "output_type": "stream",
     "text": [
      "{'eval_loss': 0.6207406520843506, 'eval_accuracy': 0.75, 'eval_f1': 0.8571428571428571, 'eval_precision': 0.75, 'eval_recall': 1.0, 'eval_runtime': 0.1706, 'eval_samples_per_second': 23.443, 'eval_steps_per_second': 5.861, 'epoch': 1.0}\n",
      "{'eval_loss': 0.5973737239837646, 'eval_accuracy': 0.75, 'eval_f1': 0.8571428571428571, 'eval_precision': 0.75, 'eval_recall': 1.0, 'eval_runtime': 0.1602, 'eval_samples_per_second': 24.962, 'eval_steps_per_second': 6.241, 'epoch': 2.0}\n",
      "{'eval_loss': 0.5809913873672485, 'eval_accuracy': 0.75, 'eval_f1': 0.8571428571428571, 'eval_precision': 0.75, 'eval_recall': 1.0, 'eval_runtime': 0.1645, 'eval_samples_per_second': 24.321, 'eval_steps_per_second': 6.08, 'epoch': 3.0}\n",
      "{'eval_loss': 0.5706949234008789, 'eval_accuracy': 0.75, 'eval_f1': 0.8571428571428571, 'eval_precision': 0.75, 'eval_recall': 1.0, 'eval_runtime': 0.1598, 'eval_samples_per_second': 25.027, 'eval_steps_per_second': 6.257, 'epoch': 4.0}\n",
      "{'eval_loss': 0.5661813616752625, 'eval_accuracy': 0.75, 'eval_f1': 0.8571428571428571, 'eval_precision': 0.75, 'eval_recall': 1.0, 'eval_runtime': 0.1591, 'eval_samples_per_second': 25.148, 'eval_steps_per_second': 6.287, 'epoch': 5.0}\n",
      "{'train_runtime': 31.5931, 'train_samples_per_second': 2.532, 'train_steps_per_second': 0.317, 'train_loss': 0.5572649002075195, 'epoch': 5.0}\n",
      "{'eval_loss': 0.5661813616752625, 'eval_model_preparation_time': 0.0004, 'eval_accuracy': 0.75, 'eval_f1': 0.8571428571428571, 'eval_precision': 0.75, 'eval_recall': 1.0, 'eval_runtime': 0.1753, 'eval_samples_per_second': 22.815, 'eval_steps_per_second': 5.704}\n",
      " ↪ Fold 5/5\n"
     ]
    },
    {
     "data": {
      "application/vnd.jupyter.widget-view+json": {
       "model_id": "6d2b856c7f234a318d1946c14091fa91",
       "version_major": 2,
       "version_minor": 0
      },
      "text/plain": [
       "Map:   0%|          | 0/16 [00:00<?, ? examples/s]"
      ]
     },
     "metadata": {},
     "output_type": "display_data"
    },
    {
     "data": {
      "application/vnd.jupyter.widget-view+json": {
       "model_id": "27ea66fb59764dbfbd055de930b4e1c8",
       "version_major": 2,
       "version_minor": 0
      },
      "text/plain": [
       "Map:   0%|          | 0/4 [00:00<?, ? examples/s]"
      ]
     },
     "metadata": {},
     "output_type": "display_data"
    },
    {
     "name": "stderr",
     "output_type": "stream",
     "text": [
      "/Users/gchhetri/Developer/Python/15min-city-bench/.venv/lib/python3.12/site-packages/transformers/training_args.py:1604: FutureWarning: using `no_cuda` is deprecated and will be removed in version 5.0 of 🤗 Transformers. Use `use_cpu` instead\n",
      "  warnings.warn(\n"
     ]
    },
    {
     "name": "stdout",
     "output_type": "stream",
     "text": [
      "{'eval_loss': 0.614187479019165, 'eval_accuracy': 0.75, 'eval_f1': 0.8571428571428571, 'eval_precision': 0.75, 'eval_recall': 1.0, 'eval_runtime': 0.181, 'eval_samples_per_second': 22.097, 'eval_steps_per_second': 5.524, 'epoch': 1.0}\n",
      "{'eval_loss': 0.5890219807624817, 'eval_accuracy': 0.75, 'eval_f1': 0.8571428571428571, 'eval_precision': 0.75, 'eval_recall': 1.0, 'eval_runtime': 0.1671, 'eval_samples_per_second': 23.939, 'eval_steps_per_second': 5.985, 'epoch': 2.0}\n",
      "{'eval_loss': 0.572587788105011, 'eval_accuracy': 0.75, 'eval_f1': 0.8571428571428571, 'eval_precision': 0.75, 'eval_recall': 1.0, 'eval_runtime': 0.1808, 'eval_samples_per_second': 22.122, 'eval_steps_per_second': 5.531, 'epoch': 3.0}\n",
      "{'eval_loss': 0.5632528066635132, 'eval_accuracy': 0.75, 'eval_f1': 0.8571428571428571, 'eval_precision': 0.75, 'eval_recall': 1.0, 'eval_runtime': 0.1674, 'eval_samples_per_second': 23.888, 'eval_steps_per_second': 5.972, 'epoch': 4.0}\n",
      "{'eval_loss': 0.5597004890441895, 'eval_accuracy': 0.75, 'eval_f1': 0.8571428571428571, 'eval_precision': 0.75, 'eval_recall': 1.0, 'eval_runtime': 0.1768, 'eval_samples_per_second': 22.63, 'eval_steps_per_second': 5.657, 'epoch': 5.0}\n",
      "{'train_runtime': 28.0646, 'train_samples_per_second': 2.851, 'train_steps_per_second': 0.356, 'train_loss': 0.5567496299743653, 'epoch': 5.0}\n",
      "{'eval_loss': 0.5597004890441895, 'eval_model_preparation_time': 0.0005, 'eval_accuracy': 0.75, 'eval_f1': 0.8571428571428571, 'eval_precision': 0.75, 'eval_recall': 1.0, 'eval_runtime': 0.1587, 'eval_samples_per_second': 25.207, 'eval_steps_per_second': 6.302}\n",
      "\n",
      "🔍 Model: distilbert-base-uncased\n",
      " ↪ Fold 1/5\n"
     ]
    },
    {
     "name": "stderr",
     "output_type": "stream",
     "text": [
      "/Users/gchhetri/Developer/Python/15min-city-bench/.venv/lib/python3.12/site-packages/sklearn/model_selection/_split.py:811: UserWarning: The least populated class in y has only 4 members, which is less than n_splits=5.\n",
      "  warnings.warn(\n"
     ]
    },
    {
     "data": {
      "application/vnd.jupyter.widget-view+json": {
       "model_id": "f4b7d74df3704e7890c4a903b249b4f3",
       "version_major": 2,
       "version_minor": 0
      },
      "text/plain": [
       "Map:   0%|          | 0/16 [00:00<?, ? examples/s]"
      ]
     },
     "metadata": {},
     "output_type": "display_data"
    },
    {
     "data": {
      "application/vnd.jupyter.widget-view+json": {
       "model_id": "c4c8dd6033434d06b99909dd58ba7ded",
       "version_major": 2,
       "version_minor": 0
      },
      "text/plain": [
       "Map:   0%|          | 0/4 [00:00<?, ? examples/s]"
      ]
     },
     "metadata": {},
     "output_type": "display_data"
    },
    {
     "name": "stderr",
     "output_type": "stream",
     "text": [
      "/Users/gchhetri/Developer/Python/15min-city-bench/.venv/lib/python3.12/site-packages/transformers/training_args.py:1604: FutureWarning: using `no_cuda` is deprecated and will be removed in version 5.0 of 🤗 Transformers. Use `use_cpu` instead\n",
      "  warnings.warn(\n"
     ]
    },
    {
     "name": "stdout",
     "output_type": "stream",
     "text": [
      "{'eval_loss': 0.6235290765762329, 'eval_accuracy': 1.0, 'eval_f1': 1.0, 'eval_precision': 1.0, 'eval_recall': 1.0, 'eval_runtime': 0.1102, 'eval_samples_per_second': 36.301, 'eval_steps_per_second': 9.075, 'epoch': 1.0}\n",
      "{'eval_loss': 0.5353173613548279, 'eval_accuracy': 1.0, 'eval_f1': 1.0, 'eval_precision': 1.0, 'eval_recall': 1.0, 'eval_runtime': 0.0983, 'eval_samples_per_second': 40.692, 'eval_steps_per_second': 10.173, 'epoch': 2.0}\n",
      "{'eval_loss': 0.4860836863517761, 'eval_accuracy': 1.0, 'eval_f1': 1.0, 'eval_precision': 1.0, 'eval_recall': 1.0, 'eval_runtime': 0.1069, 'eval_samples_per_second': 37.425, 'eval_steps_per_second': 9.356, 'epoch': 3.0}\n",
      "{'eval_loss': 0.44753125309944153, 'eval_accuracy': 1.0, 'eval_f1': 1.0, 'eval_precision': 1.0, 'eval_recall': 1.0, 'eval_runtime': 0.1104, 'eval_samples_per_second': 36.216, 'eval_steps_per_second': 9.054, 'epoch': 4.0}\n",
      "{'eval_loss': 0.43188953399658203, 'eval_accuracy': 1.0, 'eval_f1': 1.0, 'eval_precision': 1.0, 'eval_recall': 1.0, 'eval_runtime': 0.1269, 'eval_samples_per_second': 31.527, 'eval_steps_per_second': 7.882, 'epoch': 5.0}\n",
      "{'train_runtime': 29.2801, 'train_samples_per_second': 2.732, 'train_steps_per_second': 0.342, 'train_loss': 0.6112353324890136, 'epoch': 5.0}\n",
      "{'eval_loss': 0.43188953399658203, 'eval_model_preparation_time': 0.0004, 'eval_accuracy': 1.0, 'eval_f1': 1.0, 'eval_precision': 1.0, 'eval_recall': 1.0, 'eval_runtime': 0.1195, 'eval_samples_per_second': 33.468, 'eval_steps_per_second': 8.367}\n",
      " ↪ Fold 2/5\n"
     ]
    },
    {
     "name": "stderr",
     "output_type": "stream",
     "text": [
      "/Users/gchhetri/Developer/Python/15min-city-bench/.venv/lib/python3.12/site-packages/sklearn/metrics/_ranking.py:1192: UndefinedMetricWarning: No negative samples in y_true, false positive value should be meaningless\n",
      "  warnings.warn(\n"
     ]
    },
    {
     "data": {
      "application/vnd.jupyter.widget-view+json": {
       "model_id": "21aad4f3ae3e4ffead4052ea781798b9",
       "version_major": 2,
       "version_minor": 0
      },
      "text/plain": [
       "Map:   0%|          | 0/16 [00:00<?, ? examples/s]"
      ]
     },
     "metadata": {},
     "output_type": "display_data"
    },
    {
     "data": {
      "application/vnd.jupyter.widget-view+json": {
       "model_id": "10d1d83ac5364a50baf7a9f387952174",
       "version_major": 2,
       "version_minor": 0
      },
      "text/plain": [
       "Map:   0%|          | 0/4 [00:00<?, ? examples/s]"
      ]
     },
     "metadata": {},
     "output_type": "display_data"
    },
    {
     "name": "stderr",
     "output_type": "stream",
     "text": [
      "/Users/gchhetri/Developer/Python/15min-city-bench/.venv/lib/python3.12/site-packages/transformers/training_args.py:1604: FutureWarning: using `no_cuda` is deprecated and will be removed in version 5.0 of 🤗 Transformers. Use `use_cpu` instead\n",
      "  warnings.warn(\n"
     ]
    },
    {
     "name": "stdout",
     "output_type": "stream",
     "text": [
      "{'eval_loss': 0.6594066619873047, 'eval_accuracy': 0.75, 'eval_f1': 0.8571428571428571, 'eval_precision': 0.75, 'eval_recall': 1.0, 'eval_runtime': 0.1606, 'eval_samples_per_second': 24.905, 'eval_steps_per_second': 6.226, 'epoch': 1.0}\n",
      "{'eval_loss': 0.6290724277496338, 'eval_accuracy': 0.75, 'eval_f1': 0.8571428571428571, 'eval_precision': 0.75, 'eval_recall': 1.0, 'eval_runtime': 0.1648, 'eval_samples_per_second': 24.274, 'eval_steps_per_second': 6.068, 'epoch': 2.0}\n",
      "{'eval_loss': 0.6164340376853943, 'eval_accuracy': 0.75, 'eval_f1': 0.8571428571428571, 'eval_precision': 0.75, 'eval_recall': 1.0, 'eval_runtime': 0.1513, 'eval_samples_per_second': 26.43, 'eval_steps_per_second': 6.608, 'epoch': 3.0}\n",
      "{'eval_loss': 0.6124850511550903, 'eval_accuracy': 0.75, 'eval_f1': 0.8571428571428571, 'eval_precision': 0.75, 'eval_recall': 1.0, 'eval_runtime': 0.2016, 'eval_samples_per_second': 19.84, 'eval_steps_per_second': 4.96, 'epoch': 4.0}\n",
      "{'eval_loss': 0.6115872859954834, 'eval_accuracy': 0.75, 'eval_f1': 0.8571428571428571, 'eval_precision': 0.75, 'eval_recall': 1.0, 'eval_runtime': 0.1513, 'eval_samples_per_second': 26.431, 'eval_steps_per_second': 6.608, 'epoch': 5.0}\n",
      "{'train_runtime': 27.537, 'train_samples_per_second': 2.905, 'train_steps_per_second': 0.363, 'train_loss': 0.5517190933227539, 'epoch': 5.0}\n",
      "{'eval_loss': 0.6115872859954834, 'eval_model_preparation_time': 0.0003, 'eval_accuracy': 0.75, 'eval_f1': 0.8571428571428571, 'eval_precision': 0.75, 'eval_recall': 1.0, 'eval_runtime': 0.1393, 'eval_samples_per_second': 28.71, 'eval_steps_per_second': 7.178}\n",
      " ↪ Fold 3/5\n"
     ]
    },
    {
     "data": {
      "application/vnd.jupyter.widget-view+json": {
       "model_id": "16dc69aa75374470848bfc039dc3dfcc",
       "version_major": 2,
       "version_minor": 0
      },
      "text/plain": [
       "Map:   0%|          | 0/16 [00:00<?, ? examples/s]"
      ]
     },
     "metadata": {},
     "output_type": "display_data"
    },
    {
     "data": {
      "application/vnd.jupyter.widget-view+json": {
       "model_id": "98c7ab4156514b12ac12855fcac9d3fc",
       "version_major": 2,
       "version_minor": 0
      },
      "text/plain": [
       "Map:   0%|          | 0/4 [00:00<?, ? examples/s]"
      ]
     },
     "metadata": {},
     "output_type": "display_data"
    },
    {
     "name": "stderr",
     "output_type": "stream",
     "text": [
      "/Users/gchhetri/Developer/Python/15min-city-bench/.venv/lib/python3.12/site-packages/transformers/training_args.py:1604: FutureWarning: using `no_cuda` is deprecated and will be removed in version 5.0 of 🤗 Transformers. Use `use_cpu` instead\n",
      "  warnings.warn(\n"
     ]
    },
    {
     "name": "stdout",
     "output_type": "stream",
     "text": [
      "{'eval_loss': 0.6155502200126648, 'eval_accuracy': 0.75, 'eval_f1': 0.8571428571428571, 'eval_precision': 0.75, 'eval_recall': 1.0, 'eval_runtime': 0.1372, 'eval_samples_per_second': 29.148, 'eval_steps_per_second': 7.287, 'epoch': 1.0}\n",
      "{'eval_loss': 0.5507047176361084, 'eval_accuracy': 0.75, 'eval_f1': 0.8571428571428571, 'eval_precision': 0.75, 'eval_recall': 1.0, 'eval_runtime': 0.1473, 'eval_samples_per_second': 27.153, 'eval_steps_per_second': 6.788, 'epoch': 2.0}\n",
      "{'eval_loss': 0.5077622532844543, 'eval_accuracy': 0.75, 'eval_f1': 0.8571428571428571, 'eval_precision': 0.75, 'eval_recall': 1.0, 'eval_runtime': 0.1229, 'eval_samples_per_second': 32.557, 'eval_steps_per_second': 8.139, 'epoch': 3.0}\n",
      "{'eval_loss': 0.47948044538497925, 'eval_accuracy': 0.75, 'eval_f1': 0.8571428571428571, 'eval_precision': 0.75, 'eval_recall': 1.0, 'eval_runtime': 0.1315, 'eval_samples_per_second': 30.426, 'eval_steps_per_second': 7.607, 'epoch': 4.0}\n",
      "{'eval_loss': 0.46697181463241577, 'eval_accuracy': 0.75, 'eval_f1': 0.8571428571428571, 'eval_precision': 0.75, 'eval_recall': 1.0, 'eval_runtime': 0.1396, 'eval_samples_per_second': 28.655, 'eval_steps_per_second': 7.164, 'epoch': 5.0}\n",
      "{'train_runtime': 28.6879, 'train_samples_per_second': 2.789, 'train_steps_per_second': 0.349, 'train_loss': 0.5869999408721924, 'epoch': 5.0}\n",
      "{'eval_loss': 0.46697181463241577, 'eval_model_preparation_time': 0.0004, 'eval_accuracy': 0.75, 'eval_f1': 0.8571428571428571, 'eval_precision': 0.75, 'eval_recall': 1.0, 'eval_runtime': 0.1468, 'eval_samples_per_second': 27.245, 'eval_steps_per_second': 6.811}\n",
      " ↪ Fold 4/5\n"
     ]
    },
    {
     "data": {
      "application/vnd.jupyter.widget-view+json": {
       "model_id": "a1e6df6bb16a436091892745e98cb588",
       "version_major": 2,
       "version_minor": 0
      },
      "text/plain": [
       "Map:   0%|          | 0/16 [00:00<?, ? examples/s]"
      ]
     },
     "metadata": {},
     "output_type": "display_data"
    },
    {
     "data": {
      "application/vnd.jupyter.widget-view+json": {
       "model_id": "aa8619c12ae34ceb882d904fb0b574d6",
       "version_major": 2,
       "version_minor": 0
      },
      "text/plain": [
       "Map:   0%|          | 0/4 [00:00<?, ? examples/s]"
      ]
     },
     "metadata": {},
     "output_type": "display_data"
    },
    {
     "name": "stderr",
     "output_type": "stream",
     "text": [
      "/Users/gchhetri/Developer/Python/15min-city-bench/.venv/lib/python3.12/site-packages/transformers/training_args.py:1604: FutureWarning: using `no_cuda` is deprecated and will be removed in version 5.0 of 🤗 Transformers. Use `use_cpu` instead\n",
      "  warnings.warn(\n"
     ]
    },
    {
     "name": "stdout",
     "output_type": "stream",
     "text": [
      "{'eval_loss': 0.6345193386077881, 'eval_accuracy': 0.75, 'eval_f1': 0.8571428571428571, 'eval_precision': 0.75, 'eval_recall': 1.0, 'eval_runtime': 0.1509, 'eval_samples_per_second': 26.513, 'eval_steps_per_second': 6.628, 'epoch': 1.0}\n",
      "{'eval_loss': 0.5912578105926514, 'eval_accuracy': 0.75, 'eval_f1': 0.8571428571428571, 'eval_precision': 0.75, 'eval_recall': 1.0, 'eval_runtime': 0.1616, 'eval_samples_per_second': 24.748, 'eval_steps_per_second': 6.187, 'epoch': 2.0}\n",
      "{'eval_loss': 0.5692252516746521, 'eval_accuracy': 0.75, 'eval_f1': 0.8571428571428571, 'eval_precision': 0.75, 'eval_recall': 1.0, 'eval_runtime': 0.1632, 'eval_samples_per_second': 24.504, 'eval_steps_per_second': 6.126, 'epoch': 3.0}\n",
      "{'eval_loss': 0.5593551993370056, 'eval_accuracy': 0.75, 'eval_f1': 0.8571428571428571, 'eval_precision': 0.75, 'eval_recall': 1.0, 'eval_runtime': 0.1731, 'eval_samples_per_second': 23.108, 'eval_steps_per_second': 5.777, 'epoch': 4.0}\n",
      "{'eval_loss': 0.5564700365066528, 'eval_accuracy': 0.75, 'eval_f1': 0.8571428571428571, 'eval_precision': 0.75, 'eval_recall': 1.0, 'eval_runtime': 0.1831, 'eval_samples_per_second': 21.851, 'eval_steps_per_second': 5.463, 'epoch': 5.0}\n",
      "{'train_runtime': 28.3727, 'train_samples_per_second': 2.82, 'train_steps_per_second': 0.352, 'train_loss': 0.5671175956726074, 'epoch': 5.0}\n",
      "{'eval_loss': 0.5564700365066528, 'eval_model_preparation_time': 0.0004, 'eval_accuracy': 0.75, 'eval_f1': 0.8571428571428571, 'eval_precision': 0.75, 'eval_recall': 1.0, 'eval_runtime': 0.1524, 'eval_samples_per_second': 26.247, 'eval_steps_per_second': 6.562}\n",
      " ↪ Fold 5/5\n"
     ]
    },
    {
     "data": {
      "application/vnd.jupyter.widget-view+json": {
       "model_id": "cc07e2e9dfe34b2eb614769cfd979f9e",
       "version_major": 2,
       "version_minor": 0
      },
      "text/plain": [
       "Map:   0%|          | 0/16 [00:00<?, ? examples/s]"
      ]
     },
     "metadata": {},
     "output_type": "display_data"
    },
    {
     "data": {
      "application/vnd.jupyter.widget-view+json": {
       "model_id": "b721a05002eb42cbbdcb4be57e58dba3",
       "version_major": 2,
       "version_minor": 0
      },
      "text/plain": [
       "Map:   0%|          | 0/4 [00:00<?, ? examples/s]"
      ]
     },
     "metadata": {},
     "output_type": "display_data"
    },
    {
     "name": "stderr",
     "output_type": "stream",
     "text": [
      "/Users/gchhetri/Developer/Python/15min-city-bench/.venv/lib/python3.12/site-packages/transformers/training_args.py:1604: FutureWarning: using `no_cuda` is deprecated and will be removed in version 5.0 of 🤗 Transformers. Use `use_cpu` instead\n",
      "  warnings.warn(\n"
     ]
    },
    {
     "name": "stdout",
     "output_type": "stream",
     "text": [
      "{'eval_loss': 0.6341328620910645, 'eval_accuracy': 0.75, 'eval_f1': 0.8571428571428571, 'eval_precision': 0.75, 'eval_recall': 1.0, 'eval_runtime': 0.2009, 'eval_samples_per_second': 19.908, 'eval_steps_per_second': 4.977, 'epoch': 1.0}\n",
      "{'eval_loss': 0.5932652354240417, 'eval_accuracy': 0.75, 'eval_f1': 0.8571428571428571, 'eval_precision': 0.75, 'eval_recall': 1.0, 'eval_runtime': 0.1881, 'eval_samples_per_second': 21.263, 'eval_steps_per_second': 5.316, 'epoch': 2.0}\n",
      "{'eval_loss': 0.5782069563865662, 'eval_accuracy': 0.75, 'eval_f1': 0.8571428571428571, 'eval_precision': 0.75, 'eval_recall': 1.0, 'eval_runtime': 0.2181, 'eval_samples_per_second': 18.337, 'eval_steps_per_second': 4.584, 'epoch': 3.0}\n",
      "{'eval_loss': 0.574523389339447, 'eval_accuracy': 0.75, 'eval_f1': 0.8571428571428571, 'eval_precision': 0.75, 'eval_recall': 1.0, 'eval_runtime': 0.1845, 'eval_samples_per_second': 21.68, 'eval_steps_per_second': 5.42, 'epoch': 4.0}\n",
      "{'eval_loss': 0.57354336977005, 'eval_accuracy': 0.75, 'eval_f1': 0.8571428571428571, 'eval_precision': 0.75, 'eval_recall': 1.0, 'eval_runtime': 0.2255, 'eval_samples_per_second': 17.739, 'eval_steps_per_second': 4.435, 'epoch': 5.0}\n",
      "{'train_runtime': 30.1341, 'train_samples_per_second': 2.655, 'train_steps_per_second': 0.332, 'train_loss': 0.553826379776001, 'epoch': 5.0}\n",
      "{'eval_loss': 0.57354336977005, 'eval_model_preparation_time': 0.0004, 'eval_accuracy': 0.75, 'eval_f1': 0.8571428571428571, 'eval_precision': 0.75, 'eval_recall': 1.0, 'eval_runtime': 0.1618, 'eval_samples_per_second': 24.729, 'eval_steps_per_second': 6.182}\n",
      "\n",
      "🔍 Model: nreimers/MiniLM-L6-H384-uncased\n",
      " ↪ Fold 1/5\n"
     ]
    },
    {
     "name": "stderr",
     "output_type": "stream",
     "text": [
      "/Users/gchhetri/Developer/Python/15min-city-bench/.venv/lib/python3.12/site-packages/sklearn/model_selection/_split.py:811: UserWarning: The least populated class in y has only 4 members, which is less than n_splits=5.\n",
      "  warnings.warn(\n"
     ]
    },
    {
     "data": {
      "application/vnd.jupyter.widget-view+json": {
       "model_id": "3078e486f1404af99d83d8f0d16352d1",
       "version_major": 2,
       "version_minor": 0
      },
      "text/plain": [
       "Map:   0%|          | 0/16 [00:00<?, ? examples/s]"
      ]
     },
     "metadata": {},
     "output_type": "display_data"
    },
    {
     "data": {
      "application/vnd.jupyter.widget-view+json": {
       "model_id": "392b71afad60475a8a4229f9cc319413",
       "version_major": 2,
       "version_minor": 0
      },
      "text/plain": [
       "Map:   0%|          | 0/4 [00:00<?, ? examples/s]"
      ]
     },
     "metadata": {},
     "output_type": "display_data"
    },
    {
     "name": "stderr",
     "output_type": "stream",
     "text": [
      "/Users/gchhetri/Developer/Python/15min-city-bench/.venv/lib/python3.12/site-packages/transformers/training_args.py:1604: FutureWarning: using `no_cuda` is deprecated and will be removed in version 5.0 of 🤗 Transformers. Use `use_cpu` instead\n",
      "  warnings.warn(\n"
     ]
    },
    {
     "name": "stdout",
     "output_type": "stream",
     "text": [
      "{'eval_loss': 0.6455641984939575, 'eval_accuracy': 1.0, 'eval_f1': 1.0, 'eval_precision': 1.0, 'eval_recall': 1.0, 'eval_runtime': 0.0656, 'eval_samples_per_second': 60.977, 'eval_steps_per_second': 15.244, 'epoch': 1.0}\n",
      "{'eval_loss': 0.6311683058738708, 'eval_accuracy': 1.0, 'eval_f1': 1.0, 'eval_precision': 1.0, 'eval_recall': 1.0, 'eval_runtime': 0.0607, 'eval_samples_per_second': 65.87, 'eval_steps_per_second': 16.467, 'epoch': 2.0}\n",
      "{'eval_loss': 0.6224883794784546, 'eval_accuracy': 1.0, 'eval_f1': 1.0, 'eval_precision': 1.0, 'eval_recall': 1.0, 'eval_runtime': 0.0599, 'eval_samples_per_second': 66.747, 'eval_steps_per_second': 16.687, 'epoch': 3.0}\n",
      "{'eval_loss': 0.6159212589263916, 'eval_accuracy': 1.0, 'eval_f1': 1.0, 'eval_precision': 1.0, 'eval_recall': 1.0, 'eval_runtime': 0.0563, 'eval_samples_per_second': 70.998, 'eval_steps_per_second': 17.749, 'epoch': 4.0}\n",
      "{'eval_loss': 0.6130396127700806, 'eval_accuracy': 1.0, 'eval_f1': 1.0, 'eval_precision': 1.0, 'eval_recall': 1.0, 'eval_runtime': 0.0723, 'eval_samples_per_second': 55.289, 'eval_steps_per_second': 13.822, 'epoch': 5.0}\n",
      "{'train_runtime': 17.2532, 'train_samples_per_second': 4.637, 'train_steps_per_second': 0.58, 'train_loss': 0.6640410423278809, 'epoch': 5.0}\n",
      "{'eval_loss': 0.6130396127700806, 'eval_model_preparation_time': 0.0006, 'eval_accuracy': 1.0, 'eval_f1': 1.0, 'eval_precision': 1.0, 'eval_recall': 1.0, 'eval_runtime': 0.0762, 'eval_samples_per_second': 52.518, 'eval_steps_per_second': 13.129}\n"
     ]
    },
    {
     "name": "stderr",
     "output_type": "stream",
     "text": [
      "/Users/gchhetri/Developer/Python/15min-city-bench/.venv/lib/python3.12/site-packages/sklearn/metrics/_ranking.py:1192: UndefinedMetricWarning: No negative samples in y_true, false positive value should be meaningless\n",
      "  warnings.warn(\n"
     ]
    },
    {
     "name": "stdout",
     "output_type": "stream",
     "text": [
      " ↪ Fold 2/5\n"
     ]
    },
    {
     "data": {
      "application/vnd.jupyter.widget-view+json": {
       "model_id": "449d57f17673468f873710c31a0d327c",
       "version_major": 2,
       "version_minor": 0
      },
      "text/plain": [
       "Map:   0%|          | 0/16 [00:00<?, ? examples/s]"
      ]
     },
     "metadata": {},
     "output_type": "display_data"
    },
    {
     "data": {
      "application/vnd.jupyter.widget-view+json": {
       "model_id": "1f2979eba2374049aef15c15130cb9b1",
       "version_major": 2,
       "version_minor": 0
      },
      "text/plain": [
       "Map:   0%|          | 0/4 [00:00<?, ? examples/s]"
      ]
     },
     "metadata": {},
     "output_type": "display_data"
    },
    {
     "name": "stderr",
     "output_type": "stream",
     "text": [
      "/Users/gchhetri/Developer/Python/15min-city-bench/.venv/lib/python3.12/site-packages/transformers/training_args.py:1604: FutureWarning: using `no_cuda` is deprecated and will be removed in version 5.0 of 🤗 Transformers. Use `use_cpu` instead\n",
      "  warnings.warn(\n"
     ]
    },
    {
     "name": "stdout",
     "output_type": "stream",
     "text": [
      "{'eval_loss': 0.6681438684463501, 'eval_accuracy': 0.75, 'eval_f1': 0.8571428571428571, 'eval_precision': 0.75, 'eval_recall': 1.0, 'eval_runtime': 0.09, 'eval_samples_per_second': 44.455, 'eval_steps_per_second': 11.114, 'epoch': 1.0}\n",
      "{'eval_loss': 0.6609697341918945, 'eval_accuracy': 0.75, 'eval_f1': 0.8571428571428571, 'eval_precision': 0.75, 'eval_recall': 1.0, 'eval_runtime': 0.087, 'eval_samples_per_second': 45.964, 'eval_steps_per_second': 11.491, 'epoch': 2.0}\n",
      "{'eval_loss': 0.6556004285812378, 'eval_accuracy': 0.75, 'eval_f1': 0.8571428571428571, 'eval_precision': 0.75, 'eval_recall': 1.0, 'eval_runtime': 0.0901, 'eval_samples_per_second': 44.416, 'eval_steps_per_second': 11.104, 'epoch': 3.0}\n",
      "{'eval_loss': 0.6520875692367554, 'eval_accuracy': 0.75, 'eval_f1': 0.8571428571428571, 'eval_precision': 0.75, 'eval_recall': 1.0, 'eval_runtime': 0.1137, 'eval_samples_per_second': 35.182, 'eval_steps_per_second': 8.796, 'epoch': 4.0}\n",
      "{'eval_loss': 0.6505592465400696, 'eval_accuracy': 0.75, 'eval_f1': 0.8571428571428571, 'eval_precision': 0.75, 'eval_recall': 1.0, 'eval_runtime': 0.132, 'eval_samples_per_second': 30.303, 'eval_steps_per_second': 7.576, 'epoch': 5.0}\n",
      "{'train_runtime': 17.1643, 'train_samples_per_second': 4.661, 'train_steps_per_second': 0.583, 'train_loss': 0.652510690689087, 'epoch': 5.0}\n",
      "{'eval_loss': 0.6505592465400696, 'eval_model_preparation_time': 0.0006, 'eval_accuracy': 0.75, 'eval_f1': 0.8571428571428571, 'eval_precision': 0.75, 'eval_recall': 1.0, 'eval_runtime': 0.1239, 'eval_samples_per_second': 32.294, 'eval_steps_per_second': 8.074}\n",
      " ↪ Fold 3/5\n"
     ]
    },
    {
     "data": {
      "application/vnd.jupyter.widget-view+json": {
       "model_id": "ee2a513b5bc64ffbbf883044a89c3985",
       "version_major": 2,
       "version_minor": 0
      },
      "text/plain": [
       "Map:   0%|          | 0/16 [00:00<?, ? examples/s]"
      ]
     },
     "metadata": {},
     "output_type": "display_data"
    },
    {
     "data": {
      "application/vnd.jupyter.widget-view+json": {
       "model_id": "0f84c220ee9a4deaaa1eb84270a0ab28",
       "version_major": 2,
       "version_minor": 0
      },
      "text/plain": [
       "Map:   0%|          | 0/4 [00:00<?, ? examples/s]"
      ]
     },
     "metadata": {},
     "output_type": "display_data"
    },
    {
     "name": "stderr",
     "output_type": "stream",
     "text": [
      "/Users/gchhetri/Developer/Python/15min-city-bench/.venv/lib/python3.12/site-packages/transformers/training_args.py:1604: FutureWarning: using `no_cuda` is deprecated and will be removed in version 5.0 of 🤗 Transformers. Use `use_cpu` instead\n",
      "  warnings.warn(\n"
     ]
    },
    {
     "name": "stdout",
     "output_type": "stream",
     "text": [
      "{'eval_loss': 0.6695309281349182, 'eval_accuracy': 0.75, 'eval_f1': 0.8571428571428571, 'eval_precision': 0.75, 'eval_recall': 1.0, 'eval_runtime': 0.082, 'eval_samples_per_second': 48.809, 'eval_steps_per_second': 12.202, 'epoch': 1.0}\n",
      "{'eval_loss': 0.6611194610595703, 'eval_accuracy': 0.75, 'eval_f1': 0.8571428571428571, 'eval_precision': 0.75, 'eval_recall': 1.0, 'eval_runtime': 0.0731, 'eval_samples_per_second': 54.695, 'eval_steps_per_second': 13.674, 'epoch': 2.0}\n",
      "{'eval_loss': 0.6546191573143005, 'eval_accuracy': 0.75, 'eval_f1': 0.8571428571428571, 'eval_precision': 0.75, 'eval_recall': 1.0, 'eval_runtime': 0.0892, 'eval_samples_per_second': 44.838, 'eval_steps_per_second': 11.21, 'epoch': 3.0}\n",
      "{'eval_loss': 0.6501821875572205, 'eval_accuracy': 0.75, 'eval_f1': 0.8571428571428571, 'eval_precision': 0.75, 'eval_recall': 1.0, 'eval_runtime': 0.0811, 'eval_samples_per_second': 49.297, 'eval_steps_per_second': 12.324, 'epoch': 4.0}\n",
      "{'eval_loss': 0.6481719613075256, 'eval_accuracy': 0.75, 'eval_f1': 0.8571428571428571, 'eval_precision': 0.75, 'eval_recall': 1.0, 'eval_runtime': 0.0764, 'eval_samples_per_second': 52.343, 'eval_steps_per_second': 13.086, 'epoch': 5.0}\n",
      "{'train_runtime': 17.3484, 'train_samples_per_second': 4.611, 'train_steps_per_second': 0.576, 'train_loss': 0.6543858051300049, 'epoch': 5.0}\n",
      "{'eval_loss': 0.6481719613075256, 'eval_model_preparation_time': 0.0005, 'eval_accuracy': 0.75, 'eval_f1': 0.8571428571428571, 'eval_precision': 0.75, 'eval_recall': 1.0, 'eval_runtime': 0.0724, 'eval_samples_per_second': 55.22, 'eval_steps_per_second': 13.805}\n",
      " ↪ Fold 4/5\n"
     ]
    },
    {
     "data": {
      "application/vnd.jupyter.widget-view+json": {
       "model_id": "c8c587b7a85145b6a2fc9ff853287616",
       "version_major": 2,
       "version_minor": 0
      },
      "text/plain": [
       "Map:   0%|          | 0/16 [00:00<?, ? examples/s]"
      ]
     },
     "metadata": {},
     "output_type": "display_data"
    },
    {
     "data": {
      "application/vnd.jupyter.widget-view+json": {
       "model_id": "e455047cc5f2495da52311757ff9c72b",
       "version_major": 2,
       "version_minor": 0
      },
      "text/plain": [
       "Map:   0%|          | 0/4 [00:00<?, ? examples/s]"
      ]
     },
     "metadata": {},
     "output_type": "display_data"
    },
    {
     "name": "stderr",
     "output_type": "stream",
     "text": [
      "/Users/gchhetri/Developer/Python/15min-city-bench/.venv/lib/python3.12/site-packages/transformers/training_args.py:1604: FutureWarning: using `no_cuda` is deprecated and will be removed in version 5.0 of 🤗 Transformers. Use `use_cpu` instead\n",
      "  warnings.warn(\n"
     ]
    },
    {
     "name": "stdout",
     "output_type": "stream",
     "text": [
      "{'eval_loss': 0.6683667898178101, 'eval_accuracy': 0.75, 'eval_f1': 0.8571428571428571, 'eval_precision': 0.75, 'eval_recall': 1.0, 'eval_runtime': 0.1123, 'eval_samples_per_second': 35.608, 'eval_steps_per_second': 8.902, 'epoch': 1.0}\n",
      "{'eval_loss': 0.6605175137519836, 'eval_accuracy': 0.75, 'eval_f1': 0.8571428571428571, 'eval_precision': 0.75, 'eval_recall': 1.0, 'eval_runtime': 0.0919, 'eval_samples_per_second': 43.542, 'eval_steps_per_second': 10.885, 'epoch': 2.0}\n",
      "{'eval_loss': 0.6547857522964478, 'eval_accuracy': 0.75, 'eval_f1': 0.8571428571428571, 'eval_precision': 0.75, 'eval_recall': 1.0, 'eval_runtime': 0.0993, 'eval_samples_per_second': 40.291, 'eval_steps_per_second': 10.073, 'epoch': 3.0}\n",
      "{'eval_loss': 0.6510190367698669, 'eval_accuracy': 0.75, 'eval_f1': 0.8571428571428571, 'eval_precision': 0.75, 'eval_recall': 1.0, 'eval_runtime': 0.0884, 'eval_samples_per_second': 45.265, 'eval_steps_per_second': 11.316, 'epoch': 4.0}\n",
      "{'eval_loss': 0.6493492722511292, 'eval_accuracy': 0.75, 'eval_f1': 0.8571428571428571, 'eval_precision': 0.75, 'eval_recall': 1.0, 'eval_runtime': 0.096, 'eval_samples_per_second': 41.647, 'eval_steps_per_second': 10.412, 'epoch': 5.0}\n",
      "{'train_runtime': 17.2678, 'train_samples_per_second': 4.633, 'train_steps_per_second': 0.579, 'train_loss': 0.6525763034820556, 'epoch': 5.0}\n",
      "{'eval_loss': 0.6493492722511292, 'eval_model_preparation_time': 0.0006, 'eval_accuracy': 0.75, 'eval_f1': 0.8571428571428571, 'eval_precision': 0.75, 'eval_recall': 1.0, 'eval_runtime': 0.0903, 'eval_samples_per_second': 44.303, 'eval_steps_per_second': 11.076}\n",
      " ↪ Fold 5/5\n"
     ]
    },
    {
     "data": {
      "application/vnd.jupyter.widget-view+json": {
       "model_id": "07fd89f906dc4a9e9b9743d327bd9123",
       "version_major": 2,
       "version_minor": 0
      },
      "text/plain": [
       "Map:   0%|          | 0/16 [00:00<?, ? examples/s]"
      ]
     },
     "metadata": {},
     "output_type": "display_data"
    },
    {
     "data": {
      "application/vnd.jupyter.widget-view+json": {
       "model_id": "e4f6c2da238f48b38e82876f2a0095c8",
       "version_major": 2,
       "version_minor": 0
      },
      "text/plain": [
       "Map:   0%|          | 0/4 [00:00<?, ? examples/s]"
      ]
     },
     "metadata": {},
     "output_type": "display_data"
    },
    {
     "name": "stderr",
     "output_type": "stream",
     "text": [
      "/Users/gchhetri/Developer/Python/15min-city-bench/.venv/lib/python3.12/site-packages/transformers/training_args.py:1604: FutureWarning: using `no_cuda` is deprecated and will be removed in version 5.0 of 🤗 Transformers. Use `use_cpu` instead\n",
      "  warnings.warn(\n"
     ]
    },
    {
     "name": "stdout",
     "output_type": "stream",
     "text": [
      "{'eval_loss': 0.6685416102409363, 'eval_accuracy': 0.75, 'eval_f1': 0.8571428571428571, 'eval_precision': 0.75, 'eval_recall': 1.0, 'eval_runtime': 0.0971, 'eval_samples_per_second': 41.194, 'eval_steps_per_second': 10.298, 'epoch': 1.0}\n",
      "{'eval_loss': 0.6605151891708374, 'eval_accuracy': 0.75, 'eval_f1': 0.8571428571428571, 'eval_precision': 0.75, 'eval_recall': 1.0, 'eval_runtime': 0.1109, 'eval_samples_per_second': 36.057, 'eval_steps_per_second': 9.014, 'epoch': 2.0}\n",
      "{'eval_loss': 0.6546041965484619, 'eval_accuracy': 0.75, 'eval_f1': 0.8571428571428571, 'eval_precision': 0.75, 'eval_recall': 1.0, 'eval_runtime': 0.0967, 'eval_samples_per_second': 41.348, 'eval_steps_per_second': 10.337, 'epoch': 3.0}\n",
      "{'eval_loss': 0.6507070064544678, 'eval_accuracy': 0.75, 'eval_f1': 0.8571428571428571, 'eval_precision': 0.75, 'eval_recall': 1.0, 'eval_runtime': 0.1055, 'eval_samples_per_second': 37.913, 'eval_steps_per_second': 9.478, 'epoch': 4.0}\n",
      "{'eval_loss': 0.6490011811256409, 'eval_accuracy': 0.75, 'eval_f1': 0.8571428571428571, 'eval_precision': 0.75, 'eval_recall': 1.0, 'eval_runtime': 0.1146, 'eval_samples_per_second': 34.903, 'eval_steps_per_second': 8.726, 'epoch': 5.0}\n",
      "{'train_runtime': 15.9513, 'train_samples_per_second': 5.015, 'train_steps_per_second': 0.627, 'train_loss': 0.6516755104064942, 'epoch': 5.0}\n",
      "{'eval_loss': 0.6490011811256409, 'eval_model_preparation_time': 0.0005, 'eval_accuracy': 0.75, 'eval_f1': 0.8571428571428571, 'eval_precision': 0.75, 'eval_recall': 1.0, 'eval_runtime': 0.096, 'eval_samples_per_second': 41.646, 'eval_steps_per_second': 10.411}\n",
      "\n",
      "🔍 Model: google/electra-small-discriminator\n",
      " ↪ Fold 1/5\n"
     ]
    },
    {
     "name": "stderr",
     "output_type": "stream",
     "text": [
      "/Users/gchhetri/Developer/Python/15min-city-bench/.venv/lib/python3.12/site-packages/sklearn/model_selection/_split.py:811: UserWarning: The least populated class in y has only 4 members, which is less than n_splits=5.\n",
      "  warnings.warn(\n"
     ]
    },
    {
     "data": {
      "application/vnd.jupyter.widget-view+json": {
       "model_id": "231644353b464929b0fdf83b2cf15665",
       "version_major": 2,
       "version_minor": 0
      },
      "text/plain": [
       "Map:   0%|          | 0/16 [00:00<?, ? examples/s]"
      ]
     },
     "metadata": {},
     "output_type": "display_data"
    },
    {
     "data": {
      "application/vnd.jupyter.widget-view+json": {
       "model_id": "efad591f177046ebae0ea6a5cb4f5cff",
       "version_major": 2,
       "version_minor": 0
      },
      "text/plain": [
       "Map:   0%|          | 0/4 [00:00<?, ? examples/s]"
      ]
     },
     "metadata": {},
     "output_type": "display_data"
    },
    {
     "name": "stderr",
     "output_type": "stream",
     "text": [
      "/Users/gchhetri/Developer/Python/15min-city-bench/.venv/lib/python3.12/site-packages/transformers/training_args.py:1604: FutureWarning: using `no_cuda` is deprecated and will be removed in version 5.0 of 🤗 Transformers. Use `use_cpu` instead\n",
      "  warnings.warn(\n"
     ]
    },
    {
     "name": "stdout",
     "output_type": "stream",
     "text": [
      "{'eval_loss': 0.6409376263618469, 'eval_accuracy': 1.0, 'eval_f1': 1.0, 'eval_precision': 1.0, 'eval_recall': 1.0, 'eval_runtime': 0.1196, 'eval_samples_per_second': 33.448, 'eval_steps_per_second': 8.362, 'epoch': 1.0}\n",
      "{'eval_loss': 0.6187633872032166, 'eval_accuracy': 1.0, 'eval_f1': 1.0, 'eval_precision': 1.0, 'eval_recall': 1.0, 'eval_runtime': 0.1355, 'eval_samples_per_second': 29.523, 'eval_steps_per_second': 7.381, 'epoch': 2.0}\n",
      "{'eval_loss': 0.605980634689331, 'eval_accuracy': 1.0, 'eval_f1': 1.0, 'eval_precision': 1.0, 'eval_recall': 1.0, 'eval_runtime': 0.1118, 'eval_samples_per_second': 35.775, 'eval_steps_per_second': 8.944, 'epoch': 3.0}\n",
      "{'eval_loss': 0.5965158939361572, 'eval_accuracy': 1.0, 'eval_f1': 1.0, 'eval_precision': 1.0, 'eval_recall': 1.0, 'eval_runtime': 0.1213, 'eval_samples_per_second': 32.973, 'eval_steps_per_second': 8.243, 'epoch': 4.0}\n",
      "{'eval_loss': 0.5924912095069885, 'eval_accuracy': 1.0, 'eval_f1': 1.0, 'eval_precision': 1.0, 'eval_recall': 1.0, 'eval_runtime': 0.1147, 'eval_samples_per_second': 34.883, 'eval_steps_per_second': 8.721, 'epoch': 5.0}\n",
      "{'train_runtime': 13.9395, 'train_samples_per_second': 5.739, 'train_steps_per_second': 0.717, 'train_loss': 0.6553839206695556, 'epoch': 5.0}\n",
      "{'eval_loss': 0.5924912095069885, 'eval_model_preparation_time': 0.0011, 'eval_accuracy': 1.0, 'eval_f1': 1.0, 'eval_precision': 1.0, 'eval_recall': 1.0, 'eval_runtime': 0.1313, 'eval_samples_per_second': 30.464, 'eval_steps_per_second': 7.616}\n"
     ]
    },
    {
     "name": "stderr",
     "output_type": "stream",
     "text": [
      "/Users/gchhetri/Developer/Python/15min-city-bench/.venv/lib/python3.12/site-packages/sklearn/metrics/_ranking.py:1192: UndefinedMetricWarning: No negative samples in y_true, false positive value should be meaningless\n",
      "  warnings.warn(\n"
     ]
    },
    {
     "name": "stdout",
     "output_type": "stream",
     "text": [
      " ↪ Fold 2/5\n"
     ]
    },
    {
     "data": {
      "application/vnd.jupyter.widget-view+json": {
       "model_id": "a33e4a748a58442ba751cc8c0ef91279",
       "version_major": 2,
       "version_minor": 0
      },
      "text/plain": [
       "Map:   0%|          | 0/16 [00:00<?, ? examples/s]"
      ]
     },
     "metadata": {},
     "output_type": "display_data"
    },
    {
     "data": {
      "application/vnd.jupyter.widget-view+json": {
       "model_id": "77188d89314347d9872609ac805b4fee",
       "version_major": 2,
       "version_minor": 0
      },
      "text/plain": [
       "Map:   0%|          | 0/4 [00:00<?, ? examples/s]"
      ]
     },
     "metadata": {},
     "output_type": "display_data"
    },
    {
     "name": "stderr",
     "output_type": "stream",
     "text": [
      "/Users/gchhetri/Developer/Python/15min-city-bench/.venv/lib/python3.12/site-packages/transformers/training_args.py:1604: FutureWarning: using `no_cuda` is deprecated and will be removed in version 5.0 of 🤗 Transformers. Use `use_cpu` instead\n",
      "  warnings.warn(\n"
     ]
    },
    {
     "name": "stdout",
     "output_type": "stream",
     "text": [
      "{'eval_loss': 0.6627445220947266, 'eval_accuracy': 0.75, 'eval_f1': 0.8571428571428571, 'eval_precision': 0.75, 'eval_recall': 1.0, 'eval_runtime': 0.1351, 'eval_samples_per_second': 29.609, 'eval_steps_per_second': 7.402, 'epoch': 1.0}\n",
      "{'eval_loss': 0.6511543989181519, 'eval_accuracy': 0.75, 'eval_f1': 0.8571428571428571, 'eval_precision': 0.75, 'eval_recall': 1.0, 'eval_runtime': 0.1587, 'eval_samples_per_second': 25.206, 'eval_steps_per_second': 6.302, 'epoch': 2.0}\n",
      "{'eval_loss': 0.6434566974639893, 'eval_accuracy': 0.75, 'eval_f1': 0.8571428571428571, 'eval_precision': 0.75, 'eval_recall': 1.0, 'eval_runtime': 0.1524, 'eval_samples_per_second': 26.241, 'eval_steps_per_second': 6.56, 'epoch': 3.0}\n",
      "{'eval_loss': 0.6386456489562988, 'eval_accuracy': 0.75, 'eval_f1': 0.8571428571428571, 'eval_precision': 0.75, 'eval_recall': 1.0, 'eval_runtime': 0.162, 'eval_samples_per_second': 24.696, 'eval_steps_per_second': 6.174, 'epoch': 4.0}\n",
      "{'eval_loss': 0.636580228805542, 'eval_accuracy': 0.75, 'eval_f1': 0.8571428571428571, 'eval_precision': 0.75, 'eval_recall': 1.0, 'eval_runtime': 0.1252, 'eval_samples_per_second': 31.948, 'eval_steps_per_second': 7.987, 'epoch': 5.0}\n",
      "{'train_runtime': 13.9493, 'train_samples_per_second': 5.735, 'train_steps_per_second': 0.717, 'train_loss': 0.6409882545471192, 'epoch': 5.0}\n",
      "{'eval_loss': 0.636580228805542, 'eval_model_preparation_time': 0.0011, 'eval_accuracy': 0.75, 'eval_f1': 0.8571428571428571, 'eval_precision': 0.75, 'eval_recall': 1.0, 'eval_runtime': 0.1337, 'eval_samples_per_second': 29.928, 'eval_steps_per_second': 7.482}\n",
      " ↪ Fold 3/5\n"
     ]
    },
    {
     "data": {
      "application/vnd.jupyter.widget-view+json": {
       "model_id": "f8932afb48c244baa5b98d6fe9e6e047",
       "version_major": 2,
       "version_minor": 0
      },
      "text/plain": [
       "Map:   0%|          | 0/16 [00:00<?, ? examples/s]"
      ]
     },
     "metadata": {},
     "output_type": "display_data"
    },
    {
     "data": {
      "application/vnd.jupyter.widget-view+json": {
       "model_id": "c7ffb9af64fd400f8002560f1f2d4de3",
       "version_major": 2,
       "version_minor": 0
      },
      "text/plain": [
       "Map:   0%|          | 0/4 [00:00<?, ? examples/s]"
      ]
     },
     "metadata": {},
     "output_type": "display_data"
    },
    {
     "name": "stderr",
     "output_type": "stream",
     "text": [
      "/Users/gchhetri/Developer/Python/15min-city-bench/.venv/lib/python3.12/site-packages/transformers/training_args.py:1604: FutureWarning: using `no_cuda` is deprecated and will be removed in version 5.0 of 🤗 Transformers. Use `use_cpu` instead\n",
      "  warnings.warn(\n"
     ]
    },
    {
     "name": "stdout",
     "output_type": "stream",
     "text": [
      "{'eval_loss': 0.6511027216911316, 'eval_accuracy': 0.75, 'eval_f1': 0.8571428571428571, 'eval_precision': 0.75, 'eval_recall': 1.0, 'eval_runtime': 0.142, 'eval_samples_per_second': 28.177, 'eval_steps_per_second': 7.044, 'epoch': 1.0}\n",
      "{'eval_loss': 0.6339695453643799, 'eval_accuracy': 0.75, 'eval_f1': 0.8571428571428571, 'eval_precision': 0.75, 'eval_recall': 1.0, 'eval_runtime': 0.1106, 'eval_samples_per_second': 36.18, 'eval_steps_per_second': 9.045, 'epoch': 2.0}\n",
      "{'eval_loss': 0.6223067045211792, 'eval_accuracy': 0.75, 'eval_f1': 0.8571428571428571, 'eval_precision': 0.75, 'eval_recall': 1.0, 'eval_runtime': 0.1144, 'eval_samples_per_second': 34.955, 'eval_steps_per_second': 8.739, 'epoch': 3.0}\n",
      "{'eval_loss': 0.6150287985801697, 'eval_accuracy': 0.75, 'eval_f1': 0.8571428571428571, 'eval_precision': 0.75, 'eval_recall': 1.0, 'eval_runtime': 0.1401, 'eval_samples_per_second': 28.542, 'eval_steps_per_second': 7.136, 'epoch': 4.0}\n",
      "{'eval_loss': 0.6119179129600525, 'eval_accuracy': 0.75, 'eval_f1': 0.8571428571428571, 'eval_precision': 0.75, 'eval_recall': 1.0, 'eval_runtime': 0.1291, 'eval_samples_per_second': 30.996, 'eval_steps_per_second': 7.749, 'epoch': 5.0}\n",
      "{'train_runtime': 14.1597, 'train_samples_per_second': 5.65, 'train_steps_per_second': 0.706, 'train_loss': 0.6440452098846435, 'epoch': 5.0}\n",
      "{'eval_loss': 0.6119179129600525, 'eval_model_preparation_time': 0.001, 'eval_accuracy': 0.75, 'eval_f1': 0.8571428571428571, 'eval_precision': 0.75, 'eval_recall': 1.0, 'eval_runtime': 0.1495, 'eval_samples_per_second': 26.764, 'eval_steps_per_second': 6.691}\n",
      " ↪ Fold 4/5\n"
     ]
    },
    {
     "data": {
      "application/vnd.jupyter.widget-view+json": {
       "model_id": "5bbbad65af834607972a3cd925bf55fb",
       "version_major": 2,
       "version_minor": 0
      },
      "text/plain": [
       "Map:   0%|          | 0/16 [00:00<?, ? examples/s]"
      ]
     },
     "metadata": {},
     "output_type": "display_data"
    },
    {
     "data": {
      "application/vnd.jupyter.widget-view+json": {
       "model_id": "eb051dbd06fe4c6b8d6296edab62cca4",
       "version_major": 2,
       "version_minor": 0
      },
      "text/plain": [
       "Map:   0%|          | 0/4 [00:00<?, ? examples/s]"
      ]
     },
     "metadata": {},
     "output_type": "display_data"
    },
    {
     "name": "stderr",
     "output_type": "stream",
     "text": [
      "/Users/gchhetri/Developer/Python/15min-city-bench/.venv/lib/python3.12/site-packages/transformers/training_args.py:1604: FutureWarning: using `no_cuda` is deprecated and will be removed in version 5.0 of 🤗 Transformers. Use `use_cpu` instead\n",
      "  warnings.warn(\n"
     ]
    },
    {
     "name": "stdout",
     "output_type": "stream",
     "text": [
      "{'eval_loss': 0.6658302545547485, 'eval_accuracy': 0.75, 'eval_f1': 0.8571428571428571, 'eval_precision': 0.75, 'eval_recall': 1.0, 'eval_runtime': 0.1662, 'eval_samples_per_second': 24.073, 'eval_steps_per_second': 6.018, 'epoch': 1.0}\n",
      "{'eval_loss': 0.6531170606613159, 'eval_accuracy': 0.75, 'eval_f1': 0.8571428571428571, 'eval_precision': 0.75, 'eval_recall': 1.0, 'eval_runtime': 0.1783, 'eval_samples_per_second': 22.431, 'eval_steps_per_second': 5.608, 'epoch': 2.0}\n",
      "{'eval_loss': 0.6449429988861084, 'eval_accuracy': 0.75, 'eval_f1': 0.8571428571428571, 'eval_precision': 0.75, 'eval_recall': 1.0, 'eval_runtime': 0.1376, 'eval_samples_per_second': 29.067, 'eval_steps_per_second': 7.267, 'epoch': 3.0}\n",
      "{'eval_loss': 0.6401558518409729, 'eval_accuracy': 0.75, 'eval_f1': 0.8571428571428571, 'eval_precision': 0.75, 'eval_recall': 1.0, 'eval_runtime': 0.1682, 'eval_samples_per_second': 23.776, 'eval_steps_per_second': 5.944, 'epoch': 4.0}\n",
      "{'eval_loss': 0.6381183862686157, 'eval_accuracy': 0.75, 'eval_f1': 0.8571428571428571, 'eval_precision': 0.75, 'eval_recall': 1.0, 'eval_runtime': 0.1757, 'eval_samples_per_second': 22.762, 'eval_steps_per_second': 5.69, 'epoch': 5.0}\n",
      "{'train_runtime': 13.6939, 'train_samples_per_second': 5.842, 'train_steps_per_second': 0.73, 'train_loss': 0.6367579936981201, 'epoch': 5.0}\n",
      "{'eval_loss': 0.6381183862686157, 'eval_model_preparation_time': 0.001, 'eval_accuracy': 0.75, 'eval_f1': 0.8571428571428571, 'eval_precision': 0.75, 'eval_recall': 1.0, 'eval_runtime': 0.1631, 'eval_samples_per_second': 24.519, 'eval_steps_per_second': 6.13}\n",
      " ↪ Fold 5/5\n"
     ]
    },
    {
     "data": {
      "application/vnd.jupyter.widget-view+json": {
       "model_id": "2405831ac91841dda36cc2a3866dd236",
       "version_major": 2,
       "version_minor": 0
      },
      "text/plain": [
       "Map:   0%|          | 0/16 [00:00<?, ? examples/s]"
      ]
     },
     "metadata": {},
     "output_type": "display_data"
    },
    {
     "data": {
      "application/vnd.jupyter.widget-view+json": {
       "model_id": "e2e2cd782269468586d1c2ff1783f693",
       "version_major": 2,
       "version_minor": 0
      },
      "text/plain": [
       "Map:   0%|          | 0/4 [00:00<?, ? examples/s]"
      ]
     },
     "metadata": {},
     "output_type": "display_data"
    },
    {
     "name": "stderr",
     "output_type": "stream",
     "text": [
      "/Users/gchhetri/Developer/Python/15min-city-bench/.venv/lib/python3.12/site-packages/transformers/training_args.py:1604: FutureWarning: using `no_cuda` is deprecated and will be removed in version 5.0 of 🤗 Transformers. Use `use_cpu` instead\n",
      "  warnings.warn(\n"
     ]
    },
    {
     "name": "stdout",
     "output_type": "stream",
     "text": [
      "{'eval_loss': 0.6654702425003052, 'eval_accuracy': 0.75, 'eval_f1': 0.8571428571428571, 'eval_precision': 0.75, 'eval_recall': 1.0, 'eval_runtime': 0.1825, 'eval_samples_per_second': 21.92, 'eval_steps_per_second': 5.48, 'epoch': 1.0}\n",
      "{'eval_loss': 0.6514838933944702, 'eval_accuracy': 0.75, 'eval_f1': 0.8571428571428571, 'eval_precision': 0.75, 'eval_recall': 1.0, 'eval_runtime': 0.219, 'eval_samples_per_second': 18.264, 'eval_steps_per_second': 4.566, 'epoch': 2.0}\n",
      "{'eval_loss': 0.6422924995422363, 'eval_accuracy': 0.75, 'eval_f1': 0.8571428571428571, 'eval_precision': 0.75, 'eval_recall': 1.0, 'eval_runtime': 0.1751, 'eval_samples_per_second': 22.838, 'eval_steps_per_second': 5.709, 'epoch': 3.0}\n",
      "{'eval_loss': 0.6369060277938843, 'eval_accuracy': 0.75, 'eval_f1': 0.8571428571428571, 'eval_precision': 0.75, 'eval_recall': 1.0, 'eval_runtime': 0.2403, 'eval_samples_per_second': 16.646, 'eval_steps_per_second': 4.162, 'epoch': 4.0}\n",
      "{'eval_loss': 0.6346965432167053, 'eval_accuracy': 0.75, 'eval_f1': 0.8571428571428571, 'eval_precision': 0.75, 'eval_recall': 1.0, 'eval_runtime': 0.1649, 'eval_samples_per_second': 24.259, 'eval_steps_per_second': 6.065, 'epoch': 5.0}\n",
      "{'train_runtime': 13.0756, 'train_samples_per_second': 6.118, 'train_steps_per_second': 0.765, 'train_loss': 0.6358475685119629, 'epoch': 5.0}\n",
      "{'eval_loss': 0.6346965432167053, 'eval_model_preparation_time': 0.001, 'eval_accuracy': 0.75, 'eval_f1': 0.8571428571428571, 'eval_precision': 0.75, 'eval_recall': 1.0, 'eval_runtime': 0.1747, 'eval_samples_per_second': 22.891, 'eval_steps_per_second': 5.723}\n",
      "\n",
      "🔍 Model: huawei-noah/TinyBERT_General_4L_312D\n",
      " ↪ Fold 1/5\n"
     ]
    },
    {
     "name": "stderr",
     "output_type": "stream",
     "text": [
      "/Users/gchhetri/Developer/Python/15min-city-bench/.venv/lib/python3.12/site-packages/sklearn/model_selection/_split.py:811: UserWarning: The least populated class in y has only 4 members, which is less than n_splits=5.\n",
      "  warnings.warn(\n"
     ]
    },
    {
     "data": {
      "application/vnd.jupyter.widget-view+json": {
       "model_id": "a5e7ca4b0e4a4157a133e7fd8924719c",
       "version_major": 2,
       "version_minor": 0
      },
      "text/plain": [
       "Map:   0%|          | 0/16 [00:00<?, ? examples/s]"
      ]
     },
     "metadata": {},
     "output_type": "display_data"
    },
    {
     "data": {
      "application/vnd.jupyter.widget-view+json": {
       "model_id": "ac6d8be3760d4b158e24733de1da001d",
       "version_major": 2,
       "version_minor": 0
      },
      "text/plain": [
       "Map:   0%|          | 0/4 [00:00<?, ? examples/s]"
      ]
     },
     "metadata": {},
     "output_type": "display_data"
    },
    {
     "name": "stderr",
     "output_type": "stream",
     "text": [
      "/Users/gchhetri/Developer/Python/15min-city-bench/.venv/lib/python3.12/site-packages/transformers/training_args.py:1604: FutureWarning: using `no_cuda` is deprecated and will be removed in version 5.0 of 🤗 Transformers. Use `use_cpu` instead\n",
      "  warnings.warn(\n"
     ]
    },
    {
     "name": "stdout",
     "output_type": "stream",
     "text": [
      "{'eval_loss': 0.6765722632408142, 'eval_accuracy': 1.0, 'eval_f1': 1.0, 'eval_precision': 1.0, 'eval_recall': 1.0, 'eval_runtime': 0.0416, 'eval_samples_per_second': 96.059, 'eval_steps_per_second': 24.015, 'epoch': 1.0}\n",
      "{'eval_loss': 0.6623191833496094, 'eval_accuracy': 1.0, 'eval_f1': 1.0, 'eval_precision': 1.0, 'eval_recall': 1.0, 'eval_runtime': 0.0432, 'eval_samples_per_second': 92.691, 'eval_steps_per_second': 23.173, 'epoch': 2.0}\n",
      "{'eval_loss': 0.6528578996658325, 'eval_accuracy': 1.0, 'eval_f1': 1.0, 'eval_precision': 1.0, 'eval_recall': 1.0, 'eval_runtime': 0.0385, 'eval_samples_per_second': 103.977, 'eval_steps_per_second': 25.994, 'epoch': 3.0}\n",
      "{'eval_loss': 0.645822286605835, 'eval_accuracy': 1.0, 'eval_f1': 1.0, 'eval_precision': 1.0, 'eval_recall': 1.0, 'eval_runtime': 0.0316, 'eval_samples_per_second': 126.53, 'eval_steps_per_second': 31.632, 'epoch': 4.0}\n",
      "{'eval_loss': 0.642722487449646, 'eval_accuracy': 1.0, 'eval_f1': 1.0, 'eval_precision': 1.0, 'eval_recall': 1.0, 'eval_runtime': 0.0374, 'eval_samples_per_second': 107.08, 'eval_steps_per_second': 26.77, 'epoch': 5.0}\n",
      "{'train_runtime': 10.2437, 'train_samples_per_second': 7.81, 'train_steps_per_second': 0.976, 'train_loss': 0.6764627456665039, 'epoch': 5.0}\n",
      "{'eval_loss': 0.642722487449646, 'eval_model_preparation_time': 0.0004, 'eval_accuracy': 1.0, 'eval_f1': 1.0, 'eval_precision': 1.0, 'eval_recall': 1.0, 'eval_runtime': 0.0361, 'eval_samples_per_second': 110.883, 'eval_steps_per_second': 27.721}\n",
      " ↪ Fold 2/5\n"
     ]
    },
    {
     "name": "stderr",
     "output_type": "stream",
     "text": [
      "/Users/gchhetri/Developer/Python/15min-city-bench/.venv/lib/python3.12/site-packages/sklearn/metrics/_ranking.py:1192: UndefinedMetricWarning: No negative samples in y_true, false positive value should be meaningless\n",
      "  warnings.warn(\n"
     ]
    },
    {
     "data": {
      "application/vnd.jupyter.widget-view+json": {
       "model_id": "1b6f53cc56504899aaa468e1393abcf3",
       "version_major": 2,
       "version_minor": 0
      },
      "text/plain": [
       "Map:   0%|          | 0/16 [00:00<?, ? examples/s]"
      ]
     },
     "metadata": {},
     "output_type": "display_data"
    },
    {
     "data": {
      "application/vnd.jupyter.widget-view+json": {
       "model_id": "3c0bfca906894bbfb08bb24e1323f2f0",
       "version_major": 2,
       "version_minor": 0
      },
      "text/plain": [
       "Map:   0%|          | 0/4 [00:00<?, ? examples/s]"
      ]
     },
     "metadata": {},
     "output_type": "display_data"
    },
    {
     "name": "stderr",
     "output_type": "stream",
     "text": [
      "/Users/gchhetri/Developer/Python/15min-city-bench/.venv/lib/python3.12/site-packages/transformers/training_args.py:1604: FutureWarning: using `no_cuda` is deprecated and will be removed in version 5.0 of 🤗 Transformers. Use `use_cpu` instead\n",
      "  warnings.warn(\n"
     ]
    },
    {
     "name": "stdout",
     "output_type": "stream",
     "text": [
      "{'eval_loss': 0.6826850175857544, 'eval_accuracy': 0.75, 'eval_f1': 0.8571428571428571, 'eval_precision': 0.75, 'eval_recall': 1.0, 'eval_runtime': 0.0485, 'eval_samples_per_second': 82.525, 'eval_steps_per_second': 20.631, 'epoch': 1.0}\n",
      "{'eval_loss': 0.6759343147277832, 'eval_accuracy': 0.75, 'eval_f1': 0.8571428571428571, 'eval_precision': 0.75, 'eval_recall': 1.0, 'eval_runtime': 0.0555, 'eval_samples_per_second': 72.04, 'eval_steps_per_second': 18.01, 'epoch': 2.0}\n",
      "{'eval_loss': 0.6711297035217285, 'eval_accuracy': 0.75, 'eval_f1': 0.8571428571428571, 'eval_precision': 0.75, 'eval_recall': 1.0, 'eval_runtime': 0.0528, 'eval_samples_per_second': 75.704, 'eval_steps_per_second': 18.926, 'epoch': 3.0}\n",
      "{'eval_loss': 0.6681992411613464, 'eval_accuracy': 0.75, 'eval_f1': 0.8571428571428571, 'eval_precision': 0.75, 'eval_recall': 1.0, 'eval_runtime': 0.0551, 'eval_samples_per_second': 72.541, 'eval_steps_per_second': 18.135, 'epoch': 4.0}\n",
      "{'eval_loss': 0.6669667363166809, 'eval_accuracy': 0.75, 'eval_f1': 0.8571428571428571, 'eval_precision': 0.75, 'eval_recall': 1.0, 'eval_runtime': 0.0537, 'eval_samples_per_second': 74.474, 'eval_steps_per_second': 18.619, 'epoch': 5.0}\n",
      "{'train_runtime': 9.39, 'train_samples_per_second': 8.52, 'train_steps_per_second': 1.065, 'train_loss': 0.6700348377227783, 'epoch': 5.0}\n",
      "{'eval_loss': 0.6669667363166809, 'eval_model_preparation_time': 0.0004, 'eval_accuracy': 0.75, 'eval_f1': 0.8571428571428571, 'eval_precision': 0.75, 'eval_recall': 1.0, 'eval_runtime': 0.0518, 'eval_samples_per_second': 77.163, 'eval_steps_per_second': 19.291}\n",
      " ↪ Fold 3/5\n"
     ]
    },
    {
     "data": {
      "application/vnd.jupyter.widget-view+json": {
       "model_id": "0d1ad22fa2d0444ab5f039b03814f7e1",
       "version_major": 2,
       "version_minor": 0
      },
      "text/plain": [
       "Map:   0%|          | 0/16 [00:00<?, ? examples/s]"
      ]
     },
     "metadata": {},
     "output_type": "display_data"
    },
    {
     "data": {
      "application/vnd.jupyter.widget-view+json": {
       "model_id": "46b8fe85dd524d13af3e9a3e798ca888",
       "version_major": 2,
       "version_minor": 0
      },
      "text/plain": [
       "Map:   0%|          | 0/4 [00:00<?, ? examples/s]"
      ]
     },
     "metadata": {},
     "output_type": "display_data"
    },
    {
     "name": "stderr",
     "output_type": "stream",
     "text": [
      "/Users/gchhetri/Developer/Python/15min-city-bench/.venv/lib/python3.12/site-packages/transformers/training_args.py:1604: FutureWarning: using `no_cuda` is deprecated and will be removed in version 5.0 of 🤗 Transformers. Use `use_cpu` instead\n",
      "  warnings.warn(\n"
     ]
    },
    {
     "name": "stdout",
     "output_type": "stream",
     "text": [
      "{'eval_loss': 0.6813135147094727, 'eval_accuracy': 0.75, 'eval_f1': 0.8571428571428571, 'eval_precision': 0.75, 'eval_recall': 1.0, 'eval_runtime': 0.0401, 'eval_samples_per_second': 99.728, 'eval_steps_per_second': 24.932, 'epoch': 1.0}\n",
      "{'eval_loss': 0.6713181734085083, 'eval_accuracy': 0.75, 'eval_f1': 0.8571428571428571, 'eval_precision': 0.75, 'eval_recall': 1.0, 'eval_runtime': 0.0404, 'eval_samples_per_second': 98.963, 'eval_steps_per_second': 24.741, 'epoch': 2.0}\n",
      "{'eval_loss': 0.6636497974395752, 'eval_accuracy': 0.75, 'eval_f1': 0.8571428571428571, 'eval_precision': 0.75, 'eval_recall': 1.0, 'eval_runtime': 0.0413, 'eval_samples_per_second': 96.79, 'eval_steps_per_second': 24.197, 'epoch': 3.0}\n",
      "{'eval_loss': 0.6582880616188049, 'eval_accuracy': 0.75, 'eval_f1': 0.8571428571428571, 'eval_precision': 0.75, 'eval_recall': 1.0, 'eval_runtime': 0.042, 'eval_samples_per_second': 95.227, 'eval_steps_per_second': 23.807, 'epoch': 4.0}\n",
      "{'eval_loss': 0.6558429598808289, 'eval_accuracy': 0.75, 'eval_f1': 0.8571428571428571, 'eval_precision': 0.75, 'eval_recall': 1.0, 'eval_runtime': 0.0539, 'eval_samples_per_second': 74.239, 'eval_steps_per_second': 18.56, 'epoch': 5.0}\n",
      "{'train_runtime': 9.4579, 'train_samples_per_second': 8.459, 'train_steps_per_second': 1.057, 'train_loss': 0.6732993125915527, 'epoch': 5.0}\n",
      "{'eval_loss': 0.6558429598808289, 'eval_model_preparation_time': 0.0004, 'eval_accuracy': 0.75, 'eval_f1': 0.8571428571428571, 'eval_precision': 0.75, 'eval_recall': 1.0, 'eval_runtime': 0.0441, 'eval_samples_per_second': 90.775, 'eval_steps_per_second': 22.694}\n",
      " ↪ Fold 4/5\n"
     ]
    },
    {
     "data": {
      "application/vnd.jupyter.widget-view+json": {
       "model_id": "d28e5d3406574f64915193d7e60a5076",
       "version_major": 2,
       "version_minor": 0
      },
      "text/plain": [
       "Map:   0%|          | 0/16 [00:00<?, ? examples/s]"
      ]
     },
     "metadata": {},
     "output_type": "display_data"
    },
    {
     "data": {
      "application/vnd.jupyter.widget-view+json": {
       "model_id": "6cd0d02d0a904e0fa7c8d30dd42e22c5",
       "version_major": 2,
       "version_minor": 0
      },
      "text/plain": [
       "Map:   0%|          | 0/4 [00:00<?, ? examples/s]"
      ]
     },
     "metadata": {},
     "output_type": "display_data"
    },
    {
     "name": "stderr",
     "output_type": "stream",
     "text": [
      "/Users/gchhetri/Developer/Python/15min-city-bench/.venv/lib/python3.12/site-packages/transformers/training_args.py:1604: FutureWarning: using `no_cuda` is deprecated and will be removed in version 5.0 of 🤗 Transformers. Use `use_cpu` instead\n",
      "  warnings.warn(\n"
     ]
    },
    {
     "name": "stdout",
     "output_type": "stream",
     "text": [
      "{'eval_loss': 0.6839367151260376, 'eval_accuracy': 0.75, 'eval_f1': 0.8571428571428571, 'eval_precision': 0.75, 'eval_recall': 1.0, 'eval_runtime': 0.0527, 'eval_samples_per_second': 75.843, 'eval_steps_per_second': 18.961, 'epoch': 1.0}\n",
      "{'eval_loss': 0.6762882471084595, 'eval_accuracy': 0.75, 'eval_f1': 0.8571428571428571, 'eval_precision': 0.75, 'eval_recall': 1.0, 'eval_runtime': 0.0592, 'eval_samples_per_second': 67.603, 'eval_steps_per_second': 16.901, 'epoch': 2.0}\n",
      "{'eval_loss': 0.6705631017684937, 'eval_accuracy': 0.75, 'eval_f1': 0.8571428571428571, 'eval_precision': 0.75, 'eval_recall': 1.0, 'eval_runtime': 0.063, 'eval_samples_per_second': 63.48, 'eval_steps_per_second': 15.87, 'epoch': 3.0}\n",
      "{'eval_loss': 0.6669127941131592, 'eval_accuracy': 0.75, 'eval_f1': 0.8571428571428571, 'eval_precision': 0.75, 'eval_recall': 1.0, 'eval_runtime': 0.0611, 'eval_samples_per_second': 65.518, 'eval_steps_per_second': 16.379, 'epoch': 4.0}\n",
      "{'eval_loss': 0.6653029918670654, 'eval_accuracy': 0.75, 'eval_f1': 0.8571428571428571, 'eval_precision': 0.75, 'eval_recall': 1.0, 'eval_runtime': 0.0557, 'eval_samples_per_second': 71.761, 'eval_steps_per_second': 17.94, 'epoch': 5.0}\n",
      "{'train_runtime': 9.7585, 'train_samples_per_second': 8.198, 'train_steps_per_second': 1.025, 'train_loss': 0.6716654777526856, 'epoch': 5.0}\n",
      "{'eval_loss': 0.6653029918670654, 'eval_model_preparation_time': 0.0003, 'eval_accuracy': 0.75, 'eval_f1': 0.8571428571428571, 'eval_precision': 0.75, 'eval_recall': 1.0, 'eval_runtime': 0.0475, 'eval_samples_per_second': 84.292, 'eval_steps_per_second': 21.073}\n",
      " ↪ Fold 5/5\n"
     ]
    },
    {
     "data": {
      "application/vnd.jupyter.widget-view+json": {
       "model_id": "852a445b2a5a4e0bbb349996976093e8",
       "version_major": 2,
       "version_minor": 0
      },
      "text/plain": [
       "Map:   0%|          | 0/16 [00:00<?, ? examples/s]"
      ]
     },
     "metadata": {},
     "output_type": "display_data"
    },
    {
     "data": {
      "application/vnd.jupyter.widget-view+json": {
       "model_id": "2d614d622e804a9889b49bc27eaebddc",
       "version_major": 2,
       "version_minor": 0
      },
      "text/plain": [
       "Map:   0%|          | 0/4 [00:00<?, ? examples/s]"
      ]
     },
     "metadata": {},
     "output_type": "display_data"
    },
    {
     "name": "stderr",
     "output_type": "stream",
     "text": [
      "/Users/gchhetri/Developer/Python/15min-city-bench/.venv/lib/python3.12/site-packages/transformers/training_args.py:1604: FutureWarning: using `no_cuda` is deprecated and will be removed in version 5.0 of 🤗 Transformers. Use `use_cpu` instead\n",
      "  warnings.warn(\n"
     ]
    },
    {
     "name": "stdout",
     "output_type": "stream",
     "text": [
      "{'eval_loss': 0.6828752160072327, 'eval_accuracy': 0.75, 'eval_f1': 0.8571428571428571, 'eval_precision': 0.75, 'eval_recall': 1.0, 'eval_runtime': 0.066, 'eval_samples_per_second': 60.584, 'eval_steps_per_second': 15.146, 'epoch': 1.0}\n",
      "{'eval_loss': 0.6744048595428467, 'eval_accuracy': 0.75, 'eval_f1': 0.8571428571428571, 'eval_precision': 0.75, 'eval_recall': 1.0, 'eval_runtime': 0.0748, 'eval_samples_per_second': 53.495, 'eval_steps_per_second': 13.374, 'epoch': 2.0}\n",
      "{'eval_loss': 0.6681180000305176, 'eval_accuracy': 0.75, 'eval_f1': 0.8571428571428571, 'eval_precision': 0.75, 'eval_recall': 1.0, 'eval_runtime': 0.0544, 'eval_samples_per_second': 73.494, 'eval_steps_per_second': 18.374, 'epoch': 3.0}\n",
      "{'eval_loss': 0.6640872955322266, 'eval_accuracy': 0.75, 'eval_f1': 0.8571428571428571, 'eval_precision': 0.75, 'eval_recall': 1.0, 'eval_runtime': 0.0541, 'eval_samples_per_second': 73.923, 'eval_steps_per_second': 18.481, 'epoch': 4.0}\n",
      "{'eval_loss': 0.6623872518539429, 'eval_accuracy': 0.75, 'eval_f1': 0.8571428571428571, 'eval_precision': 0.75, 'eval_recall': 1.0, 'eval_runtime': 0.0661, 'eval_samples_per_second': 60.531, 'eval_steps_per_second': 15.133, 'epoch': 5.0}\n",
      "{'train_runtime': 9.1266, 'train_samples_per_second': 8.766, 'train_steps_per_second': 1.096, 'train_loss': 0.6712491989135743, 'epoch': 5.0}\n",
      "{'eval_loss': 0.6623872518539429, 'eval_model_preparation_time': 0.0004, 'eval_accuracy': 0.75, 'eval_f1': 0.8571428571428571, 'eval_precision': 0.75, 'eval_recall': 1.0, 'eval_runtime': 0.053, 'eval_samples_per_second': 75.493, 'eval_steps_per_second': 18.873}\n",
      "\n",
      "📂 Benchmarking on dataset: twitter\n"
     ]
    },
    {
     "data": {
      "application/vnd.jupyter.widget-view+json": {
       "model_id": "4d43712ef1644e93a55e0c64130c992d",
       "version_major": 2,
       "version_minor": 0
      },
      "text/plain": [
       "🔬 Benchmarking Models on twitter:   0%|          | 0/5 [00:00<?, ?it/s]"
      ]
     },
     "metadata": {},
     "output_type": "display_data"
    },
    {
     "name": "stdout",
     "output_type": "stream",
     "text": [
      "\n",
      "🔍 Model: distilroberta-base\n",
      " ↪ Fold 1/5\n"
     ]
    },
    {
     "data": {
      "application/vnd.jupyter.widget-view+json": {
       "model_id": "1c547d2f1ece43f085c81595f6bfaf44",
       "version_major": 2,
       "version_minor": 0
      },
      "text/plain": [
       "Map:   0%|          | 0/16 [00:00<?, ? examples/s]"
      ]
     },
     "metadata": {},
     "output_type": "display_data"
    },
    {
     "data": {
      "application/vnd.jupyter.widget-view+json": {
       "model_id": "cf81d5e6288b4bd284a79d481b6400ea",
       "version_major": 2,
       "version_minor": 0
      },
      "text/plain": [
       "Map:   0%|          | 0/4 [00:00<?, ? examples/s]"
      ]
     },
     "metadata": {},
     "output_type": "display_data"
    },
    {
     "name": "stderr",
     "output_type": "stream",
     "text": [
      "/Users/gchhetri/Developer/Python/15min-city-bench/.venv/lib/python3.12/site-packages/transformers/training_args.py:1604: FutureWarning: using `no_cuda` is deprecated and will be removed in version 5.0 of 🤗 Transformers. Use `use_cpu` instead\n",
      "  warnings.warn(\n"
     ]
    },
    {
     "name": "stdout",
     "output_type": "stream",
     "text": [
      "{'eval_loss': 0.6375545263290405, 'eval_accuracy': 0.75, 'eval_f1': 0.8571428571428571, 'eval_precision': 0.75, 'eval_recall': 1.0, 'eval_runtime': 0.0213, 'eval_samples_per_second': 187.969, 'eval_steps_per_second': 46.992, 'epoch': 1.0}\n",
      "{'eval_loss': 0.6226673126220703, 'eval_accuracy': 0.75, 'eval_f1': 0.8571428571428571, 'eval_precision': 0.75, 'eval_recall': 1.0, 'eval_runtime': 0.0265, 'eval_samples_per_second': 150.739, 'eval_steps_per_second': 37.685, 'epoch': 2.0}\n",
      "{'eval_loss': 0.6173903346061707, 'eval_accuracy': 0.75, 'eval_f1': 0.8571428571428571, 'eval_precision': 0.75, 'eval_recall': 1.0, 'eval_runtime': 0.0263, 'eval_samples_per_second': 152.165, 'eval_steps_per_second': 38.041, 'epoch': 3.0}\n",
      "{'eval_loss': 0.6121329069137573, 'eval_accuracy': 0.75, 'eval_f1': 0.8571428571428571, 'eval_precision': 0.75, 'eval_recall': 1.0, 'eval_runtime': 0.0282, 'eval_samples_per_second': 142.035, 'eval_steps_per_second': 35.509, 'epoch': 4.0}\n",
      "{'eval_loss': 0.6102513074874878, 'eval_accuracy': 0.75, 'eval_f1': 0.8571428571428571, 'eval_precision': 0.75, 'eval_recall': 1.0, 'eval_runtime': 0.0263, 'eval_samples_per_second': 152.189, 'eval_steps_per_second': 38.047, 'epoch': 5.0}\n",
      "{'train_runtime': 10.0046, 'train_samples_per_second': 7.996, 'train_steps_per_second': 1.0, 'train_loss': 0.6284421443939209, 'epoch': 5.0}\n",
      "{'eval_loss': 0.6102513074874878, 'eval_model_preparation_time': 0.0005, 'eval_accuracy': 0.75, 'eval_f1': 0.8571428571428571, 'eval_precision': 0.75, 'eval_recall': 1.0, 'eval_runtime': 0.0256, 'eval_samples_per_second': 156.05, 'eval_steps_per_second': 39.012}\n",
      " ↪ Fold 2/5\n"
     ]
    },
    {
     "data": {
      "application/vnd.jupyter.widget-view+json": {
       "model_id": "ba2b0242882349d89269f522850eddb3",
       "version_major": 2,
       "version_minor": 0
      },
      "text/plain": [
       "Map:   0%|          | 0/16 [00:00<?, ? examples/s]"
      ]
     },
     "metadata": {},
     "output_type": "display_data"
    },
    {
     "data": {
      "application/vnd.jupyter.widget-view+json": {
       "model_id": "df53e491b69b4d118a60c7c0426f1764",
       "version_major": 2,
       "version_minor": 0
      },
      "text/plain": [
       "Map:   0%|          | 0/4 [00:00<?, ? examples/s]"
      ]
     },
     "metadata": {},
     "output_type": "display_data"
    },
    {
     "name": "stderr",
     "output_type": "stream",
     "text": [
      "/Users/gchhetri/Developer/Python/15min-city-bench/.venv/lib/python3.12/site-packages/transformers/training_args.py:1604: FutureWarning: using `no_cuda` is deprecated and will be removed in version 5.0 of 🤗 Transformers. Use `use_cpu` instead\n",
      "  warnings.warn(\n"
     ]
    },
    {
     "name": "stdout",
     "output_type": "stream",
     "text": [
      "{'eval_loss': 0.6295619010925293, 'eval_accuracy': 0.75, 'eval_f1': 0.8571428571428571, 'eval_precision': 0.75, 'eval_recall': 1.0, 'eval_runtime': 0.0329, 'eval_samples_per_second': 121.535, 'eval_steps_per_second': 30.384, 'epoch': 1.0}\n",
      "{'eval_loss': 0.6168073415756226, 'eval_accuracy': 0.75, 'eval_f1': 0.8571428571428571, 'eval_precision': 0.75, 'eval_recall': 1.0, 'eval_runtime': 0.0392, 'eval_samples_per_second': 102.036, 'eval_steps_per_second': 25.509, 'epoch': 2.0}\n",
      "{'eval_loss': 0.6069017648696899, 'eval_accuracy': 0.75, 'eval_f1': 0.8571428571428571, 'eval_precision': 0.75, 'eval_recall': 1.0, 'eval_runtime': 0.0362, 'eval_samples_per_second': 110.603, 'eval_steps_per_second': 27.651, 'epoch': 3.0}\n",
      "{'eval_loss': 0.6007013916969299, 'eval_accuracy': 0.75, 'eval_f1': 0.8571428571428571, 'eval_precision': 0.75, 'eval_recall': 1.0, 'eval_runtime': 0.0332, 'eval_samples_per_second': 120.369, 'eval_steps_per_second': 30.092, 'epoch': 4.0}\n",
      "{'eval_loss': 0.5976586937904358, 'eval_accuracy': 0.75, 'eval_f1': 0.8571428571428571, 'eval_precision': 0.75, 'eval_recall': 1.0, 'eval_runtime': 0.0303, 'eval_samples_per_second': 132.027, 'eval_steps_per_second': 33.007, 'epoch': 5.0}\n",
      "{'train_runtime': 9.7804, 'train_samples_per_second': 8.18, 'train_steps_per_second': 1.022, 'train_loss': 0.6347367763519287, 'epoch': 5.0}\n",
      "{'eval_loss': 0.5976586937904358, 'eval_model_preparation_time': 0.0004, 'eval_accuracy': 0.75, 'eval_f1': 0.8571428571428571, 'eval_precision': 0.75, 'eval_recall': 1.0, 'eval_runtime': 0.038, 'eval_samples_per_second': 105.342, 'eval_steps_per_second': 26.335}\n",
      " ↪ Fold 3/5\n"
     ]
    },
    {
     "data": {
      "application/vnd.jupyter.widget-view+json": {
       "model_id": "1c83109f4afa4c849e4448443d2357a7",
       "version_major": 2,
       "version_minor": 0
      },
      "text/plain": [
       "Map:   0%|          | 0/16 [00:00<?, ? examples/s]"
      ]
     },
     "metadata": {},
     "output_type": "display_data"
    },
    {
     "data": {
      "application/vnd.jupyter.widget-view+json": {
       "model_id": "ad884e097cac4b3e952f099f1e68005e",
       "version_major": 2,
       "version_minor": 0
      },
      "text/plain": [
       "Map:   0%|          | 0/4 [00:00<?, ? examples/s]"
      ]
     },
     "metadata": {},
     "output_type": "display_data"
    },
    {
     "name": "stderr",
     "output_type": "stream",
     "text": [
      "/Users/gchhetri/Developer/Python/15min-city-bench/.venv/lib/python3.12/site-packages/transformers/training_args.py:1604: FutureWarning: using `no_cuda` is deprecated and will be removed in version 5.0 of 🤗 Transformers. Use `use_cpu` instead\n",
      "  warnings.warn(\n"
     ]
    },
    {
     "name": "stdout",
     "output_type": "stream",
     "text": [
      "{'eval_loss': 0.6252326965332031, 'eval_accuracy': 0.75, 'eval_f1': 0.8571428571428571, 'eval_precision': 0.75, 'eval_recall': 1.0, 'eval_runtime': 0.0288, 'eval_samples_per_second': 138.874, 'eval_steps_per_second': 34.718, 'epoch': 1.0}\n",
      "{'eval_loss': 0.6135870218276978, 'eval_accuracy': 0.75, 'eval_f1': 0.8571428571428571, 'eval_precision': 0.75, 'eval_recall': 1.0, 'eval_runtime': 0.0285, 'eval_samples_per_second': 140.307, 'eval_steps_per_second': 35.077, 'epoch': 2.0}\n",
      "{'eval_loss': 0.6042007803916931, 'eval_accuracy': 0.75, 'eval_f1': 0.8571428571428571, 'eval_precision': 0.75, 'eval_recall': 1.0, 'eval_runtime': 0.0265, 'eval_samples_per_second': 151.126, 'eval_steps_per_second': 37.781, 'epoch': 3.0}\n",
      "{'eval_loss': 0.5995711088180542, 'eval_accuracy': 0.75, 'eval_f1': 0.8571428571428571, 'eval_precision': 0.75, 'eval_recall': 1.0, 'eval_runtime': 0.029, 'eval_samples_per_second': 138.141, 'eval_steps_per_second': 34.535, 'epoch': 4.0}\n",
      "{'eval_loss': 0.5973080396652222, 'eval_accuracy': 0.75, 'eval_f1': 0.8571428571428571, 'eval_precision': 0.75, 'eval_recall': 1.0, 'eval_runtime': 0.0294, 'eval_samples_per_second': 136.221, 'eval_steps_per_second': 34.055, 'epoch': 5.0}\n",
      "{'train_runtime': 8.4421, 'train_samples_per_second': 9.476, 'train_steps_per_second': 1.185, 'train_loss': 0.6385060310363769, 'epoch': 5.0}\n",
      "{'eval_loss': 0.5973080396652222, 'eval_model_preparation_time': 0.0004, 'eval_accuracy': 0.75, 'eval_f1': 0.8571428571428571, 'eval_precision': 0.75, 'eval_recall': 1.0, 'eval_runtime': 0.0269, 'eval_samples_per_second': 148.693, 'eval_steps_per_second': 37.173}\n",
      " ↪ Fold 4/5\n"
     ]
    },
    {
     "data": {
      "application/vnd.jupyter.widget-view+json": {
       "model_id": "0d6ab5241f5c4c78be0cfe3fe09c083e",
       "version_major": 2,
       "version_minor": 0
      },
      "text/plain": [
       "Map:   0%|          | 0/16 [00:00<?, ? examples/s]"
      ]
     },
     "metadata": {},
     "output_type": "display_data"
    },
    {
     "data": {
      "application/vnd.jupyter.widget-view+json": {
       "model_id": "f933e6c5b7ca47d7af59d6e05235570e",
       "version_major": 2,
       "version_minor": 0
      },
      "text/plain": [
       "Map:   0%|          | 0/4 [00:00<?, ? examples/s]"
      ]
     },
     "metadata": {},
     "output_type": "display_data"
    },
    {
     "name": "stderr",
     "output_type": "stream",
     "text": [
      "/Users/gchhetri/Developer/Python/15min-city-bench/.venv/lib/python3.12/site-packages/transformers/training_args.py:1604: FutureWarning: using `no_cuda` is deprecated and will be removed in version 5.0 of 🤗 Transformers. Use `use_cpu` instead\n",
      "  warnings.warn(\n"
     ]
    },
    {
     "name": "stdout",
     "output_type": "stream",
     "text": [
      "{'eval_loss': 0.624990701675415, 'eval_accuracy': 0.75, 'eval_f1': 0.8571428571428571, 'eval_precision': 0.75, 'eval_recall': 1.0, 'eval_runtime': 0.0261, 'eval_samples_per_second': 153.098, 'eval_steps_per_second': 38.274, 'epoch': 1.0}\n",
      "{'eval_loss': 0.6036316752433777, 'eval_accuracy': 0.75, 'eval_f1': 0.8571428571428571, 'eval_precision': 0.75, 'eval_recall': 1.0, 'eval_runtime': 0.0286, 'eval_samples_per_second': 140.007, 'eval_steps_per_second': 35.002, 'epoch': 2.0}\n",
      "{'eval_loss': 0.588154673576355, 'eval_accuracy': 0.75, 'eval_f1': 0.8571428571428571, 'eval_precision': 0.75, 'eval_recall': 1.0, 'eval_runtime': 0.0308, 'eval_samples_per_second': 129.849, 'eval_steps_per_second': 32.462, 'epoch': 3.0}\n",
      "{'eval_loss': 0.5775407552719116, 'eval_accuracy': 0.75, 'eval_f1': 0.8571428571428571, 'eval_precision': 0.75, 'eval_recall': 1.0, 'eval_runtime': 0.0336, 'eval_samples_per_second': 118.881, 'eval_steps_per_second': 29.72, 'epoch': 4.0}\n",
      "{'eval_loss': 0.573698878288269, 'eval_accuracy': 0.75, 'eval_f1': 0.8571428571428571, 'eval_precision': 0.75, 'eval_recall': 1.0, 'eval_runtime': 0.0297, 'eval_samples_per_second': 134.544, 'eval_steps_per_second': 33.636, 'epoch': 5.0}\n",
      "{'train_runtime': 8.5619, 'train_samples_per_second': 9.344, 'train_steps_per_second': 1.168, 'train_loss': 0.6314566135406494, 'epoch': 5.0}\n",
      "{'eval_loss': 0.573698878288269, 'eval_model_preparation_time': 0.0005, 'eval_accuracy': 0.75, 'eval_f1': 0.8571428571428571, 'eval_precision': 0.75, 'eval_recall': 1.0, 'eval_runtime': 0.0233, 'eval_samples_per_second': 171.688, 'eval_steps_per_second': 42.922}\n",
      " ↪ Fold 5/5\n"
     ]
    },
    {
     "data": {
      "application/vnd.jupyter.widget-view+json": {
       "model_id": "46eecc1726aa43c1a3bd229d26f1dba1",
       "version_major": 2,
       "version_minor": 0
      },
      "text/plain": [
       "Map:   0%|          | 0/16 [00:00<?, ? examples/s]"
      ]
     },
     "metadata": {},
     "output_type": "display_data"
    },
    {
     "data": {
      "application/vnd.jupyter.widget-view+json": {
       "model_id": "781cf7f1e7b34a8c850d86ce3cec860b",
       "version_major": 2,
       "version_minor": 0
      },
      "text/plain": [
       "Map:   0%|          | 0/4 [00:00<?, ? examples/s]"
      ]
     },
     "metadata": {},
     "output_type": "display_data"
    },
    {
     "name": "stderr",
     "output_type": "stream",
     "text": [
      "/Users/gchhetri/Developer/Python/15min-city-bench/.venv/lib/python3.12/site-packages/transformers/training_args.py:1604: FutureWarning: using `no_cuda` is deprecated and will be removed in version 5.0 of 🤗 Transformers. Use `use_cpu` instead\n",
      "  warnings.warn(\n"
     ]
    },
    {
     "name": "stdout",
     "output_type": "stream",
     "text": [
      "{'eval_loss': 0.7027778625488281, 'eval_accuracy': 0.5, 'eval_f1': 0.6666666666666666, 'eval_precision': 0.5, 'eval_recall': 1.0, 'eval_runtime': 0.0305, 'eval_samples_per_second': 131.217, 'eval_steps_per_second': 32.804, 'epoch': 1.0}\n",
      "{'eval_loss': 0.7044596672058105, 'eval_accuracy': 0.5, 'eval_f1': 0.6666666666666666, 'eval_precision': 0.5, 'eval_recall': 1.0, 'eval_runtime': 0.0313, 'eval_samples_per_second': 127.894, 'eval_steps_per_second': 31.973, 'epoch': 2.0}\n",
      "{'train_runtime': 3.723, 'train_samples_per_second': 21.488, 'train_steps_per_second': 2.686, 'train_loss': 0.6443831920623779, 'epoch': 2.0}\n",
      "{'eval_loss': 0.7027778625488281, 'eval_model_preparation_time': 0.0005, 'eval_accuracy': 0.5, 'eval_f1': 0.6666666666666666, 'eval_precision': 0.5, 'eval_recall': 1.0, 'eval_runtime': 0.0294, 'eval_samples_per_second': 135.831, 'eval_steps_per_second': 33.958}\n",
      "\n",
      "🔍 Model: distilbert-base-uncased\n",
      " ↪ Fold 1/5\n"
     ]
    },
    {
     "data": {
      "application/vnd.jupyter.widget-view+json": {
       "model_id": "1631fda8ee4445d5a1329db06d8792e1",
       "version_major": 2,
       "version_minor": 0
      },
      "text/plain": [
       "Map:   0%|          | 0/16 [00:00<?, ? examples/s]"
      ]
     },
     "metadata": {},
     "output_type": "display_data"
    },
    {
     "data": {
      "application/vnd.jupyter.widget-view+json": {
       "model_id": "2e8aa6b2e02943d1a9c9e1f38a3bb79c",
       "version_major": 2,
       "version_minor": 0
      },
      "text/plain": [
       "Map:   0%|          | 0/4 [00:00<?, ? examples/s]"
      ]
     },
     "metadata": {},
     "output_type": "display_data"
    },
    {
     "name": "stderr",
     "output_type": "stream",
     "text": [
      "/Users/gchhetri/Developer/Python/15min-city-bench/.venv/lib/python3.12/site-packages/transformers/training_args.py:1604: FutureWarning: using `no_cuda` is deprecated and will be removed in version 5.0 of 🤗 Transformers. Use `use_cpu` instead\n",
      "  warnings.warn(\n"
     ]
    },
    {
     "name": "stdout",
     "output_type": "stream",
     "text": [
      "{'eval_loss': 0.6896657347679138, 'eval_accuracy': 0.75, 'eval_f1': 0.8571428571428571, 'eval_precision': 0.75, 'eval_recall': 1.0, 'eval_runtime': 0.0161, 'eval_samples_per_second': 248.338, 'eval_steps_per_second': 62.084, 'epoch': 1.0}\n",
      "{'eval_loss': 0.6710739731788635, 'eval_accuracy': 0.75, 'eval_f1': 0.8571428571428571, 'eval_precision': 0.75, 'eval_recall': 1.0, 'eval_runtime': 0.0164, 'eval_samples_per_second': 244.125, 'eval_steps_per_second': 61.031, 'epoch': 2.0}\n",
      "{'eval_loss': 0.6610960960388184, 'eval_accuracy': 0.75, 'eval_f1': 0.8571428571428571, 'eval_precision': 0.75, 'eval_recall': 1.0, 'eval_runtime': 0.0218, 'eval_samples_per_second': 183.091, 'eval_steps_per_second': 45.773, 'epoch': 3.0}\n",
      "{'eval_loss': 0.6542702317237854, 'eval_accuracy': 0.75, 'eval_f1': 0.8571428571428571, 'eval_precision': 0.75, 'eval_recall': 1.0, 'eval_runtime': 0.024, 'eval_samples_per_second': 166.474, 'eval_steps_per_second': 41.618, 'epoch': 4.0}\n",
      "{'eval_loss': 0.651724636554718, 'eval_accuracy': 0.75, 'eval_f1': 0.8571428571428571, 'eval_precision': 0.75, 'eval_recall': 1.0, 'eval_runtime': 0.0231, 'eval_samples_per_second': 173.474, 'eval_steps_per_second': 43.369, 'epoch': 5.0}\n",
      "{'train_runtime': 8.8373, 'train_samples_per_second': 9.053, 'train_steps_per_second': 1.132, 'train_loss': 0.6139913558959961, 'epoch': 5.0}\n",
      "{'eval_loss': 0.651724636554718, 'eval_model_preparation_time': 0.0005, 'eval_accuracy': 0.75, 'eval_f1': 0.8571428571428571, 'eval_precision': 0.75, 'eval_recall': 1.0, 'eval_runtime': 0.0186, 'eval_samples_per_second': 214.614, 'eval_steps_per_second': 53.653}\n",
      " ↪ Fold 2/5\n"
     ]
    },
    {
     "data": {
      "application/vnd.jupyter.widget-view+json": {
       "model_id": "d01394a08ef745d6b93fa6f294cc98aa",
       "version_major": 2,
       "version_minor": 0
      },
      "text/plain": [
       "Map:   0%|          | 0/16 [00:00<?, ? examples/s]"
      ]
     },
     "metadata": {},
     "output_type": "display_data"
    },
    {
     "data": {
      "application/vnd.jupyter.widget-view+json": {
       "model_id": "50b7642d58d347b1a5fea824cb4b5175",
       "version_major": 2,
       "version_minor": 0
      },
      "text/plain": [
       "Map:   0%|          | 0/4 [00:00<?, ? examples/s]"
      ]
     },
     "metadata": {},
     "output_type": "display_data"
    },
    {
     "name": "stderr",
     "output_type": "stream",
     "text": [
      "/Users/gchhetri/Developer/Python/15min-city-bench/.venv/lib/python3.12/site-packages/transformers/training_args.py:1604: FutureWarning: using `no_cuda` is deprecated and will be removed in version 5.0 of 🤗 Transformers. Use `use_cpu` instead\n",
      "  warnings.warn(\n"
     ]
    },
    {
     "name": "stdout",
     "output_type": "stream",
     "text": [
      "{'eval_loss': 0.6811559200286865, 'eval_accuracy': 0.75, 'eval_f1': 0.8571428571428571, 'eval_precision': 0.75, 'eval_recall': 1.0, 'eval_runtime': 0.0384, 'eval_samples_per_second': 104.289, 'eval_steps_per_second': 26.072, 'epoch': 1.0}\n",
      "{'eval_loss': 0.6541446447372437, 'eval_accuracy': 0.75, 'eval_f1': 0.8571428571428571, 'eval_precision': 0.75, 'eval_recall': 1.0, 'eval_runtime': 0.0418, 'eval_samples_per_second': 95.749, 'eval_steps_per_second': 23.937, 'epoch': 2.0}\n",
      "{'eval_loss': 0.6339324116706848, 'eval_accuracy': 0.75, 'eval_f1': 0.8571428571428571, 'eval_precision': 0.75, 'eval_recall': 1.0, 'eval_runtime': 0.0396, 'eval_samples_per_second': 100.885, 'eval_steps_per_second': 25.221, 'epoch': 3.0}\n",
      "{'eval_loss': 0.6212049126625061, 'eval_accuracy': 0.75, 'eval_f1': 0.8571428571428571, 'eval_precision': 0.75, 'eval_recall': 1.0, 'eval_runtime': 0.0345, 'eval_samples_per_second': 115.864, 'eval_steps_per_second': 28.966, 'epoch': 4.0}\n",
      "{'eval_loss': 0.6159260272979736, 'eval_accuracy': 0.75, 'eval_f1': 0.8571428571428571, 'eval_precision': 0.75, 'eval_recall': 1.0, 'eval_runtime': 0.0329, 'eval_samples_per_second': 121.477, 'eval_steps_per_second': 30.369, 'epoch': 5.0}\n",
      "{'train_runtime': 9.0108, 'train_samples_per_second': 8.878, 'train_steps_per_second': 1.11, 'train_loss': 0.6252511501312256, 'epoch': 5.0}\n",
      "{'eval_loss': 0.6159260272979736, 'eval_model_preparation_time': 0.0003, 'eval_accuracy': 0.75, 'eval_f1': 0.8571428571428571, 'eval_precision': 0.75, 'eval_recall': 1.0, 'eval_runtime': 0.0363, 'eval_samples_per_second': 110.253, 'eval_steps_per_second': 27.563}\n",
      " ↪ Fold 3/5\n"
     ]
    },
    {
     "data": {
      "application/vnd.jupyter.widget-view+json": {
       "model_id": "731ea9e33b564157931ebecf886cbff9",
       "version_major": 2,
       "version_minor": 0
      },
      "text/plain": [
       "Map:   0%|          | 0/16 [00:00<?, ? examples/s]"
      ]
     },
     "metadata": {},
     "output_type": "display_data"
    },
    {
     "data": {
      "application/vnd.jupyter.widget-view+json": {
       "model_id": "65bb8fcbce6f40c2a7227f471d068566",
       "version_major": 2,
       "version_minor": 0
      },
      "text/plain": [
       "Map:   0%|          | 0/4 [00:00<?, ? examples/s]"
      ]
     },
     "metadata": {},
     "output_type": "display_data"
    },
    {
     "name": "stderr",
     "output_type": "stream",
     "text": [
      "/Users/gchhetri/Developer/Python/15min-city-bench/.venv/lib/python3.12/site-packages/transformers/training_args.py:1604: FutureWarning: using `no_cuda` is deprecated and will be removed in version 5.0 of 🤗 Transformers. Use `use_cpu` instead\n",
      "  warnings.warn(\n"
     ]
    },
    {
     "name": "stdout",
     "output_type": "stream",
     "text": [
      "{'eval_loss': 0.6632278561592102, 'eval_accuracy': 0.75, 'eval_f1': 0.8571428571428571, 'eval_precision': 0.75, 'eval_recall': 1.0, 'eval_runtime': 0.0248, 'eval_samples_per_second': 161.472, 'eval_steps_per_second': 40.368, 'epoch': 1.0}\n",
      "{'eval_loss': 0.6339207887649536, 'eval_accuracy': 0.75, 'eval_f1': 0.8571428571428571, 'eval_precision': 0.75, 'eval_recall': 1.0, 'eval_runtime': 0.0308, 'eval_samples_per_second': 129.946, 'eval_steps_per_second': 32.487, 'epoch': 2.0}\n",
      "{'eval_loss': 0.6119203567504883, 'eval_accuracy': 0.75, 'eval_f1': 0.8571428571428571, 'eval_precision': 0.75, 'eval_recall': 1.0, 'eval_runtime': 0.029, 'eval_samples_per_second': 137.813, 'eval_steps_per_second': 34.453, 'epoch': 3.0}\n",
      "{'eval_loss': 0.5985212326049805, 'eval_accuracy': 0.75, 'eval_f1': 0.8571428571428571, 'eval_precision': 0.75, 'eval_recall': 1.0, 'eval_runtime': 0.0315, 'eval_samples_per_second': 127.144, 'eval_steps_per_second': 31.786, 'epoch': 4.0}\n",
      "{'eval_loss': 0.592315137386322, 'eval_accuracy': 0.75, 'eval_f1': 0.8571428571428571, 'eval_precision': 0.75, 'eval_recall': 1.0, 'eval_runtime': 0.0553, 'eval_samples_per_second': 72.363, 'eval_steps_per_second': 18.091, 'epoch': 5.0}\n",
      "{'train_runtime': 6.8711, 'train_samples_per_second': 11.643, 'train_steps_per_second': 1.455, 'train_loss': 0.6282276153564453, 'epoch': 5.0}\n",
      "{'eval_loss': 0.592315137386322, 'eval_model_preparation_time': 0.0004, 'eval_accuracy': 0.75, 'eval_f1': 0.8571428571428571, 'eval_precision': 0.75, 'eval_recall': 1.0, 'eval_runtime': 0.0289, 'eval_samples_per_second': 138.313, 'eval_steps_per_second': 34.578}\n",
      " ↪ Fold 4/5\n"
     ]
    },
    {
     "data": {
      "application/vnd.jupyter.widget-view+json": {
       "model_id": "46c0533b503f41ea94178902695db87d",
       "version_major": 2,
       "version_minor": 0
      },
      "text/plain": [
       "Map:   0%|          | 0/16 [00:00<?, ? examples/s]"
      ]
     },
     "metadata": {},
     "output_type": "display_data"
    },
    {
     "data": {
      "application/vnd.jupyter.widget-view+json": {
       "model_id": "b3e93c0ec26f4f1588a8750ae688ead2",
       "version_major": 2,
       "version_minor": 0
      },
      "text/plain": [
       "Map:   0%|          | 0/4 [00:00<?, ? examples/s]"
      ]
     },
     "metadata": {},
     "output_type": "display_data"
    },
    {
     "name": "stderr",
     "output_type": "stream",
     "text": [
      "/Users/gchhetri/Developer/Python/15min-city-bench/.venv/lib/python3.12/site-packages/transformers/training_args.py:1604: FutureWarning: using `no_cuda` is deprecated and will be removed in version 5.0 of 🤗 Transformers. Use `use_cpu` instead\n",
      "  warnings.warn(\n"
     ]
    },
    {
     "name": "stdout",
     "output_type": "stream",
     "text": [
      "{'eval_loss': 0.6495920419692993, 'eval_accuracy': 0.75, 'eval_f1': 0.8571428571428571, 'eval_precision': 0.75, 'eval_recall': 1.0, 'eval_runtime': 0.0297, 'eval_samples_per_second': 134.689, 'eval_steps_per_second': 33.672, 'epoch': 1.0}\n",
      "{'eval_loss': 0.6045960783958435, 'eval_accuracy': 0.75, 'eval_f1': 0.8571428571428571, 'eval_precision': 0.75, 'eval_recall': 1.0, 'eval_runtime': 0.0539, 'eval_samples_per_second': 74.202, 'eval_steps_per_second': 18.55, 'epoch': 2.0}\n",
      "{'eval_loss': 0.5711188316345215, 'eval_accuracy': 0.75, 'eval_f1': 0.8571428571428571, 'eval_precision': 0.75, 'eval_recall': 1.0, 'eval_runtime': 0.031, 'eval_samples_per_second': 128.948, 'eval_steps_per_second': 32.237, 'epoch': 3.0}\n",
      "{'eval_loss': 0.5513963103294373, 'eval_accuracy': 0.75, 'eval_f1': 0.8571428571428571, 'eval_precision': 0.75, 'eval_recall': 1.0, 'eval_runtime': 0.0336, 'eval_samples_per_second': 118.899, 'eval_steps_per_second': 29.725, 'epoch': 4.0}\n",
      "{'eval_loss': 0.5439140796661377, 'eval_accuracy': 0.75, 'eval_f1': 0.8571428571428571, 'eval_precision': 0.75, 'eval_recall': 1.0, 'eval_runtime': 0.0234, 'eval_samples_per_second': 171.056, 'eval_steps_per_second': 42.764, 'epoch': 5.0}\n",
      "{'train_runtime': 8.2999, 'train_samples_per_second': 9.639, 'train_steps_per_second': 1.205, 'train_loss': 0.638858699798584, 'epoch': 5.0}\n",
      "{'eval_loss': 0.5439140796661377, 'eval_model_preparation_time': 0.0004, 'eval_accuracy': 0.75, 'eval_f1': 0.8571428571428571, 'eval_precision': 0.75, 'eval_recall': 1.0, 'eval_runtime': 0.0257, 'eval_samples_per_second': 155.819, 'eval_steps_per_second': 38.955}\n",
      " ↪ Fold 5/5\n"
     ]
    },
    {
     "data": {
      "application/vnd.jupyter.widget-view+json": {
       "model_id": "06b5c28f77d444e7a7a866dcd673b667",
       "version_major": 2,
       "version_minor": 0
      },
      "text/plain": [
       "Map:   0%|          | 0/16 [00:00<?, ? examples/s]"
      ]
     },
     "metadata": {},
     "output_type": "display_data"
    },
    {
     "data": {
      "application/vnd.jupyter.widget-view+json": {
       "model_id": "d64bc5dd047044bcbc9d36667b7ed27e",
       "version_major": 2,
       "version_minor": 0
      },
      "text/plain": [
       "Map:   0%|          | 0/4 [00:00<?, ? examples/s]"
      ]
     },
     "metadata": {},
     "output_type": "display_data"
    },
    {
     "name": "stderr",
     "output_type": "stream",
     "text": [
      "/Users/gchhetri/Developer/Python/15min-city-bench/.venv/lib/python3.12/site-packages/transformers/training_args.py:1604: FutureWarning: using `no_cuda` is deprecated and will be removed in version 5.0 of 🤗 Transformers. Use `use_cpu` instead\n",
      "  warnings.warn(\n"
     ]
    },
    {
     "name": "stdout",
     "output_type": "stream",
     "text": [
      "{'eval_loss': 0.6740739345550537, 'eval_accuracy': 0.5, 'eval_f1': 0.6666666666666666, 'eval_precision': 0.5, 'eval_recall': 1.0, 'eval_runtime': 0.0274, 'eval_samples_per_second': 146.246, 'eval_steps_per_second': 36.562, 'epoch': 1.0}\n",
      "{'eval_loss': 0.6580407619476318, 'eval_accuracy': 0.5, 'eval_f1': 0.6666666666666666, 'eval_precision': 0.5, 'eval_recall': 1.0, 'eval_runtime': 0.0286, 'eval_samples_per_second': 139.885, 'eval_steps_per_second': 34.971, 'epoch': 2.0}\n",
      "{'eval_loss': 0.6436421871185303, 'eval_accuracy': 0.5, 'eval_f1': 0.6666666666666666, 'eval_precision': 0.5, 'eval_recall': 1.0, 'eval_runtime': 0.0319, 'eval_samples_per_second': 125.212, 'eval_steps_per_second': 31.303, 'epoch': 3.0}\n",
      "{'eval_loss': 0.6357109546661377, 'eval_accuracy': 0.5, 'eval_f1': 0.6666666666666666, 'eval_precision': 0.5, 'eval_recall': 1.0, 'eval_runtime': 0.0299, 'eval_samples_per_second': 133.926, 'eval_steps_per_second': 33.482, 'epoch': 4.0}\n",
      "{'eval_loss': 0.6321200728416443, 'eval_accuracy': 0.5, 'eval_f1': 0.6666666666666666, 'eval_precision': 0.5, 'eval_recall': 1.0, 'eval_runtime': 0.028, 'eval_samples_per_second': 143.097, 'eval_steps_per_second': 35.774, 'epoch': 5.0}\n",
      "{'train_runtime': 7.399, 'train_samples_per_second': 10.812, 'train_steps_per_second': 1.352, 'train_loss': 0.6271500587463379, 'epoch': 5.0}\n",
      "{'eval_loss': 0.6321200728416443, 'eval_model_preparation_time': 0.0006, 'eval_accuracy': 0.5, 'eval_f1': 0.6666666666666666, 'eval_precision': 0.5, 'eval_recall': 1.0, 'eval_runtime': 0.0344, 'eval_samples_per_second': 116.123, 'eval_steps_per_second': 29.031}\n",
      "\n",
      "🔍 Model: nreimers/MiniLM-L6-H384-uncased\n",
      " ↪ Fold 1/5\n"
     ]
    },
    {
     "data": {
      "application/vnd.jupyter.widget-view+json": {
       "model_id": "97f163c27c924381a3ba8d60101a26a5",
       "version_major": 2,
       "version_minor": 0
      },
      "text/plain": [
       "Map:   0%|          | 0/16 [00:00<?, ? examples/s]"
      ]
     },
     "metadata": {},
     "output_type": "display_data"
    },
    {
     "data": {
      "application/vnd.jupyter.widget-view+json": {
       "model_id": "1bddc12d6018437a8f147b41de3aa8af",
       "version_major": 2,
       "version_minor": 0
      },
      "text/plain": [
       "Map:   0%|          | 0/4 [00:00<?, ? examples/s]"
      ]
     },
     "metadata": {},
     "output_type": "display_data"
    },
    {
     "name": "stderr",
     "output_type": "stream",
     "text": [
      "/Users/gchhetri/Developer/Python/15min-city-bench/.venv/lib/python3.12/site-packages/transformers/training_args.py:1604: FutureWarning: using `no_cuda` is deprecated and will be removed in version 5.0 of 🤗 Transformers. Use `use_cpu` instead\n",
      "  warnings.warn(\n"
     ]
    },
    {
     "name": "stdout",
     "output_type": "stream",
     "text": [
      "{'eval_loss': 0.6711275577545166, 'eval_accuracy': 0.75, 'eval_f1': 0.8571428571428571, 'eval_precision': 0.75, 'eval_recall': 1.0, 'eval_runtime': 0.0109, 'eval_samples_per_second': 368.196, 'eval_steps_per_second': 92.049, 'epoch': 1.0}\n",
      "{'eval_loss': 0.6659420728683472, 'eval_accuracy': 0.75, 'eval_f1': 0.8571428571428571, 'eval_precision': 0.75, 'eval_recall': 1.0, 'eval_runtime': 0.0115, 'eval_samples_per_second': 348.126, 'eval_steps_per_second': 87.031, 'epoch': 2.0}\n"
     ]
    },
    {
     "name": "stderr",
     "output_type": "stream",
     "text": [
      "/Users/gchhetri/Developer/Python/15min-city-bench/.venv/lib/python3.12/site-packages/transformers/trainer.py:4090: UserWarning: mtime may not be reliable on this filesystem, falling back to numerical ordering\n",
      "  warnings.warn(\"mtime may not be reliable on this filesystem, falling back to numerical ordering\")\n"
     ]
    },
    {
     "name": "stdout",
     "output_type": "stream",
     "text": [
      "{'eval_loss': 0.663774847984314, 'eval_accuracy': 0.75, 'eval_f1': 0.8571428571428571, 'eval_precision': 0.75, 'eval_recall': 1.0, 'eval_runtime': 0.0089, 'eval_samples_per_second': 451.474, 'eval_steps_per_second': 112.868, 'epoch': 3.0}\n",
      "{'eval_loss': 0.6617461442947388, 'eval_accuracy': 0.75, 'eval_f1': 0.8571428571428571, 'eval_precision': 0.75, 'eval_recall': 1.0, 'eval_runtime': 0.0117, 'eval_samples_per_second': 342.029, 'eval_steps_per_second': 85.507, 'epoch': 4.0}\n",
      "{'eval_loss': 0.6608476638793945, 'eval_accuracy': 0.75, 'eval_f1': 0.8571428571428571, 'eval_precision': 0.75, 'eval_recall': 1.0, 'eval_runtime': 0.0135, 'eval_samples_per_second': 296.763, 'eval_steps_per_second': 74.191, 'epoch': 5.0}\n",
      "{'train_runtime': 2.8945, 'train_samples_per_second': 27.638, 'train_steps_per_second': 3.455, 'train_loss': 0.6701401710510254, 'epoch': 5.0}\n",
      "{'eval_loss': 0.6608476638793945, 'eval_model_preparation_time': 0.0006, 'eval_accuracy': 0.75, 'eval_f1': 0.8571428571428571, 'eval_precision': 0.75, 'eval_recall': 1.0, 'eval_runtime': 0.0153, 'eval_samples_per_second': 261.935, 'eval_steps_per_second': 65.484}\n",
      " ↪ Fold 2/5\n"
     ]
    },
    {
     "data": {
      "application/vnd.jupyter.widget-view+json": {
       "model_id": "23361fb40f4e4722b04ea79665fdc9ba",
       "version_major": 2,
       "version_minor": 0
      },
      "text/plain": [
       "Map:   0%|          | 0/16 [00:00<?, ? examples/s]"
      ]
     },
     "metadata": {},
     "output_type": "display_data"
    },
    {
     "data": {
      "application/vnd.jupyter.widget-view+json": {
       "model_id": "ec544eaef1a447899d303e8cc3d9dbff",
       "version_major": 2,
       "version_minor": 0
      },
      "text/plain": [
       "Map:   0%|          | 0/4 [00:00<?, ? examples/s]"
      ]
     },
     "metadata": {},
     "output_type": "display_data"
    },
    {
     "name": "stderr",
     "output_type": "stream",
     "text": [
      "/Users/gchhetri/Developer/Python/15min-city-bench/.venv/lib/python3.12/site-packages/transformers/training_args.py:1604: FutureWarning: using `no_cuda` is deprecated and will be removed in version 5.0 of 🤗 Transformers. Use `use_cpu` instead\n",
      "  warnings.warn(\n"
     ]
    },
    {
     "name": "stdout",
     "output_type": "stream",
     "text": [
      "{'eval_loss': 0.6689113974571228, 'eval_accuracy': 0.75, 'eval_f1': 0.8571428571428571, 'eval_precision': 0.75, 'eval_recall': 1.0, 'eval_runtime': 0.0167, 'eval_samples_per_second': 238.893, 'eval_steps_per_second': 59.723, 'epoch': 1.0}\n",
      "{'eval_loss': 0.6642026901245117, 'eval_accuracy': 0.75, 'eval_f1': 0.8571428571428571, 'eval_precision': 0.75, 'eval_recall': 1.0, 'eval_runtime': 0.0164, 'eval_samples_per_second': 244.452, 'eval_steps_per_second': 61.113, 'epoch': 2.0}\n"
     ]
    },
    {
     "name": "stderr",
     "output_type": "stream",
     "text": [
      "/Users/gchhetri/Developer/Python/15min-city-bench/.venv/lib/python3.12/site-packages/transformers/trainer.py:4090: UserWarning: mtime may not be reliable on this filesystem, falling back to numerical ordering\n",
      "  warnings.warn(\"mtime may not be reliable on this filesystem, falling back to numerical ordering\")\n"
     ]
    },
    {
     "name": "stdout",
     "output_type": "stream",
     "text": [
      "{'eval_loss': 0.6607333421707153, 'eval_accuracy': 0.75, 'eval_f1': 0.8571428571428571, 'eval_precision': 0.75, 'eval_recall': 1.0, 'eval_runtime': 0.0186, 'eval_samples_per_second': 215.04, 'eval_steps_per_second': 53.76, 'epoch': 3.0}\n",
      "{'eval_loss': 0.6587000489234924, 'eval_accuracy': 0.75, 'eval_f1': 0.8571428571428571, 'eval_precision': 0.75, 'eval_recall': 1.0, 'eval_runtime': 0.0193, 'eval_samples_per_second': 207.587, 'eval_steps_per_second': 51.897, 'epoch': 4.0}\n",
      "{'eval_loss': 0.6576870679855347, 'eval_accuracy': 0.75, 'eval_f1': 0.8571428571428571, 'eval_precision': 0.75, 'eval_recall': 1.0, 'eval_runtime': 0.0197, 'eval_samples_per_second': 203.479, 'eval_steps_per_second': 50.87, 'epoch': 5.0}\n",
      "{'train_runtime': 2.9998, 'train_samples_per_second': 26.668, 'train_steps_per_second': 3.334, 'train_loss': 0.6730785846710206, 'epoch': 5.0}\n",
      "{'eval_loss': 0.6576870679855347, 'eval_model_preparation_time': 0.0005, 'eval_accuracy': 0.75, 'eval_f1': 0.8571428571428571, 'eval_precision': 0.75, 'eval_recall': 1.0, 'eval_runtime': 0.0183, 'eval_samples_per_second': 218.927, 'eval_steps_per_second': 54.732}\n",
      " ↪ Fold 3/5\n"
     ]
    },
    {
     "data": {
      "application/vnd.jupyter.widget-view+json": {
       "model_id": "33bff429b95f47168043091bf2663fce",
       "version_major": 2,
       "version_minor": 0
      },
      "text/plain": [
       "Map:   0%|          | 0/16 [00:00<?, ? examples/s]"
      ]
     },
     "metadata": {},
     "output_type": "display_data"
    },
    {
     "data": {
      "application/vnd.jupyter.widget-view+json": {
       "model_id": "53fc49451504466c80bdc8a3990dd007",
       "version_major": 2,
       "version_minor": 0
      },
      "text/plain": [
       "Map:   0%|          | 0/4 [00:00<?, ? examples/s]"
      ]
     },
     "metadata": {},
     "output_type": "display_data"
    },
    {
     "name": "stderr",
     "output_type": "stream",
     "text": [
      "/Users/gchhetri/Developer/Python/15min-city-bench/.venv/lib/python3.12/site-packages/transformers/training_args.py:1604: FutureWarning: using `no_cuda` is deprecated and will be removed in version 5.0 of 🤗 Transformers. Use `use_cpu` instead\n",
      "  warnings.warn(\n"
     ]
    },
    {
     "name": "stdout",
     "output_type": "stream",
     "text": [
      "{'eval_loss': 0.6710930466651917, 'eval_accuracy': 0.75, 'eval_f1': 0.8571428571428571, 'eval_precision': 0.75, 'eval_recall': 1.0, 'eval_runtime': 0.0194, 'eval_samples_per_second': 205.762, 'eval_steps_per_second': 51.44, 'epoch': 1.0}\n",
      "{'eval_loss': 0.6664543151855469, 'eval_accuracy': 0.75, 'eval_f1': 0.8571428571428571, 'eval_precision': 0.75, 'eval_recall': 1.0, 'eval_runtime': 0.0232, 'eval_samples_per_second': 172.056, 'eval_steps_per_second': 43.014, 'epoch': 2.0}\n"
     ]
    },
    {
     "name": "stderr",
     "output_type": "stream",
     "text": [
      "/Users/gchhetri/Developer/Python/15min-city-bench/.venv/lib/python3.12/site-packages/transformers/trainer.py:4090: UserWarning: mtime may not be reliable on this filesystem, falling back to numerical ordering\n",
      "  warnings.warn(\"mtime may not be reliable on this filesystem, falling back to numerical ordering\")\n"
     ]
    },
    {
     "name": "stdout",
     "output_type": "stream",
     "text": [
      "{'eval_loss': 0.6628516316413879, 'eval_accuracy': 0.75, 'eval_f1': 0.8571428571428571, 'eval_precision': 0.75, 'eval_recall': 1.0, 'eval_runtime': 0.0184, 'eval_samples_per_second': 217.807, 'eval_steps_per_second': 54.452, 'epoch': 3.0}\n",
      "{'eval_loss': 0.6612101197242737, 'eval_accuracy': 0.75, 'eval_f1': 0.8571428571428571, 'eval_precision': 0.75, 'eval_recall': 1.0, 'eval_runtime': 0.0266, 'eval_samples_per_second': 150.172, 'eval_steps_per_second': 37.543, 'epoch': 4.0}\n",
      "{'eval_loss': 0.6605267524719238, 'eval_accuracy': 0.75, 'eval_f1': 0.8571428571428571, 'eval_precision': 0.75, 'eval_recall': 1.0, 'eval_runtime': 0.0272, 'eval_samples_per_second': 147.243, 'eval_steps_per_second': 36.811, 'epoch': 5.0}\n",
      "{'train_runtime': 3.2789, 'train_samples_per_second': 24.399, 'train_steps_per_second': 3.05, 'train_loss': 0.6742732524871826, 'epoch': 5.0}\n",
      "{'eval_loss': 0.6605267524719238, 'eval_model_preparation_time': 0.0006, 'eval_accuracy': 0.75, 'eval_f1': 0.8571428571428571, 'eval_precision': 0.75, 'eval_recall': 1.0, 'eval_runtime': 0.0188, 'eval_samples_per_second': 212.496, 'eval_steps_per_second': 53.124}\n",
      " ↪ Fold 4/5\n"
     ]
    },
    {
     "data": {
      "application/vnd.jupyter.widget-view+json": {
       "model_id": "8ed290d59b8b486ebb28ef44732b8dee",
       "version_major": 2,
       "version_minor": 0
      },
      "text/plain": [
       "Map:   0%|          | 0/16 [00:00<?, ? examples/s]"
      ]
     },
     "metadata": {},
     "output_type": "display_data"
    },
    {
     "data": {
      "application/vnd.jupyter.widget-view+json": {
       "model_id": "056c138216804d02bc0a2c529be0b087",
       "version_major": 2,
       "version_minor": 0
      },
      "text/plain": [
       "Map:   0%|          | 0/4 [00:00<?, ? examples/s]"
      ]
     },
     "metadata": {},
     "output_type": "display_data"
    },
    {
     "name": "stderr",
     "output_type": "stream",
     "text": [
      "/Users/gchhetri/Developer/Python/15min-city-bench/.venv/lib/python3.12/site-packages/transformers/training_args.py:1604: FutureWarning: using `no_cuda` is deprecated and will be removed in version 5.0 of 🤗 Transformers. Use `use_cpu` instead\n",
      "  warnings.warn(\n"
     ]
    },
    {
     "name": "stdout",
     "output_type": "stream",
     "text": [
      "{'eval_loss': 0.6701566576957703, 'eval_accuracy': 0.75, 'eval_f1': 0.8571428571428571, 'eval_precision': 0.75, 'eval_recall': 1.0, 'eval_runtime': 0.0168, 'eval_samples_per_second': 238.039, 'eval_steps_per_second': 59.51, 'epoch': 1.0}\n",
      "{'eval_loss': 0.6631861329078674, 'eval_accuracy': 0.75, 'eval_f1': 0.8571428571428571, 'eval_precision': 0.75, 'eval_recall': 1.0, 'eval_runtime': 0.0176, 'eval_samples_per_second': 227.855, 'eval_steps_per_second': 56.964, 'epoch': 2.0}\n"
     ]
    },
    {
     "name": "stderr",
     "output_type": "stream",
     "text": [
      "/Users/gchhetri/Developer/Python/15min-city-bench/.venv/lib/python3.12/site-packages/transformers/trainer.py:4090: UserWarning: mtime may not be reliable on this filesystem, falling back to numerical ordering\n",
      "  warnings.warn(\"mtime may not be reliable on this filesystem, falling back to numerical ordering\")\n"
     ]
    },
    {
     "name": "stdout",
     "output_type": "stream",
     "text": [
      "{'eval_loss': 0.658109724521637, 'eval_accuracy': 0.75, 'eval_f1': 0.8571428571428571, 'eval_precision': 0.75, 'eval_recall': 1.0, 'eval_runtime': 0.0757, 'eval_samples_per_second': 52.832, 'eval_steps_per_second': 13.208, 'epoch': 3.0}\n",
      "{'eval_loss': 0.6548885107040405, 'eval_accuracy': 0.75, 'eval_f1': 0.8571428571428571, 'eval_precision': 0.75, 'eval_recall': 1.0, 'eval_runtime': 0.0175, 'eval_samples_per_second': 228.607, 'eval_steps_per_second': 57.152, 'epoch': 4.0}\n",
      "{'eval_loss': 0.6536555886268616, 'eval_accuracy': 0.75, 'eval_f1': 0.8571428571428571, 'eval_precision': 0.75, 'eval_recall': 1.0, 'eval_runtime': 0.0184, 'eval_samples_per_second': 217.863, 'eval_steps_per_second': 54.466, 'epoch': 5.0}\n",
      "{'train_runtime': 3.2549, 'train_samples_per_second': 24.578, 'train_steps_per_second': 3.072, 'train_loss': 0.6724155426025391, 'epoch': 5.0}\n",
      "{'eval_loss': 0.6536555886268616, 'eval_model_preparation_time': 0.0006, 'eval_accuracy': 0.75, 'eval_f1': 0.8571428571428571, 'eval_precision': 0.75, 'eval_recall': 1.0, 'eval_runtime': 0.0205, 'eval_samples_per_second': 194.695, 'eval_steps_per_second': 48.674}\n",
      " ↪ Fold 5/5\n"
     ]
    },
    {
     "data": {
      "application/vnd.jupyter.widget-view+json": {
       "model_id": "07d9c9be55e340f29b9a1b9ff83328b9",
       "version_major": 2,
       "version_minor": 0
      },
      "text/plain": [
       "Map:   0%|          | 0/16 [00:00<?, ? examples/s]"
      ]
     },
     "metadata": {},
     "output_type": "display_data"
    },
    {
     "data": {
      "application/vnd.jupyter.widget-view+json": {
       "model_id": "c6fb41bfe7b84793940c44ec4de63796",
       "version_major": 2,
       "version_minor": 0
      },
      "text/plain": [
       "Map:   0%|          | 0/4 [00:00<?, ? examples/s]"
      ]
     },
     "metadata": {},
     "output_type": "display_data"
    },
    {
     "name": "stderr",
     "output_type": "stream",
     "text": [
      "/Users/gchhetri/Developer/Python/15min-city-bench/.venv/lib/python3.12/site-packages/transformers/training_args.py:1604: FutureWarning: using `no_cuda` is deprecated and will be removed in version 5.0 of 🤗 Transformers. Use `use_cpu` instead\n",
      "  warnings.warn(\n"
     ]
    },
    {
     "name": "stdout",
     "output_type": "stream",
     "text": [
      "{'eval_loss': 0.6955184936523438, 'eval_accuracy': 0.5, 'eval_f1': 0.6666666666666666, 'eval_precision': 0.5, 'eval_recall': 1.0, 'eval_runtime': 0.0179, 'eval_samples_per_second': 223.666, 'eval_steps_per_second': 55.917, 'epoch': 1.0}\n",
      "{'eval_loss': 0.69614177942276, 'eval_accuracy': 0.5, 'eval_f1': 0.6666666666666666, 'eval_precision': 0.5, 'eval_recall': 1.0, 'eval_runtime': 0.0212, 'eval_samples_per_second': 188.546, 'eval_steps_per_second': 47.137, 'epoch': 2.0}\n"
     ]
    },
    {
     "name": "stderr",
     "output_type": "stream",
     "text": [
      "/Users/gchhetri/Developer/Python/15min-city-bench/.venv/lib/python3.12/site-packages/transformers/trainer.py:4090: UserWarning: mtime may not be reliable on this filesystem, falling back to numerical ordering\n",
      "  warnings.warn(\"mtime may not be reliable on this filesystem, falling back to numerical ordering\")\n"
     ]
    },
    {
     "name": "stdout",
     "output_type": "stream",
     "text": [
      "{'train_runtime': 1.6344, 'train_samples_per_second': 48.947, 'train_steps_per_second': 6.118, 'train_loss': 0.6703445315361023, 'epoch': 2.0}\n",
      "{'eval_loss': 0.6955184936523438, 'eval_model_preparation_time': 0.0007, 'eval_accuracy': 0.5, 'eval_f1': 0.6666666666666666, 'eval_precision': 0.5, 'eval_recall': 1.0, 'eval_runtime': 0.0422, 'eval_samples_per_second': 94.872, 'eval_steps_per_second': 23.718}\n",
      "\n",
      "🔍 Model: google/electra-small-discriminator\n",
      " ↪ Fold 1/5\n"
     ]
    },
    {
     "data": {
      "application/vnd.jupyter.widget-view+json": {
       "model_id": "a1e675cc2fa34a62b5728743e2901858",
       "version_major": 2,
       "version_minor": 0
      },
      "text/plain": [
       "Map:   0%|          | 0/16 [00:00<?, ? examples/s]"
      ]
     },
     "metadata": {},
     "output_type": "display_data"
    },
    {
     "data": {
      "application/vnd.jupyter.widget-view+json": {
       "model_id": "1dc32f7805e84eb592f1d4d95b26b8fb",
       "version_major": 2,
       "version_minor": 0
      },
      "text/plain": [
       "Map:   0%|          | 0/4 [00:00<?, ? examples/s]"
      ]
     },
     "metadata": {},
     "output_type": "display_data"
    },
    {
     "name": "stderr",
     "output_type": "stream",
     "text": [
      "/Users/gchhetri/Developer/Python/15min-city-bench/.venv/lib/python3.12/site-packages/transformers/training_args.py:1604: FutureWarning: using `no_cuda` is deprecated and will be removed in version 5.0 of 🤗 Transformers. Use `use_cpu` instead\n",
      "  warnings.warn(\n"
     ]
    },
    {
     "name": "stdout",
     "output_type": "stream",
     "text": [
      "{'eval_loss': 0.7025275230407715, 'eval_accuracy': 0.25, 'eval_f1': 0.4, 'eval_precision': 0.5, 'eval_recall': 0.3333333333333333, 'eval_runtime': 0.0195, 'eval_samples_per_second': 204.633, 'eval_steps_per_second': 51.158, 'epoch': 1.0}\n",
      "{'eval_loss': 0.6975865364074707, 'eval_accuracy': 0.5, 'eval_f1': 0.6666666666666666, 'eval_precision': 0.6666666666666666, 'eval_recall': 0.6666666666666666, 'eval_runtime': 0.0308, 'eval_samples_per_second': 130.064, 'eval_steps_per_second': 32.516, 'epoch': 2.0}\n"
     ]
    },
    {
     "name": "stderr",
     "output_type": "stream",
     "text": [
      "/Users/gchhetri/Developer/Python/15min-city-bench/.venv/lib/python3.12/site-packages/transformers/trainer.py:4090: UserWarning: mtime may not be reliable on this filesystem, falling back to numerical ordering\n",
      "  warnings.warn(\"mtime may not be reliable on this filesystem, falling back to numerical ordering\")\n"
     ]
    },
    {
     "name": "stdout",
     "output_type": "stream",
     "text": [
      "{'eval_loss': 0.6954387426376343, 'eval_accuracy': 0.5, 'eval_f1': 0.6666666666666666, 'eval_precision': 0.6666666666666666, 'eval_recall': 0.6666666666666666, 'eval_runtime': 0.0192, 'eval_samples_per_second': 208.768, 'eval_steps_per_second': 52.192, 'epoch': 3.0}\n",
      "{'eval_loss': 0.6939518451690674, 'eval_accuracy': 0.5, 'eval_f1': 0.6666666666666666, 'eval_precision': 0.6666666666666666, 'eval_recall': 0.6666666666666666, 'eval_runtime': 0.0158, 'eval_samples_per_second': 253.134, 'eval_steps_per_second': 63.284, 'epoch': 4.0}\n",
      "{'eval_loss': 0.6934602856636047, 'eval_accuracy': 0.5, 'eval_f1': 0.6666666666666666, 'eval_precision': 0.6666666666666666, 'eval_recall': 0.6666666666666666, 'eval_runtime': 0.014, 'eval_samples_per_second': 285.652, 'eval_steps_per_second': 71.413, 'epoch': 5.0}\n",
      "{'train_runtime': 3.0424, 'train_samples_per_second': 26.295, 'train_steps_per_second': 3.287, 'train_loss': 0.6654580593109131, 'epoch': 5.0}\n",
      "{'eval_loss': 0.6934602856636047, 'eval_model_preparation_time': 0.001, 'eval_accuracy': 0.5, 'eval_f1': 0.6666666666666666, 'eval_precision': 0.6666666666666666, 'eval_recall': 0.6666666666666666, 'eval_runtime': 0.0149, 'eval_samples_per_second': 267.883, 'eval_steps_per_second': 66.971}\n",
      " ↪ Fold 2/5\n"
     ]
    },
    {
     "data": {
      "application/vnd.jupyter.widget-view+json": {
       "model_id": "eb2f742f6dff41c3bda3f0759749d552",
       "version_major": 2,
       "version_minor": 0
      },
      "text/plain": [
       "Map:   0%|          | 0/16 [00:00<?, ? examples/s]"
      ]
     },
     "metadata": {},
     "output_type": "display_data"
    },
    {
     "data": {
      "application/vnd.jupyter.widget-view+json": {
       "model_id": "2664022519af40cf95dddce0b88e3bb5",
       "version_major": 2,
       "version_minor": 0
      },
      "text/plain": [
       "Map:   0%|          | 0/4 [00:00<?, ? examples/s]"
      ]
     },
     "metadata": {},
     "output_type": "display_data"
    },
    {
     "name": "stderr",
     "output_type": "stream",
     "text": [
      "/Users/gchhetri/Developer/Python/15min-city-bench/.venv/lib/python3.12/site-packages/transformers/training_args.py:1604: FutureWarning: using `no_cuda` is deprecated and will be removed in version 5.0 of 🤗 Transformers. Use `use_cpu` instead\n",
      "  warnings.warn(\n"
     ]
    },
    {
     "name": "stdout",
     "output_type": "stream",
     "text": [
      "{'eval_loss': 0.6826788783073425, 'eval_accuracy': 0.75, 'eval_f1': 0.8571428571428571, 'eval_precision': 0.75, 'eval_recall': 1.0, 'eval_runtime': 0.0303, 'eval_samples_per_second': 132.073, 'eval_steps_per_second': 33.018, 'epoch': 1.0}\n",
      "{'eval_loss': 0.676508903503418, 'eval_accuracy': 0.75, 'eval_f1': 0.8571428571428571, 'eval_precision': 0.75, 'eval_recall': 1.0, 'eval_runtime': 0.0262, 'eval_samples_per_second': 152.695, 'eval_steps_per_second': 38.174, 'epoch': 2.0}\n"
     ]
    },
    {
     "name": "stderr",
     "output_type": "stream",
     "text": [
      "/Users/gchhetri/Developer/Python/15min-city-bench/.venv/lib/python3.12/site-packages/transformers/trainer.py:4090: UserWarning: mtime may not be reliable on this filesystem, falling back to numerical ordering\n",
      "  warnings.warn(\"mtime may not be reliable on this filesystem, falling back to numerical ordering\")\n"
     ]
    },
    {
     "name": "stdout",
     "output_type": "stream",
     "text": [
      "{'eval_loss': 0.6725218296051025, 'eval_accuracy': 0.75, 'eval_f1': 0.8571428571428571, 'eval_precision': 0.75, 'eval_recall': 1.0, 'eval_runtime': 0.0263, 'eval_samples_per_second': 152.311, 'eval_steps_per_second': 38.078, 'epoch': 3.0}\n",
      "{'eval_loss': 0.6702821254730225, 'eval_accuracy': 0.75, 'eval_f1': 0.8571428571428571, 'eval_precision': 0.75, 'eval_recall': 1.0, 'eval_runtime': 0.0272, 'eval_samples_per_second': 147.302, 'eval_steps_per_second': 36.825, 'epoch': 4.0}\n"
     ]
    },
    {
     "name": "stderr",
     "output_type": "stream",
     "text": [
      "/Users/gchhetri/Developer/Python/15min-city-bench/.venv/lib/python3.12/site-packages/transformers/trainer.py:4090: UserWarning: mtime may not be reliable on this filesystem, falling back to numerical ordering\n",
      "  warnings.warn(\"mtime may not be reliable on this filesystem, falling back to numerical ordering\")\n"
     ]
    },
    {
     "name": "stdout",
     "output_type": "stream",
     "text": [
      "{'eval_loss': 0.6692520976066589, 'eval_accuracy': 0.75, 'eval_f1': 0.8571428571428571, 'eval_precision': 0.75, 'eval_recall': 1.0, 'eval_runtime': 0.0306, 'eval_samples_per_second': 130.912, 'eval_steps_per_second': 32.728, 'epoch': 5.0}\n"
     ]
    },
    {
     "name": "stderr",
     "output_type": "stream",
     "text": [
      "/Users/gchhetri/Developer/Python/15min-city-bench/.venv/lib/python3.12/site-packages/transformers/trainer.py:4090: UserWarning: mtime may not be reliable on this filesystem, falling back to numerical ordering\n",
      "  warnings.warn(\"mtime may not be reliable on this filesystem, falling back to numerical ordering\")\n"
     ]
    },
    {
     "name": "stdout",
     "output_type": "stream",
     "text": [
      "{'train_runtime': 2.5641, 'train_samples_per_second': 31.201, 'train_steps_per_second': 3.9, 'train_loss': 0.669638729095459, 'epoch': 5.0}\n",
      "{'eval_loss': 0.6692520976066589, 'eval_model_preparation_time': 0.001, 'eval_accuracy': 0.75, 'eval_f1': 0.8571428571428571, 'eval_precision': 0.75, 'eval_recall': 1.0, 'eval_runtime': 0.0257, 'eval_samples_per_second': 155.654, 'eval_steps_per_second': 38.914}\n",
      " ↪ Fold 3/5\n"
     ]
    },
    {
     "data": {
      "application/vnd.jupyter.widget-view+json": {
       "model_id": "3e47a078d3e3420381e91d315accdf9a",
       "version_major": 2,
       "version_minor": 0
      },
      "text/plain": [
       "Map:   0%|          | 0/16 [00:00<?, ? examples/s]"
      ]
     },
     "metadata": {},
     "output_type": "display_data"
    },
    {
     "data": {
      "application/vnd.jupyter.widget-view+json": {
       "model_id": "77321cd6c8dd4b12890570e1224b24b9",
       "version_major": 2,
       "version_minor": 0
      },
      "text/plain": [
       "Map:   0%|          | 0/4 [00:00<?, ? examples/s]"
      ]
     },
     "metadata": {},
     "output_type": "display_data"
    },
    {
     "name": "stderr",
     "output_type": "stream",
     "text": [
      "/Users/gchhetri/Developer/Python/15min-city-bench/.venv/lib/python3.12/site-packages/transformers/training_args.py:1604: FutureWarning: using `no_cuda` is deprecated and will be removed in version 5.0 of 🤗 Transformers. Use `use_cpu` instead\n",
      "  warnings.warn(\n"
     ]
    },
    {
     "name": "stdout",
     "output_type": "stream",
     "text": [
      "{'eval_loss': 0.66196608543396, 'eval_accuracy': 1.0, 'eval_f1': 1.0, 'eval_precision': 1.0, 'eval_recall': 1.0, 'eval_runtime': 0.0289, 'eval_samples_per_second': 138.327, 'eval_steps_per_second': 34.582, 'epoch': 1.0}\n",
      "{'eval_loss': 0.6555244326591492, 'eval_accuracy': 0.75, 'eval_f1': 0.8571428571428571, 'eval_precision': 0.75, 'eval_recall': 1.0, 'eval_runtime': 0.0247, 'eval_samples_per_second': 161.838, 'eval_steps_per_second': 40.459, 'epoch': 2.0}\n"
     ]
    },
    {
     "name": "stderr",
     "output_type": "stream",
     "text": [
      "/Users/gchhetri/Developer/Python/15min-city-bench/.venv/lib/python3.12/site-packages/transformers/trainer.py:4090: UserWarning: mtime may not be reliable on this filesystem, falling back to numerical ordering\n",
      "  warnings.warn(\"mtime may not be reliable on this filesystem, falling back to numerical ordering\")\n"
     ]
    },
    {
     "name": "stdout",
     "output_type": "stream",
     "text": [
      "{'eval_loss': 0.651301383972168, 'eval_accuracy': 0.75, 'eval_f1': 0.8571428571428571, 'eval_precision': 0.75, 'eval_recall': 1.0, 'eval_runtime': 0.0269, 'eval_samples_per_second': 148.474, 'eval_steps_per_second': 37.118, 'epoch': 3.0}\n",
      "{'eval_loss': 0.6488347053527832, 'eval_accuracy': 0.75, 'eval_f1': 0.8571428571428571, 'eval_precision': 0.75, 'eval_recall': 1.0, 'eval_runtime': 0.0335, 'eval_samples_per_second': 119.407, 'eval_steps_per_second': 29.852, 'epoch': 4.0}\n",
      "{'eval_loss': 0.647770881652832, 'eval_accuracy': 0.75, 'eval_f1': 0.8571428571428571, 'eval_precision': 0.75, 'eval_recall': 1.0, 'eval_runtime': 0.0279, 'eval_samples_per_second': 143.308, 'eval_steps_per_second': 35.827, 'epoch': 5.0}\n",
      "{'train_runtime': 2.7464, 'train_samples_per_second': 29.129, 'train_steps_per_second': 3.641, 'train_loss': 0.6762292861938477, 'epoch': 5.0}\n",
      "{'eval_loss': 0.647770881652832, 'eval_model_preparation_time': 0.001, 'eval_accuracy': 0.75, 'eval_f1': 0.8571428571428571, 'eval_precision': 0.75, 'eval_recall': 1.0, 'eval_runtime': 0.0363, 'eval_samples_per_second': 110.344, 'eval_steps_per_second': 27.586}\n",
      " ↪ Fold 4/5\n"
     ]
    },
    {
     "data": {
      "application/vnd.jupyter.widget-view+json": {
       "model_id": "abaf397489904e72b3c0cf1ca51941cc",
       "version_major": 2,
       "version_minor": 0
      },
      "text/plain": [
       "Map:   0%|          | 0/16 [00:00<?, ? examples/s]"
      ]
     },
     "metadata": {},
     "output_type": "display_data"
    },
    {
     "data": {
      "application/vnd.jupyter.widget-view+json": {
       "model_id": "bb447875cfc44ed0bfbe689001ab66df",
       "version_major": 2,
       "version_minor": 0
      },
      "text/plain": [
       "Map:   0%|          | 0/4 [00:00<?, ? examples/s]"
      ]
     },
     "metadata": {},
     "output_type": "display_data"
    },
    {
     "name": "stderr",
     "output_type": "stream",
     "text": [
      "/Users/gchhetri/Developer/Python/15min-city-bench/.venv/lib/python3.12/site-packages/transformers/training_args.py:1604: FutureWarning: using `no_cuda` is deprecated and will be removed in version 5.0 of 🤗 Transformers. Use `use_cpu` instead\n",
      "  warnings.warn(\n"
     ]
    },
    {
     "name": "stdout",
     "output_type": "stream",
     "text": [
      "{'eval_loss': 0.6679656505584717, 'eval_accuracy': 0.75, 'eval_f1': 0.8571428571428571, 'eval_precision': 0.75, 'eval_recall': 1.0, 'eval_runtime': 0.0241, 'eval_samples_per_second': 165.743, 'eval_steps_per_second': 41.436, 'epoch': 1.0}\n",
      "{'eval_loss': 0.6604020595550537, 'eval_accuracy': 0.75, 'eval_f1': 0.8571428571428571, 'eval_precision': 0.75, 'eval_recall': 1.0, 'eval_runtime': 0.0264, 'eval_samples_per_second': 151.479, 'eval_steps_per_second': 37.87, 'epoch': 2.0}\n"
     ]
    },
    {
     "name": "stderr",
     "output_type": "stream",
     "text": [
      "/Users/gchhetri/Developer/Python/15min-city-bench/.venv/lib/python3.12/site-packages/transformers/trainer.py:4090: UserWarning: mtime may not be reliable on this filesystem, falling back to numerical ordering\n",
      "  warnings.warn(\"mtime may not be reliable on this filesystem, falling back to numerical ordering\")\n"
     ]
    },
    {
     "name": "stdout",
     "output_type": "stream",
     "text": [
      "{'eval_loss': 0.6551768183708191, 'eval_accuracy': 0.75, 'eval_f1': 0.8571428571428571, 'eval_precision': 0.75, 'eval_recall': 1.0, 'eval_runtime': 0.0235, 'eval_samples_per_second': 170.502, 'eval_steps_per_second': 42.625, 'epoch': 3.0}\n"
     ]
    },
    {
     "name": "stderr",
     "output_type": "stream",
     "text": [
      "/Users/gchhetri/Developer/Python/15min-city-bench/.venv/lib/python3.12/site-packages/transformers/trainer.py:4090: UserWarning: mtime may not be reliable on this filesystem, falling back to numerical ordering\n",
      "  warnings.warn(\"mtime may not be reliable on this filesystem, falling back to numerical ordering\")\n"
     ]
    },
    {
     "name": "stdout",
     "output_type": "stream",
     "text": [
      "{'eval_loss': 0.6520535945892334, 'eval_accuracy': 0.75, 'eval_f1': 0.8571428571428571, 'eval_precision': 0.75, 'eval_recall': 1.0, 'eval_runtime': 0.0265, 'eval_samples_per_second': 150.829, 'eval_steps_per_second': 37.707, 'epoch': 4.0}\n"
     ]
    },
    {
     "name": "stderr",
     "output_type": "stream",
     "text": [
      "/Users/gchhetri/Developer/Python/15min-city-bench/.venv/lib/python3.12/site-packages/transformers/trainer.py:4090: UserWarning: mtime may not be reliable on this filesystem, falling back to numerical ordering\n",
      "  warnings.warn(\"mtime may not be reliable on this filesystem, falling back to numerical ordering\")\n"
     ]
    },
    {
     "name": "stdout",
     "output_type": "stream",
     "text": [
      "{'eval_loss': 0.6508297920227051, 'eval_accuracy': 0.75, 'eval_f1': 0.8571428571428571, 'eval_precision': 0.75, 'eval_recall': 1.0, 'eval_runtime': 0.0289, 'eval_samples_per_second': 138.466, 'eval_steps_per_second': 34.616, 'epoch': 5.0}\n",
      "{'train_runtime': 2.6177, 'train_samples_per_second': 30.561, 'train_steps_per_second': 3.82, 'train_loss': 0.6733861923217773, 'epoch': 5.0}\n",
      "{'eval_loss': 0.6508297920227051, 'eval_model_preparation_time': 0.001, 'eval_accuracy': 0.75, 'eval_f1': 0.8571428571428571, 'eval_precision': 0.75, 'eval_recall': 1.0, 'eval_runtime': 0.0274, 'eval_samples_per_second': 145.851, 'eval_steps_per_second': 36.463}\n",
      " ↪ Fold 5/5\n"
     ]
    },
    {
     "data": {
      "application/vnd.jupyter.widget-view+json": {
       "model_id": "fade266771eb4e799d89befd3537b2a5",
       "version_major": 2,
       "version_minor": 0
      },
      "text/plain": [
       "Map:   0%|          | 0/16 [00:00<?, ? examples/s]"
      ]
     },
     "metadata": {},
     "output_type": "display_data"
    },
    {
     "data": {
      "application/vnd.jupyter.widget-view+json": {
       "model_id": "189bacaa45824a4c913b0a63ef514144",
       "version_major": 2,
       "version_minor": 0
      },
      "text/plain": [
       "Map:   0%|          | 0/4 [00:00<?, ? examples/s]"
      ]
     },
     "metadata": {},
     "output_type": "display_data"
    },
    {
     "name": "stderr",
     "output_type": "stream",
     "text": [
      "/Users/gchhetri/Developer/Python/15min-city-bench/.venv/lib/python3.12/site-packages/transformers/training_args.py:1604: FutureWarning: using `no_cuda` is deprecated and will be removed in version 5.0 of 🤗 Transformers. Use `use_cpu` instead\n",
      "  warnings.warn(\n"
     ]
    },
    {
     "name": "stdout",
     "output_type": "stream",
     "text": [
      "{'eval_loss': 0.6813454627990723, 'eval_accuracy': 0.5, 'eval_f1': 0.6666666666666666, 'eval_precision': 0.5, 'eval_recall': 1.0, 'eval_runtime': 0.0304, 'eval_samples_per_second': 131.514, 'eval_steps_per_second': 32.878, 'epoch': 1.0}\n",
      "{'eval_loss': 0.6779568195343018, 'eval_accuracy': 0.5, 'eval_f1': 0.6666666666666666, 'eval_precision': 0.5, 'eval_recall': 1.0, 'eval_runtime': 0.0243, 'eval_samples_per_second': 164.616, 'eval_steps_per_second': 41.154, 'epoch': 2.0}\n"
     ]
    },
    {
     "name": "stderr",
     "output_type": "stream",
     "text": [
      "/Users/gchhetri/Developer/Python/15min-city-bench/.venv/lib/python3.12/site-packages/transformers/trainer.py:4090: UserWarning: mtime may not be reliable on this filesystem, falling back to numerical ordering\n",
      "  warnings.warn(\"mtime may not be reliable on this filesystem, falling back to numerical ordering\")\n"
     ]
    },
    {
     "name": "stdout",
     "output_type": "stream",
     "text": [
      "{'eval_loss': 0.6756519079208374, 'eval_accuracy': 0.5, 'eval_f1': 0.6666666666666666, 'eval_precision': 0.5, 'eval_recall': 1.0, 'eval_runtime': 0.0266, 'eval_samples_per_second': 150.234, 'eval_steps_per_second': 37.558, 'epoch': 3.0}\n"
     ]
    },
    {
     "name": "stderr",
     "output_type": "stream",
     "text": [
      "/Users/gchhetri/Developer/Python/15min-city-bench/.venv/lib/python3.12/site-packages/transformers/trainer.py:4090: UserWarning: mtime may not be reliable on this filesystem, falling back to numerical ordering\n",
      "  warnings.warn(\"mtime may not be reliable on this filesystem, falling back to numerical ordering\")\n"
     ]
    },
    {
     "name": "stdout",
     "output_type": "stream",
     "text": [
      "{'eval_loss': 0.6741756200790405, 'eval_accuracy': 0.5, 'eval_f1': 0.6666666666666666, 'eval_precision': 0.5, 'eval_recall': 1.0, 'eval_runtime': 0.0275, 'eval_samples_per_second': 145.412, 'eval_steps_per_second': 36.353, 'epoch': 4.0}\n",
      "{'eval_loss': 0.6735413074493408, 'eval_accuracy': 0.5, 'eval_f1': 0.6666666666666666, 'eval_precision': 0.5, 'eval_recall': 1.0, 'eval_runtime': 0.0236, 'eval_samples_per_second': 169.234, 'eval_steps_per_second': 42.309, 'epoch': 5.0}\n",
      "{'train_runtime': 2.5877, 'train_samples_per_second': 30.916, 'train_steps_per_second': 3.864, 'train_loss': 0.6724793910980225, 'epoch': 5.0}\n",
      "{'eval_loss': 0.6735413074493408, 'eval_model_preparation_time': 0.0011, 'eval_accuracy': 0.5, 'eval_f1': 0.6666666666666666, 'eval_precision': 0.5, 'eval_recall': 1.0, 'eval_runtime': 0.0273, 'eval_samples_per_second': 146.376, 'eval_steps_per_second': 36.594}\n",
      "\n",
      "🔍 Model: huawei-noah/TinyBERT_General_4L_312D\n",
      " ↪ Fold 1/5\n"
     ]
    },
    {
     "data": {
      "application/vnd.jupyter.widget-view+json": {
       "model_id": "5721a1ecb0694fb6a93888108c1cc25d",
       "version_major": 2,
       "version_minor": 0
      },
      "text/plain": [
       "Map:   0%|          | 0/16 [00:00<?, ? examples/s]"
      ]
     },
     "metadata": {},
     "output_type": "display_data"
    },
    {
     "data": {
      "application/vnd.jupyter.widget-view+json": {
       "model_id": "79fe2bb95e6f4eddbf97a7455c0059d2",
       "version_major": 2,
       "version_minor": 0
      },
      "text/plain": [
       "Map:   0%|          | 0/4 [00:00<?, ? examples/s]"
      ]
     },
     "metadata": {},
     "output_type": "display_data"
    },
    {
     "name": "stderr",
     "output_type": "stream",
     "text": [
      "/Users/gchhetri/Developer/Python/15min-city-bench/.venv/lib/python3.12/site-packages/transformers/training_args.py:1604: FutureWarning: using `no_cuda` is deprecated and will be removed in version 5.0 of 🤗 Transformers. Use `use_cpu` instead\n",
      "  warnings.warn(\n"
     ]
    },
    {
     "name": "stdout",
     "output_type": "stream",
     "text": [
      "{'eval_loss': 0.6890227198600769, 'eval_accuracy': 0.75, 'eval_f1': 0.8571428571428571, 'eval_precision': 0.75, 'eval_recall': 1.0, 'eval_runtime': 0.0073, 'eval_samples_per_second': 546.365, 'eval_steps_per_second': 136.591, 'epoch': 1.0}\n",
      "{'eval_loss': 0.6841299533843994, 'eval_accuracy': 0.75, 'eval_f1': 0.8571428571428571, 'eval_precision': 0.75, 'eval_recall': 1.0, 'eval_runtime': 0.0107, 'eval_samples_per_second': 373.134, 'eval_steps_per_second': 93.283, 'epoch': 2.0}\n"
     ]
    },
    {
     "name": "stderr",
     "output_type": "stream",
     "text": [
      "/Users/gchhetri/Developer/Python/15min-city-bench/.venv/lib/python3.12/site-packages/transformers/trainer.py:4090: UserWarning: mtime may not be reliable on this filesystem, falling back to numerical ordering\n",
      "  warnings.warn(\"mtime may not be reliable on this filesystem, falling back to numerical ordering\")\n"
     ]
    },
    {
     "name": "stdout",
     "output_type": "stream",
     "text": [
      "{'eval_loss': 0.6817242503166199, 'eval_accuracy': 0.75, 'eval_f1': 0.8571428571428571, 'eval_precision': 0.75, 'eval_recall': 1.0, 'eval_runtime': 0.0113, 'eval_samples_per_second': 354.286, 'eval_steps_per_second': 88.572, 'epoch': 3.0}\n"
     ]
    },
    {
     "name": "stderr",
     "output_type": "stream",
     "text": [
      "/Users/gchhetri/Developer/Python/15min-city-bench/.venv/lib/python3.12/site-packages/transformers/trainer.py:4090: UserWarning: mtime may not be reliable on this filesystem, falling back to numerical ordering\n",
      "  warnings.warn(\"mtime may not be reliable on this filesystem, falling back to numerical ordering\")\n"
     ]
    },
    {
     "name": "stdout",
     "output_type": "stream",
     "text": [
      "{'eval_loss': 0.6799689531326294, 'eval_accuracy': 0.75, 'eval_f1': 0.8571428571428571, 'eval_precision': 0.75, 'eval_recall': 1.0, 'eval_runtime': 0.0095, 'eval_samples_per_second': 419.588, 'eval_steps_per_second': 104.897, 'epoch': 4.0}\n"
     ]
    },
    {
     "name": "stderr",
     "output_type": "stream",
     "text": [
      "/Users/gchhetri/Developer/Python/15min-city-bench/.venv/lib/python3.12/site-packages/transformers/trainer.py:4090: UserWarning: mtime may not be reliable on this filesystem, falling back to numerical ordering\n",
      "  warnings.warn(\"mtime may not be reliable on this filesystem, falling back to numerical ordering\")\n"
     ]
    },
    {
     "name": "stdout",
     "output_type": "stream",
     "text": [
      "{'eval_loss': 0.6793385744094849, 'eval_accuracy': 0.75, 'eval_f1': 0.8571428571428571, 'eval_precision': 0.75, 'eval_recall': 1.0, 'eval_runtime': 0.0118, 'eval_samples_per_second': 338.209, 'eval_steps_per_second': 84.552, 'epoch': 5.0}\n"
     ]
    },
    {
     "name": "stderr",
     "output_type": "stream",
     "text": [
      "/Users/gchhetri/Developer/Python/15min-city-bench/.venv/lib/python3.12/site-packages/transformers/trainer.py:4090: UserWarning: mtime may not be reliable on this filesystem, falling back to numerical ordering\n",
      "  warnings.warn(\"mtime may not be reliable on this filesystem, falling back to numerical ordering\")\n"
     ]
    },
    {
     "name": "stdout",
     "output_type": "stream",
     "text": [
      "{'train_runtime': 2.05, 'train_samples_per_second': 39.025, 'train_steps_per_second': 4.878, 'train_loss': 0.6802978038787841, 'epoch': 5.0}\n",
      "{'eval_loss': 0.6793385744094849, 'eval_model_preparation_time': 0.0005, 'eval_accuracy': 0.75, 'eval_f1': 0.8571428571428571, 'eval_precision': 0.75, 'eval_recall': 1.0, 'eval_runtime': 0.0105, 'eval_samples_per_second': 380.729, 'eval_steps_per_second': 95.182}\n",
      " ↪ Fold 2/5\n"
     ]
    },
    {
     "data": {
      "application/vnd.jupyter.widget-view+json": {
       "model_id": "1f3b9b234133442aa36c9ca6fd3c0ecf",
       "version_major": 2,
       "version_minor": 0
      },
      "text/plain": [
       "Map:   0%|          | 0/16 [00:00<?, ? examples/s]"
      ]
     },
     "metadata": {},
     "output_type": "display_data"
    },
    {
     "data": {
      "application/vnd.jupyter.widget-view+json": {
       "model_id": "1075e1ebfc4540d5991ceef8fd0684cb",
       "version_major": 2,
       "version_minor": 0
      },
      "text/plain": [
       "Map:   0%|          | 0/4 [00:00<?, ? examples/s]"
      ]
     },
     "metadata": {},
     "output_type": "display_data"
    },
    {
     "name": "stderr",
     "output_type": "stream",
     "text": [
      "/Users/gchhetri/Developer/Python/15min-city-bench/.venv/lib/python3.12/site-packages/transformers/training_args.py:1604: FutureWarning: using `no_cuda` is deprecated and will be removed in version 5.0 of 🤗 Transformers. Use `use_cpu` instead\n",
      "  warnings.warn(\n"
     ]
    },
    {
     "name": "stdout",
     "output_type": "stream",
     "text": [
      "{'eval_loss': 0.6837440729141235, 'eval_accuracy': 0.75, 'eval_f1': 0.8571428571428571, 'eval_precision': 0.75, 'eval_recall': 1.0, 'eval_runtime': 0.0162, 'eval_samples_per_second': 247.247, 'eval_steps_per_second': 61.812, 'epoch': 1.0}\n",
      "{'eval_loss': 0.6782488822937012, 'eval_accuracy': 0.75, 'eval_f1': 0.8571428571428571, 'eval_precision': 0.75, 'eval_recall': 1.0, 'eval_runtime': 0.0169, 'eval_samples_per_second': 236.212, 'eval_steps_per_second': 59.053, 'epoch': 2.0}\n"
     ]
    },
    {
     "name": "stderr",
     "output_type": "stream",
     "text": [
      "/Users/gchhetri/Developer/Python/15min-city-bench/.venv/lib/python3.12/site-packages/transformers/trainer.py:4090: UserWarning: mtime may not be reliable on this filesystem, falling back to numerical ordering\n",
      "  warnings.warn(\"mtime may not be reliable on this filesystem, falling back to numerical ordering\")\n"
     ]
    },
    {
     "name": "stdout",
     "output_type": "stream",
     "text": [
      "{'eval_loss': 0.6741973161697388, 'eval_accuracy': 0.75, 'eval_f1': 0.8571428571428571, 'eval_precision': 0.75, 'eval_recall': 1.0, 'eval_runtime': 0.0159, 'eval_samples_per_second': 251.476, 'eval_steps_per_second': 62.869, 'epoch': 3.0}\n"
     ]
    },
    {
     "name": "stderr",
     "output_type": "stream",
     "text": [
      "/Users/gchhetri/Developer/Python/15min-city-bench/.venv/lib/python3.12/site-packages/transformers/trainer.py:4090: UserWarning: mtime may not be reliable on this filesystem, falling back to numerical ordering\n",
      "  warnings.warn(\"mtime may not be reliable on this filesystem, falling back to numerical ordering\")\n"
     ]
    },
    {
     "name": "stdout",
     "output_type": "stream",
     "text": [
      "{'eval_loss': 0.6716941595077515, 'eval_accuracy': 0.75, 'eval_f1': 0.8571428571428571, 'eval_precision': 0.75, 'eval_recall': 1.0, 'eval_runtime': 0.0133, 'eval_samples_per_second': 300.839, 'eval_steps_per_second': 75.21, 'epoch': 4.0}\n"
     ]
    },
    {
     "name": "stderr",
     "output_type": "stream",
     "text": [
      "/Users/gchhetri/Developer/Python/15min-city-bench/.venv/lib/python3.12/site-packages/transformers/trainer.py:4090: UserWarning: mtime may not be reliable on this filesystem, falling back to numerical ordering\n",
      "  warnings.warn(\"mtime may not be reliable on this filesystem, falling back to numerical ordering\")\n"
     ]
    },
    {
     "name": "stdout",
     "output_type": "stream",
     "text": [
      "{'eval_loss': 0.6705105304718018, 'eval_accuracy': 0.75, 'eval_f1': 0.8571428571428571, 'eval_precision': 0.75, 'eval_recall': 1.0, 'eval_runtime': 0.021, 'eval_samples_per_second': 190.867, 'eval_steps_per_second': 47.717, 'epoch': 5.0}\n"
     ]
    },
    {
     "name": "stderr",
     "output_type": "stream",
     "text": [
      "/Users/gchhetri/Developer/Python/15min-city-bench/.venv/lib/python3.12/site-packages/transformers/trainer.py:4090: UserWarning: mtime may not be reliable on this filesystem, falling back to numerical ordering\n",
      "  warnings.warn(\"mtime may not be reliable on this filesystem, falling back to numerical ordering\")\n"
     ]
    },
    {
     "name": "stdout",
     "output_type": "stream",
     "text": [
      "{'train_runtime': 2.1027, 'train_samples_per_second': 38.046, 'train_steps_per_second': 4.756, 'train_loss': 0.6823843002319336, 'epoch': 5.0}\n",
      "{'eval_loss': 0.6705105304718018, 'eval_model_preparation_time': 0.0006, 'eval_accuracy': 0.75, 'eval_f1': 0.8571428571428571, 'eval_precision': 0.75, 'eval_recall': 1.0, 'eval_runtime': 0.0166, 'eval_samples_per_second': 241.27, 'eval_steps_per_second': 60.318}\n",
      " ↪ Fold 3/5\n"
     ]
    },
    {
     "data": {
      "application/vnd.jupyter.widget-view+json": {
       "model_id": "bf45112a43864dc699c39f416920d15c",
       "version_major": 2,
       "version_minor": 0
      },
      "text/plain": [
       "Map:   0%|          | 0/16 [00:00<?, ? examples/s]"
      ]
     },
     "metadata": {},
     "output_type": "display_data"
    },
    {
     "data": {
      "application/vnd.jupyter.widget-view+json": {
       "model_id": "dbed23e22f4a4874befa79d6927e65ab",
       "version_major": 2,
       "version_minor": 0
      },
      "text/plain": [
       "Map:   0%|          | 0/4 [00:00<?, ? examples/s]"
      ]
     },
     "metadata": {},
     "output_type": "display_data"
    },
    {
     "name": "stderr",
     "output_type": "stream",
     "text": [
      "/Users/gchhetri/Developer/Python/15min-city-bench/.venv/lib/python3.12/site-packages/transformers/training_args.py:1604: FutureWarning: using `no_cuda` is deprecated and will be removed in version 5.0 of 🤗 Transformers. Use `use_cpu` instead\n",
      "  warnings.warn(\n"
     ]
    },
    {
     "name": "stdout",
     "output_type": "stream",
     "text": [
      "{'eval_loss': 0.6834582090377808, 'eval_accuracy': 0.75, 'eval_f1': 0.8571428571428571, 'eval_precision': 0.75, 'eval_recall': 1.0, 'eval_runtime': 0.0113, 'eval_samples_per_second': 353.078, 'eval_steps_per_second': 88.27, 'epoch': 1.0}\n",
      "{'eval_loss': 0.6783255934715271, 'eval_accuracy': 0.75, 'eval_f1': 0.8571428571428571, 'eval_precision': 0.75, 'eval_recall': 1.0, 'eval_runtime': 0.0103, 'eval_samples_per_second': 389.516, 'eval_steps_per_second': 97.379, 'epoch': 2.0}\n"
     ]
    },
    {
     "name": "stderr",
     "output_type": "stream",
     "text": [
      "/Users/gchhetri/Developer/Python/15min-city-bench/.venv/lib/python3.12/site-packages/transformers/trainer.py:4090: UserWarning: mtime may not be reliable on this filesystem, falling back to numerical ordering\n",
      "  warnings.warn(\"mtime may not be reliable on this filesystem, falling back to numerical ordering\")\n"
     ]
    },
    {
     "name": "stdout",
     "output_type": "stream",
     "text": [
      "{'eval_loss': 0.6747463941574097, 'eval_accuracy': 0.75, 'eval_f1': 0.8571428571428571, 'eval_precision': 0.75, 'eval_recall': 1.0, 'eval_runtime': 0.0108, 'eval_samples_per_second': 372.091, 'eval_steps_per_second': 93.023, 'epoch': 3.0}\n"
     ]
    },
    {
     "name": "stderr",
     "output_type": "stream",
     "text": [
      "/Users/gchhetri/Developer/Python/15min-city-bench/.venv/lib/python3.12/site-packages/transformers/trainer.py:4090: UserWarning: mtime may not be reliable on this filesystem, falling back to numerical ordering\n",
      "  warnings.warn(\"mtime may not be reliable on this filesystem, falling back to numerical ordering\")\n"
     ]
    },
    {
     "name": "stdout",
     "output_type": "stream",
     "text": [
      "{'eval_loss': 0.6728994250297546, 'eval_accuracy': 0.75, 'eval_f1': 0.8571428571428571, 'eval_precision': 0.75, 'eval_recall': 1.0, 'eval_runtime': 0.0107, 'eval_samples_per_second': 372.537, 'eval_steps_per_second': 93.134, 'epoch': 4.0}\n"
     ]
    },
    {
     "name": "stderr",
     "output_type": "stream",
     "text": [
      "/Users/gchhetri/Developer/Python/15min-city-bench/.venv/lib/python3.12/site-packages/transformers/trainer.py:4090: UserWarning: mtime may not be reliable on this filesystem, falling back to numerical ordering\n",
      "  warnings.warn(\"mtime may not be reliable on this filesystem, falling back to numerical ordering\")\n"
     ]
    },
    {
     "name": "stdout",
     "output_type": "stream",
     "text": [
      "{'eval_loss': 0.6720307469367981, 'eval_accuracy': 0.75, 'eval_f1': 0.8571428571428571, 'eval_precision': 0.75, 'eval_recall': 1.0, 'eval_runtime': 0.0129, 'eval_samples_per_second': 309.977, 'eval_steps_per_second': 77.494, 'epoch': 5.0}\n"
     ]
    },
    {
     "name": "stderr",
     "output_type": "stream",
     "text": [
      "/Users/gchhetri/Developer/Python/15min-city-bench/.venv/lib/python3.12/site-packages/transformers/trainer.py:4090: UserWarning: mtime may not be reliable on this filesystem, falling back to numerical ordering\n",
      "  warnings.warn(\"mtime may not be reliable on this filesystem, falling back to numerical ordering\")\n"
     ]
    },
    {
     "name": "stdout",
     "output_type": "stream",
     "text": [
      "{'train_runtime': 1.7132, 'train_samples_per_second': 46.695, 'train_steps_per_second': 5.837, 'train_loss': 0.6834444522857666, 'epoch': 5.0}\n",
      "{'eval_loss': 0.6720307469367981, 'eval_model_preparation_time': 0.0003, 'eval_accuracy': 0.75, 'eval_f1': 0.8571428571428571, 'eval_precision': 0.75, 'eval_recall': 1.0, 'eval_runtime': 0.0094, 'eval_samples_per_second': 427.162, 'eval_steps_per_second': 106.791}\n",
      " ↪ Fold 4/5\n"
     ]
    },
    {
     "data": {
      "application/vnd.jupyter.widget-view+json": {
       "model_id": "6c3d03e4b4384625b279ee9a84dc20ae",
       "version_major": 2,
       "version_minor": 0
      },
      "text/plain": [
       "Map:   0%|          | 0/16 [00:00<?, ? examples/s]"
      ]
     },
     "metadata": {},
     "output_type": "display_data"
    },
    {
     "data": {
      "application/vnd.jupyter.widget-view+json": {
       "model_id": "050e4a1404db4855a6b23d2cb63a8a90",
       "version_major": 2,
       "version_minor": 0
      },
      "text/plain": [
       "Map:   0%|          | 0/4 [00:00<?, ? examples/s]"
      ]
     },
     "metadata": {},
     "output_type": "display_data"
    },
    {
     "name": "stderr",
     "output_type": "stream",
     "text": [
      "/Users/gchhetri/Developer/Python/15min-city-bench/.venv/lib/python3.12/site-packages/transformers/training_args.py:1604: FutureWarning: using `no_cuda` is deprecated and will be removed in version 5.0 of 🤗 Transformers. Use `use_cpu` instead\n",
      "  warnings.warn(\n"
     ]
    },
    {
     "name": "stdout",
     "output_type": "stream",
     "text": [
      "{'eval_loss': 0.6868109703063965, 'eval_accuracy': 0.75, 'eval_f1': 0.8571428571428571, 'eval_precision': 0.75, 'eval_recall': 1.0, 'eval_runtime': 0.0091, 'eval_samples_per_second': 437.739, 'eval_steps_per_second': 109.435, 'epoch': 1.0}\n",
      "{'eval_loss': 0.6809101104736328, 'eval_accuracy': 0.75, 'eval_f1': 0.8571428571428571, 'eval_precision': 0.75, 'eval_recall': 1.0, 'eval_runtime': 0.0094, 'eval_samples_per_second': 426.218, 'eval_steps_per_second': 106.554, 'epoch': 2.0}\n"
     ]
    },
    {
     "name": "stderr",
     "output_type": "stream",
     "text": [
      "/Users/gchhetri/Developer/Python/15min-city-bench/.venv/lib/python3.12/site-packages/transformers/trainer.py:4090: UserWarning: mtime may not be reliable on this filesystem, falling back to numerical ordering\n",
      "  warnings.warn(\"mtime may not be reliable on this filesystem, falling back to numerical ordering\")\n"
     ]
    },
    {
     "name": "stdout",
     "output_type": "stream",
     "text": [
      "{'eval_loss': 0.6764316558837891, 'eval_accuracy': 0.75, 'eval_f1': 0.8571428571428571, 'eval_precision': 0.75, 'eval_recall': 1.0, 'eval_runtime': 0.0095, 'eval_samples_per_second': 420.218, 'eval_steps_per_second': 105.055, 'epoch': 3.0}\n"
     ]
    },
    {
     "name": "stderr",
     "output_type": "stream",
     "text": [
      "/Users/gchhetri/Developer/Python/15min-city-bench/.venv/lib/python3.12/site-packages/transformers/trainer.py:4090: UserWarning: mtime may not be reliable on this filesystem, falling back to numerical ordering\n",
      "  warnings.warn(\"mtime may not be reliable on this filesystem, falling back to numerical ordering\")\n"
     ]
    },
    {
     "name": "stdout",
     "output_type": "stream",
     "text": [
      "{'eval_loss': 0.6734156012535095, 'eval_accuracy': 0.75, 'eval_f1': 0.8571428571428571, 'eval_precision': 0.75, 'eval_recall': 1.0, 'eval_runtime': 0.0104, 'eval_samples_per_second': 383.47, 'eval_steps_per_second': 95.868, 'epoch': 4.0}\n"
     ]
    },
    {
     "name": "stderr",
     "output_type": "stream",
     "text": [
      "/Users/gchhetri/Developer/Python/15min-city-bench/.venv/lib/python3.12/site-packages/transformers/trainer.py:4090: UserWarning: mtime may not be reliable on this filesystem, falling back to numerical ordering\n",
      "  warnings.warn(\"mtime may not be reliable on this filesystem, falling back to numerical ordering\")\n"
     ]
    },
    {
     "name": "stdout",
     "output_type": "stream",
     "text": [
      "{'eval_loss': 0.6721760034561157, 'eval_accuracy': 0.75, 'eval_f1': 0.8571428571428571, 'eval_precision': 0.75, 'eval_recall': 1.0, 'eval_runtime': 0.0116, 'eval_samples_per_second': 343.612, 'eval_steps_per_second': 85.903, 'epoch': 5.0}\n"
     ]
    },
    {
     "name": "stderr",
     "output_type": "stream",
     "text": [
      "/Users/gchhetri/Developer/Python/15min-city-bench/.venv/lib/python3.12/site-packages/transformers/trainer.py:4090: UserWarning: mtime may not be reliable on this filesystem, falling back to numerical ordering\n",
      "  warnings.warn(\"mtime may not be reliable on this filesystem, falling back to numerical ordering\")\n"
     ]
    },
    {
     "name": "stdout",
     "output_type": "stream",
     "text": [
      "{'train_runtime': 1.8341, 'train_samples_per_second': 43.617, 'train_steps_per_second': 5.452, 'train_loss': 0.6812983512878418, 'epoch': 5.0}\n",
      "{'eval_loss': 0.6721760034561157, 'eval_model_preparation_time': 0.0004, 'eval_accuracy': 0.75, 'eval_f1': 0.8571428571428571, 'eval_precision': 0.75, 'eval_recall': 1.0, 'eval_runtime': 0.0137, 'eval_samples_per_second': 291.544, 'eval_steps_per_second': 72.886}\n",
      " ↪ Fold 5/5\n"
     ]
    },
    {
     "data": {
      "application/vnd.jupyter.widget-view+json": {
       "model_id": "d247fd74bfe0471b86bbb5d6f94e94f0",
       "version_major": 2,
       "version_minor": 0
      },
      "text/plain": [
       "Map:   0%|          | 0/16 [00:00<?, ? examples/s]"
      ]
     },
     "metadata": {},
     "output_type": "display_data"
    },
    {
     "data": {
      "application/vnd.jupyter.widget-view+json": {
       "model_id": "dfc83aad585a4ee1a2eac671ecd6eab2",
       "version_major": 2,
       "version_minor": 0
      },
      "text/plain": [
       "Map:   0%|          | 0/4 [00:00<?, ? examples/s]"
      ]
     },
     "metadata": {},
     "output_type": "display_data"
    },
    {
     "name": "stderr",
     "output_type": "stream",
     "text": [
      "/Users/gchhetri/Developer/Python/15min-city-bench/.venv/lib/python3.12/site-packages/transformers/training_args.py:1604: FutureWarning: using `no_cuda` is deprecated and will be removed in version 5.0 of 🤗 Transformers. Use `use_cpu` instead\n",
      "  warnings.warn(\n"
     ]
    },
    {
     "name": "stdout",
     "output_type": "stream",
     "text": [
      "{'eval_loss': 0.6896883249282837, 'eval_accuracy': 0.5, 'eval_f1': 0.6666666666666666, 'eval_precision': 0.5, 'eval_recall': 1.0, 'eval_runtime': 0.0129, 'eval_samples_per_second': 310.201, 'eval_steps_per_second': 77.55, 'epoch': 1.0}\n",
      "{'eval_loss': 0.6887905597686768, 'eval_accuracy': 0.5, 'eval_f1': 0.6666666666666666, 'eval_precision': 0.5, 'eval_recall': 1.0, 'eval_runtime': 0.0124, 'eval_samples_per_second': 323.884, 'eval_steps_per_second': 80.971, 'epoch': 2.0}\n"
     ]
    },
    {
     "name": "stderr",
     "output_type": "stream",
     "text": [
      "/Users/gchhetri/Developer/Python/15min-city-bench/.venv/lib/python3.12/site-packages/transformers/trainer.py:4090: UserWarning: mtime may not be reliable on this filesystem, falling back to numerical ordering\n",
      "  warnings.warn(\"mtime may not be reliable on this filesystem, falling back to numerical ordering\")\n"
     ]
    },
    {
     "name": "stdout",
     "output_type": "stream",
     "text": [
      "{'eval_loss': 0.6879966259002686, 'eval_accuracy': 0.5, 'eval_f1': 0.6666666666666666, 'eval_precision': 0.5, 'eval_recall': 1.0, 'eval_runtime': 0.0122, 'eval_samples_per_second': 326.551, 'eval_steps_per_second': 81.638, 'epoch': 3.0}\n"
     ]
    },
    {
     "name": "stderr",
     "output_type": "stream",
     "text": [
      "/Users/gchhetri/Developer/Python/15min-city-bench/.venv/lib/python3.12/site-packages/transformers/trainer.py:4090: UserWarning: mtime may not be reliable on this filesystem, falling back to numerical ordering\n",
      "  warnings.warn(\"mtime may not be reliable on this filesystem, falling back to numerical ordering\")\n"
     ]
    },
    {
     "name": "stdout",
     "output_type": "stream",
     "text": [
      "{'eval_loss': 0.6873769164085388, 'eval_accuracy': 0.5, 'eval_f1': 0.6666666666666666, 'eval_precision': 0.5, 'eval_recall': 1.0, 'eval_runtime': 0.015, 'eval_samples_per_second': 266.453, 'eval_steps_per_second': 66.613, 'epoch': 4.0}\n"
     ]
    },
    {
     "name": "stderr",
     "output_type": "stream",
     "text": [
      "/Users/gchhetri/Developer/Python/15min-city-bench/.venv/lib/python3.12/site-packages/transformers/trainer.py:4090: UserWarning: mtime may not be reliable on this filesystem, falling back to numerical ordering\n",
      "  warnings.warn(\"mtime may not be reliable on this filesystem, falling back to numerical ordering\")\n"
     ]
    },
    {
     "name": "stdout",
     "output_type": "stream",
     "text": [
      "{'eval_loss': 0.687095046043396, 'eval_accuracy': 0.5, 'eval_f1': 0.6666666666666666, 'eval_precision': 0.5, 'eval_recall': 1.0, 'eval_runtime': 0.0146, 'eval_samples_per_second': 273.597, 'eval_steps_per_second': 68.399, 'epoch': 5.0}\n"
     ]
    },
    {
     "name": "stderr",
     "output_type": "stream",
     "text": [
      "/Users/gchhetri/Developer/Python/15min-city-bench/.venv/lib/python3.12/site-packages/transformers/trainer.py:4090: UserWarning: mtime may not be reliable on this filesystem, falling back to numerical ordering\n",
      "  warnings.warn(\"mtime may not be reliable on this filesystem, falling back to numerical ordering\")\n"
     ]
    },
    {
     "name": "stdout",
     "output_type": "stream",
     "text": [
      "{'train_runtime': 2.1065, 'train_samples_per_second': 37.978, 'train_steps_per_second': 4.747, 'train_loss': 0.679874038696289, 'epoch': 5.0}\n",
      "{'eval_loss': 0.687095046043396, 'eval_model_preparation_time': 0.0015, 'eval_accuracy': 0.5, 'eval_f1': 0.6666666666666666, 'eval_precision': 0.5, 'eval_recall': 1.0, 'eval_runtime': 0.0175, 'eval_samples_per_second': 229.056, 'eval_steps_per_second': 57.264}\n",
      "\n",
      "✅ Multimodal Benchmarking complete. Results saved to multimodal_results.csv\n"
     ]
    }
   ],
   "source": [
    "import os\n",
    "import sqlite3\n",
    "import time\n",
    "import torch\n",
    "import numpy as np\n",
    "import pandas as pd\n",
    "import matplotlib.pyplot as plt\n",
    "import logging\n",
    "import warnings\n",
    "\n",
    "from sklearn.model_selection import StratifiedKFold\n",
    "from sklearn.metrics import accuracy_score, precision_score, recall_score, f1_score, roc_curve, auc\n",
    "\n",
    "from transformers import (\n",
    "    AutoTokenizer,\n",
    "    AutoModelForSequenceClassification\n",
    ")\n",
    "from transformers.data.data_collator import DataCollatorWithPadding\n",
    "from transformers.trainer_callback import EarlyStoppingCallback\n",
    "from transformers.training_args import TrainingArguments\n",
    "from transformers.trainer import Trainer\n",
    "\n",
    "from datasets import Dataset\n",
    "from tqdm.auto import tqdm\n",
    "\n",
    "# === Silence warnings/logging ===\n",
    "warnings.filterwarnings(\"ignore\", message=\".*pin_memory.*\")\n",
    "logging.getLogger(\"transformers\").setLevel(logging.ERROR)\n",
    "\n",
    "# === Model list ===\n",
    "MODELS = [\n",
    "    \"distilroberta-base\",\n",
    "    \"distilbert-base-uncased\",\n",
    "    \"nreimers/MiniLM-L6-H384-uncased\",\n",
    "    \"google/electra-small-discriminator\",\n",
    "    \"huawei-noah/TinyBERT_General_4L_312D\"\n",
    "]\n",
    "\n",
    "# === Dataset info ===\n",
    "DATASETS = {\n",
    "    \"news\": \"data/news.db\",\n",
    "    \"reddit\": \"data/reddit_discussions.db\",\n",
    "    \"twitter\": \"data/twitter.db\"\n",
    "}\n",
    "\n",
    "# === Metric computation ===\n",
    "def compute_metrics(eval_pred):\n",
    "    logits, labels = eval_pred\n",
    "    preds = np.argmax(logits, axis=1)\n",
    "    return {\n",
    "        \"accuracy\": accuracy_score(labels, preds),\n",
    "        \"f1\": f1_score(labels, preds, zero_division=0),\n",
    "        \"precision\": precision_score(labels, preds, zero_division=0),\n",
    "        \"recall\": recall_score(labels, preds)\n",
    "    }\n",
    "\n",
    "# === Benchmark loop over datasets ===\n",
    "all_results = []\n",
    "\n",
    "for source_name, db_path in tqdm(DATASETS.items(), desc=\"🔬 Benchmarking Datasets\"):\n",
    "    print(f\"\\n📂 Benchmarking on dataset: {source_name}\")\n",
    "    con = sqlite3.connect(db_path)\n",
    "    df = pd.read_sql(\"SELECT summary AS text, label FROM labeled_data\", con)\n",
    "    con.close()\n",
    "    df.dropna(subset=[\"text\", \"label\"], inplace=True)\n",
    "    df[\"label\"] = df[\"label\"].astype(int)\n",
    "\n",
    "    skf = StratifiedKFold(n_splits=5, shuffle=True, random_state=42)\n",
    "\n",
    "    for model_name in tqdm(MODELS, desc=f\"🔬 Benchmarking Models on {source_name}\"):\n",
    "        print(f\"\\n🔍 Model: {model_name}\")\n",
    "        fold_scores, all_probs, all_labels = [], [], []\n",
    "\n",
    "        for fold, (train_idx, val_idx) in enumerate(skf.split(df[\"text\"], df[\"label\"])):\n",
    "            print(f\" ↪ Fold {fold+1}/5\")\n",
    "            train_df, val_df = df.iloc[train_idx], df.iloc[val_idx]\n",
    "\n",
    "            tokenizer = AutoTokenizer.from_pretrained(model_name, use_fast=True)\n",
    "            safe_model_name = model_name.replace(\"/\", \"_\").replace(\"-\", \"_\")\n",
    "            model_dir = f\"./results/{source_name}_{safe_model_name}_fold{fold+1}\"\n",
    "\n",
    "            if os.path.exists(model_dir):\n",
    "                model = AutoModelForSequenceClassification.from_pretrained(model_dir)\n",
    "            else:\n",
    "                model = AutoModelForSequenceClassification.from_pretrained(model_name, num_labels=2)\n",
    "\n",
    "            train_ds = Dataset.from_pandas(train_df).map(lambda x: tokenizer(x[\"text\"], truncation=True, max_length=512), batched=True)\n",
    "            val_ds = Dataset.from_pandas(val_df).map(lambda x: tokenizer(x[\"text\"], truncation=True, max_length=512), batched=True)\n",
    "\n",
    "            train_ds = train_ds.rename_column(\"label\", \"labels\")\n",
    "            val_ds = val_ds.rename_column(\"label\", \"labels\")\n",
    "            train_ds.set_format(type='torch', columns=['input_ids', 'attention_mask', 'labels'])\n",
    "            val_ds.set_format(type='torch', columns=['input_ids', 'attention_mask', 'labels'])\n",
    "\n",
    "            args = TrainingArguments(\n",
    "                output_dir=model_dir,\n",
    "                per_device_train_batch_size=8,\n",
    "                per_device_eval_batch_size=16,\n",
    "                num_train_epochs=5,\n",
    "                eval_strategy=\"epoch\",\n",
    "                save_strategy=\"epoch\",\n",
    "                save_total_limit=1,\n",
    "                load_best_model_at_end=True,\n",
    "                logging_steps=50,\n",
    "                report_to=\"none\",\n",
    "                disable_tqdm=True,\n",
    "                fp16=False,\n",
    "                learning_rate=2e-5,\n",
    "                no_cuda=True,\n",
    "            )\n",
    "\n",
    "            checkpoint_path = os.path.join(model_dir, \"pytorch_model.bin\")\n",
    "            if os.path.exists(checkpoint_path):\n",
    "                model = AutoModelForSequenceClassification.from_pretrained(model_dir)\n",
    "                model.to(\"cpu\")\n",
    "                train_time = 0.0\n",
    "            else:\n",
    "                trainer = Trainer(\n",
    "                    model=model,\n",
    "                    args=args,\n",
    "                    train_dataset=train_ds,\n",
    "                    eval_dataset=val_ds,\n",
    "                    compute_metrics=compute_metrics,\n",
    "                    data_collator=DataCollatorWithPadding(tokenizer),\n",
    "                    callbacks=[EarlyStoppingCallback(early_stopping_patience=1)]\n",
    "                )\n",
    "                start = time.time()\n",
    "                trainer.train()\n",
    "                trainer.save_model(model_dir)\n",
    "                train_time = round(time.time() - start, 2)\n",
    "\n",
    "            trainer = Trainer(\n",
    "                model=model,\n",
    "                args=args,\n",
    "                train_dataset=train_ds,\n",
    "                eval_dataset=val_ds,\n",
    "                compute_metrics=compute_metrics,\n",
    "                data_collator=DataCollatorWithPadding(tokenizer),\n",
    "                callbacks=[EarlyStoppingCallback(early_stopping_patience=1)]\n",
    "            )\n",
    "\n",
    "            metrics = trainer.evaluate()\n",
    "            metrics[\"training_time\"] = train_time\n",
    "\n",
    "            preds = trainer.predict(val_ds)\n",
    "            probs = torch.nn.functional.softmax(torch.tensor(preds.predictions), dim=1).numpy()\n",
    "            true_labels = preds.label_ids\n",
    "\n",
    "            all_probs.append(probs[:, 1])\n",
    "            all_labels.append(true_labels)\n",
    "\n",
    "            fpr, tpr, _ = roc_curve(true_labels, probs[:, 1])\n",
    "            roc_auc = auc(fpr, tpr)\n",
    "            metrics[\"auc\"] = roc_auc\n",
    "\n",
    "            os.makedirs(\"roc_curves\", exist_ok=True)\n",
    "            plt.figure()\n",
    "            plt.plot(fpr, tpr, color='darkorange', lw=2, label=f\"AUC={roc_auc:.2f}\")\n",
    "            plt.plot([0, 1], [0, 1], linestyle='--', color='navy')\n",
    "            plt.xlabel(\"False Positive Rate\")\n",
    "            plt.ylabel(\"True Positive Rate\")\n",
    "            plt.title(f\"{model_name} Fold {fold+1} ROC ({source_name})\")\n",
    "            plt.legend(loc=\"lower right\")\n",
    "            plt.savefig(f\"roc_curves/{source_name}_{safe_model_name}_fold{fold+1}.png\")\n",
    "            plt.close()\n",
    "\n",
    "            fold_scores.append({k.replace(\"eval_\", \"\"): v for k, v in metrics.items()})\n",
    "\n",
    "        # Overall ROC curve\n",
    "        if fold_scores:\n",
    "            all_probs_flat = np.concatenate(all_probs)\n",
    "            all_labels_flat = np.concatenate(all_labels)\n",
    "            fpr, tpr, _ = roc_curve(all_labels_flat, all_probs_flat)\n",
    "            overall_auc = auc(fpr, tpr)\n",
    "\n",
    "            plt.figure()\n",
    "            plt.plot(fpr, tpr, color='green', lw=2, label=f\"AUC={overall_auc:.2f}\")\n",
    "            plt.plot([0, 1], [0, 1], linestyle='--', color='gray')\n",
    "            plt.xlabel(\"False Positive Rate\")\n",
    "            plt.ylabel(\"True Positive Rate\")\n",
    "            plt.title(f\"{model_name} Overall ROC ({source_name})\")\n",
    "            plt.legend(loc=\"lower right\")\n",
    "            os.makedirs(\"roc_overall\", exist_ok=True)\n",
    "            plt.savefig(f\"roc_overall/{source_name}_{safe_model_name}_overall.png\")\n",
    "            plt.close()\n",
    "\n",
    "            avg = pd.DataFrame(fold_scores).mean().to_dict()\n",
    "            avg.update({\"model\": model_name, \"auc\": overall_auc, \"source\": source_name})\n",
    "            all_results.append(avg)\n",
    "\n",
    "# === Save Final Results ===\n",
    "results_df = pd.DataFrame(all_results)\n",
    "required_cols = [\"source\", \"model\", \"accuracy\", \"f1\", \"precision\", \"recall\", \"auc\", \"training_time\"]\n",
    "results_df = results_df[[col for col in required_cols if col in results_df.columns]]\n",
    "results_df.to_csv(\"multimodal_results.csv\", index=False)\n",
    "print(\"\\n✅ Multimodal Benchmarking complete. Results saved to multimodal_results.csv\")\n"
   ]
  }
 ],
 "metadata": {
  "kernelspec": {
   "display_name": ".venv",
   "language": "python",
   "name": "python3"
  },
  "language_info": {
   "codemirror_mode": {
    "name": "ipython",
    "version": 3
   },
   "file_extension": ".py",
   "mimetype": "text/x-python",
   "name": "python",
   "nbconvert_exporter": "python",
   "pygments_lexer": "ipython3",
   "version": "3.12.11"
  }
 },
 "nbformat": 4,
 "nbformat_minor": 5
}
