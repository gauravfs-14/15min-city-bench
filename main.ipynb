{
 "cells": [
  {
   "cell_type": "code",
   "execution_count": 12,
   "id": "4c6c7358",
   "metadata": {},
   "outputs": [
    {
     "data": {
      "application/vnd.jupyter.widget-view+json": {
       "model_id": "44d282dcf9344a3098e63e32aeb0b241",
       "version_major": 2,
       "version_minor": 0
      },
      "text/plain": [
       "🔬 Benchmarking Datasets:   0%|          | 0/3 [00:00<?, ?it/s]"
      ]
     },
     "metadata": {},
     "output_type": "display_data"
    },
    {
     "name": "stdout",
     "output_type": "stream",
     "text": [
      "\n",
      "📂 Benchmarking on dataset: news\n"
     ]
    },
    {
     "data": {
      "application/vnd.jupyter.widget-view+json": {
       "model_id": "b88ece92bad94faaadfa772b7e735251",
       "version_major": 2,
       "version_minor": 0
      },
      "text/plain": [
       "🔬 Benchmarking Models on news:   0%|          | 0/5 [00:00<?, ?it/s]"
      ]
     },
     "metadata": {},
     "output_type": "display_data"
    },
    {
     "name": "stdout",
     "output_type": "stream",
     "text": [
      "\n",
      "🔍 Model: distilroberta-base\n",
      " ↪ Fold 1/5\n"
     ]
    },
    {
     "data": {
      "application/vnd.jupyter.widget-view+json": {
       "model_id": "f23112f518ae40949444ae84f2812662",
       "version_major": 2,
       "version_minor": 0
      },
      "text/plain": [
       "Map:   0%|          | 0/340 [00:00<?, ? examples/s]"
      ]
     },
     "metadata": {},
     "output_type": "display_data"
    },
    {
     "data": {
      "application/vnd.jupyter.widget-view+json": {
       "model_id": "f7cc55a672164cd49cbb4bed768eb261",
       "version_major": 2,
       "version_minor": 0
      },
      "text/plain": [
       "Map:   0%|          | 0/86 [00:00<?, ? examples/s]"
      ]
     },
     "metadata": {},
     "output_type": "display_data"
    },
    {
     "name": "stderr",
     "output_type": "stream",
     "text": [
      "/Users/gchhetri/Developer/Python/15min-city-bench/.venv/lib/python3.12/site-packages/transformers/training_args.py:1604: FutureWarning: using `no_cuda` is deprecated and will be removed in version 5.0 of 🤗 Transformers. Use `use_cpu` instead\n",
      "  warnings.warn(\n"
     ]
    },
    {
     "name": "stdout",
     "output_type": "stream",
     "text": [
      "{'eval_loss': 0.2725760042667389, 'eval_accuracy': 0.9302325581395349, 'eval_f1': 0.963855421686747, 'eval_precision': 0.9302325581395349, 'eval_recall': 1.0, 'eval_runtime': 0.871, 'eval_samples_per_second': 98.739, 'eval_steps_per_second': 6.889, 'epoch': 1.0}\n",
      "{'loss': 0.2832, 'grad_norm': 12.548629760742188, 'learning_rate': 1.544186046511628e-05, 'epoch': 1.1627906976744187}\n",
      "{'eval_loss': 0.22960707545280457, 'eval_accuracy': 0.9302325581395349, 'eval_f1': 0.963855421686747, 'eval_precision': 0.9302325581395349, 'eval_recall': 1.0, 'eval_runtime': 0.8788, 'eval_samples_per_second': 97.864, 'eval_steps_per_second': 6.828, 'epoch': 2.0}\n",
      "{'loss': 0.1884, 'grad_norm': 1.0273587703704834, 'learning_rate': 1.0790697674418607e-05, 'epoch': 2.3255813953488373}\n",
      "{'eval_loss': 0.20294125378131866, 'eval_accuracy': 0.9302325581395349, 'eval_f1': 0.963855421686747, 'eval_precision': 0.9302325581395349, 'eval_recall': 1.0, 'eval_runtime': 0.9213, 'eval_samples_per_second': 93.346, 'eval_steps_per_second': 6.513, 'epoch': 3.0}\n",
      "{'loss': 0.1311, 'grad_norm': 2.380309820175171, 'learning_rate': 6.139534883720932e-06, 'epoch': 3.488372093023256}\n",
      "{'eval_loss': 0.20173190534114838, 'eval_accuracy': 0.9534883720930233, 'eval_f1': 0.975609756097561, 'eval_precision': 0.9523809523809523, 'eval_recall': 1.0, 'eval_runtime': 0.8918, 'eval_samples_per_second': 96.438, 'eval_steps_per_second': 6.728, 'epoch': 4.0}\n",
      "{'loss': 0.0452, 'grad_norm': 0.06987861543893814, 'learning_rate': 1.4883720930232558e-06, 'epoch': 4.651162790697675}\n",
      "{'eval_loss': 0.20894405245780945, 'eval_accuracy': 0.9302325581395349, 'eval_f1': 0.9629629629629629, 'eval_precision': 0.9512195121951219, 'eval_recall': 0.975, 'eval_runtime': 0.9094, 'eval_samples_per_second': 94.566, 'eval_steps_per_second': 6.598, 'epoch': 5.0}\n",
      "{'train_runtime': 92.1969, 'train_samples_per_second': 18.439, 'train_steps_per_second': 2.332, 'train_loss': 0.15533862890199174, 'epoch': 5.0}\n",
      "{'eval_loss': 0.20173190534114838, 'eval_model_preparation_time': 0.0004, 'eval_accuracy': 0.9534883720930233, 'eval_f1': 0.975609756097561, 'eval_precision': 0.9523809523809523, 'eval_recall': 1.0, 'eval_runtime': 0.8747, 'eval_samples_per_second': 98.324, 'eval_steps_per_second': 6.86}\n",
      " ↪ Fold 2/5\n"
     ]
    },
    {
     "data": {
      "application/vnd.jupyter.widget-view+json": {
       "model_id": "531452fed1984a49a29c12c76e3b72e2",
       "version_major": 2,
       "version_minor": 0
      },
      "text/plain": [
       "Map:   0%|          | 0/341 [00:00<?, ? examples/s]"
      ]
     },
     "metadata": {},
     "output_type": "display_data"
    },
    {
     "data": {
      "application/vnd.jupyter.widget-view+json": {
       "model_id": "04b32a2bd5f14c02a89b8acc6746c40a",
       "version_major": 2,
       "version_minor": 0
      },
      "text/plain": [
       "Map:   0%|          | 0/85 [00:00<?, ? examples/s]"
      ]
     },
     "metadata": {},
     "output_type": "display_data"
    },
    {
     "name": "stderr",
     "output_type": "stream",
     "text": [
      "/Users/gchhetri/Developer/Python/15min-city-bench/.venv/lib/python3.12/site-packages/transformers/training_args.py:1604: FutureWarning: using `no_cuda` is deprecated and will be removed in version 5.0 of 🤗 Transformers. Use `use_cpu` instead\n",
      "  warnings.warn(\n"
     ]
    },
    {
     "name": "stdout",
     "output_type": "stream",
     "text": [
      "{'eval_loss': 0.21402080357074738, 'eval_accuracy': 0.9411764705882353, 'eval_f1': 0.9696969696969697, 'eval_precision': 0.9411764705882353, 'eval_recall': 1.0, 'eval_runtime': 0.7932, 'eval_samples_per_second': 107.154, 'eval_steps_per_second': 7.564, 'epoch': 1.0}\n",
      "{'loss': 0.3428, 'grad_norm': 4.338933944702148, 'learning_rate': 1.544186046511628e-05, 'epoch': 1.1627906976744187}\n",
      "{'eval_loss': 0.20018112659454346, 'eval_accuracy': 0.9411764705882353, 'eval_f1': 0.9696969696969697, 'eval_precision': 0.9411764705882353, 'eval_recall': 1.0, 'eval_runtime': 0.726, 'eval_samples_per_second': 117.084, 'eval_steps_per_second': 8.265, 'epoch': 2.0}\n",
      "{'loss': 0.1715, 'grad_norm': 0.09864344447851181, 'learning_rate': 1.0790697674418607e-05, 'epoch': 2.3255813953488373}\n",
      "{'eval_loss': 0.19849254190921783, 'eval_accuracy': 0.9411764705882353, 'eval_f1': 0.9696969696969697, 'eval_precision': 0.9411764705882353, 'eval_recall': 1.0, 'eval_runtime': 0.7325, 'eval_samples_per_second': 116.045, 'eval_steps_per_second': 8.191, 'epoch': 3.0}\n",
      "{'loss': 0.1579, 'grad_norm': 2.5491015911102295, 'learning_rate': 6.139534883720932e-06, 'epoch': 3.488372093023256}\n",
      "{'eval_loss': 0.23295313119888306, 'eval_accuracy': 0.9529411764705882, 'eval_f1': 0.975609756097561, 'eval_precision': 0.9523809523809523, 'eval_recall': 1.0, 'eval_runtime': 0.7314, 'eval_samples_per_second': 116.219, 'eval_steps_per_second': 8.204, 'epoch': 4.0}\n",
      "{'train_runtime': 72.1533, 'train_samples_per_second': 23.63, 'train_steps_per_second': 2.98, 'train_loss': 0.21007602991059768, 'epoch': 4.0}\n",
      "{'eval_loss': 0.19849254190921783, 'eval_model_preparation_time': 0.0004, 'eval_accuracy': 0.9411764705882353, 'eval_f1': 0.9696969696969697, 'eval_precision': 0.9411764705882353, 'eval_recall': 1.0, 'eval_runtime': 0.7257, 'eval_samples_per_second': 117.133, 'eval_steps_per_second': 8.268}\n",
      " ↪ Fold 3/5\n"
     ]
    },
    {
     "data": {
      "application/vnd.jupyter.widget-view+json": {
       "model_id": "94df2c166ed74031a60bdda302553f01",
       "version_major": 2,
       "version_minor": 0
      },
      "text/plain": [
       "Map:   0%|          | 0/341 [00:00<?, ? examples/s]"
      ]
     },
     "metadata": {},
     "output_type": "display_data"
    },
    {
     "data": {
      "application/vnd.jupyter.widget-view+json": {
       "model_id": "850bd9cf796b4b9eac44fc6440a27e5a",
       "version_major": 2,
       "version_minor": 0
      },
      "text/plain": [
       "Map:   0%|          | 0/85 [00:00<?, ? examples/s]"
      ]
     },
     "metadata": {},
     "output_type": "display_data"
    },
    {
     "name": "stderr",
     "output_type": "stream",
     "text": [
      "/Users/gchhetri/Developer/Python/15min-city-bench/.venv/lib/python3.12/site-packages/transformers/training_args.py:1604: FutureWarning: using `no_cuda` is deprecated and will be removed in version 5.0 of 🤗 Transformers. Use `use_cpu` instead\n",
      "  warnings.warn(\n"
     ]
    },
    {
     "name": "stdout",
     "output_type": "stream",
     "text": [
      "{'eval_loss': 0.2319040149450302, 'eval_accuracy': 0.9411764705882353, 'eval_f1': 0.9696969696969697, 'eval_precision': 0.9411764705882353, 'eval_recall': 1.0, 'eval_runtime': 0.674, 'eval_samples_per_second': 126.108, 'eval_steps_per_second': 8.902, 'epoch': 1.0}\n",
      "{'loss': 0.2996, 'grad_norm': 5.123295783996582, 'learning_rate': 1.544186046511628e-05, 'epoch': 1.1627906976744187}\n",
      "{'eval_loss': 0.17682217061519623, 'eval_accuracy': 0.9411764705882353, 'eval_f1': 0.9696969696969697, 'eval_precision': 0.9411764705882353, 'eval_recall': 1.0, 'eval_runtime': 0.6626, 'eval_samples_per_second': 128.281, 'eval_steps_per_second': 9.055, 'epoch': 2.0}\n",
      "{'loss': 0.2115, 'grad_norm': 0.18781600892543793, 'learning_rate': 1.0790697674418607e-05, 'epoch': 2.3255813953488373}\n",
      "{'eval_loss': 0.2185056060552597, 'eval_accuracy': 0.9411764705882353, 'eval_f1': 0.9696969696969697, 'eval_precision': 0.9411764705882353, 'eval_recall': 1.0, 'eval_runtime': 0.6855, 'eval_samples_per_second': 123.989, 'eval_steps_per_second': 8.752, 'epoch': 3.0}\n",
      "{'train_runtime': 55.015, 'train_samples_per_second': 30.992, 'train_steps_per_second': 3.908, 'train_loss': 0.2414589482684468, 'epoch': 3.0}\n",
      "{'eval_loss': 0.17682217061519623, 'eval_model_preparation_time': 0.0005, 'eval_accuracy': 0.9411764705882353, 'eval_f1': 0.9696969696969697, 'eval_precision': 0.9411764705882353, 'eval_recall': 1.0, 'eval_runtime': 0.7295, 'eval_samples_per_second': 116.513, 'eval_steps_per_second': 8.224}\n",
      " ↪ Fold 4/5\n"
     ]
    },
    {
     "data": {
      "application/vnd.jupyter.widget-view+json": {
       "model_id": "c4772fc652904c2eaed2864722ee867b",
       "version_major": 2,
       "version_minor": 0
      },
      "text/plain": [
       "Map:   0%|          | 0/341 [00:00<?, ? examples/s]"
      ]
     },
     "metadata": {},
     "output_type": "display_data"
    },
    {
     "data": {
      "application/vnd.jupyter.widget-view+json": {
       "model_id": "cf91c7797cae4c73bf1ee22c364dc7ca",
       "version_major": 2,
       "version_minor": 0
      },
      "text/plain": [
       "Map:   0%|          | 0/85 [00:00<?, ? examples/s]"
      ]
     },
     "metadata": {},
     "output_type": "display_data"
    },
    {
     "name": "stderr",
     "output_type": "stream",
     "text": [
      "/Users/gchhetri/Developer/Python/15min-city-bench/.venv/lib/python3.12/site-packages/transformers/training_args.py:1604: FutureWarning: using `no_cuda` is deprecated and will be removed in version 5.0 of 🤗 Transformers. Use `use_cpu` instead\n",
      "  warnings.warn(\n"
     ]
    },
    {
     "name": "stdout",
     "output_type": "stream",
     "text": [
      "{'eval_loss': 0.2921079397201538, 'eval_accuracy': 0.9411764705882353, 'eval_f1': 0.9696969696969697, 'eval_precision': 0.9411764705882353, 'eval_recall': 1.0, 'eval_runtime': 0.6251, 'eval_samples_per_second': 135.974, 'eval_steps_per_second': 9.598, 'epoch': 1.0}\n",
      "{'loss': 0.2888, 'grad_norm': 0.3015683591365814, 'learning_rate': 1.544186046511628e-05, 'epoch': 1.1627906976744187}\n",
      "{'eval_loss': 0.28225430846214294, 'eval_accuracy': 0.9411764705882353, 'eval_f1': 0.9696969696969697, 'eval_precision': 0.9411764705882353, 'eval_recall': 1.0, 'eval_runtime': 0.644, 'eval_samples_per_second': 131.995, 'eval_steps_per_second': 9.317, 'epoch': 2.0}\n",
      "{'loss': 0.1929, 'grad_norm': 0.12719431519508362, 'learning_rate': 1.0790697674418607e-05, 'epoch': 2.3255813953488373}\n",
      "{'eval_loss': 0.3295104503631592, 'eval_accuracy': 0.9411764705882353, 'eval_f1': 0.9696969696969697, 'eval_precision': 0.9411764705882353, 'eval_recall': 1.0, 'eval_runtime': 0.6563, 'eval_samples_per_second': 129.504, 'eval_steps_per_second': 9.141, 'epoch': 3.0}\n",
      "{'train_runtime': 54.5414, 'train_samples_per_second': 31.261, 'train_steps_per_second': 3.942, 'train_loss': 0.22394098607144614, 'epoch': 3.0}\n",
      "{'eval_loss': 0.28225430846214294, 'eval_model_preparation_time': 0.0004, 'eval_accuracy': 0.9411764705882353, 'eval_f1': 0.9696969696969697, 'eval_precision': 0.9411764705882353, 'eval_recall': 1.0, 'eval_runtime': 0.6807, 'eval_samples_per_second': 124.875, 'eval_steps_per_second': 8.815}\n",
      " ↪ Fold 5/5\n"
     ]
    },
    {
     "data": {
      "application/vnd.jupyter.widget-view+json": {
       "model_id": "a3e032e6fa09470a8f0d6f526c44d98c",
       "version_major": 2,
       "version_minor": 0
      },
      "text/plain": [
       "Map:   0%|          | 0/341 [00:00<?, ? examples/s]"
      ]
     },
     "metadata": {},
     "output_type": "display_data"
    },
    {
     "data": {
      "application/vnd.jupyter.widget-view+json": {
       "model_id": "3098b058e51b477aba16e7e4451e02ee",
       "version_major": 2,
       "version_minor": 0
      },
      "text/plain": [
       "Map:   0%|          | 0/85 [00:00<?, ? examples/s]"
      ]
     },
     "metadata": {},
     "output_type": "display_data"
    },
    {
     "name": "stderr",
     "output_type": "stream",
     "text": [
      "/Users/gchhetri/Developer/Python/15min-city-bench/.venv/lib/python3.12/site-packages/transformers/training_args.py:1604: FutureWarning: using `no_cuda` is deprecated and will be removed in version 5.0 of 🤗 Transformers. Use `use_cpu` instead\n",
      "  warnings.warn(\n"
     ]
    },
    {
     "name": "stdout",
     "output_type": "stream",
     "text": [
      "{'eval_loss': 0.32508549094200134, 'eval_accuracy': 0.9294117647058824, 'eval_f1': 0.9634146341463414, 'eval_precision': 0.9294117647058824, 'eval_recall': 1.0, 'eval_runtime': 0.7125, 'eval_samples_per_second': 119.294, 'eval_steps_per_second': 8.421, 'epoch': 1.0}\n",
      "{'loss': 0.2703, 'grad_norm': 0.35294127464294434, 'learning_rate': 1.544186046511628e-05, 'epoch': 1.1627906976744187}\n",
      "{'eval_loss': 0.2012069672346115, 'eval_accuracy': 0.9294117647058824, 'eval_f1': 0.9634146341463414, 'eval_precision': 0.9294117647058824, 'eval_recall': 1.0, 'eval_runtime': 0.8359, 'eval_samples_per_second': 101.689, 'eval_steps_per_second': 7.178, 'epoch': 2.0}\n",
      "{'loss': 0.2108, 'grad_norm': 0.41594642400741577, 'learning_rate': 1.0790697674418607e-05, 'epoch': 2.3255813953488373}\n",
      "{'eval_loss': 0.25969991087913513, 'eval_accuracy': 0.9294117647058824, 'eval_f1': 0.9634146341463414, 'eval_precision': 0.9294117647058824, 'eval_recall': 1.0, 'eval_runtime': 0.8622, 'eval_samples_per_second': 98.581, 'eval_steps_per_second': 6.959, 'epoch': 3.0}\n",
      "{'train_runtime': 58.3499, 'train_samples_per_second': 29.22, 'train_steps_per_second': 3.685, 'train_loss': 0.24255099777103395, 'epoch': 3.0}\n",
      "{'eval_loss': 0.2012069672346115, 'eval_model_preparation_time': 0.0006, 'eval_accuracy': 0.9294117647058824, 'eval_f1': 0.9634146341463414, 'eval_precision': 0.9294117647058824, 'eval_recall': 1.0, 'eval_runtime': 0.7532, 'eval_samples_per_second': 112.851, 'eval_steps_per_second': 7.966}\n",
      "\n",
      "🔍 Model: distilbert-base-uncased\n",
      " ↪ Fold 1/5\n"
     ]
    },
    {
     "data": {
      "application/vnd.jupyter.widget-view+json": {
       "model_id": "50cce88121b2443894aac5f3fb661c4e",
       "version_major": 2,
       "version_minor": 0
      },
      "text/plain": [
       "Map:   0%|          | 0/340 [00:00<?, ? examples/s]"
      ]
     },
     "metadata": {},
     "output_type": "display_data"
    },
    {
     "data": {
      "application/vnd.jupyter.widget-view+json": {
       "model_id": "21ade706c29e4525886d8a1f359601a0",
       "version_major": 2,
       "version_minor": 0
      },
      "text/plain": [
       "Map:   0%|          | 0/86 [00:00<?, ? examples/s]"
      ]
     },
     "metadata": {},
     "output_type": "display_data"
    },
    {
     "name": "stderr",
     "output_type": "stream",
     "text": [
      "/Users/gchhetri/Developer/Python/15min-city-bench/.venv/lib/python3.12/site-packages/transformers/training_args.py:1604: FutureWarning: using `no_cuda` is deprecated and will be removed in version 5.0 of 🤗 Transformers. Use `use_cpu` instead\n",
      "  warnings.warn(\n"
     ]
    },
    {
     "name": "stdout",
     "output_type": "stream",
     "text": [
      "{'eval_loss': 0.21767926216125488, 'eval_accuracy': 0.9302325581395349, 'eval_f1': 0.963855421686747, 'eval_precision': 0.9302325581395349, 'eval_recall': 1.0, 'eval_runtime': 0.8178, 'eval_samples_per_second': 105.166, 'eval_steps_per_second': 7.337, 'epoch': 1.0}\n",
      "{'loss': 0.2735, 'grad_norm': 3.0594356060028076, 'learning_rate': 1.544186046511628e-05, 'epoch': 1.1627906976744187}\n",
      "{'eval_loss': 0.1895730048418045, 'eval_accuracy': 0.9302325581395349, 'eval_f1': 0.963855421686747, 'eval_precision': 0.9302325581395349, 'eval_recall': 1.0, 'eval_runtime': 0.8342, 'eval_samples_per_second': 103.096, 'eval_steps_per_second': 7.193, 'epoch': 2.0}\n",
      "{'loss': 0.1702, 'grad_norm': 0.6296712160110474, 'learning_rate': 1.0790697674418607e-05, 'epoch': 2.3255813953488373}\n",
      "{'eval_loss': 0.19582048058509827, 'eval_accuracy': 0.9418604651162791, 'eval_f1': 0.9696969696969697, 'eval_precision': 0.9411764705882353, 'eval_recall': 1.0, 'eval_runtime': 0.9151, 'eval_samples_per_second': 93.98, 'eval_steps_per_second': 6.557, 'epoch': 3.0}\n",
      "{'train_runtime': 47.1807, 'train_samples_per_second': 36.032, 'train_steps_per_second': 4.557, 'train_loss': 0.20567715445230172, 'epoch': 3.0}\n",
      "{'eval_loss': 0.1895730048418045, 'eval_model_preparation_time': 0.0004, 'eval_accuracy': 0.9302325581395349, 'eval_f1': 0.963855421686747, 'eval_precision': 0.9302325581395349, 'eval_recall': 1.0, 'eval_runtime': 0.8911, 'eval_samples_per_second': 96.511, 'eval_steps_per_second': 6.733}\n",
      " ↪ Fold 2/5\n"
     ]
    },
    {
     "data": {
      "application/vnd.jupyter.widget-view+json": {
       "model_id": "3df869a10828406294915ad7447fda74",
       "version_major": 2,
       "version_minor": 0
      },
      "text/plain": [
       "Map:   0%|          | 0/341 [00:00<?, ? examples/s]"
      ]
     },
     "metadata": {},
     "output_type": "display_data"
    },
    {
     "data": {
      "application/vnd.jupyter.widget-view+json": {
       "model_id": "f066631db45841afb8472055c9751b15",
       "version_major": 2,
       "version_minor": 0
      },
      "text/plain": [
       "Map:   0%|          | 0/85 [00:00<?, ? examples/s]"
      ]
     },
     "metadata": {},
     "output_type": "display_data"
    },
    {
     "name": "stderr",
     "output_type": "stream",
     "text": [
      "/Users/gchhetri/Developer/Python/15min-city-bench/.venv/lib/python3.12/site-packages/transformers/training_args.py:1604: FutureWarning: using `no_cuda` is deprecated and will be removed in version 5.0 of 🤗 Transformers. Use `use_cpu` instead\n",
      "  warnings.warn(\n"
     ]
    },
    {
     "name": "stdout",
     "output_type": "stream",
     "text": [
      "{'eval_loss': 0.20217949151992798, 'eval_accuracy': 0.9411764705882353, 'eval_f1': 0.9696969696969697, 'eval_precision': 0.9411764705882353, 'eval_recall': 1.0, 'eval_runtime': 0.7417, 'eval_samples_per_second': 114.599, 'eval_steps_per_second': 8.089, 'epoch': 1.0}\n",
      "{'loss': 0.3071, 'grad_norm': 4.020382881164551, 'learning_rate': 1.544186046511628e-05, 'epoch': 1.1627906976744187}\n",
      "{'eval_loss': 0.1824098825454712, 'eval_accuracy': 0.9411764705882353, 'eval_f1': 0.9696969696969697, 'eval_precision': 0.9411764705882353, 'eval_recall': 1.0, 'eval_runtime': 0.7198, 'eval_samples_per_second': 118.088, 'eval_steps_per_second': 8.336, 'epoch': 2.0}\n",
      "{'loss': 0.1494, 'grad_norm': 0.26365983486175537, 'learning_rate': 1.0790697674418607e-05, 'epoch': 2.3255813953488373}\n",
      "{'eval_loss': 0.18364161252975464, 'eval_accuracy': 0.9411764705882353, 'eval_f1': 0.9696969696969697, 'eval_precision': 0.9411764705882353, 'eval_recall': 1.0, 'eval_runtime': 0.6733, 'eval_samples_per_second': 126.246, 'eval_steps_per_second': 8.912, 'epoch': 3.0}\n",
      "{'train_runtime': 43.863, 'train_samples_per_second': 38.871, 'train_steps_per_second': 4.902, 'train_loss': 0.21901917272759963, 'epoch': 3.0}\n",
      "{'eval_loss': 0.1824098825454712, 'eval_model_preparation_time': 0.0005, 'eval_accuracy': 0.9411764705882353, 'eval_f1': 0.9696969696969697, 'eval_precision': 0.9411764705882353, 'eval_recall': 1.0, 'eval_runtime': 0.7249, 'eval_samples_per_second': 117.25, 'eval_steps_per_second': 8.276}\n",
      " ↪ Fold 3/5\n"
     ]
    },
    {
     "data": {
      "application/vnd.jupyter.widget-view+json": {
       "model_id": "ac1f2d2b3c044284bb66ca73064c7b67",
       "version_major": 2,
       "version_minor": 0
      },
      "text/plain": [
       "Map:   0%|          | 0/341 [00:00<?, ? examples/s]"
      ]
     },
     "metadata": {},
     "output_type": "display_data"
    },
    {
     "data": {
      "application/vnd.jupyter.widget-view+json": {
       "model_id": "8ca492976d3b4273851419530331be0f",
       "version_major": 2,
       "version_minor": 0
      },
      "text/plain": [
       "Map:   0%|          | 0/85 [00:00<?, ? examples/s]"
      ]
     },
     "metadata": {},
     "output_type": "display_data"
    },
    {
     "name": "stderr",
     "output_type": "stream",
     "text": [
      "/Users/gchhetri/Developer/Python/15min-city-bench/.venv/lib/python3.12/site-packages/transformers/training_args.py:1604: FutureWarning: using `no_cuda` is deprecated and will be removed in version 5.0 of 🤗 Transformers. Use `use_cpu` instead\n",
      "  warnings.warn(\n"
     ]
    },
    {
     "name": "stdout",
     "output_type": "stream",
     "text": [
      "{'eval_loss': 0.21337060630321503, 'eval_accuracy': 0.9411764705882353, 'eval_f1': 0.9696969696969697, 'eval_precision': 0.9411764705882353, 'eval_recall': 1.0, 'eval_runtime': 0.6807, 'eval_samples_per_second': 124.868, 'eval_steps_per_second': 8.814, 'epoch': 1.0}\n",
      "{'loss': 0.2856, 'grad_norm': 2.4613687992095947, 'learning_rate': 1.544186046511628e-05, 'epoch': 1.1627906976744187}\n",
      "{'eval_loss': 0.1760420799255371, 'eval_accuracy': 0.9411764705882353, 'eval_f1': 0.9696969696969697, 'eval_precision': 0.9411764705882353, 'eval_recall': 1.0, 'eval_runtime': 0.6877, 'eval_samples_per_second': 123.606, 'eval_steps_per_second': 8.725, 'epoch': 2.0}\n",
      "{'loss': 0.1991, 'grad_norm': 0.3810742497444153, 'learning_rate': 1.0790697674418607e-05, 'epoch': 2.3255813953488373}\n",
      "{'eval_loss': 0.1793520301580429, 'eval_accuracy': 0.9411764705882353, 'eval_f1': 0.9696969696969697, 'eval_precision': 0.9411764705882353, 'eval_recall': 1.0, 'eval_runtime': 0.694, 'eval_samples_per_second': 122.473, 'eval_steps_per_second': 8.645, 'epoch': 3.0}\n",
      "{'train_runtime': 43.0441, 'train_samples_per_second': 39.611, 'train_steps_per_second': 4.995, 'train_loss': 0.2266154695850934, 'epoch': 3.0}\n",
      "{'eval_loss': 0.1760420799255371, 'eval_model_preparation_time': 0.0004, 'eval_accuracy': 0.9411764705882353, 'eval_f1': 0.9696969696969697, 'eval_precision': 0.9411764705882353, 'eval_recall': 1.0, 'eval_runtime': 0.7216, 'eval_samples_per_second': 117.795, 'eval_steps_per_second': 8.315}\n",
      " ↪ Fold 4/5\n"
     ]
    },
    {
     "data": {
      "application/vnd.jupyter.widget-view+json": {
       "model_id": "e7db7a3cbc24482a93d7fe3215e40acf",
       "version_major": 2,
       "version_minor": 0
      },
      "text/plain": [
       "Map:   0%|          | 0/341 [00:00<?, ? examples/s]"
      ]
     },
     "metadata": {},
     "output_type": "display_data"
    },
    {
     "data": {
      "application/vnd.jupyter.widget-view+json": {
       "model_id": "96ea3addf21145c9ac7fb805ba85122a",
       "version_major": 2,
       "version_minor": 0
      },
      "text/plain": [
       "Map:   0%|          | 0/85 [00:00<?, ? examples/s]"
      ]
     },
     "metadata": {},
     "output_type": "display_data"
    },
    {
     "name": "stderr",
     "output_type": "stream",
     "text": [
      "/Users/gchhetri/Developer/Python/15min-city-bench/.venv/lib/python3.12/site-packages/transformers/training_args.py:1604: FutureWarning: using `no_cuda` is deprecated and will be removed in version 5.0 of 🤗 Transformers. Use `use_cpu` instead\n",
      "  warnings.warn(\n"
     ]
    },
    {
     "name": "stdout",
     "output_type": "stream",
     "text": [
      "{'eval_loss': 0.24578231573104858, 'eval_accuracy': 0.9411764705882353, 'eval_f1': 0.9696969696969697, 'eval_precision': 0.9411764705882353, 'eval_recall': 1.0, 'eval_runtime': 0.6556, 'eval_samples_per_second': 129.652, 'eval_steps_per_second': 9.152, 'epoch': 1.0}\n",
      "{'loss': 0.2525, 'grad_norm': 0.3866673409938812, 'learning_rate': 1.544186046511628e-05, 'epoch': 1.1627906976744187}\n",
      "{'eval_loss': 0.25035738945007324, 'eval_accuracy': 0.9411764705882353, 'eval_f1': 0.9696969696969697, 'eval_precision': 0.9411764705882353, 'eval_recall': 1.0, 'eval_runtime': 0.6429, 'eval_samples_per_second': 132.22, 'eval_steps_per_second': 9.333, 'epoch': 2.0}\n",
      "{'train_runtime': 27.9914, 'train_samples_per_second': 60.912, 'train_steps_per_second': 7.681, 'train_loss': 0.2328180989553762, 'epoch': 2.0}\n",
      "{'eval_loss': 0.24578231573104858, 'eval_model_preparation_time': 0.0003, 'eval_accuracy': 0.9411764705882353, 'eval_f1': 0.9696969696969697, 'eval_precision': 0.9411764705882353, 'eval_recall': 1.0, 'eval_runtime': 0.6426, 'eval_samples_per_second': 132.272, 'eval_steps_per_second': 9.337}\n",
      " ↪ Fold 5/5\n"
     ]
    },
    {
     "data": {
      "application/vnd.jupyter.widget-view+json": {
       "model_id": "23c6309f3ec346c09cd1416d93603f37",
       "version_major": 2,
       "version_minor": 0
      },
      "text/plain": [
       "Map:   0%|          | 0/341 [00:00<?, ? examples/s]"
      ]
     },
     "metadata": {},
     "output_type": "display_data"
    },
    {
     "data": {
      "application/vnd.jupyter.widget-view+json": {
       "model_id": "a1c63d75f0104a4590422bc4aa4d9117",
       "version_major": 2,
       "version_minor": 0
      },
      "text/plain": [
       "Map:   0%|          | 0/85 [00:00<?, ? examples/s]"
      ]
     },
     "metadata": {},
     "output_type": "display_data"
    },
    {
     "name": "stderr",
     "output_type": "stream",
     "text": [
      "/Users/gchhetri/Developer/Python/15min-city-bench/.venv/lib/python3.12/site-packages/transformers/training_args.py:1604: FutureWarning: using `no_cuda` is deprecated and will be removed in version 5.0 of 🤗 Transformers. Use `use_cpu` instead\n",
      "  warnings.warn(\n"
     ]
    },
    {
     "name": "stdout",
     "output_type": "stream",
     "text": [
      "{'eval_loss': 0.2362852692604065, 'eval_accuracy': 0.9294117647058824, 'eval_f1': 0.9634146341463414, 'eval_precision': 0.9294117647058824, 'eval_recall': 1.0, 'eval_runtime': 0.7606, 'eval_samples_per_second': 111.751, 'eval_steps_per_second': 7.888, 'epoch': 1.0}\n",
      "{'loss': 0.2591, 'grad_norm': 0.4268350601196289, 'learning_rate': 1.544186046511628e-05, 'epoch': 1.1627906976744187}\n",
      "{'eval_loss': 0.18759892880916595, 'eval_accuracy': 0.9294117647058824, 'eval_f1': 0.9634146341463414, 'eval_precision': 0.9294117647058824, 'eval_recall': 1.0, 'eval_runtime': 0.672, 'eval_samples_per_second': 126.486, 'eval_steps_per_second': 8.928, 'epoch': 2.0}\n",
      "{'loss': 0.1897, 'grad_norm': 0.57805997133255, 'learning_rate': 1.0790697674418607e-05, 'epoch': 2.3255813953488373}\n",
      "{'eval_loss': 0.19867631793022156, 'eval_accuracy': 0.9294117647058824, 'eval_f1': 0.9634146341463414, 'eval_precision': 0.9294117647058824, 'eval_recall': 1.0, 'eval_runtime': 0.6572, 'eval_samples_per_second': 129.332, 'eval_steps_per_second': 9.129, 'epoch': 3.0}\n",
      "{'train_runtime': 42.5285, 'train_samples_per_second': 40.091, 'train_steps_per_second': 5.055, 'train_loss': 0.21483357747395834, 'epoch': 3.0}\n",
      "{'eval_loss': 0.18759892880916595, 'eval_model_preparation_time': 0.0005, 'eval_accuracy': 0.9294117647058824, 'eval_f1': 0.9634146341463414, 'eval_precision': 0.9294117647058824, 'eval_recall': 1.0, 'eval_runtime': 0.7029, 'eval_samples_per_second': 120.923, 'eval_steps_per_second': 8.536}\n",
      "\n",
      "🔍 Model: nreimers/MiniLM-L6-H384-uncased\n",
      " ↪ Fold 1/5\n"
     ]
    },
    {
     "data": {
      "application/vnd.jupyter.widget-view+json": {
       "model_id": "eddb5bd9c1f1432b8773ce9a25d9fd55",
       "version_major": 2,
       "version_minor": 0
      },
      "text/plain": [
       "Map:   0%|          | 0/340 [00:00<?, ? examples/s]"
      ]
     },
     "metadata": {},
     "output_type": "display_data"
    },
    {
     "data": {
      "application/vnd.jupyter.widget-view+json": {
       "model_id": "6da1c1a5735241b1980a32bbc67b5278",
       "version_major": 2,
       "version_minor": 0
      },
      "text/plain": [
       "Map:   0%|          | 0/86 [00:00<?, ? examples/s]"
      ]
     },
     "metadata": {},
     "output_type": "display_data"
    },
    {
     "name": "stderr",
     "output_type": "stream",
     "text": [
      "/Users/gchhetri/Developer/Python/15min-city-bench/.venv/lib/python3.12/site-packages/transformers/training_args.py:1604: FutureWarning: using `no_cuda` is deprecated and will be removed in version 5.0 of 🤗 Transformers. Use `use_cpu` instead\n",
      "  warnings.warn(\n"
     ]
    },
    {
     "name": "stdout",
     "output_type": "stream",
     "text": [
      "{'eval_loss': 0.2593626081943512, 'eval_accuracy': 0.9302325581395349, 'eval_f1': 0.963855421686747, 'eval_precision': 0.9302325581395349, 'eval_recall': 1.0, 'eval_runtime': 0.4055, 'eval_samples_per_second': 212.075, 'eval_steps_per_second': 14.796, 'epoch': 1.0}\n",
      "{'loss': 0.4091, 'grad_norm': 1.5069103240966797, 'learning_rate': 1.544186046511628e-05, 'epoch': 1.1627906976744187}\n",
      "{'eval_loss': 0.2395489513874054, 'eval_accuracy': 0.9302325581395349, 'eval_f1': 0.963855421686747, 'eval_precision': 0.9302325581395349, 'eval_recall': 1.0, 'eval_runtime': 0.3673, 'eval_samples_per_second': 234.124, 'eval_steps_per_second': 16.334, 'epoch': 2.0}\n",
      "{'loss': 0.2273, 'grad_norm': 0.6472819447517395, 'learning_rate': 1.0790697674418607e-05, 'epoch': 2.3255813953488373}\n",
      "{'eval_loss': 0.21115824580192566, 'eval_accuracy': 0.9302325581395349, 'eval_f1': 0.963855421686747, 'eval_precision': 0.9302325581395349, 'eval_recall': 1.0, 'eval_runtime': 0.3582, 'eval_samples_per_second': 240.074, 'eval_steps_per_second': 16.749, 'epoch': 3.0}\n",
      "{'loss': 0.225, 'grad_norm': 0.6271095871925354, 'learning_rate': 6.139534883720932e-06, 'epoch': 3.488372093023256}\n",
      "{'eval_loss': 0.19570454955101013, 'eval_accuracy': 0.9302325581395349, 'eval_f1': 0.963855421686747, 'eval_precision': 0.9302325581395349, 'eval_recall': 1.0, 'eval_runtime': 0.3581, 'eval_samples_per_second': 240.157, 'eval_steps_per_second': 16.755, 'epoch': 4.0}\n",
      "{'loss': 0.1784, 'grad_norm': 0.8507197499275208, 'learning_rate': 1.4883720930232558e-06, 'epoch': 4.651162790697675}\n",
      "{'eval_loss': 0.1891261637210846, 'eval_accuracy': 0.9302325581395349, 'eval_f1': 0.963855421686747, 'eval_precision': 0.9302325581395349, 'eval_recall': 1.0, 'eval_runtime': 0.3412, 'eval_samples_per_second': 252.052, 'eval_steps_per_second': 17.585, 'epoch': 5.0}\n",
      "{'train_runtime': 32.9561, 'train_samples_per_second': 51.584, 'train_steps_per_second': 6.524, 'train_loss': 0.2565265655517578, 'epoch': 5.0}\n",
      "{'eval_loss': 0.1891261637210846, 'eval_model_preparation_time': 0.0005, 'eval_accuracy': 0.9302325581395349, 'eval_f1': 0.963855421686747, 'eval_precision': 0.9302325581395349, 'eval_recall': 1.0, 'eval_runtime': 0.3578, 'eval_samples_per_second': 240.35, 'eval_steps_per_second': 16.769}\n",
      " ↪ Fold 2/5\n"
     ]
    },
    {
     "data": {
      "application/vnd.jupyter.widget-view+json": {
       "model_id": "3ad806afdecc467cbfc28cf133fbb557",
       "version_major": 2,
       "version_minor": 0
      },
      "text/plain": [
       "Map:   0%|          | 0/341 [00:00<?, ? examples/s]"
      ]
     },
     "metadata": {},
     "output_type": "display_data"
    },
    {
     "data": {
      "application/vnd.jupyter.widget-view+json": {
       "model_id": "dbb279670fa64024b27fd470a6b3844c",
       "version_major": 2,
       "version_minor": 0
      },
      "text/plain": [
       "Map:   0%|          | 0/85 [00:00<?, ? examples/s]"
      ]
     },
     "metadata": {},
     "output_type": "display_data"
    },
    {
     "name": "stderr",
     "output_type": "stream",
     "text": [
      "/Users/gchhetri/Developer/Python/15min-city-bench/.venv/lib/python3.12/site-packages/transformers/training_args.py:1604: FutureWarning: using `no_cuda` is deprecated and will be removed in version 5.0 of 🤗 Transformers. Use `use_cpu` instead\n",
      "  warnings.warn(\n"
     ]
    },
    {
     "name": "stdout",
     "output_type": "stream",
     "text": [
      "{'eval_loss': 0.24687251448631287, 'eval_accuracy': 0.9411764705882353, 'eval_f1': 0.9696969696969697, 'eval_precision': 0.9411764705882353, 'eval_recall': 1.0, 'eval_runtime': 0.3651, 'eval_samples_per_second': 232.803, 'eval_steps_per_second': 16.433, 'epoch': 1.0}\n",
      "{'loss': 0.426, 'grad_norm': 1.3612679243087769, 'learning_rate': 1.544186046511628e-05, 'epoch': 1.1627906976744187}\n",
      "{'eval_loss': 0.21830421686172485, 'eval_accuracy': 0.9411764705882353, 'eval_f1': 0.9696969696969697, 'eval_precision': 0.9411764705882353, 'eval_recall': 1.0, 'eval_runtime': 0.2979, 'eval_samples_per_second': 285.377, 'eval_steps_per_second': 20.144, 'epoch': 2.0}\n",
      "{'loss': 0.2097, 'grad_norm': 0.6814373731613159, 'learning_rate': 1.0790697674418607e-05, 'epoch': 2.3255813953488373}\n",
      "{'eval_loss': 0.2002369612455368, 'eval_accuracy': 0.9411764705882353, 'eval_f1': 0.9696969696969697, 'eval_precision': 0.9411764705882353, 'eval_recall': 1.0, 'eval_runtime': 0.2782, 'eval_samples_per_second': 305.532, 'eval_steps_per_second': 21.567, 'epoch': 3.0}\n",
      "{'loss': 0.2304, 'grad_norm': 4.766895294189453, 'learning_rate': 6.139534883720932e-06, 'epoch': 3.488372093023256}\n",
      "{'eval_loss': 0.18698923289775848, 'eval_accuracy': 0.9411764705882353, 'eval_f1': 0.9696969696969697, 'eval_precision': 0.9411764705882353, 'eval_recall': 1.0, 'eval_runtime': 0.3133, 'eval_samples_per_second': 271.284, 'eval_steps_per_second': 19.149, 'epoch': 4.0}\n",
      "{'loss': 0.2041, 'grad_norm': 0.7505806684494019, 'learning_rate': 1.4883720930232558e-06, 'epoch': 4.651162790697675}\n",
      "{'eval_loss': 0.18323490023612976, 'eval_accuracy': 0.9411764705882353, 'eval_f1': 0.9696969696969697, 'eval_precision': 0.9411764705882353, 'eval_recall': 1.0, 'eval_runtime': 0.2783, 'eval_samples_per_second': 305.431, 'eval_steps_per_second': 21.56, 'epoch': 5.0}\n",
      "{'train_runtime': 33.9975, 'train_samples_per_second': 50.151, 'train_steps_per_second': 6.324, 'train_loss': 0.2577294016993323, 'epoch': 5.0}\n",
      "{'eval_loss': 0.18323490023612976, 'eval_model_preparation_time': 0.0005, 'eval_accuracy': 0.9411764705882353, 'eval_f1': 0.9696969696969697, 'eval_precision': 0.9411764705882353, 'eval_recall': 1.0, 'eval_runtime': 0.2803, 'eval_samples_per_second': 303.278, 'eval_steps_per_second': 21.408}\n",
      " ↪ Fold 3/5\n"
     ]
    },
    {
     "data": {
      "application/vnd.jupyter.widget-view+json": {
       "model_id": "29ac66992b254e309ccf5a3db0424c60",
       "version_major": 2,
       "version_minor": 0
      },
      "text/plain": [
       "Map:   0%|          | 0/341 [00:00<?, ? examples/s]"
      ]
     },
     "metadata": {},
     "output_type": "display_data"
    },
    {
     "data": {
      "application/vnd.jupyter.widget-view+json": {
       "model_id": "c5d8157cf3f94ab393b5f295bfe79fa1",
       "version_major": 2,
       "version_minor": 0
      },
      "text/plain": [
       "Map:   0%|          | 0/85 [00:00<?, ? examples/s]"
      ]
     },
     "metadata": {},
     "output_type": "display_data"
    },
    {
     "name": "stderr",
     "output_type": "stream",
     "text": [
      "/Users/gchhetri/Developer/Python/15min-city-bench/.venv/lib/python3.12/site-packages/transformers/training_args.py:1604: FutureWarning: using `no_cuda` is deprecated and will be removed in version 5.0 of 🤗 Transformers. Use `use_cpu` instead\n",
      "  warnings.warn(\n"
     ]
    },
    {
     "name": "stdout",
     "output_type": "stream",
     "text": [
      "{'eval_loss': 0.2439829260110855, 'eval_accuracy': 0.9411764705882353, 'eval_f1': 0.9696969696969697, 'eval_precision': 0.9411764705882353, 'eval_recall': 1.0, 'eval_runtime': 0.2594, 'eval_samples_per_second': 327.726, 'eval_steps_per_second': 23.134, 'epoch': 1.0}\n",
      "{'loss': 0.4111, 'grad_norm': 0.5611834526062012, 'learning_rate': 1.544186046511628e-05, 'epoch': 1.1627906976744187}\n",
      "{'eval_loss': 0.21563546359539032, 'eval_accuracy': 0.9411764705882353, 'eval_f1': 0.9696969696969697, 'eval_precision': 0.9411764705882353, 'eval_recall': 1.0, 'eval_runtime': 0.3562, 'eval_samples_per_second': 238.605, 'eval_steps_per_second': 16.843, 'epoch': 2.0}\n",
      "{'loss': 0.2332, 'grad_norm': 0.7247955203056335, 'learning_rate': 1.0790697674418607e-05, 'epoch': 2.3255813953488373}\n",
      "{'eval_loss': 0.20561476051807404, 'eval_accuracy': 0.9411764705882353, 'eval_f1': 0.9696969696969697, 'eval_precision': 0.9411764705882353, 'eval_recall': 1.0, 'eval_runtime': 0.3181, 'eval_samples_per_second': 267.217, 'eval_steps_per_second': 18.862, 'epoch': 3.0}\n",
      "{'loss': 0.2279, 'grad_norm': 4.278685569763184, 'learning_rate': 6.139534883720932e-06, 'epoch': 3.488372093023256}\n",
      "{'eval_loss': 0.19473522901535034, 'eval_accuracy': 0.9411764705882353, 'eval_f1': 0.9696969696969697, 'eval_precision': 0.9411764705882353, 'eval_recall': 1.0, 'eval_runtime': 0.28, 'eval_samples_per_second': 303.614, 'eval_steps_per_second': 21.432, 'epoch': 4.0}\n",
      "{'loss': 0.1744, 'grad_norm': 0.5620693564414978, 'learning_rate': 1.4883720930232558e-06, 'epoch': 4.651162790697675}\n",
      "{'eval_loss': 0.1939687430858612, 'eval_accuracy': 0.9411764705882353, 'eval_f1': 0.9696969696969697, 'eval_precision': 0.9411764705882353, 'eval_recall': 1.0, 'eval_runtime': 0.2734, 'eval_samples_per_second': 310.905, 'eval_steps_per_second': 21.946, 'epoch': 5.0}\n",
      "{'train_runtime': 34.3413, 'train_samples_per_second': 49.649, 'train_steps_per_second': 6.261, 'train_loss': 0.2619519422220629, 'epoch': 5.0}\n",
      "{'eval_loss': 0.1939687430858612, 'eval_model_preparation_time': 0.0004, 'eval_accuracy': 0.9411764705882353, 'eval_f1': 0.9696969696969697, 'eval_precision': 0.9411764705882353, 'eval_recall': 1.0, 'eval_runtime': 0.3133, 'eval_samples_per_second': 271.315, 'eval_steps_per_second': 19.152}\n",
      " ↪ Fold 4/5\n"
     ]
    },
    {
     "data": {
      "application/vnd.jupyter.widget-view+json": {
       "model_id": "979265dcef244e01a9f4700165edd526",
       "version_major": 2,
       "version_minor": 0
      },
      "text/plain": [
       "Map:   0%|          | 0/341 [00:00<?, ? examples/s]"
      ]
     },
     "metadata": {},
     "output_type": "display_data"
    },
    {
     "data": {
      "application/vnd.jupyter.widget-view+json": {
       "model_id": "77403c1e67764d9e9953414bcbc830e2",
       "version_major": 2,
       "version_minor": 0
      },
      "text/plain": [
       "Map:   0%|          | 0/85 [00:00<?, ? examples/s]"
      ]
     },
     "metadata": {},
     "output_type": "display_data"
    },
    {
     "name": "stderr",
     "output_type": "stream",
     "text": [
      "/Users/gchhetri/Developer/Python/15min-city-bench/.venv/lib/python3.12/site-packages/transformers/training_args.py:1604: FutureWarning: using `no_cuda` is deprecated and will be removed in version 5.0 of 🤗 Transformers. Use `use_cpu` instead\n",
      "  warnings.warn(\n"
     ]
    },
    {
     "name": "stdout",
     "output_type": "stream",
     "text": [
      "{'eval_loss': 0.24973726272583008, 'eval_accuracy': 0.9411764705882353, 'eval_f1': 0.9696969696969697, 'eval_precision': 0.9411764705882353, 'eval_recall': 1.0, 'eval_runtime': 0.2352, 'eval_samples_per_second': 361.411, 'eval_steps_per_second': 25.511, 'epoch': 1.0}\n",
      "{'loss': 0.4006, 'grad_norm': 1.082229733467102, 'learning_rate': 1.544186046511628e-05, 'epoch': 1.1627906976744187}\n",
      "{'eval_loss': 0.22386223077774048, 'eval_accuracy': 0.9411764705882353, 'eval_f1': 0.9696969696969697, 'eval_precision': 0.9411764705882353, 'eval_recall': 1.0, 'eval_runtime': 0.277, 'eval_samples_per_second': 306.853, 'eval_steps_per_second': 21.66, 'epoch': 2.0}\n",
      "{'loss': 0.2316, 'grad_norm': 0.6823395490646362, 'learning_rate': 1.0790697674418607e-05, 'epoch': 2.3255813953488373}\n",
      "{'eval_loss': 0.2230616807937622, 'eval_accuracy': 0.9411764705882353, 'eval_f1': 0.9696969696969697, 'eval_precision': 0.9411764705882353, 'eval_recall': 1.0, 'eval_runtime': 0.2294, 'eval_samples_per_second': 370.53, 'eval_steps_per_second': 26.155, 'epoch': 3.0}\n",
      "{'loss': 0.1997, 'grad_norm': 3.021167516708374, 'learning_rate': 6.139534883720932e-06, 'epoch': 3.488372093023256}\n",
      "{'eval_loss': 0.2257702350616455, 'eval_accuracy': 0.9411764705882353, 'eval_f1': 0.9696969696969697, 'eval_precision': 0.9411764705882353, 'eval_recall': 1.0, 'eval_runtime': 0.2808, 'eval_samples_per_second': 302.69, 'eval_steps_per_second': 21.366, 'epoch': 4.0}\n",
      "{'train_runtime': 26.6954, 'train_samples_per_second': 63.869, 'train_steps_per_second': 8.054, 'train_loss': 0.2666506711826768, 'epoch': 4.0}\n",
      "{'eval_loss': 0.2230616807937622, 'eval_model_preparation_time': 0.0005, 'eval_accuracy': 0.9411764705882353, 'eval_f1': 0.9696969696969697, 'eval_precision': 0.9411764705882353, 'eval_recall': 1.0, 'eval_runtime': 0.297, 'eval_samples_per_second': 286.229, 'eval_steps_per_second': 20.204}\n",
      " ↪ Fold 5/5\n"
     ]
    },
    {
     "data": {
      "application/vnd.jupyter.widget-view+json": {
       "model_id": "dd2cf804feb7441b898467c75f458dbb",
       "version_major": 2,
       "version_minor": 0
      },
      "text/plain": [
       "Map:   0%|          | 0/341 [00:00<?, ? examples/s]"
      ]
     },
     "metadata": {},
     "output_type": "display_data"
    },
    {
     "data": {
      "application/vnd.jupyter.widget-view+json": {
       "model_id": "b412dad40f4d42029caf54cbb08d5aa3",
       "version_major": 2,
       "version_minor": 0
      },
      "text/plain": [
       "Map:   0%|          | 0/85 [00:00<?, ? examples/s]"
      ]
     },
     "metadata": {},
     "output_type": "display_data"
    },
    {
     "name": "stderr",
     "output_type": "stream",
     "text": [
      "/Users/gchhetri/Developer/Python/15min-city-bench/.venv/lib/python3.12/site-packages/transformers/training_args.py:1604: FutureWarning: using `no_cuda` is deprecated and will be removed in version 5.0 of 🤗 Transformers. Use `use_cpu` instead\n",
      "  warnings.warn(\n"
     ]
    },
    {
     "name": "stdout",
     "output_type": "stream",
     "text": [
      "{'eval_loss': 0.265223890542984, 'eval_accuracy': 0.9294117647058824, 'eval_f1': 0.9634146341463414, 'eval_precision': 0.9294117647058824, 'eval_recall': 1.0, 'eval_runtime': 0.2667, 'eval_samples_per_second': 318.74, 'eval_steps_per_second': 22.499, 'epoch': 1.0}\n",
      "{'loss': 0.3908, 'grad_norm': 0.9739252924919128, 'learning_rate': 1.544186046511628e-05, 'epoch': 1.1627906976744187}\n",
      "{'eval_loss': 0.2403392791748047, 'eval_accuracy': 0.9294117647058824, 'eval_f1': 0.9634146341463414, 'eval_precision': 0.9294117647058824, 'eval_recall': 1.0, 'eval_runtime': 0.3121, 'eval_samples_per_second': 272.349, 'eval_steps_per_second': 19.225, 'epoch': 2.0}\n",
      "{'loss': 0.2302, 'grad_norm': 0.8416628837585449, 'learning_rate': 1.0790697674418607e-05, 'epoch': 2.3255813953488373}\n",
      "{'eval_loss': 0.23198087513446808, 'eval_accuracy': 0.9294117647058824, 'eval_f1': 0.9634146341463414, 'eval_precision': 0.9294117647058824, 'eval_recall': 1.0, 'eval_runtime': 0.2562, 'eval_samples_per_second': 331.71, 'eval_steps_per_second': 23.415, 'epoch': 3.0}\n",
      "{'loss': 0.1986, 'grad_norm': 1.0804555416107178, 'learning_rate': 6.139534883720932e-06, 'epoch': 3.488372093023256}\n",
      "{'eval_loss': 0.2115287482738495, 'eval_accuracy': 0.9294117647058824, 'eval_f1': 0.9634146341463414, 'eval_precision': 0.9294117647058824, 'eval_recall': 1.0, 'eval_runtime': 0.3008, 'eval_samples_per_second': 282.564, 'eval_steps_per_second': 19.946, 'epoch': 4.0}\n",
      "{'loss': 0.2262, 'grad_norm': 0.6031643748283386, 'learning_rate': 1.4883720930232558e-06, 'epoch': 4.651162790697675}\n",
      "{'eval_loss': 0.20705439150333405, 'eval_accuracy': 0.9294117647058824, 'eval_f1': 0.9634146341463414, 'eval_precision': 0.9294117647058824, 'eval_recall': 1.0, 'eval_runtime': 0.2603, 'eval_samples_per_second': 326.603, 'eval_steps_per_second': 23.054, 'epoch': 5.0}\n",
      "{'train_runtime': 33.1247, 'train_samples_per_second': 51.472, 'train_steps_per_second': 6.491, 'train_loss': 0.2542673964833104, 'epoch': 5.0}\n",
      "{'eval_loss': 0.20705439150333405, 'eval_model_preparation_time': 0.0004, 'eval_accuracy': 0.9294117647058824, 'eval_f1': 0.9634146341463414, 'eval_precision': 0.9294117647058824, 'eval_recall': 1.0, 'eval_runtime': 0.2714, 'eval_samples_per_second': 313.239, 'eval_steps_per_second': 22.111}\n",
      "\n",
      "🔍 Model: google/electra-small-discriminator\n",
      " ↪ Fold 1/5\n"
     ]
    },
    {
     "data": {
      "application/vnd.jupyter.widget-view+json": {
       "model_id": "38e47272bc934da1b83e83af1d628b13",
       "version_major": 2,
       "version_minor": 0
      },
      "text/plain": [
       "Map:   0%|          | 0/340 [00:00<?, ? examples/s]"
      ]
     },
     "metadata": {},
     "output_type": "display_data"
    },
    {
     "data": {
      "application/vnd.jupyter.widget-view+json": {
       "model_id": "d006ec7e3f564e299d976ad4a9b6afd1",
       "version_major": 2,
       "version_minor": 0
      },
      "text/plain": [
       "Map:   0%|          | 0/86 [00:00<?, ? examples/s]"
      ]
     },
     "metadata": {},
     "output_type": "display_data"
    },
    {
     "name": "stderr",
     "output_type": "stream",
     "text": [
      "/Users/gchhetri/Developer/Python/15min-city-bench/.venv/lib/python3.12/site-packages/transformers/training_args.py:1604: FutureWarning: using `no_cuda` is deprecated and will be removed in version 5.0 of 🤗 Transformers. Use `use_cpu` instead\n",
      "  warnings.warn(\n"
     ]
    },
    {
     "name": "stdout",
     "output_type": "stream",
     "text": [
      "{'eval_loss': 0.37330707907676697, 'eval_accuracy': 0.9302325581395349, 'eval_f1': 0.963855421686747, 'eval_precision': 0.9302325581395349, 'eval_recall': 1.0, 'eval_runtime': 0.5268, 'eval_samples_per_second': 163.247, 'eval_steps_per_second': 11.389, 'epoch': 1.0}\n",
      "{'loss': 0.4805, 'grad_norm': 0.9072086215019226, 'learning_rate': 1.544186046511628e-05, 'epoch': 1.1627906976744187}\n",
      "{'eval_loss': 0.2952280342578888, 'eval_accuracy': 0.9302325581395349, 'eval_f1': 0.963855421686747, 'eval_precision': 0.9302325581395349, 'eval_recall': 1.0, 'eval_runtime': 0.594, 'eval_samples_per_second': 144.775, 'eval_steps_per_second': 10.101, 'epoch': 2.0}\n",
      "{'loss': 0.319, 'grad_norm': 1.4833482503890991, 'learning_rate': 1.0790697674418607e-05, 'epoch': 2.3255813953488373}\n",
      "{'eval_loss': 0.2666594982147217, 'eval_accuracy': 0.9302325581395349, 'eval_f1': 0.963855421686747, 'eval_precision': 0.9302325581395349, 'eval_recall': 1.0, 'eval_runtime': 0.6392, 'eval_samples_per_second': 134.55, 'eval_steps_per_second': 9.387, 'epoch': 3.0}\n",
      "{'loss': 0.2787, 'grad_norm': 1.249648094177246, 'learning_rate': 6.139534883720932e-06, 'epoch': 3.488372093023256}\n",
      "{'eval_loss': 0.25378257036209106, 'eval_accuracy': 0.9302325581395349, 'eval_f1': 0.963855421686747, 'eval_precision': 0.9302325581395349, 'eval_recall': 1.0, 'eval_runtime': 0.6485, 'eval_samples_per_second': 132.609, 'eval_steps_per_second': 9.252, 'epoch': 4.0}\n",
      "{'loss': 0.2397, 'grad_norm': 1.2189786434173584, 'learning_rate': 1.4883720930232558e-06, 'epoch': 4.651162790697675}\n",
      "{'eval_loss': 0.24866163730621338, 'eval_accuracy': 0.9302325581395349, 'eval_f1': 0.963855421686747, 'eval_precision': 0.9302325581395349, 'eval_recall': 1.0, 'eval_runtime': 0.527, 'eval_samples_per_second': 163.193, 'eval_steps_per_second': 11.386, 'epoch': 5.0}\n",
      "{'train_runtime': 34.6625, 'train_samples_per_second': 49.044, 'train_steps_per_second': 6.203, 'train_loss': 0.32467341312142306, 'epoch': 5.0}\n",
      "{'eval_loss': 0.24866163730621338, 'eval_model_preparation_time': 0.0007, 'eval_accuracy': 0.9302325581395349, 'eval_f1': 0.963855421686747, 'eval_precision': 0.9302325581395349, 'eval_recall': 1.0, 'eval_runtime': 0.6029, 'eval_samples_per_second': 142.644, 'eval_steps_per_second': 9.952}\n",
      " ↪ Fold 2/5\n"
     ]
    },
    {
     "data": {
      "application/vnd.jupyter.widget-view+json": {
       "model_id": "550ec65f774e4f9c87485d26df26c06d",
       "version_major": 2,
       "version_minor": 0
      },
      "text/plain": [
       "Map:   0%|          | 0/341 [00:00<?, ? examples/s]"
      ]
     },
     "metadata": {},
     "output_type": "display_data"
    },
    {
     "data": {
      "application/vnd.jupyter.widget-view+json": {
       "model_id": "59922bc697ce44db84883d2068ceaa68",
       "version_major": 2,
       "version_minor": 0
      },
      "text/plain": [
       "Map:   0%|          | 0/85 [00:00<?, ? examples/s]"
      ]
     },
     "metadata": {},
     "output_type": "display_data"
    },
    {
     "name": "stderr",
     "output_type": "stream",
     "text": [
      "/Users/gchhetri/Developer/Python/15min-city-bench/.venv/lib/python3.12/site-packages/transformers/training_args.py:1604: FutureWarning: using `no_cuda` is deprecated and will be removed in version 5.0 of 🤗 Transformers. Use `use_cpu` instead\n",
      "  warnings.warn(\n"
     ]
    },
    {
     "name": "stdout",
     "output_type": "stream",
     "text": [
      "{'eval_loss': 0.3688727021217346, 'eval_accuracy': 0.9411764705882353, 'eval_f1': 0.9696969696969697, 'eval_precision': 0.9411764705882353, 'eval_recall': 1.0, 'eval_runtime': 0.5925, 'eval_samples_per_second': 143.45, 'eval_steps_per_second': 10.126, 'epoch': 1.0}\n",
      "{'loss': 0.4881, 'grad_norm': 0.7501160502433777, 'learning_rate': 1.544186046511628e-05, 'epoch': 1.1627906976744187}\n",
      "{'eval_loss': 0.2850476801395416, 'eval_accuracy': 0.9411764705882353, 'eval_f1': 0.9696969696969697, 'eval_precision': 0.9411764705882353, 'eval_recall': 1.0, 'eval_runtime': 0.5789, 'eval_samples_per_second': 146.839, 'eval_steps_per_second': 10.365, 'epoch': 2.0}\n",
      "{'loss': 0.3079, 'grad_norm': 1.4949367046356201, 'learning_rate': 1.0790697674418607e-05, 'epoch': 2.3255813953488373}\n",
      "{'eval_loss': 0.252668559551239, 'eval_accuracy': 0.9411764705882353, 'eval_f1': 0.9696969696969697, 'eval_precision': 0.9411764705882353, 'eval_recall': 1.0, 'eval_runtime': 0.4988, 'eval_samples_per_second': 170.411, 'eval_steps_per_second': 12.029, 'epoch': 3.0}\n",
      "{'loss': 0.2818, 'grad_norm': 1.4493250846862793, 'learning_rate': 6.139534883720932e-06, 'epoch': 3.488372093023256}\n",
      "{'eval_loss': 0.2382505238056183, 'eval_accuracy': 0.9411764705882353, 'eval_f1': 0.9696969696969697, 'eval_precision': 0.9411764705882353, 'eval_recall': 1.0, 'eval_runtime': 0.4689, 'eval_samples_per_second': 181.294, 'eval_steps_per_second': 12.797, 'epoch': 4.0}\n",
      "{'loss': 0.2611, 'grad_norm': 1.213639259338379, 'learning_rate': 1.4883720930232558e-06, 'epoch': 4.651162790697675}\n",
      "{'eval_loss': 0.23515141010284424, 'eval_accuracy': 0.9411764705882353, 'eval_f1': 0.9696969696969697, 'eval_precision': 0.9411764705882353, 'eval_recall': 1.0, 'eval_runtime': 0.4956, 'eval_samples_per_second': 171.508, 'eval_steps_per_second': 12.106, 'epoch': 5.0}\n",
      "{'train_runtime': 35.1543, 'train_samples_per_second': 48.501, 'train_steps_per_second': 6.116, 'train_loss': 0.3255851512731508, 'epoch': 5.0}\n",
      "{'eval_loss': 0.23515141010284424, 'eval_model_preparation_time': 0.0008, 'eval_accuracy': 0.9411764705882353, 'eval_f1': 0.9696969696969697, 'eval_precision': 0.9411764705882353, 'eval_recall': 1.0, 'eval_runtime': 0.6087, 'eval_samples_per_second': 139.644, 'eval_steps_per_second': 9.857}\n",
      " ↪ Fold 3/5\n"
     ]
    },
    {
     "data": {
      "application/vnd.jupyter.widget-view+json": {
       "model_id": "b400884ddb914c67ad0c4850b8912b4a",
       "version_major": 2,
       "version_minor": 0
      },
      "text/plain": [
       "Map:   0%|          | 0/341 [00:00<?, ? examples/s]"
      ]
     },
     "metadata": {},
     "output_type": "display_data"
    },
    {
     "data": {
      "application/vnd.jupyter.widget-view+json": {
       "model_id": "85ef6fb5338741b9978c96d832543678",
       "version_major": 2,
       "version_minor": 0
      },
      "text/plain": [
       "Map:   0%|          | 0/85 [00:00<?, ? examples/s]"
      ]
     },
     "metadata": {},
     "output_type": "display_data"
    },
    {
     "name": "stderr",
     "output_type": "stream",
     "text": [
      "/Users/gchhetri/Developer/Python/15min-city-bench/.venv/lib/python3.12/site-packages/transformers/training_args.py:1604: FutureWarning: using `no_cuda` is deprecated and will be removed in version 5.0 of 🤗 Transformers. Use `use_cpu` instead\n",
      "  warnings.warn(\n"
     ]
    },
    {
     "name": "stdout",
     "output_type": "stream",
     "text": [
      "{'eval_loss': 0.3654288947582245, 'eval_accuracy': 0.9411764705882353, 'eval_f1': 0.9696969696969697, 'eval_precision': 0.9411764705882353, 'eval_recall': 1.0, 'eval_runtime': 0.4381, 'eval_samples_per_second': 194.025, 'eval_steps_per_second': 13.696, 'epoch': 1.0}\n",
      "{'loss': 0.4791, 'grad_norm': 1.335382342338562, 'learning_rate': 1.544186046511628e-05, 'epoch': 1.1627906976744187}\n",
      "{'eval_loss': 0.2850651144981384, 'eval_accuracy': 0.9411764705882353, 'eval_f1': 0.9696969696969697, 'eval_precision': 0.9411764705882353, 'eval_recall': 1.0, 'eval_runtime': 0.4521, 'eval_samples_per_second': 188.003, 'eval_steps_per_second': 13.271, 'epoch': 2.0}\n",
      "{'loss': 0.3212, 'grad_norm': 1.4823768138885498, 'learning_rate': 1.0790697674418607e-05, 'epoch': 2.3255813953488373}\n",
      "{'eval_loss': 0.2520396411418915, 'eval_accuracy': 0.9411764705882353, 'eval_f1': 0.9696969696969697, 'eval_precision': 0.9411764705882353, 'eval_recall': 1.0, 'eval_runtime': 0.5071, 'eval_samples_per_second': 167.604, 'eval_steps_per_second': 11.831, 'epoch': 3.0}\n",
      "{'loss': 0.2772, 'grad_norm': 3.2511069774627686, 'learning_rate': 6.139534883720932e-06, 'epoch': 3.488372093023256}\n",
      "{'eval_loss': 0.23479913175106049, 'eval_accuracy': 0.9411764705882353, 'eval_f1': 0.9696969696969697, 'eval_precision': 0.9411764705882353, 'eval_recall': 1.0, 'eval_runtime': 0.446, 'eval_samples_per_second': 190.57, 'eval_steps_per_second': 13.452, 'epoch': 4.0}\n",
      "{'loss': 0.232, 'grad_norm': 1.1722975969314575, 'learning_rate': 1.4883720930232558e-06, 'epoch': 4.651162790697675}\n",
      "{'eval_loss': 0.23033274710178375, 'eval_accuracy': 0.9411764705882353, 'eval_f1': 0.9696969696969697, 'eval_precision': 0.9411764705882353, 'eval_recall': 1.0, 'eval_runtime': 0.4339, 'eval_samples_per_second': 195.913, 'eval_steps_per_second': 13.829, 'epoch': 5.0}\n",
      "{'train_runtime': 34.7882, 'train_samples_per_second': 49.011, 'train_steps_per_second': 6.18, 'train_loss': 0.3250445654225904, 'epoch': 5.0}\n",
      "{'eval_loss': 0.23033274710178375, 'eval_model_preparation_time': 0.0007, 'eval_accuracy': 0.9411764705882353, 'eval_f1': 0.9696969696969697, 'eval_precision': 0.9411764705882353, 'eval_recall': 1.0, 'eval_runtime': 0.4742, 'eval_samples_per_second': 179.255, 'eval_steps_per_second': 12.653}\n",
      " ↪ Fold 4/5\n"
     ]
    },
    {
     "data": {
      "application/vnd.jupyter.widget-view+json": {
       "model_id": "a50b28a09f8c413f97a3114b9a8ad506",
       "version_major": 2,
       "version_minor": 0
      },
      "text/plain": [
       "Map:   0%|          | 0/341 [00:00<?, ? examples/s]"
      ]
     },
     "metadata": {},
     "output_type": "display_data"
    },
    {
     "data": {
      "application/vnd.jupyter.widget-view+json": {
       "model_id": "384c45077a2f45389ac9d59225f22441",
       "version_major": 2,
       "version_minor": 0
      },
      "text/plain": [
       "Map:   0%|          | 0/85 [00:00<?, ? examples/s]"
      ]
     },
     "metadata": {},
     "output_type": "display_data"
    },
    {
     "name": "stderr",
     "output_type": "stream",
     "text": [
      "/Users/gchhetri/Developer/Python/15min-city-bench/.venv/lib/python3.12/site-packages/transformers/training_args.py:1604: FutureWarning: using `no_cuda` is deprecated and will be removed in version 5.0 of 🤗 Transformers. Use `use_cpu` instead\n",
      "  warnings.warn(\n"
     ]
    },
    {
     "name": "stdout",
     "output_type": "stream",
     "text": [
      "{'eval_loss': 0.37009748816490173, 'eval_accuracy': 0.9411764705882353, 'eval_f1': 0.9696969696969697, 'eval_precision': 0.9411764705882353, 'eval_recall': 1.0, 'eval_runtime': 0.3973, 'eval_samples_per_second': 213.934, 'eval_steps_per_second': 15.101, 'epoch': 1.0}\n",
      "{'loss': 0.4782, 'grad_norm': 1.8107556104660034, 'learning_rate': 1.544186046511628e-05, 'epoch': 1.1627906976744187}\n",
      "{'eval_loss': 0.2912852466106415, 'eval_accuracy': 0.9411764705882353, 'eval_f1': 0.9696969696969697, 'eval_precision': 0.9411764705882353, 'eval_recall': 1.0, 'eval_runtime': 0.5583, 'eval_samples_per_second': 152.236, 'eval_steps_per_second': 10.746, 'epoch': 2.0}\n",
      "{'loss': 0.3248, 'grad_norm': 1.5662672519683838, 'learning_rate': 1.0790697674418607e-05, 'epoch': 2.3255813953488373}\n",
      "{'eval_loss': 0.2566853165626526, 'eval_accuracy': 0.9411764705882353, 'eval_f1': 0.9696969696969697, 'eval_precision': 0.9411764705882353, 'eval_recall': 1.0, 'eval_runtime': 0.5677, 'eval_samples_per_second': 149.735, 'eval_steps_per_second': 10.57, 'epoch': 3.0}\n",
      "{'loss': 0.2679, 'grad_norm': 0.779301106929779, 'learning_rate': 6.139534883720932e-06, 'epoch': 3.488372093023256}\n",
      "{'eval_loss': 0.24450363218784332, 'eval_accuracy': 0.9411764705882353, 'eval_f1': 0.9696969696969697, 'eval_precision': 0.9411764705882353, 'eval_recall': 1.0, 'eval_runtime': 0.3779, 'eval_samples_per_second': 224.947, 'eval_steps_per_second': 15.879, 'epoch': 4.0}\n",
      "{'loss': 0.2409, 'grad_norm': 1.2532904148101807, 'learning_rate': 1.4883720930232558e-06, 'epoch': 4.651162790697675}\n",
      "{'eval_loss': 0.2412128448486328, 'eval_accuracy': 0.9411764705882353, 'eval_f1': 0.9696969696969697, 'eval_precision': 0.9411764705882353, 'eval_recall': 1.0, 'eval_runtime': 0.4104, 'eval_samples_per_second': 207.103, 'eval_steps_per_second': 14.619, 'epoch': 5.0}\n",
      "{'train_runtime': 36.0535, 'train_samples_per_second': 47.291, 'train_steps_per_second': 5.963, 'train_loss': 0.32286066010940906, 'epoch': 5.0}\n",
      "{'eval_loss': 0.2412128448486328, 'eval_model_preparation_time': 0.0008, 'eval_accuracy': 0.9411764705882353, 'eval_f1': 0.9696969696969697, 'eval_precision': 0.9411764705882353, 'eval_recall': 1.0, 'eval_runtime': 0.5085, 'eval_samples_per_second': 167.161, 'eval_steps_per_second': 11.8}\n",
      " ↪ Fold 5/5\n"
     ]
    },
    {
     "data": {
      "application/vnd.jupyter.widget-view+json": {
       "model_id": "ebc7a71adfb64d4d802e43a2281db108",
       "version_major": 2,
       "version_minor": 0
      },
      "text/plain": [
       "Map:   0%|          | 0/341 [00:00<?, ? examples/s]"
      ]
     },
     "metadata": {},
     "output_type": "display_data"
    },
    {
     "data": {
      "application/vnd.jupyter.widget-view+json": {
       "model_id": "d03b7f1bcedc4aa1a272e766a321df5a",
       "version_major": 2,
       "version_minor": 0
      },
      "text/plain": [
       "Map:   0%|          | 0/85 [00:00<?, ? examples/s]"
      ]
     },
     "metadata": {},
     "output_type": "display_data"
    },
    {
     "name": "stderr",
     "output_type": "stream",
     "text": [
      "/Users/gchhetri/Developer/Python/15min-city-bench/.venv/lib/python3.12/site-packages/transformers/training_args.py:1604: FutureWarning: using `no_cuda` is deprecated and will be removed in version 5.0 of 🤗 Transformers. Use `use_cpu` instead\n",
      "  warnings.warn(\n"
     ]
    },
    {
     "name": "stdout",
     "output_type": "stream",
     "text": [
      "{'eval_loss': 0.3742031455039978, 'eval_accuracy': 0.9294117647058824, 'eval_f1': 0.9634146341463414, 'eval_precision': 0.9294117647058824, 'eval_recall': 1.0, 'eval_runtime': 0.4505, 'eval_samples_per_second': 188.699, 'eval_steps_per_second': 13.32, 'epoch': 1.0}\n",
      "{'loss': 0.4737, 'grad_norm': 1.7718229293823242, 'learning_rate': 1.544186046511628e-05, 'epoch': 1.1627906976744187}\n",
      "{'eval_loss': 0.29566532373428345, 'eval_accuracy': 0.9294117647058824, 'eval_f1': 0.9634146341463414, 'eval_precision': 0.9294117647058824, 'eval_recall': 1.0, 'eval_runtime': 0.62, 'eval_samples_per_second': 137.102, 'eval_steps_per_second': 9.678, 'epoch': 2.0}\n",
      "{'loss': 0.3178, 'grad_norm': 1.452549934387207, 'learning_rate': 1.0790697674418607e-05, 'epoch': 2.3255813953488373}\n",
      "{'eval_loss': 0.26830077171325684, 'eval_accuracy': 0.9294117647058824, 'eval_f1': 0.9634146341463414, 'eval_precision': 0.9294117647058824, 'eval_recall': 1.0, 'eval_runtime': 0.583, 'eval_samples_per_second': 145.801, 'eval_steps_per_second': 10.292, 'epoch': 3.0}\n",
      "{'loss': 0.2564, 'grad_norm': 0.7537301182746887, 'learning_rate': 6.139534883720932e-06, 'epoch': 3.488372093023256}\n",
      "{'eval_loss': 0.25503748655319214, 'eval_accuracy': 0.9294117647058824, 'eval_f1': 0.9634146341463414, 'eval_precision': 0.9294117647058824, 'eval_recall': 1.0, 'eval_runtime': 0.5402, 'eval_samples_per_second': 157.363, 'eval_steps_per_second': 11.108, 'epoch': 4.0}\n",
      "{'loss': 0.2677, 'grad_norm': 1.1614418029785156, 'learning_rate': 1.4883720930232558e-06, 'epoch': 4.651162790697675}\n",
      "{'eval_loss': 0.25297459959983826, 'eval_accuracy': 0.9294117647058824, 'eval_f1': 0.9634146341463414, 'eval_precision': 0.9294117647058824, 'eval_recall': 1.0, 'eval_runtime': 0.5683, 'eval_samples_per_second': 149.573, 'eval_steps_per_second': 10.558, 'epoch': 5.0}\n",
      "{'train_runtime': 36.2618, 'train_samples_per_second': 47.019, 'train_steps_per_second': 5.929, 'train_loss': 0.32153855700825534, 'epoch': 5.0}\n",
      "{'eval_loss': 0.25297459959983826, 'eval_model_preparation_time': 0.0007, 'eval_accuracy': 0.9294117647058824, 'eval_f1': 0.9634146341463414, 'eval_precision': 0.9294117647058824, 'eval_recall': 1.0, 'eval_runtime': 0.5879, 'eval_samples_per_second': 144.581, 'eval_steps_per_second': 10.206}\n",
      "\n",
      "🔍 Model: huawei-noah/TinyBERT_General_4L_312D\n",
      " ↪ Fold 1/5\n"
     ]
    },
    {
     "data": {
      "application/vnd.jupyter.widget-view+json": {
       "model_id": "32071847e41948ee9e5cab2b4ab4c7b9",
       "version_major": 2,
       "version_minor": 0
      },
      "text/plain": [
       "Map:   0%|          | 0/340 [00:00<?, ? examples/s]"
      ]
     },
     "metadata": {},
     "output_type": "display_data"
    },
    {
     "data": {
      "application/vnd.jupyter.widget-view+json": {
       "model_id": "b0a15c51accf47c59126f05a358e4371",
       "version_major": 2,
       "version_minor": 0
      },
      "text/plain": [
       "Map:   0%|          | 0/86 [00:00<?, ? examples/s]"
      ]
     },
     "metadata": {},
     "output_type": "display_data"
    },
    {
     "name": "stderr",
     "output_type": "stream",
     "text": [
      "/Users/gchhetri/Developer/Python/15min-city-bench/.venv/lib/python3.12/site-packages/transformers/training_args.py:1604: FutureWarning: using `no_cuda` is deprecated and will be removed in version 5.0 of 🤗 Transformers. Use `use_cpu` instead\n",
      "  warnings.warn(\n"
     ]
    },
    {
     "name": "stdout",
     "output_type": "stream",
     "text": [
      "{'eval_loss': 0.38383209705352783, 'eval_accuracy': 0.9302325581395349, 'eval_f1': 0.963855421686747, 'eval_precision': 0.9302325581395349, 'eval_recall': 1.0, 'eval_runtime': 0.2264, 'eval_samples_per_second': 379.79, 'eval_steps_per_second': 26.497, 'epoch': 1.0}\n",
      "{'loss': 0.5046, 'grad_norm': 0.9243854880332947, 'learning_rate': 1.544186046511628e-05, 'epoch': 1.1627906976744187}\n",
      "{'eval_loss': 0.27599743008613586, 'eval_accuracy': 0.9302325581395349, 'eval_f1': 0.963855421686747, 'eval_precision': 0.9302325581395349, 'eval_recall': 1.0, 'eval_runtime': 0.211, 'eval_samples_per_second': 407.566, 'eval_steps_per_second': 28.435, 'epoch': 2.0}\n",
      "{'loss': 0.2938, 'grad_norm': 1.2556771039962769, 'learning_rate': 1.0790697674418607e-05, 'epoch': 2.3255813953488373}\n",
      "{'eval_loss': 0.24260519444942474, 'eval_accuracy': 0.9302325581395349, 'eval_f1': 0.963855421686747, 'eval_precision': 0.9302325581395349, 'eval_recall': 1.0, 'eval_runtime': 0.2097, 'eval_samples_per_second': 410.108, 'eval_steps_per_second': 28.612, 'epoch': 3.0}\n",
      "{'loss': 0.2402, 'grad_norm': 1.4527390003204346, 'learning_rate': 6.139534883720932e-06, 'epoch': 3.488372093023256}\n",
      "{'eval_loss': 0.2286977916955948, 'eval_accuracy': 0.9302325581395349, 'eval_f1': 0.963855421686747, 'eval_precision': 0.9302325581395349, 'eval_recall': 1.0, 'eval_runtime': 0.2024, 'eval_samples_per_second': 424.893, 'eval_steps_per_second': 29.644, 'epoch': 4.0}\n",
      "{'loss': 0.2015, 'grad_norm': 0.8751703500747681, 'learning_rate': 1.4883720930232558e-06, 'epoch': 4.651162790697675}\n",
      "{'eval_loss': 0.2232256829738617, 'eval_accuracy': 0.9302325581395349, 'eval_f1': 0.963855421686747, 'eval_precision': 0.9302325581395349, 'eval_recall': 1.0, 'eval_runtime': 0.2065, 'eval_samples_per_second': 416.563, 'eval_steps_per_second': 29.063, 'epoch': 5.0}\n",
      "{'train_runtime': 21.0229, 'train_samples_per_second': 80.864, 'train_steps_per_second': 10.227, 'train_loss': 0.30282263534013615, 'epoch': 5.0}\n",
      "{'eval_loss': 0.2232256829738617, 'eval_model_preparation_time': 0.0003, 'eval_accuracy': 0.9302325581395349, 'eval_f1': 0.963855421686747, 'eval_precision': 0.9302325581395349, 'eval_recall': 1.0, 'eval_runtime': 0.2118, 'eval_samples_per_second': 406.065, 'eval_steps_per_second': 28.33}\n",
      " ↪ Fold 2/5\n"
     ]
    },
    {
     "data": {
      "application/vnd.jupyter.widget-view+json": {
       "model_id": "94f56ee4f554415ba0da3d17a88002f1",
       "version_major": 2,
       "version_minor": 0
      },
      "text/plain": [
       "Map:   0%|          | 0/341 [00:00<?, ? examples/s]"
      ]
     },
     "metadata": {},
     "output_type": "display_data"
    },
    {
     "data": {
      "application/vnd.jupyter.widget-view+json": {
       "model_id": "bb025dde111f44ce8ce9936ce5050b40",
       "version_major": 2,
       "version_minor": 0
      },
      "text/plain": [
       "Map:   0%|          | 0/85 [00:00<?, ? examples/s]"
      ]
     },
     "metadata": {},
     "output_type": "display_data"
    },
    {
     "name": "stderr",
     "output_type": "stream",
     "text": [
      "/Users/gchhetri/Developer/Python/15min-city-bench/.venv/lib/python3.12/site-packages/transformers/training_args.py:1604: FutureWarning: using `no_cuda` is deprecated and will be removed in version 5.0 of 🤗 Transformers. Use `use_cpu` instead\n",
      "  warnings.warn(\n"
     ]
    },
    {
     "name": "stdout",
     "output_type": "stream",
     "text": [
      "{'eval_loss': 0.38053053617477417, 'eval_accuracy': 0.9411764705882353, 'eval_f1': 0.9696969696969697, 'eval_precision': 0.9411764705882353, 'eval_recall': 1.0, 'eval_runtime': 0.1924, 'eval_samples_per_second': 441.899, 'eval_steps_per_second': 31.193, 'epoch': 1.0}\n",
      "{'loss': 0.516, 'grad_norm': 0.6319003105163574, 'learning_rate': 1.544186046511628e-05, 'epoch': 1.1627906976744187}\n",
      "{'eval_loss': 0.2671181559562683, 'eval_accuracy': 0.9411764705882353, 'eval_f1': 0.9696969696969697, 'eval_precision': 0.9411764705882353, 'eval_recall': 1.0, 'eval_runtime': 0.1846, 'eval_samples_per_second': 460.433, 'eval_steps_per_second': 32.501, 'epoch': 2.0}\n",
      "{'loss': 0.2884, 'grad_norm': 1.1343848705291748, 'learning_rate': 1.0790697674418607e-05, 'epoch': 2.3255813953488373}\n",
      "{'eval_loss': 0.22556044161319733, 'eval_accuracy': 0.9411764705882353, 'eval_f1': 0.9696969696969697, 'eval_precision': 0.9411764705882353, 'eval_recall': 1.0, 'eval_runtime': 0.1791, 'eval_samples_per_second': 474.627, 'eval_steps_per_second': 33.503, 'epoch': 3.0}\n",
      "{'loss': 0.2563, 'grad_norm': 6.089483737945557, 'learning_rate': 6.139534883720932e-06, 'epoch': 3.488372093023256}\n",
      "{'eval_loss': 0.20884482562541962, 'eval_accuracy': 0.9411764705882353, 'eval_f1': 0.9696969696969697, 'eval_precision': 0.9411764705882353, 'eval_recall': 1.0, 'eval_runtime': 0.1726, 'eval_samples_per_second': 492.52, 'eval_steps_per_second': 34.766, 'epoch': 4.0}\n",
      "{'loss': 0.2257, 'grad_norm': 1.057594895362854, 'learning_rate': 1.4883720930232558e-06, 'epoch': 4.651162790697675}\n",
      "{'eval_loss': 0.2046443223953247, 'eval_accuracy': 0.9411764705882353, 'eval_f1': 0.9696969696969697, 'eval_precision': 0.9411764705882353, 'eval_recall': 1.0, 'eval_runtime': 0.1809, 'eval_samples_per_second': 469.933, 'eval_steps_per_second': 33.172, 'epoch': 5.0}\n",
      "{'train_runtime': 21.8422, 'train_samples_per_second': 78.06, 'train_steps_per_second': 9.843, 'train_loss': 0.3105874283369197, 'epoch': 5.0}\n",
      "{'eval_loss': 0.2046443223953247, 'eval_model_preparation_time': 0.0003, 'eval_accuracy': 0.9411764705882353, 'eval_f1': 0.9696969696969697, 'eval_precision': 0.9411764705882353, 'eval_recall': 1.0, 'eval_runtime': 0.1828, 'eval_samples_per_second': 464.885, 'eval_steps_per_second': 32.815}\n",
      " ↪ Fold 3/5\n"
     ]
    },
    {
     "data": {
      "application/vnd.jupyter.widget-view+json": {
       "model_id": "6992db7434f949bc885bff733d76dfab",
       "version_major": 2,
       "version_minor": 0
      },
      "text/plain": [
       "Map:   0%|          | 0/341 [00:00<?, ? examples/s]"
      ]
     },
     "metadata": {},
     "output_type": "display_data"
    },
    {
     "data": {
      "application/vnd.jupyter.widget-view+json": {
       "model_id": "c6d84f8a6a2e44e8b677a4a64c0a413b",
       "version_major": 2,
       "version_minor": 0
      },
      "text/plain": [
       "Map:   0%|          | 0/85 [00:00<?, ? examples/s]"
      ]
     },
     "metadata": {},
     "output_type": "display_data"
    },
    {
     "name": "stderr",
     "output_type": "stream",
     "text": [
      "/Users/gchhetri/Developer/Python/15min-city-bench/.venv/lib/python3.12/site-packages/transformers/training_args.py:1604: FutureWarning: using `no_cuda` is deprecated and will be removed in version 5.0 of 🤗 Transformers. Use `use_cpu` instead\n",
      "  warnings.warn(\n"
     ]
    },
    {
     "name": "stdout",
     "output_type": "stream",
     "text": [
      "{'eval_loss': 0.3779316544532776, 'eval_accuracy': 0.9411764705882353, 'eval_f1': 0.9696969696969697, 'eval_precision': 0.9411764705882353, 'eval_recall': 1.0, 'eval_runtime': 0.1694, 'eval_samples_per_second': 501.652, 'eval_steps_per_second': 35.411, 'epoch': 1.0}\n",
      "{'loss': 0.5052, 'grad_norm': 1.2076281309127808, 'learning_rate': 1.544186046511628e-05, 'epoch': 1.1627906976744187}\n",
      "{'eval_loss': 0.2677046060562134, 'eval_accuracy': 0.9411764705882353, 'eval_f1': 0.9696969696969697, 'eval_precision': 0.9411764705882353, 'eval_recall': 1.0, 'eval_runtime': 0.1622, 'eval_samples_per_second': 523.967, 'eval_steps_per_second': 36.986, 'epoch': 2.0}\n",
      "{'loss': 0.3033, 'grad_norm': 1.1320030689239502, 'learning_rate': 1.0790697674418607e-05, 'epoch': 2.3255813953488373}\n",
      "{'eval_loss': 0.23113685846328735, 'eval_accuracy': 0.9411764705882353, 'eval_f1': 0.9696969696969697, 'eval_precision': 0.9411764705882353, 'eval_recall': 1.0, 'eval_runtime': 0.1785, 'eval_samples_per_second': 476.164, 'eval_steps_per_second': 33.612, 'epoch': 3.0}\n",
      "{'loss': 0.2522, 'grad_norm': 5.652034282684326, 'learning_rate': 6.139534883720932e-06, 'epoch': 3.488372093023256}\n",
      "{'eval_loss': 0.21342894434928894, 'eval_accuracy': 0.9411764705882353, 'eval_f1': 0.9696969696969697, 'eval_precision': 0.9411764705882353, 'eval_recall': 1.0, 'eval_runtime': 0.1778, 'eval_samples_per_second': 478.017, 'eval_steps_per_second': 33.742, 'epoch': 4.0}\n",
      "{'loss': 0.2014, 'grad_norm': 0.8900911211967468, 'learning_rate': 1.4883720930232558e-06, 'epoch': 4.651162790697675}\n",
      "{'eval_loss': 0.20996367931365967, 'eval_accuracy': 0.9411764705882353, 'eval_f1': 0.9696969696969697, 'eval_precision': 0.9411764705882353, 'eval_recall': 1.0, 'eval_runtime': 0.1768, 'eval_samples_per_second': 480.87, 'eval_steps_per_second': 33.944, 'epoch': 5.0}\n",
      "{'train_runtime': 21.7308, 'train_samples_per_second': 78.46, 'train_steps_per_second': 9.894, 'train_loss': 0.3117528937583746, 'epoch': 5.0}\n",
      "{'eval_loss': 0.20996367931365967, 'eval_model_preparation_time': 0.0003, 'eval_accuracy': 0.9411764705882353, 'eval_f1': 0.9696969696969697, 'eval_precision': 0.9411764705882353, 'eval_recall': 1.0, 'eval_runtime': 0.1828, 'eval_samples_per_second': 464.864, 'eval_steps_per_second': 32.814}\n",
      " ↪ Fold 4/5\n"
     ]
    },
    {
     "data": {
      "application/vnd.jupyter.widget-view+json": {
       "model_id": "a73eb303e53a4791aabd3133c6221f26",
       "version_major": 2,
       "version_minor": 0
      },
      "text/plain": [
       "Map:   0%|          | 0/341 [00:00<?, ? examples/s]"
      ]
     },
     "metadata": {},
     "output_type": "display_data"
    },
    {
     "data": {
      "application/vnd.jupyter.widget-view+json": {
       "model_id": "0f8b3dee8ca6425c90cb15a3cd95e541",
       "version_major": 2,
       "version_minor": 0
      },
      "text/plain": [
       "Map:   0%|          | 0/85 [00:00<?, ? examples/s]"
      ]
     },
     "metadata": {},
     "output_type": "display_data"
    },
    {
     "name": "stderr",
     "output_type": "stream",
     "text": [
      "/Users/gchhetri/Developer/Python/15min-city-bench/.venv/lib/python3.12/site-packages/transformers/training_args.py:1604: FutureWarning: using `no_cuda` is deprecated and will be removed in version 5.0 of 🤗 Transformers. Use `use_cpu` instead\n",
      "  warnings.warn(\n"
     ]
    },
    {
     "name": "stdout",
     "output_type": "stream",
     "text": [
      "{'eval_loss': 0.38094890117645264, 'eval_accuracy': 0.9411764705882353, 'eval_f1': 0.9696969696969697, 'eval_precision': 0.9411764705882353, 'eval_recall': 1.0, 'eval_runtime': 0.1704, 'eval_samples_per_second': 498.855, 'eval_steps_per_second': 35.213, 'epoch': 1.0}\n",
      "{'loss': 0.5026, 'grad_norm': 1.5926722288131714, 'learning_rate': 1.544186046511628e-05, 'epoch': 1.1627906976744187}\n",
      "{'eval_loss': 0.27602362632751465, 'eval_accuracy': 0.9411764705882353, 'eval_f1': 0.9696969696969697, 'eval_precision': 0.9411764705882353, 'eval_recall': 1.0, 'eval_runtime': 0.165, 'eval_samples_per_second': 515.03, 'eval_steps_per_second': 36.355, 'epoch': 2.0}\n",
      "{'loss': 0.2982, 'grad_norm': 1.1580004692077637, 'learning_rate': 1.0790697674418607e-05, 'epoch': 2.3255813953488373}\n",
      "{'eval_loss': 0.24376508593559265, 'eval_accuracy': 0.9411764705882353, 'eval_f1': 0.9696969696969697, 'eval_precision': 0.9411764705882353, 'eval_recall': 1.0, 'eval_runtime': 0.1775, 'eval_samples_per_second': 478.825, 'eval_steps_per_second': 33.799, 'epoch': 3.0}\n",
      "{'loss': 0.2369, 'grad_norm': 3.625802755355835, 'learning_rate': 6.139534883720932e-06, 'epoch': 3.488372093023256}\n",
      "{'eval_loss': 0.2288532555103302, 'eval_accuracy': 0.9411764705882353, 'eval_f1': 0.9696969696969697, 'eval_precision': 0.9411764705882353, 'eval_recall': 1.0, 'eval_runtime': 0.1823, 'eval_samples_per_second': 466.15, 'eval_steps_per_second': 32.905, 'epoch': 4.0}\n",
      "{'loss': 0.2061, 'grad_norm': 0.902396023273468, 'learning_rate': 1.4883720930232558e-06, 'epoch': 4.651162790697675}\n",
      "{'eval_loss': 0.22364088892936707, 'eval_accuracy': 0.9411764705882353, 'eval_f1': 0.9696969696969697, 'eval_precision': 0.9411764705882353, 'eval_recall': 1.0, 'eval_runtime': 0.158, 'eval_samples_per_second': 537.902, 'eval_steps_per_second': 37.97, 'epoch': 5.0}\n",
      "{'train_runtime': 21.8959, 'train_samples_per_second': 77.868, 'train_steps_per_second': 9.819, 'train_loss': 0.30503633743108705, 'epoch': 5.0}\n",
      "{'eval_loss': 0.22364088892936707, 'eval_model_preparation_time': 0.0003, 'eval_accuracy': 0.9411764705882353, 'eval_f1': 0.9696969696969697, 'eval_precision': 0.9411764705882353, 'eval_recall': 1.0, 'eval_runtime': 0.1745, 'eval_samples_per_second': 486.991, 'eval_steps_per_second': 34.376}\n",
      " ↪ Fold 5/5\n"
     ]
    },
    {
     "data": {
      "application/vnd.jupyter.widget-view+json": {
       "model_id": "3562cb73b0424740acdc1e93f9e631e1",
       "version_major": 2,
       "version_minor": 0
      },
      "text/plain": [
       "Map:   0%|          | 0/341 [00:00<?, ? examples/s]"
      ]
     },
     "metadata": {},
     "output_type": "display_data"
    },
    {
     "data": {
      "application/vnd.jupyter.widget-view+json": {
       "model_id": "eb1fec1e7a8141e48e75bfc6d021b6c4",
       "version_major": 2,
       "version_minor": 0
      },
      "text/plain": [
       "Map:   0%|          | 0/85 [00:00<?, ? examples/s]"
      ]
     },
     "metadata": {},
     "output_type": "display_data"
    },
    {
     "name": "stderr",
     "output_type": "stream",
     "text": [
      "/Users/gchhetri/Developer/Python/15min-city-bench/.venv/lib/python3.12/site-packages/transformers/training_args.py:1604: FutureWarning: using `no_cuda` is deprecated and will be removed in version 5.0 of 🤗 Transformers. Use `use_cpu` instead\n",
      "  warnings.warn(\n"
     ]
    },
    {
     "name": "stdout",
     "output_type": "stream",
     "text": [
      "{'eval_loss': 0.39015036821365356, 'eval_accuracy': 0.9294117647058824, 'eval_f1': 0.9634146341463414, 'eval_precision': 0.9294117647058824, 'eval_recall': 1.0, 'eval_runtime': 0.1787, 'eval_samples_per_second': 475.631, 'eval_steps_per_second': 33.574, 'epoch': 1.0}\n",
      "{'loss': 0.5004, 'grad_norm': 1.5738344192504883, 'learning_rate': 1.544186046511628e-05, 'epoch': 1.1627906976744187}\n",
      "{'eval_loss': 0.2899605333805084, 'eval_accuracy': 0.9294117647058824, 'eval_f1': 0.9634146341463414, 'eval_precision': 0.9294117647058824, 'eval_recall': 1.0, 'eval_runtime': 0.1775, 'eval_samples_per_second': 478.976, 'eval_steps_per_second': 33.81, 'epoch': 2.0}\n",
      "{'loss': 0.2976, 'grad_norm': 1.1747928857803345, 'learning_rate': 1.0790697674418607e-05, 'epoch': 2.3255813953488373}\n",
      "{'eval_loss': 0.2554120421409607, 'eval_accuracy': 0.9294117647058824, 'eval_f1': 0.9634146341463414, 'eval_precision': 0.9294117647058824, 'eval_recall': 1.0, 'eval_runtime': 0.1766, 'eval_samples_per_second': 481.306, 'eval_steps_per_second': 33.975, 'epoch': 3.0}\n",
      "{'loss': 0.2271, 'grad_norm': 0.6944352388381958, 'learning_rate': 6.139534883720932e-06, 'epoch': 3.488372093023256}\n",
      "{'eval_loss': 0.24091406166553497, 'eval_accuracy': 0.9294117647058824, 'eval_f1': 0.9634146341463414, 'eval_precision': 0.9294117647058824, 'eval_recall': 1.0, 'eval_runtime': 0.1695, 'eval_samples_per_second': 501.478, 'eval_steps_per_second': 35.398, 'epoch': 4.0}\n",
      "{'loss': 0.2245, 'grad_norm': 0.8836098313331604, 'learning_rate': 1.4883720930232558e-06, 'epoch': 4.651162790697675}\n",
      "{'eval_loss': 0.23951469361782074, 'eval_accuracy': 0.9294117647058824, 'eval_f1': 0.9634146341463414, 'eval_precision': 0.9294117647058824, 'eval_recall': 1.0, 'eval_runtime': 0.1759, 'eval_samples_per_second': 483.303, 'eval_steps_per_second': 34.116, 'epoch': 5.0}\n",
      "{'train_runtime': 21.4245, 'train_samples_per_second': 79.582, 'train_steps_per_second': 10.035, 'train_loss': 0.3035642657169076, 'epoch': 5.0}\n",
      "{'eval_loss': 0.23951469361782074, 'eval_model_preparation_time': 0.0003, 'eval_accuracy': 0.9294117647058824, 'eval_f1': 0.9634146341463414, 'eval_precision': 0.9294117647058824, 'eval_recall': 1.0, 'eval_runtime': 0.1832, 'eval_samples_per_second': 463.885, 'eval_steps_per_second': 32.745}\n",
      "\n",
      "📂 Benchmarking on dataset: reddit\n"
     ]
    },
    {
     "data": {
      "application/vnd.jupyter.widget-view+json": {
       "model_id": "c8566371992b4b0887a8da84b28c6bee",
       "version_major": 2,
       "version_minor": 0
      },
      "text/plain": [
       "🔬 Benchmarking Models on reddit:   0%|          | 0/5 [00:00<?, ?it/s]"
      ]
     },
     "metadata": {},
     "output_type": "display_data"
    },
    {
     "name": "stdout",
     "output_type": "stream",
     "text": [
      "\n",
      "🔍 Model: distilroberta-base\n",
      " ↪ Fold 1/5\n"
     ]
    },
    {
     "data": {
      "application/vnd.jupyter.widget-view+json": {
       "model_id": "bfc7897e32b84ff3a656c526a7ee9ab4",
       "version_major": 2,
       "version_minor": 0
      },
      "text/plain": [
       "Map:   0%|          | 0/3556 [00:00<?, ? examples/s]"
      ]
     },
     "metadata": {},
     "output_type": "display_data"
    },
    {
     "data": {
      "application/vnd.jupyter.widget-view+json": {
       "model_id": "c7dee1927e5b4b12815e40df5b64095c",
       "version_major": 2,
       "version_minor": 0
      },
      "text/plain": [
       "Map:   0%|          | 0/889 [00:00<?, ? examples/s]"
      ]
     },
     "metadata": {},
     "output_type": "display_data"
    },
    {
     "name": "stderr",
     "output_type": "stream",
     "text": [
      "/Users/gchhetri/Developer/Python/15min-city-bench/.venv/lib/python3.12/site-packages/transformers/training_args.py:1604: FutureWarning: using `no_cuda` is deprecated and will be removed in version 5.0 of 🤗 Transformers. Use `use_cpu` instead\n",
      "  warnings.warn(\n"
     ]
    },
    {
     "name": "stdout",
     "output_type": "stream",
     "text": [
      "{'loss': 0.6745, 'grad_norm': 2.9708504676818848, 'learning_rate': 1.9559550561797755e-05, 'epoch': 0.11235955056179775}\n",
      "{'loss': 0.6709, 'grad_norm': 1.8787527084350586, 'learning_rate': 1.9110112359550563e-05, 'epoch': 0.2247191011235955}\n",
      "{'loss': 0.6487, 'grad_norm': 4.9142656326293945, 'learning_rate': 1.8660674157303374e-05, 'epoch': 0.33707865168539325}\n",
      "{'loss': 0.6651, 'grad_norm': 6.091533660888672, 'learning_rate': 1.8211235955056182e-05, 'epoch': 0.449438202247191}\n",
      "{'loss': 0.6831, 'grad_norm': 1.7346537113189697, 'learning_rate': 1.776179775280899e-05, 'epoch': 0.5617977528089888}\n",
      "{'loss': 0.666, 'grad_norm': 3.4265847206115723, 'learning_rate': 1.73123595505618e-05, 'epoch': 0.6741573033707865}\n",
      "{'loss': 0.6571, 'grad_norm': 6.038039207458496, 'learning_rate': 1.6862921348314607e-05, 'epoch': 0.7865168539325843}\n",
      "{'loss': 0.6899, 'grad_norm': 5.084569454193115, 'learning_rate': 1.6413483146067418e-05, 'epoch': 0.898876404494382}\n",
      "{'eval_loss': 0.6581104397773743, 'eval_accuracy': 0.5995500562429696, 'eval_f1': 0.7416545718432511, 'eval_precision': 0.6011764705882353, 'eval_recall': 0.9678030303030303, 'eval_runtime': 21.7964, 'eval_samples_per_second': 40.786, 'eval_steps_per_second': 2.569, 'epoch': 1.0}\n",
      "{'loss': 0.6504, 'grad_norm': 2.035034418106079, 'learning_rate': 1.5964044943820226e-05, 'epoch': 1.0112359550561798}\n",
      "{'loss': 0.6622, 'grad_norm': 6.369193077087402, 'learning_rate': 1.5514606741573034e-05, 'epoch': 1.1235955056179776}\n",
      "{'loss': 0.6372, 'grad_norm': 2.453719139099121, 'learning_rate': 1.5065168539325842e-05, 'epoch': 1.2359550561797752}\n",
      "{'loss': 0.6684, 'grad_norm': 1.9387067556381226, 'learning_rate': 1.4615730337078654e-05, 'epoch': 1.348314606741573}\n",
      "{'loss': 0.652, 'grad_norm': 3.175443410873413, 'learning_rate': 1.416629213483146e-05, 'epoch': 1.4606741573033708}\n",
      "{'loss': 0.6654, 'grad_norm': 2.536939859390259, 'learning_rate': 1.3716853932584272e-05, 'epoch': 1.5730337078651684}\n",
      "{'loss': 0.6573, 'grad_norm': 5.164222717285156, 'learning_rate': 1.3267415730337078e-05, 'epoch': 1.6853932584269664}\n",
      "{'loss': 0.6624, 'grad_norm': 2.7602055072784424, 'learning_rate': 1.281797752808989e-05, 'epoch': 1.797752808988764}\n",
      "{'loss': 0.6498, 'grad_norm': 2.740302562713623, 'learning_rate': 1.2368539325842697e-05, 'epoch': 1.9101123595505618}\n",
      "{'eval_loss': 0.6507603526115417, 'eval_accuracy': 0.6321709786276716, 'eval_f1': 0.72264631043257, 'eval_precision': 0.6543778801843319, 'eval_recall': 0.8068181818181818, 'eval_runtime': 21.9683, 'eval_samples_per_second': 40.467, 'eval_steps_per_second': 2.549, 'epoch': 2.0}\n",
      "{'loss': 0.6409, 'grad_norm': 2.4845380783081055, 'learning_rate': 1.1919101123595507e-05, 'epoch': 2.0224719101123596}\n",
      "{'loss': 0.6302, 'grad_norm': 5.125942230224609, 'learning_rate': 1.1469662921348315e-05, 'epoch': 2.134831460674157}\n",
      "{'loss': 0.6272, 'grad_norm': 8.233362197875977, 'learning_rate': 1.1020224719101125e-05, 'epoch': 2.247191011235955}\n",
      "{'loss': 0.6618, 'grad_norm': 3.150665283203125, 'learning_rate': 1.0570786516853933e-05, 'epoch': 2.359550561797753}\n",
      "{'loss': 0.6099, 'grad_norm': 3.1865105628967285, 'learning_rate': 1.0121348314606743e-05, 'epoch': 2.4719101123595504}\n",
      "{'loss': 0.6428, 'grad_norm': 2.628520965576172, 'learning_rate': 9.671910112359551e-06, 'epoch': 2.5842696629213484}\n",
      "{'loss': 0.63, 'grad_norm': 4.6220831871032715, 'learning_rate': 9.22247191011236e-06, 'epoch': 2.696629213483146}\n",
      "{'loss': 0.6434, 'grad_norm': 5.355522632598877, 'learning_rate': 8.773033707865169e-06, 'epoch': 2.808988764044944}\n",
      "{'loss': 0.6155, 'grad_norm': 5.827917098999023, 'learning_rate': 8.323595505617979e-06, 'epoch': 2.9213483146067416}\n",
      "{'eval_loss': 0.6671096086502075, 'eval_accuracy': 0.6186726659167604, 'eval_f1': 0.7357755261106781, 'eval_precision': 0.6251655629139072, 'eval_recall': 0.8939393939393939, 'eval_runtime': 22.8908, 'eval_samples_per_second': 38.837, 'eval_steps_per_second': 2.446, 'epoch': 3.0}\n",
      "{'train_runtime': 1891.4519, 'train_samples_per_second': 9.4, 'train_steps_per_second': 1.176, 'train_loss': 0.6521785836094774, 'epoch': 3.0}\n",
      "{'eval_loss': 0.6507603526115417, 'eval_model_preparation_time': 0.0004, 'eval_accuracy': 0.6321709786276716, 'eval_f1': 0.72264631043257, 'eval_precision': 0.6543778801843319, 'eval_recall': 0.8068181818181818, 'eval_runtime': 22.4117, 'eval_samples_per_second': 39.667, 'eval_steps_per_second': 2.499}\n",
      " ↪ Fold 2/5\n"
     ]
    },
    {
     "data": {
      "application/vnd.jupyter.widget-view+json": {
       "model_id": "ee03ea9b823d41ff9f3b1968fa32269e",
       "version_major": 2,
       "version_minor": 0
      },
      "text/plain": [
       "Map:   0%|          | 0/3556 [00:00<?, ? examples/s]"
      ]
     },
     "metadata": {},
     "output_type": "display_data"
    },
    {
     "data": {
      "application/vnd.jupyter.widget-view+json": {
       "model_id": "7932a2dadd914d0d80366480d1b9d77f",
       "version_major": 2,
       "version_minor": 0
      },
      "text/plain": [
       "Map:   0%|          | 0/889 [00:00<?, ? examples/s]"
      ]
     },
     "metadata": {},
     "output_type": "display_data"
    },
    {
     "name": "stderr",
     "output_type": "stream",
     "text": [
      "/Users/gchhetri/Developer/Python/15min-city-bench/.venv/lib/python3.12/site-packages/transformers/training_args.py:1604: FutureWarning: using `no_cuda` is deprecated and will be removed in version 5.0 of 🤗 Transformers. Use `use_cpu` instead\n",
      "  warnings.warn(\n"
     ]
    },
    {
     "name": "stdout",
     "output_type": "stream",
     "text": [
      "{'loss': 0.6983, 'grad_norm': 3.657151222229004, 'learning_rate': 1.9559550561797755e-05, 'epoch': 0.11235955056179775}\n",
      "{'loss': 0.6651, 'grad_norm': 2.081792116165161, 'learning_rate': 1.9110112359550563e-05, 'epoch': 0.2247191011235955}\n",
      "{'loss': 0.6709, 'grad_norm': 2.8065805435180664, 'learning_rate': 1.8660674157303374e-05, 'epoch': 0.33707865168539325}\n",
      "{'loss': 0.6805, 'grad_norm': 4.685303688049316, 'learning_rate': 1.8211235955056182e-05, 'epoch': 0.449438202247191}\n",
      "{'loss': 0.6605, 'grad_norm': 3.697326898574829, 'learning_rate': 1.776179775280899e-05, 'epoch': 0.5617977528089888}\n",
      "{'loss': 0.6577, 'grad_norm': 2.744352102279663, 'learning_rate': 1.73123595505618e-05, 'epoch': 0.6741573033707865}\n",
      "{'loss': 0.6451, 'grad_norm': 2.554262161254883, 'learning_rate': 1.6862921348314607e-05, 'epoch': 0.7865168539325843}\n",
      "{'loss': 0.6891, 'grad_norm': 3.3556716442108154, 'learning_rate': 1.6413483146067418e-05, 'epoch': 0.898876404494382}\n",
      "{'eval_loss': 0.6707407832145691, 'eval_accuracy': 0.608548931383577, 'eval_f1': 0.7152209492635024, 'eval_precision': 0.6296829971181557, 'eval_recall': 0.8276515151515151, 'eval_runtime': 21.8511, 'eval_samples_per_second': 40.684, 'eval_steps_per_second': 2.563, 'epoch': 1.0}\n",
      "{'loss': 0.6411, 'grad_norm': 7.598700523376465, 'learning_rate': 1.5964044943820226e-05, 'epoch': 1.0112359550561798}\n",
      "{'loss': 0.6409, 'grad_norm': 6.517725944519043, 'learning_rate': 1.5514606741573034e-05, 'epoch': 1.1235955056179776}\n",
      "{'loss': 0.6513, 'grad_norm': 4.927513122558594, 'learning_rate': 1.5065168539325842e-05, 'epoch': 1.2359550561797752}\n",
      "{'loss': 0.6366, 'grad_norm': 2.9554648399353027, 'learning_rate': 1.4615730337078654e-05, 'epoch': 1.348314606741573}\n",
      "{'loss': 0.6431, 'grad_norm': 1.932099461555481, 'learning_rate': 1.416629213483146e-05, 'epoch': 1.4606741573033708}\n",
      "{'loss': 0.6784, 'grad_norm': 4.624752521514893, 'learning_rate': 1.3716853932584272e-05, 'epoch': 1.5730337078651684}\n",
      "{'loss': 0.6696, 'grad_norm': 1.5881882905960083, 'learning_rate': 1.3267415730337078e-05, 'epoch': 1.6853932584269664}\n",
      "{'loss': 0.6511, 'grad_norm': 8.779606819152832, 'learning_rate': 1.281797752808989e-05, 'epoch': 1.797752808988764}\n",
      "{'loss': 0.6591, 'grad_norm': 2.2181620597839355, 'learning_rate': 1.2368539325842697e-05, 'epoch': 1.9101123595505618}\n",
      "{'eval_loss': 0.6727833151817322, 'eval_accuracy': 0.6029246344206974, 'eval_f1': 0.687333923826395, 'eval_precision': 0.6455906821963394, 'eval_recall': 0.7348484848484849, 'eval_runtime': 22.0988, 'eval_samples_per_second': 40.228, 'eval_steps_per_second': 2.534, 'epoch': 2.0}\n",
      "{'train_runtime': 1241.8612, 'train_samples_per_second': 14.317, 'train_steps_per_second': 1.792, 'train_loss': 0.6596933879209368, 'epoch': 2.0}\n",
      "{'eval_loss': 0.6707407832145691, 'eval_model_preparation_time': 0.0004, 'eval_accuracy': 0.608548931383577, 'eval_f1': 0.7152209492635024, 'eval_precision': 0.6296829971181557, 'eval_recall': 0.8276515151515151, 'eval_runtime': 21.885, 'eval_samples_per_second': 40.621, 'eval_steps_per_second': 2.559}\n",
      " ↪ Fold 3/5\n"
     ]
    },
    {
     "data": {
      "application/vnd.jupyter.widget-view+json": {
       "model_id": "cee41790719d40c4806e00e91ccdd2dd",
       "version_major": 2,
       "version_minor": 0
      },
      "text/plain": [
       "Map:   0%|          | 0/3556 [00:00<?, ? examples/s]"
      ]
     },
     "metadata": {},
     "output_type": "display_data"
    },
    {
     "data": {
      "application/vnd.jupyter.widget-view+json": {
       "model_id": "6ae4d45c1e994857a96ac59cb7506b34",
       "version_major": 2,
       "version_minor": 0
      },
      "text/plain": [
       "Map:   0%|          | 0/889 [00:00<?, ? examples/s]"
      ]
     },
     "metadata": {},
     "output_type": "display_data"
    },
    {
     "name": "stderr",
     "output_type": "stream",
     "text": [
      "/Users/gchhetri/Developer/Python/15min-city-bench/.venv/lib/python3.12/site-packages/transformers/training_args.py:1604: FutureWarning: using `no_cuda` is deprecated and will be removed in version 5.0 of 🤗 Transformers. Use `use_cpu` instead\n",
      "  warnings.warn(\n"
     ]
    },
    {
     "name": "stdout",
     "output_type": "stream",
     "text": [
      "{'loss': 0.6793, 'grad_norm': 3.2168924808502197, 'learning_rate': 1.9559550561797755e-05, 'epoch': 0.11235955056179775}\n",
      "{'loss': 0.6662, 'grad_norm': 2.7267110347747803, 'learning_rate': 1.9110112359550563e-05, 'epoch': 0.2247191011235955}\n",
      "{'loss': 0.6737, 'grad_norm': 3.923222064971924, 'learning_rate': 1.8660674157303374e-05, 'epoch': 0.33707865168539325}\n",
      "{'loss': 0.6733, 'grad_norm': 2.3912441730499268, 'learning_rate': 1.8211235955056182e-05, 'epoch': 0.449438202247191}\n",
      "{'loss': 0.6762, 'grad_norm': 4.4173808097839355, 'learning_rate': 1.776179775280899e-05, 'epoch': 0.5617977528089888}\n",
      "{'loss': 0.6772, 'grad_norm': 6.328276634216309, 'learning_rate': 1.73123595505618e-05, 'epoch': 0.6741573033707865}\n",
      "{'loss': 0.6773, 'grad_norm': 5.382719039916992, 'learning_rate': 1.6862921348314607e-05, 'epoch': 0.7865168539325843}\n",
      "{'loss': 0.6258, 'grad_norm': 5.758304595947266, 'learning_rate': 1.6413483146067418e-05, 'epoch': 0.898876404494382}\n",
      "{'eval_loss': 0.654363751411438, 'eval_accuracy': 0.6164229471316085, 'eval_f1': 0.7243330638641875, 'eval_precision': 0.6318758815232722, 'eval_recall': 0.8484848484848485, 'eval_runtime': 22.4449, 'eval_samples_per_second': 39.608, 'eval_steps_per_second': 2.495, 'epoch': 1.0}\n",
      "{'loss': 0.6666, 'grad_norm': 2.0837621688842773, 'learning_rate': 1.5964044943820226e-05, 'epoch': 1.0112359550561798}\n",
      "{'loss': 0.6554, 'grad_norm': 2.863945245742798, 'learning_rate': 1.5514606741573034e-05, 'epoch': 1.1235955056179776}\n",
      "{'loss': 0.6678, 'grad_norm': 4.199302673339844, 'learning_rate': 1.5065168539325842e-05, 'epoch': 1.2359550561797752}\n",
      "{'loss': 0.6646, 'grad_norm': 4.3893561363220215, 'learning_rate': 1.4615730337078654e-05, 'epoch': 1.348314606741573}\n",
      "{'loss': 0.6734, 'grad_norm': 3.155423402786255, 'learning_rate': 1.416629213483146e-05, 'epoch': 1.4606741573033708}\n",
      "{'loss': 0.647, 'grad_norm': 5.752805709838867, 'learning_rate': 1.3716853932584272e-05, 'epoch': 1.5730337078651684}\n",
      "{'loss': 0.6504, 'grad_norm': 2.3872363567352295, 'learning_rate': 1.3267415730337078e-05, 'epoch': 1.6853932584269664}\n",
      "{'loss': 0.649, 'grad_norm': 4.536281585693359, 'learning_rate': 1.281797752808989e-05, 'epoch': 1.797752808988764}\n",
      "{'loss': 0.6572, 'grad_norm': 2.486316680908203, 'learning_rate': 1.2368539325842697e-05, 'epoch': 1.9101123595505618}\n",
      "{'eval_loss': 0.6511452794075012, 'eval_accuracy': 0.6389201349831272, 'eval_f1': 0.719650655021834, 'eval_precision': 0.6677471636952999, 'eval_recall': 0.7803030303030303, 'eval_runtime': 22.7836, 'eval_samples_per_second': 39.019, 'eval_steps_per_second': 2.458, 'epoch': 2.0}\n",
      "{'loss': 0.6564, 'grad_norm': 5.809412956237793, 'learning_rate': 1.1919101123595507e-05, 'epoch': 2.0224719101123596}\n",
      "{'loss': 0.6464, 'grad_norm': 3.626509189605713, 'learning_rate': 1.1469662921348315e-05, 'epoch': 2.134831460674157}\n",
      "{'loss': 0.6601, 'grad_norm': 10.454501152038574, 'learning_rate': 1.1020224719101125e-05, 'epoch': 2.247191011235955}\n",
      "{'loss': 0.6369, 'grad_norm': 9.187796592712402, 'learning_rate': 1.0570786516853933e-05, 'epoch': 2.359550561797753}\n",
      "{'loss': 0.6404, 'grad_norm': 6.405611991882324, 'learning_rate': 1.0121348314606743e-05, 'epoch': 2.4719101123595504}\n",
      "{'loss': 0.6242, 'grad_norm': 3.8162314891815186, 'learning_rate': 9.671910112359551e-06, 'epoch': 2.5842696629213484}\n",
      "{'loss': 0.6189, 'grad_norm': 3.5161280632019043, 'learning_rate': 9.22247191011236e-06, 'epoch': 2.696629213483146}\n",
      "{'loss': 0.6375, 'grad_norm': 10.513625144958496, 'learning_rate': 8.773033707865169e-06, 'epoch': 2.808988764044944}\n",
      "{'loss': 0.6181, 'grad_norm': 5.947354793548584, 'learning_rate': 8.323595505617979e-06, 'epoch': 2.9213483146067416}\n",
      "{'eval_loss': 0.6671252250671387, 'eval_accuracy': 0.6051743532058492, 'eval_f1': 0.6759002770083102, 'eval_precision': 0.6594594594594595, 'eval_recall': 0.6931818181818182, 'eval_runtime': 21.9405, 'eval_samples_per_second': 40.519, 'eval_steps_per_second': 2.552, 'epoch': 3.0}\n",
      "{'train_runtime': 1865.9509, 'train_samples_per_second': 9.529, 'train_steps_per_second': 1.192, 'train_loss': 0.652926297134228, 'epoch': 3.0}\n",
      "{'eval_loss': 0.6511452794075012, 'eval_model_preparation_time': 0.0004, 'eval_accuracy': 0.6389201349831272, 'eval_f1': 0.719650655021834, 'eval_precision': 0.6677471636952999, 'eval_recall': 0.7803030303030303, 'eval_runtime': 21.7229, 'eval_samples_per_second': 40.925, 'eval_steps_per_second': 2.578}\n",
      " ↪ Fold 4/5\n"
     ]
    },
    {
     "data": {
      "application/vnd.jupyter.widget-view+json": {
       "model_id": "00852c0d2e324770abd4da560900f765",
       "version_major": 2,
       "version_minor": 0
      },
      "text/plain": [
       "Map:   0%|          | 0/3556 [00:00<?, ? examples/s]"
      ]
     },
     "metadata": {},
     "output_type": "display_data"
    },
    {
     "data": {
      "application/vnd.jupyter.widget-view+json": {
       "model_id": "5624c3e3c56f4549a8bba8a6756d87b6",
       "version_major": 2,
       "version_minor": 0
      },
      "text/plain": [
       "Map:   0%|          | 0/889 [00:00<?, ? examples/s]"
      ]
     },
     "metadata": {},
     "output_type": "display_data"
    },
    {
     "name": "stderr",
     "output_type": "stream",
     "text": [
      "/Users/gchhetri/Developer/Python/15min-city-bench/.venv/lib/python3.12/site-packages/transformers/training_args.py:1604: FutureWarning: using `no_cuda` is deprecated and will be removed in version 5.0 of 🤗 Transformers. Use `use_cpu` instead\n",
      "  warnings.warn(\n"
     ]
    },
    {
     "name": "stdout",
     "output_type": "stream",
     "text": [
      "{'loss': 0.678, 'grad_norm': 2.635056734085083, 'learning_rate': 1.9559550561797755e-05, 'epoch': 0.11235955056179775}\n",
      "{'loss': 0.677, 'grad_norm': 3.855855703353882, 'learning_rate': 1.9110112359550563e-05, 'epoch': 0.2247191011235955}\n",
      "{'loss': 0.6682, 'grad_norm': 6.116100788116455, 'learning_rate': 1.8660674157303374e-05, 'epoch': 0.33707865168539325}\n",
      "{'loss': 0.6749, 'grad_norm': 2.3981661796569824, 'learning_rate': 1.8211235955056182e-05, 'epoch': 0.449438202247191}\n",
      "{'loss': 0.6622, 'grad_norm': 3.2995734214782715, 'learning_rate': 1.776179775280899e-05, 'epoch': 0.5617977528089888}\n",
      "{'loss': 0.6827, 'grad_norm': 2.5380067825317383, 'learning_rate': 1.73123595505618e-05, 'epoch': 0.6741573033707865}\n",
      "{'loss': 0.6462, 'grad_norm': 3.8369555473327637, 'learning_rate': 1.6862921348314607e-05, 'epoch': 0.7865168539325843}\n",
      "{'loss': 0.6814, 'grad_norm': 2.7776267528533936, 'learning_rate': 1.6413483146067418e-05, 'epoch': 0.898876404494382}\n",
      "{'eval_loss': 0.6673684120178223, 'eval_accuracy': 0.6029246344206974, 'eval_f1': 0.6240681576144835, 'eval_precision': 0.7111650485436893, 'eval_recall': 0.5559772296015181, 'eval_runtime': 22.1894, 'eval_samples_per_second': 40.064, 'eval_steps_per_second': 2.524, 'epoch': 1.0}\n",
      "{'loss': 0.6729, 'grad_norm': 1.8533453941345215, 'learning_rate': 1.5964044943820226e-05, 'epoch': 1.0112359550561798}\n",
      "{'loss': 0.64, 'grad_norm': 3.6206345558166504, 'learning_rate': 1.5514606741573034e-05, 'epoch': 1.1235955056179776}\n",
      "{'loss': 0.6538, 'grad_norm': 3.303166389465332, 'learning_rate': 1.5065168539325842e-05, 'epoch': 1.2359550561797752}\n",
      "{'loss': 0.6641, 'grad_norm': 3.512359619140625, 'learning_rate': 1.4615730337078654e-05, 'epoch': 1.348314606741573}\n",
      "{'loss': 0.6496, 'grad_norm': 2.3185346126556396, 'learning_rate': 1.416629213483146e-05, 'epoch': 1.4606741573033708}\n",
      "{'loss': 0.6709, 'grad_norm': 2.481865644454956, 'learning_rate': 1.3716853932584272e-05, 'epoch': 1.5730337078651684}\n",
      "{'loss': 0.6608, 'grad_norm': 4.008920669555664, 'learning_rate': 1.3267415730337078e-05, 'epoch': 1.6853932584269664}\n",
      "{'loss': 0.6469, 'grad_norm': 3.9107086658477783, 'learning_rate': 1.281797752808989e-05, 'epoch': 1.797752808988764}\n",
      "{'loss': 0.6555, 'grad_norm': 2.917816162109375, 'learning_rate': 1.2368539325842697e-05, 'epoch': 1.9101123595505618}\n",
      "{'eval_loss': 0.6537930965423584, 'eval_accuracy': 0.6220472440944882, 'eval_f1': 0.7078260869565217, 'eval_precision': 0.6532905296950241, 'eval_recall': 0.7722960151802657, 'eval_runtime': 21.6728, 'eval_samples_per_second': 41.019, 'eval_steps_per_second': 2.584, 'epoch': 2.0}\n",
      "{'loss': 0.6354, 'grad_norm': 3.6303393840789795, 'learning_rate': 1.1919101123595507e-05, 'epoch': 2.0224719101123596}\n",
      "{'loss': 0.634, 'grad_norm': 3.432093858718872, 'learning_rate': 1.1469662921348315e-05, 'epoch': 2.134831460674157}\n",
      "{'loss': 0.5998, 'grad_norm': 3.477912187576294, 'learning_rate': 1.1020224719101125e-05, 'epoch': 2.247191011235955}\n",
      "{'loss': 0.6076, 'grad_norm': 6.47434139251709, 'learning_rate': 1.0570786516853933e-05, 'epoch': 2.359550561797753}\n",
      "{'loss': 0.607, 'grad_norm': 7.381679534912109, 'learning_rate': 1.0121348314606743e-05, 'epoch': 2.4719101123595504}\n",
      "{'loss': 0.6244, 'grad_norm': 7.173997402191162, 'learning_rate': 9.671910112359551e-06, 'epoch': 2.5842696629213484}\n",
      "{'loss': 0.6354, 'grad_norm': 13.606441497802734, 'learning_rate': 9.22247191011236e-06, 'epoch': 2.696629213483146}\n",
      "{'loss': 0.6326, 'grad_norm': 7.359455585479736, 'learning_rate': 8.773033707865169e-06, 'epoch': 2.808988764044944}\n",
      "{'loss': 0.5859, 'grad_norm': 13.874215126037598, 'learning_rate': 8.323595505617979e-06, 'epoch': 2.9213483146067416}\n",
      "{'eval_loss': 0.6860567331314087, 'eval_accuracy': 0.5894263217097863, 'eval_f1': 0.6425073457394711, 'eval_precision': 0.6639676113360324, 'eval_recall': 0.6223908918406073, 'eval_runtime': 22.0534, 'eval_samples_per_second': 40.311, 'eval_steps_per_second': 2.539, 'epoch': 3.0}\n",
      "{'train_runtime': 1867.3387, 'train_samples_per_second': 9.522, 'train_steps_per_second': 1.192, 'train_loss': 0.6471301618140288, 'epoch': 3.0}\n",
      "{'eval_loss': 0.6537930965423584, 'eval_model_preparation_time': 0.0004, 'eval_accuracy': 0.6220472440944882, 'eval_f1': 0.7078260869565217, 'eval_precision': 0.6532905296950241, 'eval_recall': 0.7722960151802657, 'eval_runtime': 21.5331, 'eval_samples_per_second': 41.285, 'eval_steps_per_second': 2.601}\n",
      " ↪ Fold 5/5\n"
     ]
    },
    {
     "data": {
      "application/vnd.jupyter.widget-view+json": {
       "model_id": "6d82c67faec74866a54058dbd706a57a",
       "version_major": 2,
       "version_minor": 0
      },
      "text/plain": [
       "Map:   0%|          | 0/3556 [00:00<?, ? examples/s]"
      ]
     },
     "metadata": {},
     "output_type": "display_data"
    },
    {
     "data": {
      "application/vnd.jupyter.widget-view+json": {
       "model_id": "d146a1ebc99c4562acc41562a6e72502",
       "version_major": 2,
       "version_minor": 0
      },
      "text/plain": [
       "Map:   0%|          | 0/889 [00:00<?, ? examples/s]"
      ]
     },
     "metadata": {},
     "output_type": "display_data"
    },
    {
     "name": "stderr",
     "output_type": "stream",
     "text": [
      "/Users/gchhetri/Developer/Python/15min-city-bench/.venv/lib/python3.12/site-packages/transformers/training_args.py:1604: FutureWarning: using `no_cuda` is deprecated and will be removed in version 5.0 of 🤗 Transformers. Use `use_cpu` instead\n",
      "  warnings.warn(\n"
     ]
    },
    {
     "name": "stdout",
     "output_type": "stream",
     "text": [
      "{'loss': 0.6948, 'grad_norm': 1.1078535318374634, 'learning_rate': 1.9559550561797755e-05, 'epoch': 0.11235955056179775}\n",
      "{'loss': 0.6848, 'grad_norm': 1.8007371425628662, 'learning_rate': 1.9110112359550563e-05, 'epoch': 0.2247191011235955}\n",
      "{'loss': 0.6594, 'grad_norm': 1.9658942222595215, 'learning_rate': 1.8660674157303374e-05, 'epoch': 0.33707865168539325}\n",
      "{'loss': 0.6707, 'grad_norm': 1.4361441135406494, 'learning_rate': 1.8211235955056182e-05, 'epoch': 0.449438202247191}\n",
      "{'loss': 0.6482, 'grad_norm': 6.2500762939453125, 'learning_rate': 1.776179775280899e-05, 'epoch': 0.5617977528089888}\n",
      "{'loss': 0.6559, 'grad_norm': 4.22108793258667, 'learning_rate': 1.73123595505618e-05, 'epoch': 0.6741573033707865}\n",
      "{'loss': 0.6706, 'grad_norm': 2.242241621017456, 'learning_rate': 1.6862921348314607e-05, 'epoch': 0.7865168539325843}\n",
      "{'loss': 0.6618, 'grad_norm': 1.8365297317504883, 'learning_rate': 1.6413483146067418e-05, 'epoch': 0.898876404494382}\n",
      "{'eval_loss': 0.6657025814056396, 'eval_accuracy': 0.5905511811023622, 'eval_f1': 0.6996699669966997, 'eval_precision': 0.618978102189781, 'eval_recall': 0.8045540796963947, 'eval_runtime': 22.0396, 'eval_samples_per_second': 40.336, 'eval_steps_per_second': 2.541, 'epoch': 1.0}\n",
      "{'loss': 0.6606, 'grad_norm': 1.8541386127471924, 'learning_rate': 1.5964044943820226e-05, 'epoch': 1.0112359550561798}\n",
      "{'loss': 0.627, 'grad_norm': 1.6135551929473877, 'learning_rate': 1.5514606741573034e-05, 'epoch': 1.1235955056179776}\n",
      "{'loss': 0.6468, 'grad_norm': 4.510798454284668, 'learning_rate': 1.5065168539325842e-05, 'epoch': 1.2359550561797752}\n",
      "{'loss': 0.6672, 'grad_norm': 1.5739084482192993, 'learning_rate': 1.4615730337078654e-05, 'epoch': 1.348314606741573}\n",
      "{'loss': 0.6517, 'grad_norm': 3.328207015991211, 'learning_rate': 1.416629213483146e-05, 'epoch': 1.4606741573033708}\n",
      "{'loss': 0.6455, 'grad_norm': 3.4108176231384277, 'learning_rate': 1.3716853932584272e-05, 'epoch': 1.5730337078651684}\n",
      "{'loss': 0.6482, 'grad_norm': 6.54308557510376, 'learning_rate': 1.3267415730337078e-05, 'epoch': 1.6853932584269664}\n",
      "{'loss': 0.6561, 'grad_norm': 2.4608161449432373, 'learning_rate': 1.281797752808989e-05, 'epoch': 1.797752808988764}\n",
      "{'loss': 0.662, 'grad_norm': 2.2500929832458496, 'learning_rate': 1.2368539325842697e-05, 'epoch': 1.9101123595505618}\n",
      "{'eval_loss': 0.6662306785583496, 'eval_accuracy': 0.5905511811023622, 'eval_f1': 0.6946308724832215, 'eval_precision': 0.6225563909774436, 'eval_recall': 0.7855787476280834, 'eval_runtime': 22.4905, 'eval_samples_per_second': 39.528, 'eval_steps_per_second': 2.49, 'epoch': 2.0}\n",
      "{'train_runtime': 1243.4612, 'train_samples_per_second': 14.299, 'train_steps_per_second': 1.789, 'train_loss': 0.6598093954364905, 'epoch': 2.0}\n",
      "{'eval_loss': 0.6657025814056396, 'eval_model_preparation_time': 0.0004, 'eval_accuracy': 0.5905511811023622, 'eval_f1': 0.6996699669966997, 'eval_precision': 0.618978102189781, 'eval_recall': 0.8045540796963947, 'eval_runtime': 21.4896, 'eval_samples_per_second': 41.369, 'eval_steps_per_second': 2.606}\n",
      "\n",
      "🔍 Model: distilbert-base-uncased\n",
      " ↪ Fold 1/5\n"
     ]
    },
    {
     "data": {
      "application/vnd.jupyter.widget-view+json": {
       "model_id": "5834ab050cea4be198a466f611be6c32",
       "version_major": 2,
       "version_minor": 0
      },
      "text/plain": [
       "Map:   0%|          | 0/3556 [00:00<?, ? examples/s]"
      ]
     },
     "metadata": {},
     "output_type": "display_data"
    },
    {
     "data": {
      "application/vnd.jupyter.widget-view+json": {
       "model_id": "2cdf46c118144e3bab07b64b7c94f0e3",
       "version_major": 2,
       "version_minor": 0
      },
      "text/plain": [
       "Map:   0%|          | 0/889 [00:00<?, ? examples/s]"
      ]
     },
     "metadata": {},
     "output_type": "display_data"
    },
    {
     "name": "stderr",
     "output_type": "stream",
     "text": [
      "/Users/gchhetri/Developer/Python/15min-city-bench/.venv/lib/python3.12/site-packages/transformers/training_args.py:1604: FutureWarning: using `no_cuda` is deprecated and will be removed in version 5.0 of 🤗 Transformers. Use `use_cpu` instead\n",
      "  warnings.warn(\n"
     ]
    },
    {
     "name": "stdout",
     "output_type": "stream",
     "text": [
      "{'loss': 0.6733, 'grad_norm': 1.295670986175537, 'learning_rate': 1.9559550561797755e-05, 'epoch': 0.11235955056179775}\n",
      "{'loss': 0.6781, 'grad_norm': 1.5639458894729614, 'learning_rate': 1.9110112359550563e-05, 'epoch': 0.2247191011235955}\n",
      "{'loss': 0.6599, 'grad_norm': 3.498812198638916, 'learning_rate': 1.8660674157303374e-05, 'epoch': 0.33707865168539325}\n",
      "{'loss': 0.6626, 'grad_norm': 2.164628267288208, 'learning_rate': 1.8211235955056182e-05, 'epoch': 0.449438202247191}\n",
      "{'loss': 0.6762, 'grad_norm': 1.5917214155197144, 'learning_rate': 1.776179775280899e-05, 'epoch': 0.5617977528089888}\n",
      "{'loss': 0.6609, 'grad_norm': 2.404388904571533, 'learning_rate': 1.73123595505618e-05, 'epoch': 0.6741573033707865}\n",
      "{'loss': 0.6548, 'grad_norm': 3.2315263748168945, 'learning_rate': 1.6862921348314607e-05, 'epoch': 0.7865168539325843}\n",
      "{'loss': 0.6873, 'grad_norm': 1.9128912687301636, 'learning_rate': 1.6413483146067418e-05, 'epoch': 0.898876404494382}\n",
      "{'eval_loss': 0.6550033688545227, 'eval_accuracy': 0.5995500562429696, 'eval_f1': 0.7416545718432511, 'eval_precision': 0.6011764705882353, 'eval_recall': 0.9678030303030303, 'eval_runtime': 22.2316, 'eval_samples_per_second': 39.988, 'eval_steps_per_second': 2.519, 'epoch': 1.0}\n",
      "{'loss': 0.641, 'grad_norm': 1.5692764520645142, 'learning_rate': 1.5964044943820226e-05, 'epoch': 1.0112359550561798}\n",
      "{'loss': 0.6472, 'grad_norm': 4.054382801055908, 'learning_rate': 1.5514606741573034e-05, 'epoch': 1.1235955056179776}\n",
      "{'loss': 0.6304, 'grad_norm': 1.9544633626937866, 'learning_rate': 1.5065168539325842e-05, 'epoch': 1.2359550561797752}\n",
      "{'loss': 0.672, 'grad_norm': 1.7545881271362305, 'learning_rate': 1.4615730337078654e-05, 'epoch': 1.348314606741573}\n",
      "{'loss': 0.647, 'grad_norm': 2.274463653564453, 'learning_rate': 1.416629213483146e-05, 'epoch': 1.4606741573033708}\n",
      "{'loss': 0.6532, 'grad_norm': 1.8727333545684814, 'learning_rate': 1.3716853932584272e-05, 'epoch': 1.5730337078651684}\n",
      "{'loss': 0.6452, 'grad_norm': 2.643085241317749, 'learning_rate': 1.3267415730337078e-05, 'epoch': 1.6853932584269664}\n",
      "{'loss': 0.6496, 'grad_norm': 3.1874897480010986, 'learning_rate': 1.281797752808989e-05, 'epoch': 1.797752808988764}\n",
      "{'loss': 0.6397, 'grad_norm': 2.3614580631256104, 'learning_rate': 1.2368539325842697e-05, 'epoch': 1.9101123595505618}\n",
      "{'eval_loss': 0.6484755873680115, 'eval_accuracy': 0.6366704161979753, 'eval_f1': 0.7139061116031886, 'eval_precision': 0.670549084858569, 'eval_recall': 0.7632575757575758, 'eval_runtime': 22.0615, 'eval_samples_per_second': 40.297, 'eval_steps_per_second': 2.538, 'epoch': 2.0}\n",
      "{'loss': 0.6291, 'grad_norm': 2.3694188594818115, 'learning_rate': 1.1919101123595507e-05, 'epoch': 2.0224719101123596}\n",
      "{'loss': 0.6041, 'grad_norm': 3.0618112087249756, 'learning_rate': 1.1469662921348315e-05, 'epoch': 2.134831460674157}\n",
      "{'loss': 0.5707, 'grad_norm': 8.218722343444824, 'learning_rate': 1.1020224719101125e-05, 'epoch': 2.247191011235955}\n",
      "{'loss': 0.5946, 'grad_norm': 6.838852405548096, 'learning_rate': 1.0570786516853933e-05, 'epoch': 2.359550561797753}\n",
      "{'loss': 0.5353, 'grad_norm': 5.939128875732422, 'learning_rate': 1.0121348314606743e-05, 'epoch': 2.4719101123595504}\n",
      "{'loss': 0.6117, 'grad_norm': 3.9659371376037598, 'learning_rate': 9.671910112359551e-06, 'epoch': 2.5842696629213484}\n",
      "{'loss': 0.5629, 'grad_norm': 10.025603294372559, 'learning_rate': 9.22247191011236e-06, 'epoch': 2.696629213483146}\n",
      "{'loss': 0.5732, 'grad_norm': 7.696788787841797, 'learning_rate': 8.773033707865169e-06, 'epoch': 2.808988764044944}\n",
      "{'loss': 0.5534, 'grad_norm': 7.869035243988037, 'learning_rate': 8.323595505617979e-06, 'epoch': 2.9213483146067416}\n",
      "{'eval_loss': 0.7125048637390137, 'eval_accuracy': 0.6119235095613048, 'eval_f1': 0.7294117647058823, 'eval_precision': 0.6224899598393574, 'eval_recall': 0.8806818181818182, 'eval_runtime': 21.8428, 'eval_samples_per_second': 40.7, 'eval_steps_per_second': 2.564, 'epoch': 3.0}\n",
      "{'train_runtime': 1790.8333, 'train_samples_per_second': 9.928, 'train_steps_per_second': 1.242, 'train_loss': 0.629837289017238, 'epoch': 3.0}\n",
      "{'eval_loss': 0.6484755873680115, 'eval_model_preparation_time': 0.0004, 'eval_accuracy': 0.6366704161979753, 'eval_f1': 0.7139061116031886, 'eval_precision': 0.670549084858569, 'eval_recall': 0.7632575757575758, 'eval_runtime': 21.9961, 'eval_samples_per_second': 40.416, 'eval_steps_per_second': 2.546}\n",
      " ↪ Fold 2/5\n"
     ]
    },
    {
     "data": {
      "application/vnd.jupyter.widget-view+json": {
       "model_id": "a4f17d7c0894409ea007329726a37bd1",
       "version_major": 2,
       "version_minor": 0
      },
      "text/plain": [
       "Map:   0%|          | 0/3556 [00:00<?, ? examples/s]"
      ]
     },
     "metadata": {},
     "output_type": "display_data"
    },
    {
     "data": {
      "application/vnd.jupyter.widget-view+json": {
       "model_id": "53ad0b5e467f4a3cb9284e4eeebf83bd",
       "version_major": 2,
       "version_minor": 0
      },
      "text/plain": [
       "Map:   0%|          | 0/889 [00:00<?, ? examples/s]"
      ]
     },
     "metadata": {},
     "output_type": "display_data"
    },
    {
     "name": "stderr",
     "output_type": "stream",
     "text": [
      "/Users/gchhetri/Developer/Python/15min-city-bench/.venv/lib/python3.12/site-packages/transformers/training_args.py:1604: FutureWarning: using `no_cuda` is deprecated and will be removed in version 5.0 of 🤗 Transformers. Use `use_cpu` instead\n",
      "  warnings.warn(\n"
     ]
    },
    {
     "name": "stdout",
     "output_type": "stream",
     "text": [
      "{'loss': 0.6973, 'grad_norm': 1.845839023590088, 'learning_rate': 1.9559550561797755e-05, 'epoch': 0.11235955056179775}\n",
      "{'loss': 0.6652, 'grad_norm': 2.525959014892578, 'learning_rate': 1.9110112359550563e-05, 'epoch': 0.2247191011235955}\n",
      "{'loss': 0.6669, 'grad_norm': 1.9181749820709229, 'learning_rate': 1.8660674157303374e-05, 'epoch': 0.33707865168539325}\n",
      "{'loss': 0.6882, 'grad_norm': 2.131230592727661, 'learning_rate': 1.8211235955056182e-05, 'epoch': 0.449438202247191}\n",
      "{'loss': 0.6609, 'grad_norm': 1.2268824577331543, 'learning_rate': 1.776179775280899e-05, 'epoch': 0.5617977528089888}\n",
      "{'loss': 0.6358, 'grad_norm': 1.5557129383087158, 'learning_rate': 1.73123595505618e-05, 'epoch': 0.6741573033707865}\n",
      "{'loss': 0.6527, 'grad_norm': 1.7211086750030518, 'learning_rate': 1.6862921348314607e-05, 'epoch': 0.7865168539325843}\n",
      "{'loss': 0.6832, 'grad_norm': 1.3721065521240234, 'learning_rate': 1.6413483146067418e-05, 'epoch': 0.898876404494382}\n",
      "{'eval_loss': 0.6737378835678101, 'eval_accuracy': 0.5984251968503937, 'eval_f1': 0.7104622871046229, 'eval_precision': 0.6212765957446809, 'eval_recall': 0.8295454545454546, 'eval_runtime': 22.9919, 'eval_samples_per_second': 38.666, 'eval_steps_per_second': 2.436, 'epoch': 1.0}\n",
      "{'loss': 0.6345, 'grad_norm': 2.826990842819214, 'learning_rate': 1.5964044943820226e-05, 'epoch': 1.0112359550561798}\n",
      "{'loss': 0.6234, 'grad_norm': 3.1485984325408936, 'learning_rate': 1.5514606741573034e-05, 'epoch': 1.1235955056179776}\n",
      "{'loss': 0.6249, 'grad_norm': 2.969320058822632, 'learning_rate': 1.5065168539325842e-05, 'epoch': 1.2359550561797752}\n",
      "{'loss': 0.6408, 'grad_norm': 2.173668146133423, 'learning_rate': 1.4615730337078654e-05, 'epoch': 1.348314606741573}\n",
      "{'loss': 0.6304, 'grad_norm': 1.577141284942627, 'learning_rate': 1.416629213483146e-05, 'epoch': 1.4606741573033708}\n",
      "{'loss': 0.6675, 'grad_norm': 2.916461944580078, 'learning_rate': 1.3716853932584272e-05, 'epoch': 1.5730337078651684}\n",
      "{'loss': 0.6628, 'grad_norm': 1.4435882568359375, 'learning_rate': 1.3267415730337078e-05, 'epoch': 1.6853932584269664}\n",
      "{'loss': 0.6351, 'grad_norm': 3.601717948913574, 'learning_rate': 1.281797752808989e-05, 'epoch': 1.797752808988764}\n",
      "{'loss': 0.6433, 'grad_norm': 2.648866653442383, 'learning_rate': 1.2368539325842697e-05, 'epoch': 1.9101123595505618}\n",
      "{'eval_loss': 0.6824136972427368, 'eval_accuracy': 0.5984251968503937, 'eval_f1': 0.6865671641791045, 'eval_precision': 0.6399345335515548, 'eval_recall': 0.740530303030303, 'eval_runtime': 22.2948, 'eval_samples_per_second': 39.875, 'eval_steps_per_second': 2.512, 'epoch': 2.0}\n",
      "{'train_runtime': 1196.0601, 'train_samples_per_second': 14.865, 'train_steps_per_second': 1.86, 'train_loss': 0.6521492282996016, 'epoch': 2.0}\n",
      "{'eval_loss': 0.6737378835678101, 'eval_model_preparation_time': 0.0003, 'eval_accuracy': 0.5984251968503937, 'eval_f1': 0.7104622871046229, 'eval_precision': 0.6212765957446809, 'eval_recall': 0.8295454545454546, 'eval_runtime': 21.98, 'eval_samples_per_second': 40.446, 'eval_steps_per_second': 2.548}\n",
      " ↪ Fold 3/5\n"
     ]
    },
    {
     "data": {
      "application/vnd.jupyter.widget-view+json": {
       "model_id": "e9d81f1b35b5487a8c2d65847b720f28",
       "version_major": 2,
       "version_minor": 0
      },
      "text/plain": [
       "Map:   0%|          | 0/3556 [00:00<?, ? examples/s]"
      ]
     },
     "metadata": {},
     "output_type": "display_data"
    },
    {
     "data": {
      "application/vnd.jupyter.widget-view+json": {
       "model_id": "f0affb58fc574821950b3a701611954b",
       "version_major": 2,
       "version_minor": 0
      },
      "text/plain": [
       "Map:   0%|          | 0/889 [00:00<?, ? examples/s]"
      ]
     },
     "metadata": {},
     "output_type": "display_data"
    },
    {
     "name": "stderr",
     "output_type": "stream",
     "text": [
      "/Users/gchhetri/Developer/Python/15min-city-bench/.venv/lib/python3.12/site-packages/transformers/training_args.py:1604: FutureWarning: using `no_cuda` is deprecated and will be removed in version 5.0 of 🤗 Transformers. Use `use_cpu` instead\n",
      "  warnings.warn(\n"
     ]
    },
    {
     "name": "stdout",
     "output_type": "stream",
     "text": [
      "{'loss': 0.6801, 'grad_norm': 1.975373387336731, 'learning_rate': 1.9559550561797755e-05, 'epoch': 0.11235955056179775}\n",
      "{'loss': 0.669, 'grad_norm': 2.2988648414611816, 'learning_rate': 1.9110112359550563e-05, 'epoch': 0.2247191011235955}\n",
      "{'loss': 0.6768, 'grad_norm': 1.848924994468689, 'learning_rate': 1.8660674157303374e-05, 'epoch': 0.33707865168539325}\n",
      "{'loss': 0.6615, 'grad_norm': 2.3941893577575684, 'learning_rate': 1.8211235955056182e-05, 'epoch': 0.449438202247191}\n",
      "{'loss': 0.6826, 'grad_norm': 2.2811355590820312, 'learning_rate': 1.776179775280899e-05, 'epoch': 0.5617977528089888}\n",
      "{'loss': 0.6733, 'grad_norm': 2.935598373413086, 'learning_rate': 1.73123595505618e-05, 'epoch': 0.6741573033707865}\n",
      "{'loss': 0.6749, 'grad_norm': 2.741961717605591, 'learning_rate': 1.6862921348314607e-05, 'epoch': 0.7865168539325843}\n",
      "{'loss': 0.6301, 'grad_norm': 2.7568302154541016, 'learning_rate': 1.6413483146067418e-05, 'epoch': 0.898876404494382}\n",
      "{'eval_loss': 0.6510468125343323, 'eval_accuracy': 0.6344206974128234, 'eval_f1': 0.7302904564315352, 'eval_precision': 0.6499261447562777, 'eval_recall': 0.8333333333333334, 'eval_runtime': 21.8868, 'eval_samples_per_second': 40.618, 'eval_steps_per_second': 2.559, 'epoch': 1.0}\n",
      "{'loss': 0.6713, 'grad_norm': 2.1965458393096924, 'learning_rate': 1.5964044943820226e-05, 'epoch': 1.0112359550561798}\n",
      "{'loss': 0.6507, 'grad_norm': 1.64445960521698, 'learning_rate': 1.5514606741573034e-05, 'epoch': 1.1235955056179776}\n",
      "{'loss': 0.6549, 'grad_norm': 1.517322301864624, 'learning_rate': 1.5065168539325842e-05, 'epoch': 1.2359550561797752}\n",
      "{'loss': 0.651, 'grad_norm': 1.8877357244491577, 'learning_rate': 1.4615730337078654e-05, 'epoch': 1.348314606741573}\n",
      "{'loss': 0.668, 'grad_norm': 1.9138493537902832, 'learning_rate': 1.416629213483146e-05, 'epoch': 1.4606741573033708}\n",
      "{'loss': 0.6345, 'grad_norm': 2.625110149383545, 'learning_rate': 1.3716853932584272e-05, 'epoch': 1.5730337078651684}\n",
      "{'loss': 0.6367, 'grad_norm': 1.760674238204956, 'learning_rate': 1.3267415730337078e-05, 'epoch': 1.6853932584269664}\n",
      "{'loss': 0.6464, 'grad_norm': 2.573086977005005, 'learning_rate': 1.281797752808989e-05, 'epoch': 1.797752808988764}\n",
      "{'loss': 0.6414, 'grad_norm': 2.022127151489258, 'learning_rate': 1.2368539325842697e-05, 'epoch': 1.9101123595505618}\n",
      "{'eval_loss': 0.651174008846283, 'eval_accuracy': 0.6265466816647919, 'eval_f1': 0.7132987910189983, 'eval_precision': 0.6555555555555556, 'eval_recall': 0.7821969696969697, 'eval_runtime': 22.0597, 'eval_samples_per_second': 40.3, 'eval_steps_per_second': 2.539, 'epoch': 2.0}\n",
      "{'train_runtime': 1186.1467, 'train_samples_per_second': 14.99, 'train_steps_per_second': 1.876, 'train_loss': 0.6589706463760204, 'epoch': 2.0}\n",
      "{'eval_loss': 0.6510468125343323, 'eval_model_preparation_time': 0.0004, 'eval_accuracy': 0.6344206974128234, 'eval_f1': 0.7302904564315352, 'eval_precision': 0.6499261447562777, 'eval_recall': 0.8333333333333334, 'eval_runtime': 22.0526, 'eval_samples_per_second': 40.313, 'eval_steps_per_second': 2.539}\n",
      " ↪ Fold 4/5\n"
     ]
    },
    {
     "data": {
      "application/vnd.jupyter.widget-view+json": {
       "model_id": "81e5dcdb9cec4bc582ac7f6884ba474f",
       "version_major": 2,
       "version_minor": 0
      },
      "text/plain": [
       "Map:   0%|          | 0/3556 [00:00<?, ? examples/s]"
      ]
     },
     "metadata": {},
     "output_type": "display_data"
    },
    {
     "data": {
      "application/vnd.jupyter.widget-view+json": {
       "model_id": "31e2c4522a7646318e0fd88f65c8fd98",
       "version_major": 2,
       "version_minor": 0
      },
      "text/plain": [
       "Map:   0%|          | 0/889 [00:00<?, ? examples/s]"
      ]
     },
     "metadata": {},
     "output_type": "display_data"
    },
    {
     "name": "stderr",
     "output_type": "stream",
     "text": [
      "/Users/gchhetri/Developer/Python/15min-city-bench/.venv/lib/python3.12/site-packages/transformers/training_args.py:1604: FutureWarning: using `no_cuda` is deprecated and will be removed in version 5.0 of 🤗 Transformers. Use `use_cpu` instead\n",
      "  warnings.warn(\n"
     ]
    },
    {
     "name": "stdout",
     "output_type": "stream",
     "text": [
      "{'loss': 0.6738, 'grad_norm': 2.319082260131836, 'learning_rate': 1.9559550561797755e-05, 'epoch': 0.11235955056179775}\n",
      "{'loss': 0.6731, 'grad_norm': 2.1939897537231445, 'learning_rate': 1.9110112359550563e-05, 'epoch': 0.2247191011235955}\n",
      "{'loss': 0.663, 'grad_norm': 3.657231092453003, 'learning_rate': 1.8660674157303374e-05, 'epoch': 0.33707865168539325}\n",
      "{'loss': 0.6839, 'grad_norm': 2.091259717941284, 'learning_rate': 1.8211235955056182e-05, 'epoch': 0.449438202247191}\n",
      "{'loss': 0.6626, 'grad_norm': 2.1200337409973145, 'learning_rate': 1.776179775280899e-05, 'epoch': 0.5617977528089888}\n",
      "{'loss': 0.6857, 'grad_norm': 1.8825801610946655, 'learning_rate': 1.73123595505618e-05, 'epoch': 0.6741573033707865}\n",
      "{'loss': 0.653, 'grad_norm': 2.546527862548828, 'learning_rate': 1.6862921348314607e-05, 'epoch': 0.7865168539325843}\n",
      "{'loss': 0.6702, 'grad_norm': 1.744624137878418, 'learning_rate': 1.6413483146067418e-05, 'epoch': 0.898876404494382}\n",
      "{'eval_loss': 0.6646100282669067, 'eval_accuracy': 0.5883014623172104, 'eval_f1': 0.6072961373390557, 'eval_precision': 0.6987654320987654, 'eval_recall': 0.5370018975332068, 'eval_runtime': 22.0471, 'eval_samples_per_second': 40.323, 'eval_steps_per_second': 2.54, 'epoch': 1.0}\n",
      "{'loss': 0.6669, 'grad_norm': 1.7722991704940796, 'learning_rate': 1.5964044943820226e-05, 'epoch': 1.0112359550561798}\n",
      "{'loss': 0.6373, 'grad_norm': 2.1311850547790527, 'learning_rate': 1.5514606741573034e-05, 'epoch': 1.1235955056179776}\n",
      "{'loss': 0.6561, 'grad_norm': 2.3047468662261963, 'learning_rate': 1.5065168539325842e-05, 'epoch': 1.2359550561797752}\n",
      "{'loss': 0.6403, 'grad_norm': 2.51949143409729, 'learning_rate': 1.4615730337078654e-05, 'epoch': 1.348314606741573}\n",
      "{'loss': 0.6355, 'grad_norm': 2.2832536697387695, 'learning_rate': 1.416629213483146e-05, 'epoch': 1.4606741573033708}\n",
      "{'loss': 0.6608, 'grad_norm': 2.04191255569458, 'learning_rate': 1.3716853932584272e-05, 'epoch': 1.5730337078651684}\n",
      "{'loss': 0.6536, 'grad_norm': 2.111368179321289, 'learning_rate': 1.3267415730337078e-05, 'epoch': 1.6853932584269664}\n",
      "{'loss': 0.6333, 'grad_norm': 2.3350324630737305, 'learning_rate': 1.281797752808989e-05, 'epoch': 1.797752808988764}\n",
      "{'loss': 0.6587, 'grad_norm': 2.787625551223755, 'learning_rate': 1.2368539325842697e-05, 'epoch': 1.9101123595505618}\n",
      "{'eval_loss': 0.6531906723976135, 'eval_accuracy': 0.6186726659167604, 'eval_f1': 0.6798866855524079, 'eval_precision': 0.6766917293233082, 'eval_recall': 0.683111954459203, 'eval_runtime': 22.0932, 'eval_samples_per_second': 40.239, 'eval_steps_per_second': 2.535, 'epoch': 2.0}\n",
      "{'loss': 0.6412, 'grad_norm': 2.0390381813049316, 'learning_rate': 1.1919101123595507e-05, 'epoch': 2.0224719101123596}\n",
      "{'loss': 0.6001, 'grad_norm': 2.8297359943389893, 'learning_rate': 1.1469662921348315e-05, 'epoch': 2.134831460674157}\n",
      "{'loss': 0.582, 'grad_norm': 3.9833734035491943, 'learning_rate': 1.1020224719101125e-05, 'epoch': 2.247191011235955}\n",
      "{'loss': 0.5862, 'grad_norm': 5.25113582611084, 'learning_rate': 1.0570786516853933e-05, 'epoch': 2.359550561797753}\n",
      "{'loss': 0.582, 'grad_norm': 6.640462875366211, 'learning_rate': 1.0121348314606743e-05, 'epoch': 2.4719101123595504}\n",
      "{'loss': 0.586, 'grad_norm': 5.362396717071533, 'learning_rate': 9.671910112359551e-06, 'epoch': 2.5842696629213484}\n",
      "{'loss': 0.6009, 'grad_norm': 13.386595726013184, 'learning_rate': 9.22247191011236e-06, 'epoch': 2.696629213483146}\n",
      "{'loss': 0.577, 'grad_norm': 9.61594295501709, 'learning_rate': 8.773033707865169e-06, 'epoch': 2.808988764044944}\n",
      "{'loss': 0.5766, 'grad_norm': 6.564561367034912, 'learning_rate': 8.323595505617979e-06, 'epoch': 2.9213483146067416}\n",
      "{'eval_loss': 0.7081875801086426, 'eval_accuracy': 0.5826771653543307, 'eval_f1': 0.6131386861313869, 'eval_precision': 0.6805555555555556, 'eval_recall': 0.5578747628083491, 'eval_runtime': 22.2977, 'eval_samples_per_second': 39.87, 'eval_steps_per_second': 2.511, 'epoch': 3.0}\n",
      "{'train_runtime': 1798.5074, 'train_samples_per_second': 9.886, 'train_steps_per_second': 1.237, 'train_loss': 0.6346521341845337, 'epoch': 3.0}\n",
      "{'eval_loss': 0.6531906723976135, 'eval_model_preparation_time': 0.0004, 'eval_accuracy': 0.6186726659167604, 'eval_f1': 0.6798866855524079, 'eval_precision': 0.6766917293233082, 'eval_recall': 0.683111954459203, 'eval_runtime': 22.2333, 'eval_samples_per_second': 39.985, 'eval_steps_per_second': 2.519}\n",
      " ↪ Fold 5/5\n"
     ]
    },
    {
     "data": {
      "application/vnd.jupyter.widget-view+json": {
       "model_id": "d4b4428855be4f72a9075fa34a7a7ca6",
       "version_major": 2,
       "version_minor": 0
      },
      "text/plain": [
       "Map:   0%|          | 0/3556 [00:00<?, ? examples/s]"
      ]
     },
     "metadata": {},
     "output_type": "display_data"
    },
    {
     "data": {
      "application/vnd.jupyter.widget-view+json": {
       "model_id": "6159ed0ead30430f9b7e394e5c06ab2c",
       "version_major": 2,
       "version_minor": 0
      },
      "text/plain": [
       "Map:   0%|          | 0/889 [00:00<?, ? examples/s]"
      ]
     },
     "metadata": {},
     "output_type": "display_data"
    },
    {
     "name": "stderr",
     "output_type": "stream",
     "text": [
      "/Users/gchhetri/Developer/Python/15min-city-bench/.venv/lib/python3.12/site-packages/transformers/training_args.py:1604: FutureWarning: using `no_cuda` is deprecated and will be removed in version 5.0 of 🤗 Transformers. Use `use_cpu` instead\n",
      "  warnings.warn(\n"
     ]
    },
    {
     "name": "stdout",
     "output_type": "stream",
     "text": [
      "{'loss': 0.6852, 'grad_norm': 2.4447576999664307, 'learning_rate': 1.9559550561797755e-05, 'epoch': 0.11235955056179775}\n",
      "{'loss': 0.6793, 'grad_norm': 2.774160623550415, 'learning_rate': 1.9110112359550563e-05, 'epoch': 0.2247191011235955}\n",
      "{'loss': 0.6584, 'grad_norm': 2.7552034854888916, 'learning_rate': 1.8660674157303374e-05, 'epoch': 0.33707865168539325}\n",
      "{'loss': 0.6595, 'grad_norm': 2.1207587718963623, 'learning_rate': 1.8211235955056182e-05, 'epoch': 0.449438202247191}\n",
      "{'loss': 0.647, 'grad_norm': 4.531023025512695, 'learning_rate': 1.776179775280899e-05, 'epoch': 0.5617977528089888}\n",
      "{'loss': 0.6601, 'grad_norm': 3.4155335426330566, 'learning_rate': 1.73123595505618e-05, 'epoch': 0.6741573033707865}\n",
      "{'loss': 0.6796, 'grad_norm': 2.1192476749420166, 'learning_rate': 1.6862921348314607e-05, 'epoch': 0.7865168539325843}\n",
      "{'loss': 0.65, 'grad_norm': 2.1380960941314697, 'learning_rate': 1.6413483146067418e-05, 'epoch': 0.898876404494382}\n",
      "{'eval_loss': 0.6707428097724915, 'eval_accuracy': 0.5838020247469067, 'eval_f1': 0.7082018927444795, 'eval_precision': 0.6059379217273954, 'eval_recall': 0.8519924098671727, 'eval_runtime': 22.4387, 'eval_samples_per_second': 39.619, 'eval_steps_per_second': 2.496, 'epoch': 1.0}\n",
      "{'loss': 0.6643, 'grad_norm': 1.649162769317627, 'learning_rate': 1.5964044943820226e-05, 'epoch': 1.0112359550561798}\n",
      "{'loss': 0.6234, 'grad_norm': 1.93045973777771, 'learning_rate': 1.5514606741573034e-05, 'epoch': 1.1235955056179776}\n",
      "{'loss': 0.6389, 'grad_norm': 2.2028510570526123, 'learning_rate': 1.5065168539325842e-05, 'epoch': 1.2359550561797752}\n",
      "{'loss': 0.6508, 'grad_norm': 2.0648422241210938, 'learning_rate': 1.4615730337078654e-05, 'epoch': 1.348314606741573}\n",
      "{'loss': 0.6367, 'grad_norm': 2.2918076515197754, 'learning_rate': 1.416629213483146e-05, 'epoch': 1.4606741573033708}\n",
      "{'loss': 0.648, 'grad_norm': 2.3168764114379883, 'learning_rate': 1.3716853932584272e-05, 'epoch': 1.5730337078651684}\n",
      "{'loss': 0.638, 'grad_norm': 3.0733470916748047, 'learning_rate': 1.3267415730337078e-05, 'epoch': 1.6853932584269664}\n",
      "{'loss': 0.6293, 'grad_norm': 2.498875141143799, 'learning_rate': 1.281797752808989e-05, 'epoch': 1.797752808988764}\n",
      "{'loss': 0.6467, 'grad_norm': 1.931032419204712, 'learning_rate': 1.2368539325842697e-05, 'epoch': 1.9101123595505618}\n",
      "{'eval_loss': 0.673347532749176, 'eval_accuracy': 0.5770528683914511, 'eval_f1': 0.6775300171526587, 'eval_precision': 0.6181533646322379, 'eval_recall': 0.7495256166982922, 'eval_runtime': 22.9413, 'eval_samples_per_second': 38.751, 'eval_steps_per_second': 2.441, 'epoch': 2.0}\n",
      "{'train_runtime': 1203.3149, 'train_samples_per_second': 14.776, 'train_steps_per_second': 1.849, 'train_loss': 0.6530845449211892, 'epoch': 2.0}\n",
      "{'eval_loss': 0.6707428097724915, 'eval_model_preparation_time': 0.0004, 'eval_accuracy': 0.5838020247469067, 'eval_f1': 0.7082018927444795, 'eval_precision': 0.6059379217273954, 'eval_recall': 0.8519924098671727, 'eval_runtime': 22.1386, 'eval_samples_per_second': 40.156, 'eval_steps_per_second': 2.53}\n",
      "\n",
      "🔍 Model: nreimers/MiniLM-L6-H384-uncased\n",
      " ↪ Fold 1/5\n"
     ]
    },
    {
     "data": {
      "application/vnd.jupyter.widget-view+json": {
       "model_id": "e6868ca9cb514b4895389242b9d8d1c2",
       "version_major": 2,
       "version_minor": 0
      },
      "text/plain": [
       "Map:   0%|          | 0/3556 [00:00<?, ? examples/s]"
      ]
     },
     "metadata": {},
     "output_type": "display_data"
    },
    {
     "data": {
      "application/vnd.jupyter.widget-view+json": {
       "model_id": "13899813f0ad428dbe6d21af154076fa",
       "version_major": 2,
       "version_minor": 0
      },
      "text/plain": [
       "Map:   0%|          | 0/889 [00:00<?, ? examples/s]"
      ]
     },
     "metadata": {},
     "output_type": "display_data"
    },
    {
     "name": "stderr",
     "output_type": "stream",
     "text": [
      "/Users/gchhetri/Developer/Python/15min-city-bench/.venv/lib/python3.12/site-packages/transformers/training_args.py:1604: FutureWarning: using `no_cuda` is deprecated and will be removed in version 5.0 of 🤗 Transformers. Use `use_cpu` instead\n",
      "  warnings.warn(\n"
     ]
    },
    {
     "name": "stdout",
     "output_type": "stream",
     "text": [
      "{'loss': 0.6718, 'grad_norm': 0.5033336281776428, 'learning_rate': 1.9559550561797755e-05, 'epoch': 0.11235955056179775}\n",
      "{'loss': 0.6824, 'grad_norm': 0.5920584201812744, 'learning_rate': 1.9110112359550563e-05, 'epoch': 0.2247191011235955}\n",
      "{'loss': 0.658, 'grad_norm': 2.545560121536255, 'learning_rate': 1.8660674157303374e-05, 'epoch': 0.33707865168539325}\n",
      "{'loss': 0.6693, 'grad_norm': 1.4483602046966553, 'learning_rate': 1.8211235955056182e-05, 'epoch': 0.449438202247191}\n",
      "{'loss': 0.6731, 'grad_norm': 1.1080918312072754, 'learning_rate': 1.776179775280899e-05, 'epoch': 0.5617977528089888}\n",
      "{'loss': 0.6588, 'grad_norm': 1.308760166168213, 'learning_rate': 1.73123595505618e-05, 'epoch': 0.6741573033707865}\n",
      "{'loss': 0.6509, 'grad_norm': 2.101017951965332, 'learning_rate': 1.6862921348314607e-05, 'epoch': 0.7865168539325843}\n",
      "{'loss': 0.6863, 'grad_norm': 1.2553479671478271, 'learning_rate': 1.6413483146067418e-05, 'epoch': 0.898876404494382}\n",
      "{'eval_loss': 0.6538683176040649, 'eval_accuracy': 0.6119235095613048, 'eval_f1': 0.7340015420200463, 'eval_precision': 0.6189856957087126, 'eval_recall': 0.9015151515151515, 'eval_runtime': 10.7957, 'eval_samples_per_second': 82.348, 'eval_steps_per_second': 5.187, 'epoch': 1.0}\n",
      "{'loss': 0.6426, 'grad_norm': 0.7301186919212341, 'learning_rate': 1.5964044943820226e-05, 'epoch': 1.0112359550561798}\n",
      "{'loss': 0.6584, 'grad_norm': 5.782470703125, 'learning_rate': 1.5514606741573034e-05, 'epoch': 1.1235955056179776}\n",
      "{'loss': 0.6374, 'grad_norm': 1.576245665550232, 'learning_rate': 1.5065168539325842e-05, 'epoch': 1.2359550561797752}\n",
      "{'loss': 0.6748, 'grad_norm': 0.7983929514884949, 'learning_rate': 1.4615730337078654e-05, 'epoch': 1.348314606741573}\n",
      "{'loss': 0.6498, 'grad_norm': 2.652951240539551, 'learning_rate': 1.416629213483146e-05, 'epoch': 1.4606741573033708}\n",
      "{'loss': 0.6583, 'grad_norm': 2.1172735691070557, 'learning_rate': 1.3716853932584272e-05, 'epoch': 1.5730337078651684}\n",
      "{'loss': 0.6462, 'grad_norm': 2.194843053817749, 'learning_rate': 1.3267415730337078e-05, 'epoch': 1.6853932584269664}\n",
      "{'loss': 0.6639, 'grad_norm': 1.0686732530593872, 'learning_rate': 1.281797752808989e-05, 'epoch': 1.797752808988764}\n",
      "{'loss': 0.6502, 'grad_norm': 1.8867524862289429, 'learning_rate': 1.2368539325842697e-05, 'epoch': 1.9101123595505618}\n",
      "{'eval_loss': 0.6501783132553101, 'eval_accuracy': 0.6445444319460067, 'eval_f1': 0.7303754266211604, 'eval_precision': 0.6645962732919255, 'eval_recall': 0.8106060606060606, 'eval_runtime': 9.8825, 'eval_samples_per_second': 89.957, 'eval_steps_per_second': 5.667, 'epoch': 2.0}\n",
      "{'loss': 0.6334, 'grad_norm': 1.7196500301361084, 'learning_rate': 1.1919101123595507e-05, 'epoch': 2.0224719101123596}\n",
      "{'loss': 0.6383, 'grad_norm': 3.4015190601348877, 'learning_rate': 1.1469662921348315e-05, 'epoch': 2.134831460674157}\n",
      "{'loss': 0.6338, 'grad_norm': 8.512860298156738, 'learning_rate': 1.1020224719101125e-05, 'epoch': 2.247191011235955}\n",
      "{'loss': 0.6623, 'grad_norm': 1.570481300354004, 'learning_rate': 1.0570786516853933e-05, 'epoch': 2.359550561797753}\n",
      "{'loss': 0.6238, 'grad_norm': 1.987684965133667, 'learning_rate': 1.0121348314606743e-05, 'epoch': 2.4719101123595504}\n",
      "{'loss': 0.653, 'grad_norm': 2.8362138271331787, 'learning_rate': 9.671910112359551e-06, 'epoch': 2.5842696629213484}\n",
      "{'loss': 0.6279, 'grad_norm': 2.506375551223755, 'learning_rate': 9.22247191011236e-06, 'epoch': 2.696629213483146}\n",
      "{'loss': 0.6531, 'grad_norm': 5.602518558502197, 'learning_rate': 8.773033707865169e-06, 'epoch': 2.808988764044944}\n",
      "{'loss': 0.6185, 'grad_norm': 2.3590080738067627, 'learning_rate': 8.323595505617979e-06, 'epoch': 2.9213483146067416}\n",
      "{'eval_loss': 0.6675294637680054, 'eval_accuracy': 0.609673790776153, 'eval_f1': 0.7345065034429993, 'eval_precision': 0.6161745827984596, 'eval_recall': 0.9090909090909091, 'eval_runtime': 9.8082, 'eval_samples_per_second': 90.638, 'eval_steps_per_second': 5.71, 'epoch': 3.0}\n",
      "{'train_runtime': 1078.8632, 'train_samples_per_second': 16.48, 'train_steps_per_second': 2.062, 'train_loss': 0.652784406111928, 'epoch': 3.0}\n",
      "{'eval_loss': 0.6501783132553101, 'eval_model_preparation_time': 0.0005, 'eval_accuracy': 0.6445444319460067, 'eval_f1': 0.7303754266211604, 'eval_precision': 0.6645962732919255, 'eval_recall': 0.8106060606060606, 'eval_runtime': 9.5708, 'eval_samples_per_second': 92.886, 'eval_steps_per_second': 5.851}\n",
      " ↪ Fold 2/5\n"
     ]
    },
    {
     "data": {
      "application/vnd.jupyter.widget-view+json": {
       "model_id": "5360d82d3fc643e6a6a260ec61ba0181",
       "version_major": 2,
       "version_minor": 0
      },
      "text/plain": [
       "Map:   0%|          | 0/3556 [00:00<?, ? examples/s]"
      ]
     },
     "metadata": {},
     "output_type": "display_data"
    },
    {
     "data": {
      "application/vnd.jupyter.widget-view+json": {
       "model_id": "437cae26d7454fdaa2db60d93aec62d7",
       "version_major": 2,
       "version_minor": 0
      },
      "text/plain": [
       "Map:   0%|          | 0/889 [00:00<?, ? examples/s]"
      ]
     },
     "metadata": {},
     "output_type": "display_data"
    },
    {
     "name": "stderr",
     "output_type": "stream",
     "text": [
      "/Users/gchhetri/Developer/Python/15min-city-bench/.venv/lib/python3.12/site-packages/transformers/training_args.py:1604: FutureWarning: using `no_cuda` is deprecated and will be removed in version 5.0 of 🤗 Transformers. Use `use_cpu` instead\n",
      "  warnings.warn(\n"
     ]
    },
    {
     "name": "stdout",
     "output_type": "stream",
     "text": [
      "{'loss': 0.6873, 'grad_norm': 0.5636524558067322, 'learning_rate': 1.9559550561797755e-05, 'epoch': 0.11235955056179775}\n",
      "{'loss': 0.6674, 'grad_norm': 1.2740596532821655, 'learning_rate': 1.9110112359550563e-05, 'epoch': 0.2247191011235955}\n",
      "{'loss': 0.6725, 'grad_norm': 1.7859610319137573, 'learning_rate': 1.8660674157303374e-05, 'epoch': 0.33707865168539325}\n",
      "{'loss': 0.6747, 'grad_norm': 1.542829155921936, 'learning_rate': 1.8211235955056182e-05, 'epoch': 0.449438202247191}\n",
      "{'loss': 0.6615, 'grad_norm': 0.6293372511863708, 'learning_rate': 1.776179775280899e-05, 'epoch': 0.5617977528089888}\n",
      "{'loss': 0.6363, 'grad_norm': 0.9906664490699768, 'learning_rate': 1.73123595505618e-05, 'epoch': 0.6741573033707865}\n",
      "{'loss': 0.6481, 'grad_norm': 1.0303068161010742, 'learning_rate': 1.6862921348314607e-05, 'epoch': 0.7865168539325843}\n",
      "{'loss': 0.6823, 'grad_norm': 0.8706465363502502, 'learning_rate': 1.6413483146067418e-05, 'epoch': 0.898876404494382}\n",
      "{'eval_loss': 0.6694290041923523, 'eval_accuracy': 0.59392575928009, 'eval_f1': 0.714172604908947, 'eval_precision': 0.6136054421768707, 'eval_recall': 0.8541666666666666, 'eval_runtime': 10.043, 'eval_samples_per_second': 88.52, 'eval_steps_per_second': 5.576, 'epoch': 1.0}\n",
      "{'loss': 0.6358, 'grad_norm': 2.3713390827178955, 'learning_rate': 1.5964044943820226e-05, 'epoch': 1.0112359550561798}\n",
      "{'loss': 0.6338, 'grad_norm': 2.636671543121338, 'learning_rate': 1.5514606741573034e-05, 'epoch': 1.1235955056179776}\n",
      "{'loss': 0.6387, 'grad_norm': 3.0402863025665283, 'learning_rate': 1.5065168539325842e-05, 'epoch': 1.2359550561797752}\n",
      "{'loss': 0.6529, 'grad_norm': 2.596905469894409, 'learning_rate': 1.4615730337078654e-05, 'epoch': 1.348314606741573}\n",
      "{'loss': 0.6472, 'grad_norm': 1.358017921447754, 'learning_rate': 1.416629213483146e-05, 'epoch': 1.4606741573033708}\n",
      "{'loss': 0.6778, 'grad_norm': 1.217924952507019, 'learning_rate': 1.3716853932584272e-05, 'epoch': 1.5730337078651684}\n",
      "{'loss': 0.6657, 'grad_norm': 0.9722015857696533, 'learning_rate': 1.3267415730337078e-05, 'epoch': 1.6853932584269664}\n",
      "{'loss': 0.6522, 'grad_norm': 4.234063625335693, 'learning_rate': 1.281797752808989e-05, 'epoch': 1.797752808988764}\n",
      "{'loss': 0.6606, 'grad_norm': 1.3965942859649658, 'learning_rate': 1.2368539325842697e-05, 'epoch': 1.9101123595505618}\n",
      "{'eval_loss': 0.6655550003051758, 'eval_accuracy': 0.6141732283464567, 'eval_f1': 0.6923766816143497, 'eval_precision': 0.6575809199318569, 'eval_recall': 0.7310606060606061, 'eval_runtime': 11.1638, 'eval_samples_per_second': 79.632, 'eval_steps_per_second': 5.016, 'epoch': 2.0}\n",
      "{'loss': 0.636, 'grad_norm': 3.445864200592041, 'learning_rate': 1.1919101123595507e-05, 'epoch': 2.0224719101123596}\n",
      "{'loss': 0.6487, 'grad_norm': 1.0269595384597778, 'learning_rate': 1.1469662921348315e-05, 'epoch': 2.134831460674157}\n",
      "{'loss': 0.621, 'grad_norm': 2.7837576866149902, 'learning_rate': 1.1020224719101125e-05, 'epoch': 2.247191011235955}\n",
      "{'loss': 0.6519, 'grad_norm': 1.6203715801239014, 'learning_rate': 1.0570786516853933e-05, 'epoch': 2.359550561797753}\n",
      "{'loss': 0.6374, 'grad_norm': 2.411928415298462, 'learning_rate': 1.0121348314606743e-05, 'epoch': 2.4719101123595504}\n",
      "{'loss': 0.6207, 'grad_norm': 4.3073906898498535, 'learning_rate': 9.671910112359551e-06, 'epoch': 2.5842696629213484}\n",
      "{'loss': 0.6215, 'grad_norm': 1.7267446517944336, 'learning_rate': 9.22247191011236e-06, 'epoch': 2.696629213483146}\n",
      "{'loss': 0.6566, 'grad_norm': 3.7305030822753906, 'learning_rate': 8.773033707865169e-06, 'epoch': 2.808988764044944}\n",
      "{'loss': 0.6493, 'grad_norm': 2.566859245300293, 'learning_rate': 8.323595505617979e-06, 'epoch': 2.9213483146067416}\n",
      "{'eval_loss': 0.6650574207305908, 'eval_accuracy': 0.6017997750281214, 'eval_f1': 0.7230046948356808, 'eval_precision': 0.616, 'eval_recall': 0.875, 'eval_runtime': 9.6227, 'eval_samples_per_second': 92.385, 'eval_steps_per_second': 5.82, 'epoch': 3.0}\n",
      "{'loss': 0.6253, 'grad_norm': 2.9922945499420166, 'learning_rate': 7.874157303370787e-06, 'epoch': 3.033707865168539}\n",
      "{'loss': 0.6278, 'grad_norm': 2.3527467250823975, 'learning_rate': 7.4247191011235965e-06, 'epoch': 3.146067415730337}\n",
      "{'loss': 0.5965, 'grad_norm': 4.869336128234863, 'learning_rate': 6.975280898876405e-06, 'epoch': 3.258426966292135}\n",
      "{'loss': 0.6404, 'grad_norm': 1.3395601511001587, 'learning_rate': 6.525842696629214e-06, 'epoch': 3.370786516853933}\n",
      "{'loss': 0.6244, 'grad_norm': 7.900302886962891, 'learning_rate': 6.076404494382023e-06, 'epoch': 3.4831460674157304}\n",
      "{'loss': 0.6422, 'grad_norm': 1.6364952325820923, 'learning_rate': 5.626966292134832e-06, 'epoch': 3.595505617977528}\n",
      "{'loss': 0.6151, 'grad_norm': 3.1667847633361816, 'learning_rate': 5.177528089887641e-06, 'epoch': 3.7078651685393256}\n",
      "{'loss': 0.6197, 'grad_norm': 2.7931911945343018, 'learning_rate': 4.72808988764045e-06, 'epoch': 3.8202247191011236}\n",
      "{'loss': 0.6079, 'grad_norm': 1.9140675067901611, 'learning_rate': 4.278651685393259e-06, 'epoch': 3.932584269662921}\n",
      "{'eval_loss': 0.6828908324241638, 'eval_accuracy': 0.5973003374578177, 'eval_f1': 0.6577437858508605, 'eval_precision': 0.6640926640926641, 'eval_recall': 0.6515151515151515, 'eval_runtime': 9.7429, 'eval_samples_per_second': 91.246, 'eval_steps_per_second': 5.748, 'epoch': 4.0}\n",
      "{'train_runtime': 1437.2163, 'train_samples_per_second': 12.371, 'train_steps_per_second': 1.548, 'train_loss': 0.6434553039207888, 'epoch': 4.0}\n",
      "{'eval_loss': 0.6650574207305908, 'eval_model_preparation_time': 0.0006, 'eval_accuracy': 0.6017997750281214, 'eval_f1': 0.7230046948356808, 'eval_precision': 0.616, 'eval_recall': 0.875, 'eval_runtime': 9.6343, 'eval_samples_per_second': 92.274, 'eval_steps_per_second': 5.813}\n",
      " ↪ Fold 3/5\n"
     ]
    },
    {
     "data": {
      "application/vnd.jupyter.widget-view+json": {
       "model_id": "64fbeb404d7b40ef9399b95ee7d2b27c",
       "version_major": 2,
       "version_minor": 0
      },
      "text/plain": [
       "Map:   0%|          | 0/3556 [00:00<?, ? examples/s]"
      ]
     },
     "metadata": {},
     "output_type": "display_data"
    },
    {
     "data": {
      "application/vnd.jupyter.widget-view+json": {
       "model_id": "bd4664f2c8814c4db7d7d549bff3cb40",
       "version_major": 2,
       "version_minor": 0
      },
      "text/plain": [
       "Map:   0%|          | 0/889 [00:00<?, ? examples/s]"
      ]
     },
     "metadata": {},
     "output_type": "display_data"
    },
    {
     "name": "stderr",
     "output_type": "stream",
     "text": [
      "/Users/gchhetri/Developer/Python/15min-city-bench/.venv/lib/python3.12/site-packages/transformers/training_args.py:1604: FutureWarning: using `no_cuda` is deprecated and will be removed in version 5.0 of 🤗 Transformers. Use `use_cpu` instead\n",
      "  warnings.warn(\n"
     ]
    },
    {
     "name": "stdout",
     "output_type": "stream",
     "text": [
      "{'loss': 0.6805, 'grad_norm': 0.846293032169342, 'learning_rate': 1.9559550561797755e-05, 'epoch': 0.11235955056179775}\n",
      "{'loss': 0.6759, 'grad_norm': 1.4590367078781128, 'learning_rate': 1.9110112359550563e-05, 'epoch': 0.2247191011235955}\n",
      "{'loss': 0.667, 'grad_norm': 1.396805763244629, 'learning_rate': 1.8660674157303374e-05, 'epoch': 0.33707865168539325}\n",
      "{'loss': 0.6569, 'grad_norm': 1.4225397109985352, 'learning_rate': 1.8211235955056182e-05, 'epoch': 0.449438202247191}\n",
      "{'loss': 0.6747, 'grad_norm': 1.9254332780838013, 'learning_rate': 1.776179775280899e-05, 'epoch': 0.5617977528089888}\n",
      "{'loss': 0.6722, 'grad_norm': 2.477825403213501, 'learning_rate': 1.73123595505618e-05, 'epoch': 0.6741573033707865}\n",
      "{'loss': 0.666, 'grad_norm': 2.4317662715911865, 'learning_rate': 1.6862921348314607e-05, 'epoch': 0.7865168539325843}\n",
      "{'loss': 0.6315, 'grad_norm': 3.4660778045654297, 'learning_rate': 1.6413483146067418e-05, 'epoch': 0.898876404494382}\n",
      "{'eval_loss': 0.6544129252433777, 'eval_accuracy': 0.6310461192350956, 'eval_f1': 0.7307060755336617, 'eval_precision': 0.644927536231884, 'eval_recall': 0.8428030303030303, 'eval_runtime': 9.9031, 'eval_samples_per_second': 89.77, 'eval_steps_per_second': 5.655, 'epoch': 1.0}\n",
      "{'loss': 0.6706, 'grad_norm': 2.826578140258789, 'learning_rate': 1.5964044943820226e-05, 'epoch': 1.0112359550561798}\n",
      "{'loss': 0.6542, 'grad_norm': 1.0413992404937744, 'learning_rate': 1.5514606741573034e-05, 'epoch': 1.1235955056179776}\n",
      "{'loss': 0.6628, 'grad_norm': 1.2820061445236206, 'learning_rate': 1.5065168539325842e-05, 'epoch': 1.2359550561797752}\n",
      "{'loss': 0.6596, 'grad_norm': 1.5865294933319092, 'learning_rate': 1.4615730337078654e-05, 'epoch': 1.348314606741573}\n",
      "{'loss': 0.6681, 'grad_norm': 1.8730733394622803, 'learning_rate': 1.416629213483146e-05, 'epoch': 1.4606741573033708}\n",
      "{'loss': 0.632, 'grad_norm': 2.7482805252075195, 'learning_rate': 1.3716853932584272e-05, 'epoch': 1.5730337078651684}\n",
      "{'loss': 0.6422, 'grad_norm': 1.5796771049499512, 'learning_rate': 1.3267415730337078e-05, 'epoch': 1.6853932584269664}\n",
      "{'loss': 0.6615, 'grad_norm': 1.112973928451538, 'learning_rate': 1.281797752808989e-05, 'epoch': 1.797752808988764}\n",
      "{'loss': 0.6522, 'grad_norm': 1.201472282409668, 'learning_rate': 1.2368539325842697e-05, 'epoch': 1.9101123595505618}\n",
      "{'eval_loss': 0.6520700454711914, 'eval_accuracy': 0.6276715410573678, 'eval_f1': 0.7144089732528042, 'eval_precision': 0.6561014263074485, 'eval_recall': 0.7840909090909091, 'eval_runtime': 9.9109, 'eval_samples_per_second': 89.7, 'eval_steps_per_second': 5.65, 'epoch': 2.0}\n",
      "{'loss': 0.6442, 'grad_norm': 1.9540764093399048, 'learning_rate': 1.1919101123595507e-05, 'epoch': 2.0224719101123596}\n",
      "{'loss': 0.6518, 'grad_norm': 3.49252986907959, 'learning_rate': 1.1469662921348315e-05, 'epoch': 2.134831460674157}\n",
      "{'loss': 0.6662, 'grad_norm': 7.485703468322754, 'learning_rate': 1.1020224719101125e-05, 'epoch': 2.247191011235955}\n",
      "{'loss': 0.6473, 'grad_norm': 8.555747032165527, 'learning_rate': 1.0570786516853933e-05, 'epoch': 2.359550561797753}\n",
      "{'loss': 0.6389, 'grad_norm': 8.292021751403809, 'learning_rate': 1.0121348314606743e-05, 'epoch': 2.4719101123595504}\n",
      "{'loss': 0.6295, 'grad_norm': 2.5620760917663574, 'learning_rate': 9.671910112359551e-06, 'epoch': 2.5842696629213484}\n",
      "{'loss': 0.6382, 'grad_norm': 2.6612765789031982, 'learning_rate': 9.22247191011236e-06, 'epoch': 2.696629213483146}\n",
      "{'loss': 0.6385, 'grad_norm': 6.905114650726318, 'learning_rate': 8.773033707865169e-06, 'epoch': 2.808988764044944}\n",
      "{'loss': 0.6427, 'grad_norm': 8.23221206665039, 'learning_rate': 8.323595505617979e-06, 'epoch': 2.9213483146067416}\n",
      "{'eval_loss': 0.6593602299690247, 'eval_accuracy': 0.6310461192350956, 'eval_f1': 0.7137870855148342, 'eval_precision': 0.6618122977346278, 'eval_recall': 0.7746212121212122, 'eval_runtime': 9.7326, 'eval_samples_per_second': 91.343, 'eval_steps_per_second': 5.754, 'epoch': 3.0}\n",
      "{'train_runtime': 1086.4164, 'train_samples_per_second': 16.366, 'train_steps_per_second': 2.048, 'train_loss': 0.6538993578278617, 'epoch': 3.0}\n",
      "{'eval_loss': 0.6520700454711914, 'eval_model_preparation_time': 0.0004, 'eval_accuracy': 0.6276715410573678, 'eval_f1': 0.7144089732528042, 'eval_precision': 0.6561014263074485, 'eval_recall': 0.7840909090909091, 'eval_runtime': 10.4639, 'eval_samples_per_second': 84.959, 'eval_steps_per_second': 5.352}\n",
      " ↪ Fold 4/5\n"
     ]
    },
    {
     "data": {
      "application/vnd.jupyter.widget-view+json": {
       "model_id": "125f6a77e2d448608eb2eb9293e17fb8",
       "version_major": 2,
       "version_minor": 0
      },
      "text/plain": [
       "Map:   0%|          | 0/3556 [00:00<?, ? examples/s]"
      ]
     },
     "metadata": {},
     "output_type": "display_data"
    },
    {
     "data": {
      "application/vnd.jupyter.widget-view+json": {
       "model_id": "dc8379f8145349fc8680eba4de79b08b",
       "version_major": 2,
       "version_minor": 0
      },
      "text/plain": [
       "Map:   0%|          | 0/889 [00:00<?, ? examples/s]"
      ]
     },
     "metadata": {},
     "output_type": "display_data"
    },
    {
     "name": "stderr",
     "output_type": "stream",
     "text": [
      "/Users/gchhetri/Developer/Python/15min-city-bench/.venv/lib/python3.12/site-packages/transformers/training_args.py:1604: FutureWarning: using `no_cuda` is deprecated and will be removed in version 5.0 of 🤗 Transformers. Use `use_cpu` instead\n",
      "  warnings.warn(\n"
     ]
    },
    {
     "name": "stdout",
     "output_type": "stream",
     "text": [
      "{'loss': 0.683, 'grad_norm': 1.1822267770767212, 'learning_rate': 1.9559550561797755e-05, 'epoch': 0.11235955056179775}\n",
      "{'loss': 0.6779, 'grad_norm': 1.0896239280700684, 'learning_rate': 1.9110112359550563e-05, 'epoch': 0.2247191011235955}\n",
      "{'loss': 0.6641, 'grad_norm': 1.8032580614089966, 'learning_rate': 1.8660674157303374e-05, 'epoch': 0.33707865168539325}\n",
      "{'loss': 0.6792, 'grad_norm': 1.1003581285476685, 'learning_rate': 1.8211235955056182e-05, 'epoch': 0.449438202247191}\n",
      "{'loss': 0.66, 'grad_norm': 1.6279809474945068, 'learning_rate': 1.776179775280899e-05, 'epoch': 0.5617977528089888}\n",
      "{'loss': 0.6784, 'grad_norm': 1.249212384223938, 'learning_rate': 1.73123595505618e-05, 'epoch': 0.6741573033707865}\n",
      "{'loss': 0.6517, 'grad_norm': 1.7954941987991333, 'learning_rate': 1.6862921348314607e-05, 'epoch': 0.7865168539325843}\n",
      "{'loss': 0.6673, 'grad_norm': 3.192115306854248, 'learning_rate': 1.6413483146067418e-05, 'epoch': 0.898876404494382}\n",
      "{'eval_loss': 0.6693369150161743, 'eval_accuracy': 0.5849268841394826, 'eval_f1': 0.5993485342019544, 'eval_precision': 0.700507614213198, 'eval_recall': 0.523719165085389, 'eval_runtime': 10.3054, 'eval_samples_per_second': 86.265, 'eval_steps_per_second': 5.434, 'epoch': 1.0}\n",
      "{'loss': 0.6555, 'grad_norm': 2.1566720008850098, 'learning_rate': 1.5964044943820226e-05, 'epoch': 1.0112359550561798}\n",
      "{'loss': 0.6329, 'grad_norm': 1.805527687072754, 'learning_rate': 1.5514606741573034e-05, 'epoch': 1.1235955056179776}\n",
      "{'loss': 0.6606, 'grad_norm': 1.5800098180770874, 'learning_rate': 1.5065168539325842e-05, 'epoch': 1.2359550561797752}\n",
      "{'loss': 0.6536, 'grad_norm': 7.053947448730469, 'learning_rate': 1.4615730337078654e-05, 'epoch': 1.348314606741573}\n",
      "{'loss': 0.6558, 'grad_norm': 0.935306966304779, 'learning_rate': 1.416629213483146e-05, 'epoch': 1.4606741573033708}\n",
      "{'loss': 0.6682, 'grad_norm': 0.7879918217658997, 'learning_rate': 1.3716853932584272e-05, 'epoch': 1.5730337078651684}\n",
      "{'loss': 0.6568, 'grad_norm': 1.7391538619995117, 'learning_rate': 1.3267415730337078e-05, 'epoch': 1.6853932584269664}\n",
      "{'loss': 0.6474, 'grad_norm': 1.3302850723266602, 'learning_rate': 1.281797752808989e-05, 'epoch': 1.797752808988764}\n",
      "{'loss': 0.674, 'grad_norm': 1.3600060939788818, 'learning_rate': 1.2368539325842697e-05, 'epoch': 1.9101123595505618}\n",
      "{'eval_loss': 0.6491328477859497, 'eval_accuracy': 0.6276715410573678, 'eval_f1': 0.6954921803127875, 'eval_precision': 0.675, 'eval_recall': 0.7172675521821632, 'eval_runtime': 10.6941, 'eval_samples_per_second': 83.13, 'eval_steps_per_second': 5.237, 'epoch': 2.0}\n",
      "{'loss': 0.6513, 'grad_norm': 1.4979472160339355, 'learning_rate': 1.1919101123595507e-05, 'epoch': 2.0224719101123596}\n",
      "{'loss': 0.6413, 'grad_norm': 1.083581805229187, 'learning_rate': 1.1469662921348315e-05, 'epoch': 2.134831460674157}\n",
      "{'loss': 0.618, 'grad_norm': 1.416936993598938, 'learning_rate': 1.1020224719101125e-05, 'epoch': 2.247191011235955}\n",
      "{'loss': 0.6334, 'grad_norm': 4.688348293304443, 'learning_rate': 1.0570786516853933e-05, 'epoch': 2.359550561797753}\n",
      "{'loss': 0.6371, 'grad_norm': 2.322821617126465, 'learning_rate': 1.0121348314606743e-05, 'epoch': 2.4719101123595504}\n",
      "{'loss': 0.6409, 'grad_norm': 2.224059581756592, 'learning_rate': 9.671910112359551e-06, 'epoch': 2.5842696629213484}\n",
      "{'loss': 0.6659, 'grad_norm': 5.0333709716796875, 'learning_rate': 9.22247191011236e-06, 'epoch': 2.696629213483146}\n",
      "{'loss': 0.6559, 'grad_norm': 1.1028467416763306, 'learning_rate': 8.773033707865169e-06, 'epoch': 2.808988764044944}\n",
      "{'loss': 0.6367, 'grad_norm': 3.7218284606933594, 'learning_rate': 8.323595505617979e-06, 'epoch': 2.9213483146067416}\n",
      "{'eval_loss': 0.6591042280197144, 'eval_accuracy': 0.6130483689538808, 'eval_f1': 0.7166392092257001, 'eval_precision': 0.6331877729257642, 'eval_recall': 0.825426944971537, 'eval_runtime': 9.7278, 'eval_samples_per_second': 91.388, 'eval_steps_per_second': 5.757, 'epoch': 3.0}\n",
      "{'train_runtime': 1077.0277, 'train_samples_per_second': 16.508, 'train_steps_per_second': 2.066, 'train_loss': 0.6556435174263372, 'epoch': 3.0}\n",
      "{'eval_loss': 0.6491328477859497, 'eval_model_preparation_time': 0.0005, 'eval_accuracy': 0.6276715410573678, 'eval_f1': 0.6954921803127875, 'eval_precision': 0.675, 'eval_recall': 0.7172675521821632, 'eval_runtime': 10.4858, 'eval_samples_per_second': 84.782, 'eval_steps_per_second': 5.341}\n",
      " ↪ Fold 5/5\n"
     ]
    },
    {
     "data": {
      "application/vnd.jupyter.widget-view+json": {
       "model_id": "dcf24a7c2d78422e8939aaf38eb44491",
       "version_major": 2,
       "version_minor": 0
      },
      "text/plain": [
       "Map:   0%|          | 0/3556 [00:00<?, ? examples/s]"
      ]
     },
     "metadata": {},
     "output_type": "display_data"
    },
    {
     "data": {
      "application/vnd.jupyter.widget-view+json": {
       "model_id": "6b9749dfb117403cb2f98c1e7ca309b9",
       "version_major": 2,
       "version_minor": 0
      },
      "text/plain": [
       "Map:   0%|          | 0/889 [00:00<?, ? examples/s]"
      ]
     },
     "metadata": {},
     "output_type": "display_data"
    },
    {
     "name": "stderr",
     "output_type": "stream",
     "text": [
      "/Users/gchhetri/Developer/Python/15min-city-bench/.venv/lib/python3.12/site-packages/transformers/training_args.py:1604: FutureWarning: using `no_cuda` is deprecated and will be removed in version 5.0 of 🤗 Transformers. Use `use_cpu` instead\n",
      "  warnings.warn(\n"
     ]
    },
    {
     "name": "stdout",
     "output_type": "stream",
     "text": [
      "{'loss': 0.6871, 'grad_norm': 0.533864438533783, 'learning_rate': 1.9559550561797755e-05, 'epoch': 0.11235955056179775}\n",
      "{'loss': 0.6818, 'grad_norm': 1.249891996383667, 'learning_rate': 1.9110112359550563e-05, 'epoch': 0.2247191011235955}\n",
      "{'loss': 0.6577, 'grad_norm': 1.4609014987945557, 'learning_rate': 1.8660674157303374e-05, 'epoch': 0.33707865168539325}\n",
      "{'loss': 0.6578, 'grad_norm': 0.8848105669021606, 'learning_rate': 1.8211235955056182e-05, 'epoch': 0.449438202247191}\n",
      "{'loss': 0.6453, 'grad_norm': 2.5950074195861816, 'learning_rate': 1.776179775280899e-05, 'epoch': 0.5617977528089888}\n",
      "{'loss': 0.6522, 'grad_norm': 1.6156045198440552, 'learning_rate': 1.73123595505618e-05, 'epoch': 0.6741573033707865}\n",
      "{'loss': 0.6759, 'grad_norm': 1.2230926752090454, 'learning_rate': 1.6862921348314607e-05, 'epoch': 0.7865168539325843}\n",
      "{'loss': 0.652, 'grad_norm': 1.185301423072815, 'learning_rate': 1.6413483146067418e-05, 'epoch': 0.898876404494382}\n",
      "{'eval_loss': 0.6673189997673035, 'eval_accuracy': 0.5759280089988752, 'eval_f1': 0.700079554494829, 'eval_precision': 0.6027397260273972, 'eval_recall': 0.8349146110056926, 'eval_runtime': 10.0697, 'eval_samples_per_second': 88.285, 'eval_steps_per_second': 5.561, 'epoch': 1.0}\n",
      "{'loss': 0.6656, 'grad_norm': 1.073233723640442, 'learning_rate': 1.5964044943820226e-05, 'epoch': 1.0112359550561798}\n",
      "{'loss': 0.6285, 'grad_norm': 0.7989909648895264, 'learning_rate': 1.5514606741573034e-05, 'epoch': 1.1235955056179776}\n",
      "{'loss': 0.639, 'grad_norm': 2.5472960472106934, 'learning_rate': 1.5065168539325842e-05, 'epoch': 1.2359550561797752}\n",
      "{'loss': 0.6596, 'grad_norm': 1.3093013763427734, 'learning_rate': 1.4615730337078654e-05, 'epoch': 1.348314606741573}\n",
      "{'loss': 0.6396, 'grad_norm': 2.1867990493774414, 'learning_rate': 1.416629213483146e-05, 'epoch': 1.4606741573033708}\n",
      "{'loss': 0.6567, 'grad_norm': 1.532386064529419, 'learning_rate': 1.3716853932584272e-05, 'epoch': 1.5730337078651684}\n",
      "{'loss': 0.6499, 'grad_norm': 2.954414129257202, 'learning_rate': 1.3267415730337078e-05, 'epoch': 1.6853932584269664}\n",
      "{'loss': 0.6501, 'grad_norm': 1.8293510675430298, 'learning_rate': 1.281797752808989e-05, 'epoch': 1.797752808988764}\n",
      "{'loss': 0.6628, 'grad_norm': 1.3899284601211548, 'learning_rate': 1.2368539325842697e-05, 'epoch': 1.9101123595505618}\n",
      "{'eval_loss': 0.6657661199569702, 'eval_accuracy': 0.5905511811023622, 'eval_f1': 0.6930860033726813, 'eval_precision': 0.6236722306525038, 'eval_recall': 0.7798861480075902, 'eval_runtime': 10.1522, 'eval_samples_per_second': 87.567, 'eval_steps_per_second': 5.516, 'epoch': 2.0}\n",
      "{'loss': 0.6491, 'grad_norm': 1.4419524669647217, 'learning_rate': 1.1919101123595507e-05, 'epoch': 2.0224719101123596}\n",
      "{'loss': 0.6246, 'grad_norm': 1.7233798503875732, 'learning_rate': 1.1469662921348315e-05, 'epoch': 2.134831460674157}\n",
      "{'loss': 0.6586, 'grad_norm': 2.628413677215576, 'learning_rate': 1.1020224719101125e-05, 'epoch': 2.247191011235955}\n",
      "{'loss': 0.6309, 'grad_norm': 1.556179404258728, 'learning_rate': 1.0570786516853933e-05, 'epoch': 2.359550561797753}\n",
      "{'loss': 0.6551, 'grad_norm': 0.7519752979278564, 'learning_rate': 1.0121348314606743e-05, 'epoch': 2.4719101123595504}\n",
      "{'loss': 0.6489, 'grad_norm': 2.1502163410186768, 'learning_rate': 9.671910112359551e-06, 'epoch': 2.5842696629213484}\n",
      "{'loss': 0.6259, 'grad_norm': 1.8732068538665771, 'learning_rate': 9.22247191011236e-06, 'epoch': 2.696629213483146}\n",
      "{'loss': 0.6376, 'grad_norm': 3.420534610748291, 'learning_rate': 8.773033707865169e-06, 'epoch': 2.808988764044944}\n",
      "{'loss': 0.6361, 'grad_norm': 3.3242368698120117, 'learning_rate': 8.323595505617979e-06, 'epoch': 2.9213483146067416}\n",
      "{'eval_loss': 0.6918261647224426, 'eval_accuracy': 0.5860517435320585, 'eval_f1': 0.6928213689482471, 'eval_precision': 0.6184798807749627, 'eval_recall': 0.7874762808349146, 'eval_runtime': 9.7944, 'eval_samples_per_second': 90.766, 'eval_steps_per_second': 5.718, 'epoch': 3.0}\n",
      "{'train_runtime': 1073.3818, 'train_samples_per_second': 16.564, 'train_steps_per_second': 2.073, 'train_loss': 0.6501369104849711, 'epoch': 3.0}\n",
      "{'eval_loss': 0.6657661199569702, 'eval_model_preparation_time': 0.0004, 'eval_accuracy': 0.5905511811023622, 'eval_f1': 0.6930860033726813, 'eval_precision': 0.6236722306525038, 'eval_recall': 0.7798861480075902, 'eval_runtime': 9.6905, 'eval_samples_per_second': 91.739, 'eval_steps_per_second': 5.779}\n",
      "\n",
      "🔍 Model: google/electra-small-discriminator\n",
      " ↪ Fold 1/5\n"
     ]
    },
    {
     "data": {
      "application/vnd.jupyter.widget-view+json": {
       "model_id": "2312e4167f854927a4f3ef1c9260e7f7",
       "version_major": 2,
       "version_minor": 0
      },
      "text/plain": [
       "Map:   0%|          | 0/3556 [00:00<?, ? examples/s]"
      ]
     },
     "metadata": {},
     "output_type": "display_data"
    },
    {
     "data": {
      "application/vnd.jupyter.widget-view+json": {
       "model_id": "3bb41ed15fc4482bb9311489baafeaa3",
       "version_major": 2,
       "version_minor": 0
      },
      "text/plain": [
       "Map:   0%|          | 0/889 [00:00<?, ? examples/s]"
      ]
     },
     "metadata": {},
     "output_type": "display_data"
    },
    {
     "name": "stderr",
     "output_type": "stream",
     "text": [
      "/Users/gchhetri/Developer/Python/15min-city-bench/.venv/lib/python3.12/site-packages/transformers/training_args.py:1604: FutureWarning: using `no_cuda` is deprecated and will be removed in version 5.0 of 🤗 Transformers. Use `use_cpu` instead\n",
      "  warnings.warn(\n"
     ]
    },
    {
     "name": "stdout",
     "output_type": "stream",
     "text": [
      "{'loss': 0.6741, 'grad_norm': 0.8472967147827148, 'learning_rate': 1.9559550561797755e-05, 'epoch': 0.11235955056179775}\n",
      "{'loss': 0.6814, 'grad_norm': 0.762062668800354, 'learning_rate': 1.9110112359550563e-05, 'epoch': 0.2247191011235955}\n",
      "{'loss': 0.6605, 'grad_norm': 0.9294658303260803, 'learning_rate': 1.8660674157303374e-05, 'epoch': 0.33707865168539325}\n",
      "{'loss': 0.667, 'grad_norm': 1.5287344455718994, 'learning_rate': 1.8211235955056182e-05, 'epoch': 0.449438202247191}\n",
      "{'loss': 0.675, 'grad_norm': 1.0813629627227783, 'learning_rate': 1.776179775280899e-05, 'epoch': 0.5617977528089888}\n",
      "{'loss': 0.664, 'grad_norm': 1.6549783945083618, 'learning_rate': 1.73123595505618e-05, 'epoch': 0.6741573033707865}\n",
      "{'loss': 0.6507, 'grad_norm': 1.9692636728286743, 'learning_rate': 1.6862921348314607e-05, 'epoch': 0.7865168539325843}\n",
      "{'loss': 0.6981, 'grad_norm': 1.2719240188598633, 'learning_rate': 1.6413483146067418e-05, 'epoch': 0.898876404494382}\n",
      "{'eval_loss': 0.6561354994773865, 'eval_accuracy': 0.6040494938132733, 'eval_f1': 0.7423133235724744, 'eval_precision': 0.6050119331742243, 'eval_recall': 0.9602272727272727, 'eval_runtime': 19.8976, 'eval_samples_per_second': 44.679, 'eval_steps_per_second': 2.814, 'epoch': 1.0}\n",
      "{'loss': 0.6473, 'grad_norm': 0.9935352206230164, 'learning_rate': 1.5964044943820226e-05, 'epoch': 1.0112359550561798}\n",
      "{'loss': 0.6645, 'grad_norm': 3.1383566856384277, 'learning_rate': 1.5514606741573034e-05, 'epoch': 1.1235955056179776}\n",
      "{'loss': 0.6404, 'grad_norm': 3.4465391635894775, 'learning_rate': 1.5065168539325842e-05, 'epoch': 1.2359550561797752}\n",
      "{'loss': 0.6724, 'grad_norm': 1.2694870233535767, 'learning_rate': 1.4615730337078654e-05, 'epoch': 1.348314606741573}\n",
      "{'loss': 0.6524, 'grad_norm': 4.805846214294434, 'learning_rate': 1.416629213483146e-05, 'epoch': 1.4606741573033708}\n",
      "{'loss': 0.6598, 'grad_norm': 2.0028092861175537, 'learning_rate': 1.3716853932584272e-05, 'epoch': 1.5730337078651684}\n",
      "{'loss': 0.6462, 'grad_norm': 2.526799440383911, 'learning_rate': 1.3267415730337078e-05, 'epoch': 1.6853932584269664}\n",
      "{'loss': 0.667, 'grad_norm': 1.4887299537658691, 'learning_rate': 1.281797752808989e-05, 'epoch': 1.797752808988764}\n",
      "{'loss': 0.6526, 'grad_norm': 2.5537660121917725, 'learning_rate': 1.2368539325842697e-05, 'epoch': 1.9101123595505618}\n",
      "{'eval_loss': 0.6479095220565796, 'eval_accuracy': 0.6366704161979753, 'eval_f1': 0.7251063829787234, 'eval_precision': 0.6584234930448223, 'eval_recall': 0.8068181818181818, 'eval_runtime': 20.1222, 'eval_samples_per_second': 44.18, 'eval_steps_per_second': 2.783, 'epoch': 2.0}\n",
      "{'loss': 0.6378, 'grad_norm': 2.5684454441070557, 'learning_rate': 1.1919101123595507e-05, 'epoch': 2.0224719101123596}\n",
      "{'loss': 0.6405, 'grad_norm': 4.016575813293457, 'learning_rate': 1.1469662921348315e-05, 'epoch': 2.134831460674157}\n",
      "{'loss': 0.6397, 'grad_norm': 6.042349815368652, 'learning_rate': 1.1020224719101125e-05, 'epoch': 2.247191011235955}\n",
      "{'loss': 0.6703, 'grad_norm': 1.7969188690185547, 'learning_rate': 1.0570786516853933e-05, 'epoch': 2.359550561797753}\n",
      "{'loss': 0.6354, 'grad_norm': 5.770026683807373, 'learning_rate': 1.0121348314606743e-05, 'epoch': 2.4719101123595504}\n",
      "{'loss': 0.6576, 'grad_norm': 1.3088451623916626, 'learning_rate': 9.671910112359551e-06, 'epoch': 2.5842696629213484}\n",
      "{'loss': 0.6364, 'grad_norm': 2.3914847373962402, 'learning_rate': 9.22247191011236e-06, 'epoch': 2.696629213483146}\n",
      "{'loss': 0.6478, 'grad_norm': 3.1444027423858643, 'learning_rate': 8.773033707865169e-06, 'epoch': 2.808988764044944}\n",
      "{'loss': 0.6195, 'grad_norm': 1.5636515617370605, 'learning_rate': 8.323595505617979e-06, 'epoch': 2.9213483146067416}\n",
      "{'eval_loss': 0.6620442271232605, 'eval_accuracy': 0.6152980877390326, 'eval_f1': 0.7348837209302326, 'eval_precision': 0.6220472440944882, 'eval_recall': 0.8977272727272727, 'eval_runtime': 20.0282, 'eval_samples_per_second': 44.387, 'eval_steps_per_second': 2.796, 'epoch': 3.0}\n",
      "{'train_runtime': 960.2246, 'train_samples_per_second': 18.517, 'train_steps_per_second': 2.317, 'train_loss': 0.6559738587797358, 'epoch': 3.0}\n",
      "{'eval_loss': 0.6479095220565796, 'eval_model_preparation_time': 0.0008, 'eval_accuracy': 0.6366704161979753, 'eval_f1': 0.7251063829787234, 'eval_precision': 0.6584234930448223, 'eval_recall': 0.8068181818181818, 'eval_runtime': 20.0428, 'eval_samples_per_second': 44.355, 'eval_steps_per_second': 2.794}\n",
      " ↪ Fold 2/5\n"
     ]
    },
    {
     "data": {
      "application/vnd.jupyter.widget-view+json": {
       "model_id": "fd0d67fc2a8f4555b48754c4847542a6",
       "version_major": 2,
       "version_minor": 0
      },
      "text/plain": [
       "Map:   0%|          | 0/3556 [00:00<?, ? examples/s]"
      ]
     },
     "metadata": {},
     "output_type": "display_data"
    },
    {
     "data": {
      "application/vnd.jupyter.widget-view+json": {
       "model_id": "c4ecb40f5525436a9638b4fa4843ea0c",
       "version_major": 2,
       "version_minor": 0
      },
      "text/plain": [
       "Map:   0%|          | 0/889 [00:00<?, ? examples/s]"
      ]
     },
     "metadata": {},
     "output_type": "display_data"
    },
    {
     "name": "stderr",
     "output_type": "stream",
     "text": [
      "/Users/gchhetri/Developer/Python/15min-city-bench/.venv/lib/python3.12/site-packages/transformers/training_args.py:1604: FutureWarning: using `no_cuda` is deprecated and will be removed in version 5.0 of 🤗 Transformers. Use `use_cpu` instead\n",
      "  warnings.warn(\n"
     ]
    },
    {
     "name": "stdout",
     "output_type": "stream",
     "text": [
      "{'loss': 0.6867, 'grad_norm': 0.718248188495636, 'learning_rate': 1.9559550561797755e-05, 'epoch': 0.11235955056179775}\n",
      "{'loss': 0.6728, 'grad_norm': 1.416353702545166, 'learning_rate': 1.9110112359550563e-05, 'epoch': 0.2247191011235955}\n",
      "{'loss': 0.6723, 'grad_norm': 1.1361829042434692, 'learning_rate': 1.8660674157303374e-05, 'epoch': 0.33707865168539325}\n",
      "{'loss': 0.6756, 'grad_norm': 1.619657039642334, 'learning_rate': 1.8211235955056182e-05, 'epoch': 0.449438202247191}\n",
      "{'loss': 0.6578, 'grad_norm': 1.4658055305480957, 'learning_rate': 1.776179775280899e-05, 'epoch': 0.5617977528089888}\n",
      "{'loss': 0.6341, 'grad_norm': 1.5304169654846191, 'learning_rate': 1.73123595505618e-05, 'epoch': 0.6741573033707865}\n",
      "{'loss': 0.6489, 'grad_norm': 1.288179874420166, 'learning_rate': 1.6862921348314607e-05, 'epoch': 0.7865168539325843}\n",
      "{'loss': 0.6834, 'grad_norm': 0.9467114806175232, 'learning_rate': 1.6413483146067418e-05, 'epoch': 0.898876404494382}\n",
      "{'eval_loss': 0.6700488924980164, 'eval_accuracy': 0.6029246344206974, 'eval_f1': 0.7099424815119145, 'eval_precision': 0.6269956458635704, 'eval_recall': 0.8181818181818182, 'eval_runtime': 20.1917, 'eval_samples_per_second': 44.028, 'eval_steps_per_second': 2.773, 'epoch': 1.0}\n",
      "{'loss': 0.6433, 'grad_norm': 2.1550328731536865, 'learning_rate': 1.5964044943820226e-05, 'epoch': 1.0112359550561798}\n",
      "{'loss': 0.6407, 'grad_norm': 1.8202433586120605, 'learning_rate': 1.5514606741573034e-05, 'epoch': 1.1235955056179776}\n",
      "{'loss': 0.6292, 'grad_norm': 1.812813639640808, 'learning_rate': 1.5065168539325842e-05, 'epoch': 1.2359550561797752}\n",
      "{'loss': 0.6501, 'grad_norm': 2.426584005355835, 'learning_rate': 1.4615730337078654e-05, 'epoch': 1.348314606741573}\n",
      "{'loss': 0.6439, 'grad_norm': 1.3316245079040527, 'learning_rate': 1.416629213483146e-05, 'epoch': 1.4606741573033708}\n",
      "{'loss': 0.6763, 'grad_norm': 1.810173749923706, 'learning_rate': 1.3716853932584272e-05, 'epoch': 1.5730337078651684}\n",
      "{'loss': 0.6634, 'grad_norm': 1.511843204498291, 'learning_rate': 1.3267415730337078e-05, 'epoch': 1.6853932584269664}\n",
      "{'loss': 0.653, 'grad_norm': 3.0439651012420654, 'learning_rate': 1.281797752808989e-05, 'epoch': 1.797752808988764}\n",
      "{'loss': 0.6616, 'grad_norm': 2.467801332473755, 'learning_rate': 1.2368539325842697e-05, 'epoch': 1.9101123595505618}\n",
      "{'eval_loss': 0.6635128855705261, 'eval_accuracy': 0.6051743532058492, 'eval_f1': 0.6934497816593886, 'eval_precision': 0.6434359805510534, 'eval_recall': 0.7518939393939394, 'eval_runtime': 20.6586, 'eval_samples_per_second': 43.033, 'eval_steps_per_second': 2.711, 'epoch': 2.0}\n",
      "{'loss': 0.6415, 'grad_norm': 3.3636441230773926, 'learning_rate': 1.1919101123595507e-05, 'epoch': 2.0224719101123596}\n",
      "{'loss': 0.6512, 'grad_norm': 1.3638360500335693, 'learning_rate': 1.1469662921348315e-05, 'epoch': 2.134831460674157}\n",
      "{'loss': 0.6172, 'grad_norm': 4.250113010406494, 'learning_rate': 1.1020224719101125e-05, 'epoch': 2.247191011235955}\n",
      "{'loss': 0.6505, 'grad_norm': 2.902817726135254, 'learning_rate': 1.0570786516853933e-05, 'epoch': 2.359550561797753}\n",
      "{'loss': 0.6332, 'grad_norm': 2.5323750972747803, 'learning_rate': 1.0121348314606743e-05, 'epoch': 2.4719101123595504}\n",
      "{'loss': 0.618, 'grad_norm': 3.518167495727539, 'learning_rate': 9.671910112359551e-06, 'epoch': 2.5842696629213484}\n",
      "{'loss': 0.6267, 'grad_norm': 2.3757827281951904, 'learning_rate': 9.22247191011236e-06, 'epoch': 2.696629213483146}\n",
      "{'loss': 0.6496, 'grad_norm': 3.69682240486145, 'learning_rate': 8.773033707865169e-06, 'epoch': 2.808988764044944}\n",
      "{'loss': 0.6482, 'grad_norm': 3.6177456378936768, 'learning_rate': 8.323595505617979e-06, 'epoch': 2.9213483146067416}\n",
      "{'eval_loss': 0.6729515194892883, 'eval_accuracy': 0.59392575928009, 'eval_f1': 0.7072181670721817, 'eval_precision': 0.6184397163120567, 'eval_recall': 0.8257575757575758, 'eval_runtime': 20.4898, 'eval_samples_per_second': 43.388, 'eval_steps_per_second': 2.733, 'epoch': 3.0}\n",
      "{'train_runtime': 970.3143, 'train_samples_per_second': 18.324, 'train_steps_per_second': 2.293, 'train_loss': 0.6505282155583414, 'epoch': 3.0}\n",
      "{'eval_loss': 0.6635128855705261, 'eval_model_preparation_time': 0.0008, 'eval_accuracy': 0.6051743532058492, 'eval_f1': 0.6934497816593886, 'eval_precision': 0.6434359805510534, 'eval_recall': 0.7518939393939394, 'eval_runtime': 20.3607, 'eval_samples_per_second': 43.663, 'eval_steps_per_second': 2.75}\n",
      " ↪ Fold 3/5\n"
     ]
    },
    {
     "data": {
      "application/vnd.jupyter.widget-view+json": {
       "model_id": "603c1ef65efe4ba789e92cc26ee51358",
       "version_major": 2,
       "version_minor": 0
      },
      "text/plain": [
       "Map:   0%|          | 0/3556 [00:00<?, ? examples/s]"
      ]
     },
     "metadata": {},
     "output_type": "display_data"
    },
    {
     "data": {
      "application/vnd.jupyter.widget-view+json": {
       "model_id": "04eccaf33d7a4899a6b928c0acb1b437",
       "version_major": 2,
       "version_minor": 0
      },
      "text/plain": [
       "Map:   0%|          | 0/889 [00:00<?, ? examples/s]"
      ]
     },
     "metadata": {},
     "output_type": "display_data"
    },
    {
     "name": "stderr",
     "output_type": "stream",
     "text": [
      "/Users/gchhetri/Developer/Python/15min-city-bench/.venv/lib/python3.12/site-packages/transformers/training_args.py:1604: FutureWarning: using `no_cuda` is deprecated and will be removed in version 5.0 of 🤗 Transformers. Use `use_cpu` instead\n",
      "  warnings.warn(\n"
     ]
    },
    {
     "name": "stdout",
     "output_type": "stream",
     "text": [
      "{'loss': 0.6812, 'grad_norm': 0.7530817985534668, 'learning_rate': 1.9559550561797755e-05, 'epoch': 0.11235955056179775}\n",
      "{'loss': 0.6778, 'grad_norm': 1.2537493705749512, 'learning_rate': 1.9110112359550563e-05, 'epoch': 0.2247191011235955}\n",
      "{'loss': 0.6685, 'grad_norm': 1.3012458086013794, 'learning_rate': 1.8660674157303374e-05, 'epoch': 0.33707865168539325}\n",
      "{'loss': 0.6612, 'grad_norm': 1.4816577434539795, 'learning_rate': 1.8211235955056182e-05, 'epoch': 0.449438202247191}\n",
      "{'loss': 0.6746, 'grad_norm': 2.1221909523010254, 'learning_rate': 1.776179775280899e-05, 'epoch': 0.5617977528089888}\n",
      "{'loss': 0.6712, 'grad_norm': 1.9221105575561523, 'learning_rate': 1.73123595505618e-05, 'epoch': 0.6741573033707865}\n",
      "{'loss': 0.668, 'grad_norm': 1.5674018859863281, 'learning_rate': 1.6862921348314607e-05, 'epoch': 0.7865168539325843}\n",
      "{'loss': 0.6344, 'grad_norm': 2.165336847305298, 'learning_rate': 1.6413483146067418e-05, 'epoch': 0.898876404494382}\n",
      "{'eval_loss': 0.6540288925170898, 'eval_accuracy': 0.6310461192350956, 'eval_f1': 0.7293729372937293, 'eval_precision': 0.6461988304093568, 'eval_recall': 0.8371212121212122, 'eval_runtime': 20.2051, 'eval_samples_per_second': 43.999, 'eval_steps_per_second': 2.772, 'epoch': 1.0}\n",
      "{'loss': 0.671, 'grad_norm': 2.25345516204834, 'learning_rate': 1.5964044943820226e-05, 'epoch': 1.0112359550561798}\n",
      "{'loss': 0.6596, 'grad_norm': 1.5127689838409424, 'learning_rate': 1.5514606741573034e-05, 'epoch': 1.1235955056179776}\n",
      "{'loss': 0.6646, 'grad_norm': 1.6067899465560913, 'learning_rate': 1.5065168539325842e-05, 'epoch': 1.2359550561797752}\n",
      "{'loss': 0.6614, 'grad_norm': 3.2330424785614014, 'learning_rate': 1.4615730337078654e-05, 'epoch': 1.348314606741573}\n",
      "{'loss': 0.6636, 'grad_norm': 2.378891944885254, 'learning_rate': 1.416629213483146e-05, 'epoch': 1.4606741573033708}\n",
      "{'loss': 0.6373, 'grad_norm': 1.5864611864089966, 'learning_rate': 1.3716853932584272e-05, 'epoch': 1.5730337078651684}\n",
      "{'loss': 0.6502, 'grad_norm': 1.1714743375778198, 'learning_rate': 1.3267415730337078e-05, 'epoch': 1.6853932584269664}\n",
      "{'loss': 0.6645, 'grad_norm': 1.490739107131958, 'learning_rate': 1.281797752808989e-05, 'epoch': 1.797752808988764}\n",
      "{'loss': 0.6574, 'grad_norm': 1.1752322912216187, 'learning_rate': 1.2368539325842697e-05, 'epoch': 1.9101123595505618}\n",
      "{'eval_loss': 0.6501294374465942, 'eval_accuracy': 0.6332958380202475, 'eval_f1': 0.7170138888888888, 'eval_precision': 0.6618589743589743, 'eval_recall': 0.7821969696969697, 'eval_runtime': 20.1141, 'eval_samples_per_second': 44.198, 'eval_steps_per_second': 2.784, 'epoch': 2.0}\n",
      "{'loss': 0.6479, 'grad_norm': 2.3735897541046143, 'learning_rate': 1.1919101123595507e-05, 'epoch': 2.0224719101123596}\n",
      "{'loss': 0.6458, 'grad_norm': 3.688812494277954, 'learning_rate': 1.1469662921348315e-05, 'epoch': 2.134831460674157}\n",
      "{'loss': 0.6663, 'grad_norm': 4.918634414672852, 'learning_rate': 1.1020224719101125e-05, 'epoch': 2.247191011235955}\n",
      "{'loss': 0.6538, 'grad_norm': 14.221395492553711, 'learning_rate': 1.0570786516853933e-05, 'epoch': 2.359550561797753}\n",
      "{'loss': 0.6383, 'grad_norm': 5.4709696769714355, 'learning_rate': 1.0121348314606743e-05, 'epoch': 2.4719101123595504}\n",
      "{'loss': 0.6255, 'grad_norm': 3.7395575046539307, 'learning_rate': 9.671910112359551e-06, 'epoch': 2.5842696629213484}\n",
      "{'loss': 0.6606, 'grad_norm': 2.1817517280578613, 'learning_rate': 9.22247191011236e-06, 'epoch': 2.696629213483146}\n",
      "{'loss': 0.6448, 'grad_norm': 4.50618839263916, 'learning_rate': 8.773033707865169e-06, 'epoch': 2.808988764044944}\n",
      "{'loss': 0.6415, 'grad_norm': 5.129019260406494, 'learning_rate': 8.323595505617979e-06, 'epoch': 2.9213483146067416}\n",
      "{'eval_loss': 0.6494100093841553, 'eval_accuracy': 0.641169853768279, 'eval_f1': 0.7298899237933955, 'eval_precision': 0.6600306278713629, 'eval_recall': 0.8162878787878788, 'eval_runtime': 20.1471, 'eval_samples_per_second': 44.125, 'eval_steps_per_second': 2.78, 'epoch': 3.0}\n",
      "{'loss': 0.6351, 'grad_norm': 1.8298273086547852, 'learning_rate': 7.874157303370787e-06, 'epoch': 3.033707865168539}\n",
      "{'loss': 0.6603, 'grad_norm': 4.5026960372924805, 'learning_rate': 7.4247191011235965e-06, 'epoch': 3.146067415730337}\n",
      "{'loss': 0.6599, 'grad_norm': 2.7478153705596924, 'learning_rate': 6.975280898876405e-06, 'epoch': 3.258426966292135}\n",
      "{'loss': 0.6381, 'grad_norm': 1.8597643375396729, 'learning_rate': 6.525842696629214e-06, 'epoch': 3.370786516853933}\n",
      "{'loss': 0.6323, 'grad_norm': 3.860412120819092, 'learning_rate': 6.076404494382023e-06, 'epoch': 3.4831460674157304}\n",
      "{'loss': 0.6142, 'grad_norm': 1.4998868703842163, 'learning_rate': 5.626966292134832e-06, 'epoch': 3.595505617977528}\n",
      "{'loss': 0.6055, 'grad_norm': 7.162381649017334, 'learning_rate': 5.177528089887641e-06, 'epoch': 3.7078651685393256}\n",
      "{'loss': 0.645, 'grad_norm': 1.9483939409255981, 'learning_rate': 4.72808988764045e-06, 'epoch': 3.8202247191011236}\n",
      "{'loss': 0.6049, 'grad_norm': 4.8068108558654785, 'learning_rate': 4.278651685393259e-06, 'epoch': 3.932584269662921}\n",
      "{'eval_loss': 0.6543434262275696, 'eval_accuracy': 0.6389201349831272, 'eval_f1': 0.7105500450856628, 'eval_precision': 0.6781411359724613, 'eval_recall': 0.7462121212121212, 'eval_runtime': 20.5366, 'eval_samples_per_second': 43.289, 'eval_steps_per_second': 2.727, 'epoch': 4.0}\n",
      "{'train_runtime': 1282.8875, 'train_samples_per_second': 13.859, 'train_steps_per_second': 1.734, 'train_loss': 0.6502322797025187, 'epoch': 4.0}\n",
      "{'eval_loss': 0.6494100093841553, 'eval_model_preparation_time': 0.0008, 'eval_accuracy': 0.641169853768279, 'eval_f1': 0.7298899237933955, 'eval_precision': 0.6600306278713629, 'eval_recall': 0.8162878787878788, 'eval_runtime': 19.646, 'eval_samples_per_second': 45.251, 'eval_steps_per_second': 2.85}\n",
      " ↪ Fold 4/5\n"
     ]
    },
    {
     "data": {
      "application/vnd.jupyter.widget-view+json": {
       "model_id": "e784720a1d16434fa258e9a04b66e9bc",
       "version_major": 2,
       "version_minor": 0
      },
      "text/plain": [
       "Map:   0%|          | 0/3556 [00:00<?, ? examples/s]"
      ]
     },
     "metadata": {},
     "output_type": "display_data"
    },
    {
     "data": {
      "application/vnd.jupyter.widget-view+json": {
       "model_id": "ccfd7331d65a4bed803019914e49fd67",
       "version_major": 2,
       "version_minor": 0
      },
      "text/plain": [
       "Map:   0%|          | 0/889 [00:00<?, ? examples/s]"
      ]
     },
     "metadata": {},
     "output_type": "display_data"
    },
    {
     "name": "stderr",
     "output_type": "stream",
     "text": [
      "/Users/gchhetri/Developer/Python/15min-city-bench/.venv/lib/python3.12/site-packages/transformers/training_args.py:1604: FutureWarning: using `no_cuda` is deprecated and will be removed in version 5.0 of 🤗 Transformers. Use `use_cpu` instead\n",
      "  warnings.warn(\n"
     ]
    },
    {
     "name": "stdout",
     "output_type": "stream",
     "text": [
      "{'loss': 0.6794, 'grad_norm': 1.1732608079910278, 'learning_rate': 1.9559550561797755e-05, 'epoch': 0.11235955056179775}\n",
      "{'loss': 0.6753, 'grad_norm': 1.1058162450790405, 'learning_rate': 1.9110112359550563e-05, 'epoch': 0.2247191011235955}\n",
      "{'loss': 0.6663, 'grad_norm': 1.6510801315307617, 'learning_rate': 1.8660674157303374e-05, 'epoch': 0.33707865168539325}\n",
      "{'loss': 0.6756, 'grad_norm': 1.6392871141433716, 'learning_rate': 1.8211235955056182e-05, 'epoch': 0.449438202247191}\n",
      "{'loss': 0.6555, 'grad_norm': 1.8383417129516602, 'learning_rate': 1.776179775280899e-05, 'epoch': 0.5617977528089888}\n",
      "{'loss': 0.6789, 'grad_norm': 1.1833206415176392, 'learning_rate': 1.73123595505618e-05, 'epoch': 0.6741573033707865}\n",
      "{'loss': 0.6554, 'grad_norm': 1.2769498825073242, 'learning_rate': 1.6862921348314607e-05, 'epoch': 0.7865168539325843}\n",
      "{'loss': 0.659, 'grad_norm': 3.3120148181915283, 'learning_rate': 1.6413483146067418e-05, 'epoch': 0.898876404494382}\n",
      "{'eval_loss': 0.6879466772079468, 'eval_accuracy': 0.5174353205849269, 'eval_f1': 0.42105263157894735, 'eval_precision': 0.7289719626168224, 'eval_recall': 0.29601518026565465, 'eval_runtime': 19.8904, 'eval_samples_per_second': 44.695, 'eval_steps_per_second': 2.815, 'epoch': 1.0}\n",
      "{'loss': 0.6618, 'grad_norm': 1.5526432991027832, 'learning_rate': 1.5964044943820226e-05, 'epoch': 1.0112359550561798}\n",
      "{'loss': 0.6374, 'grad_norm': 1.3527352809906006, 'learning_rate': 1.5514606741573034e-05, 'epoch': 1.1235955056179776}\n",
      "{'loss': 0.6752, 'grad_norm': 2.567434310913086, 'learning_rate': 1.5065168539325842e-05, 'epoch': 1.2359550561797752}\n",
      "{'loss': 0.6489, 'grad_norm': 7.612423419952393, 'learning_rate': 1.4615730337078654e-05, 'epoch': 1.348314606741573}\n",
      "{'loss': 0.6446, 'grad_norm': 1.9657280445098877, 'learning_rate': 1.416629213483146e-05, 'epoch': 1.4606741573033708}\n",
      "{'loss': 0.6698, 'grad_norm': 1.6460893154144287, 'learning_rate': 1.3716853932584272e-05, 'epoch': 1.5730337078651684}\n",
      "{'loss': 0.661, 'grad_norm': 2.0432887077331543, 'learning_rate': 1.3267415730337078e-05, 'epoch': 1.6853932584269664}\n",
      "{'loss': 0.656, 'grad_norm': 1.9815934896469116, 'learning_rate': 1.281797752808989e-05, 'epoch': 1.797752808988764}\n",
      "{'loss': 0.6761, 'grad_norm': 2.4568099975585938, 'learning_rate': 1.2368539325842697e-05, 'epoch': 1.9101123595505618}\n",
      "{'eval_loss': 0.6478491425514221, 'eval_accuracy': 0.6276715410573678, 'eval_f1': 0.7026055705300989, 'eval_precision': 0.6672354948805461, 'eval_recall': 0.7419354838709677, 'eval_runtime': 20.5039, 'eval_samples_per_second': 43.358, 'eval_steps_per_second': 2.731, 'epoch': 2.0}\n",
      "{'loss': 0.6545, 'grad_norm': 1.2417763471603394, 'learning_rate': 1.1919101123595507e-05, 'epoch': 2.0224719101123596}\n",
      "{'loss': 0.6394, 'grad_norm': 3.0838305950164795, 'learning_rate': 1.1469662921348315e-05, 'epoch': 2.134831460674157}\n",
      "{'loss': 0.6278, 'grad_norm': 1.8825955390930176, 'learning_rate': 1.1020224719101125e-05, 'epoch': 2.247191011235955}\n",
      "{'loss': 0.6337, 'grad_norm': 7.327595233917236, 'learning_rate': 1.0570786516853933e-05, 'epoch': 2.359550561797753}\n",
      "{'loss': 0.6395, 'grad_norm': 2.03808331489563, 'learning_rate': 1.0121348314606743e-05, 'epoch': 2.4719101123595504}\n",
      "{'loss': 0.6435, 'grad_norm': 2.216597318649292, 'learning_rate': 9.671910112359551e-06, 'epoch': 2.5842696629213484}\n",
      "{'loss': 0.669, 'grad_norm': 3.938173294067383, 'learning_rate': 9.22247191011236e-06, 'epoch': 2.696629213483146}\n",
      "{'loss': 0.6629, 'grad_norm': 1.1151825189590454, 'learning_rate': 8.773033707865169e-06, 'epoch': 2.808988764044944}\n",
      "{'loss': 0.6391, 'grad_norm': 2.8041794300079346, 'learning_rate': 8.323595505617979e-06, 'epoch': 2.9213483146067416}\n",
      "{'eval_loss': 0.6539409160614014, 'eval_accuracy': 0.6197975253093363, 'eval_f1': 0.7130730050933786, 'eval_precision': 0.6451612903225806, 'eval_recall': 0.7969639468690702, 'eval_runtime': 20.5731, 'eval_samples_per_second': 43.212, 'eval_steps_per_second': 2.722, 'epoch': 3.0}\n",
      "{'train_runtime': 959.1158, 'train_samples_per_second': 18.538, 'train_steps_per_second': 2.32, 'train_loss': 0.6568294596582763, 'epoch': 3.0}\n",
      "{'eval_loss': 0.6478491425514221, 'eval_model_preparation_time': 0.0008, 'eval_accuracy': 0.6276715410573678, 'eval_f1': 0.7026055705300989, 'eval_precision': 0.6672354948805461, 'eval_recall': 0.7419354838709677, 'eval_runtime': 19.966, 'eval_samples_per_second': 44.526, 'eval_steps_per_second': 2.805}\n",
      " ↪ Fold 5/5\n"
     ]
    },
    {
     "data": {
      "application/vnd.jupyter.widget-view+json": {
       "model_id": "0212926085e54bfd8c5cc2a02bec9fd3",
       "version_major": 2,
       "version_minor": 0
      },
      "text/plain": [
       "Map:   0%|          | 0/3556 [00:00<?, ? examples/s]"
      ]
     },
     "metadata": {},
     "output_type": "display_data"
    },
    {
     "data": {
      "application/vnd.jupyter.widget-view+json": {
       "model_id": "43f7ad56ccde4337b5833a404acce456",
       "version_major": 2,
       "version_minor": 0
      },
      "text/plain": [
       "Map:   0%|          | 0/889 [00:00<?, ? examples/s]"
      ]
     },
     "metadata": {},
     "output_type": "display_data"
    },
    {
     "name": "stderr",
     "output_type": "stream",
     "text": [
      "/Users/gchhetri/Developer/Python/15min-city-bench/.venv/lib/python3.12/site-packages/transformers/training_args.py:1604: FutureWarning: using `no_cuda` is deprecated and will be removed in version 5.0 of 🤗 Transformers. Use `use_cpu` instead\n",
      "  warnings.warn(\n"
     ]
    },
    {
     "name": "stdout",
     "output_type": "stream",
     "text": [
      "{'loss': 0.6847, 'grad_norm': 0.9692885875701904, 'learning_rate': 1.9559550561797755e-05, 'epoch': 0.11235955056179775}\n",
      "{'loss': 0.683, 'grad_norm': 1.0462443828582764, 'learning_rate': 1.9110112359550563e-05, 'epoch': 0.2247191011235955}\n",
      "{'loss': 0.6686, 'grad_norm': 1.1250609159469604, 'learning_rate': 1.8660674157303374e-05, 'epoch': 0.33707865168539325}\n",
      "{'loss': 0.661, 'grad_norm': 0.856107771396637, 'learning_rate': 1.8211235955056182e-05, 'epoch': 0.449438202247191}\n",
      "{'loss': 0.6424, 'grad_norm': 2.250523567199707, 'learning_rate': 1.776179775280899e-05, 'epoch': 0.5617977528089888}\n",
      "{'loss': 0.6647, 'grad_norm': 1.5469032526016235, 'learning_rate': 1.73123595505618e-05, 'epoch': 0.6741573033707865}\n",
      "{'loss': 0.6784, 'grad_norm': 1.493057370185852, 'learning_rate': 1.6862921348314607e-05, 'epoch': 0.7865168539325843}\n",
      "{'loss': 0.6648, 'grad_norm': 1.0595818758010864, 'learning_rate': 1.6413483146067418e-05, 'epoch': 0.898876404494382}\n",
      "{'eval_loss': 0.6674872040748596, 'eval_accuracy': 0.5905511811023622, 'eval_f1': 0.7006578947368421, 'eval_precision': 0.6182873730043541, 'eval_recall': 0.8083491461100569, 'eval_runtime': 20.64, 'eval_samples_per_second': 43.072, 'eval_steps_per_second': 2.713, 'epoch': 1.0}\n",
      "{'loss': 0.663, 'grad_norm': 0.8800327181816101, 'learning_rate': 1.5964044943820226e-05, 'epoch': 1.0112359550561798}\n",
      "{'loss': 0.6362, 'grad_norm': 1.046352744102478, 'learning_rate': 1.5514606741573034e-05, 'epoch': 1.1235955056179776}\n",
      "{'loss': 0.6441, 'grad_norm': 1.6999174356460571, 'learning_rate': 1.5065168539325842e-05, 'epoch': 1.2359550561797752}\n",
      "{'loss': 0.6575, 'grad_norm': 2.413140058517456, 'learning_rate': 1.4615730337078654e-05, 'epoch': 1.348314606741573}\n",
      "{'loss': 0.644, 'grad_norm': 2.1024463176727295, 'learning_rate': 1.416629213483146e-05, 'epoch': 1.4606741573033708}\n",
      "{'loss': 0.6602, 'grad_norm': 1.6392637491226196, 'learning_rate': 1.3716853932584272e-05, 'epoch': 1.5730337078651684}\n",
      "{'loss': 0.6504, 'grad_norm': 2.365280866622925, 'learning_rate': 1.3267415730337078e-05, 'epoch': 1.6853932584269664}\n",
      "{'loss': 0.6463, 'grad_norm': 2.125880718231201, 'learning_rate': 1.281797752808989e-05, 'epoch': 1.797752808988764}\n",
      "{'loss': 0.6619, 'grad_norm': 1.5245425701141357, 'learning_rate': 1.2368539325842697e-05, 'epoch': 1.9101123595505618}\n",
      "{'eval_loss': 0.6694268584251404, 'eval_accuracy': 0.5894263217097863, 'eval_f1': 0.6935348446683459, 'eval_precision': 0.6219879518072289, 'eval_recall': 0.7836812144212524, 'eval_runtime': 20.8854, 'eval_samples_per_second': 42.566, 'eval_steps_per_second': 2.681, 'epoch': 2.0}\n",
      "{'train_runtime': 642.6441, 'train_samples_per_second': 27.667, 'train_steps_per_second': 3.462, 'train_loss': 0.6596421916833085, 'epoch': 2.0}\n",
      "{'eval_loss': 0.6674872040748596, 'eval_model_preparation_time': 0.0007, 'eval_accuracy': 0.5905511811023622, 'eval_f1': 0.7006578947368421, 'eval_precision': 0.6182873730043541, 'eval_recall': 0.8083491461100569, 'eval_runtime': 19.8948, 'eval_samples_per_second': 44.685, 'eval_steps_per_second': 2.815}\n",
      "\n",
      "🔍 Model: huawei-noah/TinyBERT_General_4L_312D\n",
      " ↪ Fold 1/5\n"
     ]
    },
    {
     "data": {
      "application/vnd.jupyter.widget-view+json": {
       "model_id": "6831361f0fa649ef8e491732f2d04dad",
       "version_major": 2,
       "version_minor": 0
      },
      "text/plain": [
       "Map:   0%|          | 0/3556 [00:00<?, ? examples/s]"
      ]
     },
     "metadata": {},
     "output_type": "display_data"
    },
    {
     "data": {
      "application/vnd.jupyter.widget-view+json": {
       "model_id": "f5e92cb32f30458c93aaf15af5f20c9a",
       "version_major": 2,
       "version_minor": 0
      },
      "text/plain": [
       "Map:   0%|          | 0/889 [00:00<?, ? examples/s]"
      ]
     },
     "metadata": {},
     "output_type": "display_data"
    },
    {
     "name": "stderr",
     "output_type": "stream",
     "text": [
      "/Users/gchhetri/Developer/Python/15min-city-bench/.venv/lib/python3.12/site-packages/transformers/training_args.py:1604: FutureWarning: using `no_cuda` is deprecated and will be removed in version 5.0 of 🤗 Transformers. Use `use_cpu` instead\n",
      "  warnings.warn(\n"
     ]
    },
    {
     "name": "stdout",
     "output_type": "stream",
     "text": [
      "{'loss': 0.6751, 'grad_norm': 0.48485007882118225, 'learning_rate': 1.9559550561797755e-05, 'epoch': 0.11235955056179775}\n",
      "{'loss': 0.6873, 'grad_norm': 0.5461505651473999, 'learning_rate': 1.9110112359550563e-05, 'epoch': 0.2247191011235955}\n",
      "{'loss': 0.6677, 'grad_norm': 0.8400477170944214, 'learning_rate': 1.8660674157303374e-05, 'epoch': 0.33707865168539325}\n",
      "{'loss': 0.678, 'grad_norm': 1.1763590574264526, 'learning_rate': 1.8211235955056182e-05, 'epoch': 0.449438202247191}\n",
      "{'loss': 0.6864, 'grad_norm': 0.47168195247650146, 'learning_rate': 1.776179775280899e-05, 'epoch': 0.5617977528089888}\n",
      "{'loss': 0.6735, 'grad_norm': 0.7000719308853149, 'learning_rate': 1.73123595505618e-05, 'epoch': 0.6741573033707865}\n",
      "{'loss': 0.6661, 'grad_norm': 2.24179744720459, 'learning_rate': 1.6862921348314607e-05, 'epoch': 0.7865168539325843}\n",
      "{'loss': 0.6871, 'grad_norm': 1.162272572517395, 'learning_rate': 1.6413483146067418e-05, 'epoch': 0.898876404494382}\n",
      "{'eval_loss': 0.6688855290412903, 'eval_accuracy': 0.595050618672666, 'eval_f1': 0.7443181818181818, 'eval_precision': 0.5954545454545455, 'eval_recall': 0.9924242424242424, 'eval_runtime': 6.3052, 'eval_samples_per_second': 140.996, 'eval_steps_per_second': 8.882, 'epoch': 1.0}\n",
      "{'loss': 0.6587, 'grad_norm': 0.9148520827293396, 'learning_rate': 1.5964044943820226e-05, 'epoch': 1.0112359550561798}\n",
      "{'loss': 0.6859, 'grad_norm': 3.216843366622925, 'learning_rate': 1.5514606741573034e-05, 'epoch': 1.1235955056179776}\n",
      "{'loss': 0.6525, 'grad_norm': 1.3866026401519775, 'learning_rate': 1.5065168539325842e-05, 'epoch': 1.2359550561797752}\n",
      "{'loss': 0.6841, 'grad_norm': 1.4068511724472046, 'learning_rate': 1.4615730337078654e-05, 'epoch': 1.348314606741573}\n",
      "{'loss': 0.6685, 'grad_norm': 3.3347506523132324, 'learning_rate': 1.416629213483146e-05, 'epoch': 1.4606741573033708}\n",
      "{'loss': 0.6596, 'grad_norm': 3.0416812896728516, 'learning_rate': 1.3716853932584272e-05, 'epoch': 1.5730337078651684}\n",
      "{'loss': 0.6553, 'grad_norm': 2.9798989295959473, 'learning_rate': 1.3267415730337078e-05, 'epoch': 1.6853932584269664}\n",
      "{'loss': 0.6708, 'grad_norm': 1.1794391870498657, 'learning_rate': 1.281797752808989e-05, 'epoch': 1.797752808988764}\n",
      "{'loss': 0.6526, 'grad_norm': 1.3179287910461426, 'learning_rate': 1.2368539325842697e-05, 'epoch': 1.9101123595505618}\n",
      "{'eval_loss': 0.6594645977020264, 'eval_accuracy': 0.6152980877390326, 'eval_f1': 0.7281399046104928, 'eval_precision': 0.6273972602739726, 'eval_recall': 0.8674242424242424, 'eval_runtime': 6.5711, 'eval_samples_per_second': 135.289, 'eval_steps_per_second': 8.522, 'epoch': 2.0}\n",
      "{'loss': 0.6526, 'grad_norm': 1.9855507612228394, 'learning_rate': 1.1919101123595507e-05, 'epoch': 2.0224719101123596}\n",
      "{'loss': 0.6506, 'grad_norm': 3.6099627017974854, 'learning_rate': 1.1469662921348315e-05, 'epoch': 2.134831460674157}\n",
      "{'loss': 0.6495, 'grad_norm': 7.923125743865967, 'learning_rate': 1.1020224719101125e-05, 'epoch': 2.247191011235955}\n",
      "{'loss': 0.6716, 'grad_norm': 3.2744734287261963, 'learning_rate': 1.0570786516853933e-05, 'epoch': 2.359550561797753}\n",
      "{'loss': 0.6372, 'grad_norm': 5.041994571685791, 'learning_rate': 1.0121348314606743e-05, 'epoch': 2.4719101123595504}\n",
      "{'loss': 0.6685, 'grad_norm': 3.7561676502227783, 'learning_rate': 9.671910112359551e-06, 'epoch': 2.5842696629213484}\n",
      "{'loss': 0.6431, 'grad_norm': 6.334012508392334, 'learning_rate': 9.22247191011236e-06, 'epoch': 2.696629213483146}\n",
      "{'loss': 0.6602, 'grad_norm': 4.460517406463623, 'learning_rate': 8.773033707865169e-06, 'epoch': 2.808988764044944}\n",
      "{'loss': 0.6222, 'grad_norm': 4.978778839111328, 'learning_rate': 8.323595505617979e-06, 'epoch': 2.9213483146067416}\n",
      "{'eval_loss': 0.6727603673934937, 'eval_accuracy': 0.6062992125984252, 'eval_f1': 0.7399702823179792, 'eval_precision': 0.60880195599022, 'eval_recall': 0.9431818181818182, 'eval_runtime': 6.5396, 'eval_samples_per_second': 135.941, 'eval_steps_per_second': 8.563, 'epoch': 3.0}\n",
      "{'train_runtime': 664.1576, 'train_samples_per_second': 26.771, 'train_steps_per_second': 3.35, 'train_loss': 0.6638857295004169, 'epoch': 3.0}\n",
      "{'eval_loss': 0.6594645977020264, 'eval_model_preparation_time': 0.0003, 'eval_accuracy': 0.6152980877390326, 'eval_f1': 0.7281399046104928, 'eval_precision': 0.6273972602739726, 'eval_recall': 0.8674242424242424, 'eval_runtime': 6.2592, 'eval_samples_per_second': 142.03, 'eval_steps_per_second': 8.947}\n",
      " ↪ Fold 2/5\n"
     ]
    },
    {
     "data": {
      "application/vnd.jupyter.widget-view+json": {
       "model_id": "7cbaf7ff73e948f9a2a12302244ab3f8",
       "version_major": 2,
       "version_minor": 0
      },
      "text/plain": [
       "Map:   0%|          | 0/3556 [00:00<?, ? examples/s]"
      ]
     },
     "metadata": {},
     "output_type": "display_data"
    },
    {
     "data": {
      "application/vnd.jupyter.widget-view+json": {
       "model_id": "d24ad721d6244b4384c81dc2ad080ea8",
       "version_major": 2,
       "version_minor": 0
      },
      "text/plain": [
       "Map:   0%|          | 0/889 [00:00<?, ? examples/s]"
      ]
     },
     "metadata": {},
     "output_type": "display_data"
    },
    {
     "name": "stderr",
     "output_type": "stream",
     "text": [
      "/Users/gchhetri/Developer/Python/15min-city-bench/.venv/lib/python3.12/site-packages/transformers/training_args.py:1604: FutureWarning: using `no_cuda` is deprecated and will be removed in version 5.0 of 🤗 Transformers. Use `use_cpu` instead\n",
      "  warnings.warn(\n"
     ]
    },
    {
     "name": "stdout",
     "output_type": "stream",
     "text": [
      "{'loss': 0.6888, 'grad_norm': 0.45539891719818115, 'learning_rate': 1.9559550561797755e-05, 'epoch': 0.11235955056179775}\n",
      "{'loss': 0.6741, 'grad_norm': 1.166305661201477, 'learning_rate': 1.9110112359550563e-05, 'epoch': 0.2247191011235955}\n",
      "{'loss': 0.676, 'grad_norm': 1.2740782499313354, 'learning_rate': 1.8660674157303374e-05, 'epoch': 0.33707865168539325}\n",
      "{'loss': 0.6765, 'grad_norm': 1.1406620740890503, 'learning_rate': 1.8211235955056182e-05, 'epoch': 0.449438202247191}\n",
      "{'loss': 0.6641, 'grad_norm': 1.685905933380127, 'learning_rate': 1.776179775280899e-05, 'epoch': 0.5617977528089888}\n",
      "{'loss': 0.6458, 'grad_norm': 1.1200714111328125, 'learning_rate': 1.73123595505618e-05, 'epoch': 0.6741573033707865}\n",
      "{'loss': 0.6486, 'grad_norm': 1.086976408958435, 'learning_rate': 1.6862921348314607e-05, 'epoch': 0.7865168539325843}\n",
      "{'loss': 0.6926, 'grad_norm': 0.7507683634757996, 'learning_rate': 1.6413483146067418e-05, 'epoch': 0.898876404494382}\n",
      "{'eval_loss': 0.6757062673568726, 'eval_accuracy': 0.592800899887514, 'eval_f1': 0.7104, 'eval_precision': 0.6149584487534626, 'eval_recall': 0.8409090909090909, 'eval_runtime': 6.1307, 'eval_samples_per_second': 145.007, 'eval_steps_per_second': 9.134, 'epoch': 1.0}\n",
      "{'loss': 0.6532, 'grad_norm': 1.6685292720794678, 'learning_rate': 1.5964044943820226e-05, 'epoch': 1.0112359550561798}\n",
      "{'loss': 0.6464, 'grad_norm': 2.135847568511963, 'learning_rate': 1.5514606741573034e-05, 'epoch': 1.1235955056179776}\n",
      "{'loss': 0.6365, 'grad_norm': 2.056553840637207, 'learning_rate': 1.5065168539325842e-05, 'epoch': 1.2359550561797752}\n",
      "{'loss': 0.6622, 'grad_norm': 1.3934623003005981, 'learning_rate': 1.4615730337078654e-05, 'epoch': 1.348314606741573}\n",
      "{'loss': 0.6377, 'grad_norm': 4.187709808349609, 'learning_rate': 1.416629213483146e-05, 'epoch': 1.4606741573033708}\n",
      "{'loss': 0.6937, 'grad_norm': 10.249109268188477, 'learning_rate': 1.3716853932584272e-05, 'epoch': 1.5730337078651684}\n",
      "{'loss': 0.6655, 'grad_norm': 1.7522215843200684, 'learning_rate': 1.3267415730337078e-05, 'epoch': 1.6853932584269664}\n",
      "{'loss': 0.6823, 'grad_norm': 2.4608047008514404, 'learning_rate': 1.281797752808989e-05, 'epoch': 1.797752808988764}\n",
      "{'loss': 0.6656, 'grad_norm': 1.828592300415039, 'learning_rate': 1.2368539325842697e-05, 'epoch': 1.9101123595505618}\n",
      "{'eval_loss': 0.6793097257614136, 'eval_accuracy': 0.5894263217097863, 'eval_f1': 0.7063555913113435, 'eval_precision': 0.6139860139860139, 'eval_recall': 0.8314393939393939, 'eval_runtime': 6.2267, 'eval_samples_per_second': 142.773, 'eval_steps_per_second': 8.994, 'epoch': 2.0}\n",
      "{'train_runtime': 439.597, 'train_samples_per_second': 40.446, 'train_steps_per_second': 5.061, 'train_loss': 0.6646594594033917, 'epoch': 2.0}\n",
      "{'eval_loss': 0.6757062673568726, 'eval_model_preparation_time': 0.0003, 'eval_accuracy': 0.592800899887514, 'eval_f1': 0.7104, 'eval_precision': 0.6149584487534626, 'eval_recall': 0.8409090909090909, 'eval_runtime': 6.1804, 'eval_samples_per_second': 143.841, 'eval_steps_per_second': 9.061}\n",
      " ↪ Fold 3/5\n"
     ]
    },
    {
     "data": {
      "application/vnd.jupyter.widget-view+json": {
       "model_id": "c65bf15af6ae4c97a34cf1fe2e6a137b",
       "version_major": 2,
       "version_minor": 0
      },
      "text/plain": [
       "Map:   0%|          | 0/3556 [00:00<?, ? examples/s]"
      ]
     },
     "metadata": {},
     "output_type": "display_data"
    },
    {
     "data": {
      "application/vnd.jupyter.widget-view+json": {
       "model_id": "10fda5e3217841aeb453d8701c59c212",
       "version_major": 2,
       "version_minor": 0
      },
      "text/plain": [
       "Map:   0%|          | 0/889 [00:00<?, ? examples/s]"
      ]
     },
     "metadata": {},
     "output_type": "display_data"
    },
    {
     "name": "stderr",
     "output_type": "stream",
     "text": [
      "/Users/gchhetri/Developer/Python/15min-city-bench/.venv/lib/python3.12/site-packages/transformers/training_args.py:1604: FutureWarning: using `no_cuda` is deprecated and will be removed in version 5.0 of 🤗 Transformers. Use `use_cpu` instead\n",
      "  warnings.warn(\n"
     ]
    },
    {
     "name": "stdout",
     "output_type": "stream",
     "text": [
      "{'loss': 0.684, 'grad_norm': 0.6278679966926575, 'learning_rate': 1.9559550561797755e-05, 'epoch': 0.11235955056179775}\n",
      "{'loss': 0.6813, 'grad_norm': 1.2043119668960571, 'learning_rate': 1.9110112359550563e-05, 'epoch': 0.2247191011235955}\n",
      "{'loss': 0.6736, 'grad_norm': 1.150592565536499, 'learning_rate': 1.8660674157303374e-05, 'epoch': 0.33707865168539325}\n",
      "{'loss': 0.6827, 'grad_norm': 0.5214333534240723, 'learning_rate': 1.8211235955056182e-05, 'epoch': 0.449438202247191}\n",
      "{'loss': 0.6751, 'grad_norm': 1.4287575483322144, 'learning_rate': 1.776179775280899e-05, 'epoch': 0.5617977528089888}\n",
      "{'loss': 0.6806, 'grad_norm': 1.641924262046814, 'learning_rate': 1.73123595505618e-05, 'epoch': 0.6741573033707865}\n",
      "{'loss': 0.6822, 'grad_norm': 1.6838706731796265, 'learning_rate': 1.6862921348314607e-05, 'epoch': 0.7865168539325843}\n",
      "{'loss': 0.6493, 'grad_norm': 1.3668779134750366, 'learning_rate': 1.6413483146067418e-05, 'epoch': 0.898876404494382}\n",
      "{'eval_loss': 0.6665232181549072, 'eval_accuracy': 0.59392575928009, 'eval_f1': 0.7452364149611856, 'eval_precision': 0.59392575928009, 'eval_recall': 1.0, 'eval_runtime': 6.5432, 'eval_samples_per_second': 135.866, 'eval_steps_per_second': 8.559, 'epoch': 1.0}\n",
      "{'loss': 0.6743, 'grad_norm': 1.1877210140228271, 'learning_rate': 1.5964044943820226e-05, 'epoch': 1.0112359550561798}\n",
      "{'loss': 0.678, 'grad_norm': 0.828510046005249, 'learning_rate': 1.5514606741573034e-05, 'epoch': 1.1235955056179776}\n",
      "{'loss': 0.6712, 'grad_norm': 1.6896915435791016, 'learning_rate': 1.5065168539325842e-05, 'epoch': 1.2359550561797752}\n",
      "{'loss': 0.6825, 'grad_norm': 1.0660427808761597, 'learning_rate': 1.4615730337078654e-05, 'epoch': 1.348314606741573}\n",
      "{'loss': 0.6747, 'grad_norm': 1.5558488368988037, 'learning_rate': 1.416629213483146e-05, 'epoch': 1.4606741573033708}\n",
      "{'loss': 0.6423, 'grad_norm': 2.5412001609802246, 'learning_rate': 1.3716853932584272e-05, 'epoch': 1.5730337078651684}\n",
      "{'loss': 0.6519, 'grad_norm': 1.0311033725738525, 'learning_rate': 1.3267415730337078e-05, 'epoch': 1.6853932584269664}\n",
      "{'loss': 0.6701, 'grad_norm': 1.670316219329834, 'learning_rate': 1.281797752808989e-05, 'epoch': 1.797752808988764}\n",
      "{'loss': 0.6619, 'grad_norm': 2.3474669456481934, 'learning_rate': 1.2368539325842697e-05, 'epoch': 1.9101123595505618}\n",
      "{'eval_loss': 0.6507823467254639, 'eval_accuracy': 0.6265466816647919, 'eval_f1': 0.7147766323024055, 'eval_precision': 0.6540880503144654, 'eval_recall': 0.7878787878787878, 'eval_runtime': 6.3885, 'eval_samples_per_second': 139.156, 'eval_steps_per_second': 8.766, 'epoch': 2.0}\n",
      "{'loss': 0.6526, 'grad_norm': 2.3125386238098145, 'learning_rate': 1.1919101123595507e-05, 'epoch': 2.0224719101123596}\n",
      "{'loss': 0.6658, 'grad_norm': 3.089566230773926, 'learning_rate': 1.1469662921348315e-05, 'epoch': 2.134831460674157}\n",
      "{'loss': 0.6664, 'grad_norm': 6.448631286621094, 'learning_rate': 1.1020224719101125e-05, 'epoch': 2.247191011235955}\n",
      "{'loss': 0.662, 'grad_norm': 5.467097282409668, 'learning_rate': 1.0570786516853933e-05, 'epoch': 2.359550561797753}\n",
      "{'loss': 0.643, 'grad_norm': 11.856728553771973, 'learning_rate': 1.0121348314606743e-05, 'epoch': 2.4719101123595504}\n",
      "{'loss': 0.6288, 'grad_norm': 4.261453628540039, 'learning_rate': 9.671910112359551e-06, 'epoch': 2.5842696629213484}\n",
      "{'loss': 0.6397, 'grad_norm': 10.966850280761719, 'learning_rate': 9.22247191011236e-06, 'epoch': 2.696629213483146}\n",
      "{'loss': 0.6435, 'grad_norm': 9.728747367858887, 'learning_rate': 8.773033707865169e-06, 'epoch': 2.808988764044944}\n",
      "{'loss': 0.6377, 'grad_norm': 20.390138626098633, 'learning_rate': 8.323595505617979e-06, 'epoch': 2.9213483146067416}\n",
      "{'eval_loss': 0.6680713295936584, 'eval_accuracy': 0.6130483689538808, 'eval_f1': 0.726984126984127, 'eval_precision': 0.6256830601092896, 'eval_recall': 0.8674242424242424, 'eval_runtime': 6.7896, 'eval_samples_per_second': 130.935, 'eval_steps_per_second': 8.248, 'epoch': 3.0}\n",
      "{'train_runtime': 667.8457, 'train_samples_per_second': 26.623, 'train_steps_per_second': 3.332, 'train_loss': 0.6620760928379016, 'epoch': 3.0}\n",
      "{'eval_loss': 0.6507823467254639, 'eval_model_preparation_time': 0.0003, 'eval_accuracy': 0.6265466816647919, 'eval_f1': 0.7147766323024055, 'eval_precision': 0.6540880503144654, 'eval_recall': 0.7878787878787878, 'eval_runtime': 6.3977, 'eval_samples_per_second': 138.956, 'eval_steps_per_second': 8.753}\n",
      " ↪ Fold 4/5\n"
     ]
    },
    {
     "data": {
      "application/vnd.jupyter.widget-view+json": {
       "model_id": "480b8711eeff4e1db514bd718b473800",
       "version_major": 2,
       "version_minor": 0
      },
      "text/plain": [
       "Map:   0%|          | 0/3556 [00:00<?, ? examples/s]"
      ]
     },
     "metadata": {},
     "output_type": "display_data"
    },
    {
     "data": {
      "application/vnd.jupyter.widget-view+json": {
       "model_id": "37dbb173e526425e97131eabb9d1e722",
       "version_major": 2,
       "version_minor": 0
      },
      "text/plain": [
       "Map:   0%|          | 0/889 [00:00<?, ? examples/s]"
      ]
     },
     "metadata": {},
     "output_type": "display_data"
    },
    {
     "name": "stderr",
     "output_type": "stream",
     "text": [
      "/Users/gchhetri/Developer/Python/15min-city-bench/.venv/lib/python3.12/site-packages/transformers/training_args.py:1604: FutureWarning: using `no_cuda` is deprecated and will be removed in version 5.0 of 🤗 Transformers. Use `use_cpu` instead\n",
      "  warnings.warn(\n"
     ]
    },
    {
     "name": "stdout",
     "output_type": "stream",
     "text": [
      "{'loss': 0.6818, 'grad_norm': 0.9259114265441895, 'learning_rate': 1.9559550561797755e-05, 'epoch': 0.11235955056179775}\n",
      "{'loss': 0.6776, 'grad_norm': 1.046395182609558, 'learning_rate': 1.9110112359550563e-05, 'epoch': 0.2247191011235955}\n",
      "{'loss': 0.6711, 'grad_norm': 0.836593747138977, 'learning_rate': 1.8660674157303374e-05, 'epoch': 0.33707865168539325}\n",
      "{'loss': 0.6815, 'grad_norm': 0.8883461952209473, 'learning_rate': 1.8211235955056182e-05, 'epoch': 0.449438202247191}\n",
      "{'loss': 0.6609, 'grad_norm': 0.9560843706130981, 'learning_rate': 1.776179775280899e-05, 'epoch': 0.5617977528089888}\n",
      "{'loss': 0.6863, 'grad_norm': 0.836189329624176, 'learning_rate': 1.73123595505618e-05, 'epoch': 0.6741573033707865}\n",
      "{'loss': 0.6648, 'grad_norm': 0.8168344497680664, 'learning_rate': 1.6862921348314607e-05, 'epoch': 0.7865168539325843}\n",
      "{'loss': 0.6856, 'grad_norm': 0.9211280345916748, 'learning_rate': 1.6413483146067418e-05, 'epoch': 0.898876404494382}\n",
      "{'eval_loss': 0.6712929606437683, 'eval_accuracy': 0.6051743532058492, 'eval_f1': 0.7480258435032304, 'eval_precision': 0.6016166281755196, 'eval_recall': 0.9886148007590133, 'eval_runtime': 6.1716, 'eval_samples_per_second': 144.047, 'eval_steps_per_second': 9.074, 'epoch': 1.0}\n",
      "{'loss': 0.6774, 'grad_norm': 0.8896211981773376, 'learning_rate': 1.5964044943820226e-05, 'epoch': 1.0112359550561798}\n",
      "{'loss': 0.6545, 'grad_norm': 1.1238253116607666, 'learning_rate': 1.5514606741573034e-05, 'epoch': 1.1235955056179776}\n",
      "{'loss': 0.6763, 'grad_norm': 1.816541075706482, 'learning_rate': 1.5065168539325842e-05, 'epoch': 1.2359550561797752}\n",
      "{'loss': 0.6681, 'grad_norm': 5.810935974121094, 'learning_rate': 1.4615730337078654e-05, 'epoch': 1.348314606741573}\n",
      "{'loss': 0.6576, 'grad_norm': 2.3515100479125977, 'learning_rate': 1.416629213483146e-05, 'epoch': 1.4606741573033708}\n",
      "{'loss': 0.6703, 'grad_norm': 1.0464590787887573, 'learning_rate': 1.3716853932584272e-05, 'epoch': 1.5730337078651684}\n",
      "{'loss': 0.671, 'grad_norm': 2.909045457839966, 'learning_rate': 1.3267415730337078e-05, 'epoch': 1.6853932584269664}\n",
      "{'loss': 0.6574, 'grad_norm': 1.6849104166030884, 'learning_rate': 1.281797752808989e-05, 'epoch': 1.797752808988764}\n",
      "{'loss': 0.6751, 'grad_norm': 2.154155731201172, 'learning_rate': 1.2368539325842697e-05, 'epoch': 1.9101123595505618}\n",
      "{'eval_loss': 0.6560243964195251, 'eval_accuracy': 0.5905511811023622, 'eval_f1': 0.6330645161290323, 'eval_precision': 0.6752688172043011, 'eval_recall': 0.5958254269449715, 'eval_runtime': 6.431, 'eval_samples_per_second': 138.237, 'eval_steps_per_second': 8.708, 'epoch': 2.0}\n",
      "{'loss': 0.6496, 'grad_norm': 3.807873010635376, 'learning_rate': 1.1919101123595507e-05, 'epoch': 2.0224719101123596}\n",
      "{'loss': 0.6511, 'grad_norm': 3.481414794921875, 'learning_rate': 1.1469662921348315e-05, 'epoch': 2.134831460674157}\n",
      "{'loss': 0.6397, 'grad_norm': 3.856879711151123, 'learning_rate': 1.1020224719101125e-05, 'epoch': 2.247191011235955}\n",
      "{'loss': 0.6316, 'grad_norm': 9.932506561279297, 'learning_rate': 1.0570786516853933e-05, 'epoch': 2.359550561797753}\n",
      "{'loss': 0.6437, 'grad_norm': 5.99287223815918, 'learning_rate': 1.0121348314606743e-05, 'epoch': 2.4719101123595504}\n",
      "{'loss': 0.6454, 'grad_norm': 11.081836700439453, 'learning_rate': 9.671910112359551e-06, 'epoch': 2.5842696629213484}\n",
      "{'loss': 0.6573, 'grad_norm': 10.363666534423828, 'learning_rate': 9.22247191011236e-06, 'epoch': 2.696629213483146}\n",
      "{'loss': 0.6728, 'grad_norm': 4.023687362670898, 'learning_rate': 8.773033707865169e-06, 'epoch': 2.808988764044944}\n",
      "{'loss': 0.6379, 'grad_norm': 5.067541599273682, 'learning_rate': 8.323595505617979e-06, 'epoch': 2.9213483146067416}\n",
      "{'eval_loss': 0.666719377040863, 'eval_accuracy': 0.6141732283464567, 'eval_f1': 0.7339022498060512, 'eval_precision': 0.6207349081364829, 'eval_recall': 0.8975332068311196, 'eval_runtime': 6.7123, 'eval_samples_per_second': 132.444, 'eval_steps_per_second': 8.343, 'epoch': 3.0}\n",
      "{'train_runtime': 663.043, 'train_samples_per_second': 26.816, 'train_steps_per_second': 3.356, 'train_loss': 0.6630229864227638, 'epoch': 3.0}\n",
      "{'eval_loss': 0.6560243964195251, 'eval_model_preparation_time': 0.0004, 'eval_accuracy': 0.5905511811023622, 'eval_f1': 0.6330645161290323, 'eval_precision': 0.6752688172043011, 'eval_recall': 0.5958254269449715, 'eval_runtime': 6.2215, 'eval_samples_per_second': 142.891, 'eval_steps_per_second': 9.001}\n",
      " ↪ Fold 5/5\n"
     ]
    },
    {
     "data": {
      "application/vnd.jupyter.widget-view+json": {
       "model_id": "e9fb58e7ad0c4a7ca08c4d0114078e4c",
       "version_major": 2,
       "version_minor": 0
      },
      "text/plain": [
       "Map:   0%|          | 0/3556 [00:00<?, ? examples/s]"
      ]
     },
     "metadata": {},
     "output_type": "display_data"
    },
    {
     "data": {
      "application/vnd.jupyter.widget-view+json": {
       "model_id": "dd204bca7872481db3d0a23823ebabc7",
       "version_major": 2,
       "version_minor": 0
      },
      "text/plain": [
       "Map:   0%|          | 0/889 [00:00<?, ? examples/s]"
      ]
     },
     "metadata": {},
     "output_type": "display_data"
    },
    {
     "name": "stderr",
     "output_type": "stream",
     "text": [
      "/Users/gchhetri/Developer/Python/15min-city-bench/.venv/lib/python3.12/site-packages/transformers/training_args.py:1604: FutureWarning: using `no_cuda` is deprecated and will be removed in version 5.0 of 🤗 Transformers. Use `use_cpu` instead\n",
      "  warnings.warn(\n"
     ]
    },
    {
     "name": "stdout",
     "output_type": "stream",
     "text": [
      "{'loss': 0.6894, 'grad_norm': 0.5060149431228638, 'learning_rate': 1.9559550561797755e-05, 'epoch': 0.11235955056179775}\n",
      "{'loss': 0.6859, 'grad_norm': 0.5610818862915039, 'learning_rate': 1.9110112359550563e-05, 'epoch': 0.2247191011235955}\n",
      "{'loss': 0.6721, 'grad_norm': 0.7837947010993958, 'learning_rate': 1.8660674157303374e-05, 'epoch': 0.33707865168539325}\n",
      "{'loss': 0.6646, 'grad_norm': 1.10281240940094, 'learning_rate': 1.8211235955056182e-05, 'epoch': 0.449438202247191}\n",
      "{'loss': 0.6464, 'grad_norm': 2.8971712589263916, 'learning_rate': 1.776179775280899e-05, 'epoch': 0.5617977528089888}\n",
      "{'loss': 0.6616, 'grad_norm': 1.0890828371047974, 'learning_rate': 1.73123595505618e-05, 'epoch': 0.6741573033707865}\n",
      "{'loss': 0.6824, 'grad_norm': 0.5355200171470642, 'learning_rate': 1.6862921348314607e-05, 'epoch': 0.7865168539325843}\n",
      "{'loss': 0.6708, 'grad_norm': 0.8323929309844971, 'learning_rate': 1.6413483146067418e-05, 'epoch': 0.898876404494382}\n",
      "{'eval_loss': 0.670386791229248, 'eval_accuracy': 0.59392575928009, 'eval_f1': 0.710968775020016, 'eval_precision': 0.6149584487534626, 'eval_recall': 0.8425047438330171, 'eval_runtime': 6.239, 'eval_samples_per_second': 142.491, 'eval_steps_per_second': 8.976, 'epoch': 1.0}\n",
      "{'loss': 0.6597, 'grad_norm': 0.7203319668769836, 'learning_rate': 1.5964044943820226e-05, 'epoch': 1.0112359550561798}\n",
      "{'loss': 0.6468, 'grad_norm': 4.824607849121094, 'learning_rate': 1.5514606741573034e-05, 'epoch': 1.1235955056179776}\n",
      "{'loss': 0.6532, 'grad_norm': 0.769033670425415, 'learning_rate': 1.5065168539325842e-05, 'epoch': 1.2359550561797752}\n",
      "{'loss': 0.6643, 'grad_norm': 3.873126745223999, 'learning_rate': 1.4615730337078654e-05, 'epoch': 1.348314606741573}\n",
      "{'loss': 0.6634, 'grad_norm': 2.3085806369781494, 'learning_rate': 1.416629213483146e-05, 'epoch': 1.4606741573033708}\n",
      "{'loss': 0.6583, 'grad_norm': 3.72654128074646, 'learning_rate': 1.3716853932584272e-05, 'epoch': 1.5730337078651684}\n",
      "{'loss': 0.6568, 'grad_norm': 3.2641549110412598, 'learning_rate': 1.3267415730337078e-05, 'epoch': 1.6853932584269664}\n",
      "{'loss': 0.6653, 'grad_norm': 2.7557897567749023, 'learning_rate': 1.281797752808989e-05, 'epoch': 1.797752808988764}\n",
      "{'loss': 0.6673, 'grad_norm': 4.493013381958008, 'learning_rate': 1.2368539325842697e-05, 'epoch': 1.9101123595505618}\n",
      "{'eval_loss': 0.661098301410675, 'eval_accuracy': 0.6029246344206974, 'eval_f1': 0.7339864355689525, 'eval_precision': 0.60875, 'eval_recall': 0.9240986717267552, 'eval_runtime': 6.8979, 'eval_samples_per_second': 128.879, 'eval_steps_per_second': 8.118, 'epoch': 2.0}\n",
      "{'loss': 0.6523, 'grad_norm': 2.580265522003174, 'learning_rate': 1.1919101123595507e-05, 'epoch': 2.0224719101123596}\n",
      "{'loss': 0.6429, 'grad_norm': 5.450296878814697, 'learning_rate': 1.1469662921348315e-05, 'epoch': 2.134831460674157}\n",
      "{'loss': 0.644, 'grad_norm': 8.634191513061523, 'learning_rate': 1.1020224719101125e-05, 'epoch': 2.247191011235955}\n",
      "{'loss': 0.6404, 'grad_norm': 6.678699493408203, 'learning_rate': 1.0570786516853933e-05, 'epoch': 2.359550561797753}\n",
      "{'loss': 0.6647, 'grad_norm': 7.788295745849609, 'learning_rate': 1.0121348314606743e-05, 'epoch': 2.4719101123595504}\n",
      "{'loss': 0.6591, 'grad_norm': 4.13972282409668, 'learning_rate': 9.671910112359551e-06, 'epoch': 2.5842696629213484}\n",
      "{'loss': 0.6318, 'grad_norm': 5.35637092590332, 'learning_rate': 9.22247191011236e-06, 'epoch': 2.696629213483146}\n",
      "{'loss': 0.6479, 'grad_norm': 3.5994768142700195, 'learning_rate': 8.773033707865169e-06, 'epoch': 2.808988764044944}\n",
      "{'loss': 0.6472, 'grad_norm': 12.22206974029541, 'learning_rate': 8.323595505617979e-06, 'epoch': 2.9213483146067416}\n",
      "{'eval_loss': 0.6662281155586243, 'eval_accuracy': 0.5916760404949382, 'eval_f1': 0.6992543496271748, 'eval_precision': 0.6205882352941177, 'eval_recall': 0.8007590132827325, 'eval_runtime': 6.3673, 'eval_samples_per_second': 139.621, 'eval_steps_per_second': 8.795, 'epoch': 3.0}\n",
      "{'train_runtime': 664.795, 'train_samples_per_second': 26.745, 'train_steps_per_second': 3.347, 'train_loss': 0.6582746041401495, 'epoch': 3.0}\n",
      "{'eval_loss': 0.661098301410675, 'eval_model_preparation_time': 0.0003, 'eval_accuracy': 0.6029246344206974, 'eval_f1': 0.7339864355689525, 'eval_precision': 0.60875, 'eval_recall': 0.9240986717267552, 'eval_runtime': 6.4007, 'eval_samples_per_second': 138.89, 'eval_steps_per_second': 8.749}\n",
      "\n",
      "📂 Benchmarking on dataset: twitter\n"
     ]
    },
    {
     "data": {
      "application/vnd.jupyter.widget-view+json": {
       "model_id": "a34d609af5e049038dba913e2b1b68cc",
       "version_major": 2,
       "version_minor": 0
      },
      "text/plain": [
       "🔬 Benchmarking Models on twitter:   0%|          | 0/5 [00:00<?, ?it/s]"
      ]
     },
     "metadata": {},
     "output_type": "display_data"
    },
    {
     "name": "stdout",
     "output_type": "stream",
     "text": [
      "\n",
      "🔍 Model: distilroberta-base\n",
      " ↪ Fold 1/5\n"
     ]
    },
    {
     "data": {
      "application/vnd.jupyter.widget-view+json": {
       "model_id": "ae0bf8ed7d5f45248a4fd1d1a278c5ef",
       "version_major": 2,
       "version_minor": 0
      },
      "text/plain": [
       "Map:   0%|          | 0/2164 [00:00<?, ? examples/s]"
      ]
     },
     "metadata": {},
     "output_type": "display_data"
    },
    {
     "data": {
      "application/vnd.jupyter.widget-view+json": {
       "model_id": "3dcf0b10a2e24fd6835b4060280af923",
       "version_major": 2,
       "version_minor": 0
      },
      "text/plain": [
       "Map:   0%|          | 0/541 [00:00<?, ? examples/s]"
      ]
     },
     "metadata": {},
     "output_type": "display_data"
    },
    {
     "name": "stderr",
     "output_type": "stream",
     "text": [
      "/Users/gchhetri/Developer/Python/15min-city-bench/.venv/lib/python3.12/site-packages/transformers/training_args.py:1604: FutureWarning: using `no_cuda` is deprecated and will be removed in version 5.0 of 🤗 Transformers. Use `use_cpu` instead\n",
      "  warnings.warn(\n"
     ]
    },
    {
     "name": "stdout",
     "output_type": "stream",
     "text": [
      "{'loss': 0.6468, 'grad_norm': 11.715965270996094, 'learning_rate': 1.9276752767527677e-05, 'epoch': 0.18450184501845018}\n",
      "{'loss': 0.6078, 'grad_norm': 14.816520690917969, 'learning_rate': 1.8538745387453875e-05, 'epoch': 0.36900369003690037}\n",
      "{'loss': 0.5258, 'grad_norm': 8.223982810974121, 'learning_rate': 1.7800738007380077e-05, 'epoch': 0.5535055350553506}\n",
      "{'loss': 0.5222, 'grad_norm': 6.556027889251709, 'learning_rate': 1.7062730627306276e-05, 'epoch': 0.7380073800738007}\n",
      "{'loss': 0.4962, 'grad_norm': 11.437966346740723, 'learning_rate': 1.6324723247232474e-05, 'epoch': 0.922509225092251}\n",
      "{'eval_loss': 0.4971732497215271, 'eval_accuracy': 0.756007393715342, 'eval_f1': 0.8070175438596491, 'eval_precision': 0.7379679144385026, 'eval_recall': 0.8903225806451613, 'eval_runtime': 2.3695, 'eval_samples_per_second': 228.32, 'eval_steps_per_second': 14.349, 'epoch': 1.0}\n",
      "{'loss': 0.4604, 'grad_norm': 10.520174980163574, 'learning_rate': 1.5586715867158672e-05, 'epoch': 1.1070110701107012}\n",
      "{'loss': 0.4491, 'grad_norm': 10.566429138183594, 'learning_rate': 1.4848708487084872e-05, 'epoch': 1.2915129151291513}\n",
      "{'loss': 0.4653, 'grad_norm': 54.15348434448242, 'learning_rate': 1.4110701107011071e-05, 'epoch': 1.4760147601476015}\n",
      "{'loss': 0.3516, 'grad_norm': 16.094812393188477, 'learning_rate': 1.3372693726937271e-05, 'epoch': 1.6605166051660518}\n",
      "{'loss': 0.4628, 'grad_norm': 13.53173542022705, 'learning_rate': 1.263468634686347e-05, 'epoch': 1.8450184501845017}\n",
      "{'eval_loss': 0.5482972264289856, 'eval_accuracy': 0.789279112754159, 'eval_f1': 0.8298507462686567, 'eval_precision': 0.7722222222222223, 'eval_recall': 0.896774193548387, 'eval_runtime': 2.7339, 'eval_samples_per_second': 197.887, 'eval_steps_per_second': 12.437, 'epoch': 2.0}\n",
      "{'train_runtime': 139.5561, 'train_samples_per_second': 77.532, 'train_steps_per_second': 9.709, 'train_loss': 0.49047307862566847, 'epoch': 2.0}\n",
      "{'eval_loss': 0.4971732497215271, 'eval_model_preparation_time': 0.0006, 'eval_accuracy': 0.756007393715342, 'eval_f1': 0.8070175438596491, 'eval_precision': 0.7379679144385026, 'eval_recall': 0.8903225806451613, 'eval_runtime': 2.463, 'eval_samples_per_second': 219.649, 'eval_steps_per_second': 13.804}\n",
      " ↪ Fold 2/5\n"
     ]
    },
    {
     "data": {
      "application/vnd.jupyter.widget-view+json": {
       "model_id": "a939c7101ae54db4a09c251b68d49b24",
       "version_major": 2,
       "version_minor": 0
      },
      "text/plain": [
       "Map:   0%|          | 0/2164 [00:00<?, ? examples/s]"
      ]
     },
     "metadata": {},
     "output_type": "display_data"
    },
    {
     "data": {
      "application/vnd.jupyter.widget-view+json": {
       "model_id": "853a3cfbb5d441238ade309a8a533561",
       "version_major": 2,
       "version_minor": 0
      },
      "text/plain": [
       "Map:   0%|          | 0/541 [00:00<?, ? examples/s]"
      ]
     },
     "metadata": {},
     "output_type": "display_data"
    },
    {
     "name": "stderr",
     "output_type": "stream",
     "text": [
      "/Users/gchhetri/Developer/Python/15min-city-bench/.venv/lib/python3.12/site-packages/transformers/training_args.py:1604: FutureWarning: using `no_cuda` is deprecated and will be removed in version 5.0 of 🤗 Transformers. Use `use_cpu` instead\n",
      "  warnings.warn(\n"
     ]
    },
    {
     "name": "stdout",
     "output_type": "stream",
     "text": [
      "{'loss': 0.6194, 'grad_norm': 6.554109573364258, 'learning_rate': 1.9276752767527677e-05, 'epoch': 0.18450184501845018}\n",
      "{'loss': 0.5525, 'grad_norm': 8.655595779418945, 'learning_rate': 1.8538745387453875e-05, 'epoch': 0.36900369003690037}\n",
      "{'loss': 0.5502, 'grad_norm': 17.41946792602539, 'learning_rate': 1.7800738007380077e-05, 'epoch': 0.5535055350553506}\n",
      "{'loss': 0.4663, 'grad_norm': 8.553668022155762, 'learning_rate': 1.7062730627306276e-05, 'epoch': 0.7380073800738007}\n",
      "{'loss': 0.5065, 'grad_norm': 5.216148376464844, 'learning_rate': 1.6324723247232474e-05, 'epoch': 0.922509225092251}\n",
      "{'eval_loss': 0.46433863043785095, 'eval_accuracy': 0.7744916820702403, 'eval_f1': 0.7966666666666666, 'eval_precision': 0.8241379310344827, 'eval_recall': 0.7709677419354839, 'eval_runtime': 2.2999, 'eval_samples_per_second': 235.233, 'eval_steps_per_second': 14.784, 'epoch': 1.0}\n",
      "{'loss': 0.4361, 'grad_norm': 14.566835403442383, 'learning_rate': 1.5586715867158672e-05, 'epoch': 1.1070110701107012}\n",
      "{'loss': 0.4823, 'grad_norm': 4.9785614013671875, 'learning_rate': 1.4848708487084872e-05, 'epoch': 1.2915129151291513}\n",
      "{'loss': 0.3921, 'grad_norm': 10.994893074035645, 'learning_rate': 1.4110701107011071e-05, 'epoch': 1.4760147601476015}\n",
      "{'loss': 0.3924, 'grad_norm': 22.27341651916504, 'learning_rate': 1.3372693726937271e-05, 'epoch': 1.6605166051660518}\n",
      "{'loss': 0.4283, 'grad_norm': 37.75535583496094, 'learning_rate': 1.263468634686347e-05, 'epoch': 1.8450184501845017}\n",
      "{'eval_loss': 0.5087488293647766, 'eval_accuracy': 0.7744916820702403, 'eval_f1': 0.8111455108359134, 'eval_precision': 0.7797619047619048, 'eval_recall': 0.8451612903225807, 'eval_runtime': 2.2774, 'eval_samples_per_second': 237.551, 'eval_steps_per_second': 14.929, 'epoch': 2.0}\n",
      "{'train_runtime': 135.8737, 'train_samples_per_second': 79.633, 'train_steps_per_second': 9.972, 'train_loss': 0.48040681043674144, 'epoch': 2.0}\n",
      "{'eval_loss': 0.46433863043785095, 'eval_model_preparation_time': 0.0004, 'eval_accuracy': 0.7744916820702403, 'eval_f1': 0.7966666666666666, 'eval_precision': 0.8241379310344827, 'eval_recall': 0.7709677419354839, 'eval_runtime': 2.3307, 'eval_samples_per_second': 232.119, 'eval_steps_per_second': 14.588}\n",
      " ↪ Fold 3/5\n"
     ]
    },
    {
     "data": {
      "application/vnd.jupyter.widget-view+json": {
       "model_id": "9c75baaf14b6410e951f795a49b5f3b3",
       "version_major": 2,
       "version_minor": 0
      },
      "text/plain": [
       "Map:   0%|          | 0/2164 [00:00<?, ? examples/s]"
      ]
     },
     "metadata": {},
     "output_type": "display_data"
    },
    {
     "data": {
      "application/vnd.jupyter.widget-view+json": {
       "model_id": "add7379451294236a6c942339b976c69",
       "version_major": 2,
       "version_minor": 0
      },
      "text/plain": [
       "Map:   0%|          | 0/541 [00:00<?, ? examples/s]"
      ]
     },
     "metadata": {},
     "output_type": "display_data"
    },
    {
     "name": "stderr",
     "output_type": "stream",
     "text": [
      "/Users/gchhetri/Developer/Python/15min-city-bench/.venv/lib/python3.12/site-packages/transformers/training_args.py:1604: FutureWarning: using `no_cuda` is deprecated and will be removed in version 5.0 of 🤗 Transformers. Use `use_cpu` instead\n",
      "  warnings.warn(\n"
     ]
    },
    {
     "name": "stdout",
     "output_type": "stream",
     "text": [
      "{'loss': 0.6587, 'grad_norm': 5.306907653808594, 'learning_rate': 1.9276752767527677e-05, 'epoch': 0.18450184501845018}\n",
      "{'loss': 0.5801, 'grad_norm': 5.408236026763916, 'learning_rate': 1.8538745387453875e-05, 'epoch': 0.36900369003690037}\n",
      "{'loss': 0.5285, 'grad_norm': 5.46597957611084, 'learning_rate': 1.7800738007380077e-05, 'epoch': 0.5535055350553506}\n",
      "{'loss': 0.4743, 'grad_norm': 11.616714477539062, 'learning_rate': 1.7062730627306276e-05, 'epoch': 0.7380073800738007}\n",
      "{'loss': 0.5229, 'grad_norm': 5.526549339294434, 'learning_rate': 1.6324723247232474e-05, 'epoch': 0.922509225092251}\n",
      "{'eval_loss': 0.4658206105232239, 'eval_accuracy': 0.7578558225508318, 'eval_f1': 0.7943485086342229, 'eval_precision': 0.7737003058103975, 'eval_recall': 0.8161290322580645, 'eval_runtime': 2.3893, 'eval_samples_per_second': 226.425, 'eval_steps_per_second': 14.23, 'epoch': 1.0}\n",
      "{'loss': 0.4522, 'grad_norm': 12.454157829284668, 'learning_rate': 1.5586715867158672e-05, 'epoch': 1.1070110701107012}\n",
      "{'loss': 0.3507, 'grad_norm': 15.361974716186523, 'learning_rate': 1.4848708487084872e-05, 'epoch': 1.2915129151291513}\n",
      "{'loss': 0.4307, 'grad_norm': 33.694889068603516, 'learning_rate': 1.4110701107011071e-05, 'epoch': 1.4760147601476015}\n",
      "{'loss': 0.4012, 'grad_norm': 15.022476196289062, 'learning_rate': 1.3372693726937271e-05, 'epoch': 1.6605166051660518}\n",
      "{'loss': 0.4297, 'grad_norm': 20.879758834838867, 'learning_rate': 1.263468634686347e-05, 'epoch': 1.8450184501845017}\n",
      "{'eval_loss': 0.4695310890674591, 'eval_accuracy': 0.767097966728281, 'eval_f1': 0.7941176470588235, 'eval_precision': 0.804635761589404, 'eval_recall': 0.7838709677419354, 'eval_runtime': 2.3758, 'eval_samples_per_second': 227.717, 'eval_steps_per_second': 14.311, 'epoch': 2.0}\n",
      "{'train_runtime': 133.2089, 'train_samples_per_second': 81.226, 'train_steps_per_second': 10.172, 'train_loss': 0.4823668926844298, 'epoch': 2.0}\n",
      "{'eval_loss': 0.4658206105232239, 'eval_model_preparation_time': 0.0004, 'eval_accuracy': 0.7578558225508318, 'eval_f1': 0.7943485086342229, 'eval_precision': 0.7737003058103975, 'eval_recall': 0.8161290322580645, 'eval_runtime': 2.4032, 'eval_samples_per_second': 225.114, 'eval_steps_per_second': 14.148}\n",
      " ↪ Fold 4/5\n"
     ]
    },
    {
     "data": {
      "application/vnd.jupyter.widget-view+json": {
       "model_id": "818a1dc764cf4a8eb4081b979dce2bf4",
       "version_major": 2,
       "version_minor": 0
      },
      "text/plain": [
       "Map:   0%|          | 0/2164 [00:00<?, ? examples/s]"
      ]
     },
     "metadata": {},
     "output_type": "display_data"
    },
    {
     "data": {
      "application/vnd.jupyter.widget-view+json": {
       "model_id": "c27e333071ff448a8b249894c62ceed2",
       "version_major": 2,
       "version_minor": 0
      },
      "text/plain": [
       "Map:   0%|          | 0/541 [00:00<?, ? examples/s]"
      ]
     },
     "metadata": {},
     "output_type": "display_data"
    },
    {
     "name": "stderr",
     "output_type": "stream",
     "text": [
      "/Users/gchhetri/Developer/Python/15min-city-bench/.venv/lib/python3.12/site-packages/transformers/training_args.py:1604: FutureWarning: using `no_cuda` is deprecated and will be removed in version 5.0 of 🤗 Transformers. Use `use_cpu` instead\n",
      "  warnings.warn(\n"
     ]
    },
    {
     "name": "stdout",
     "output_type": "stream",
     "text": [
      "{'loss': 0.6599, 'grad_norm': 6.705679416656494, 'learning_rate': 1.9276752767527677e-05, 'epoch': 0.18450184501845018}\n",
      "{'loss': 0.5572, 'grad_norm': 15.317065238952637, 'learning_rate': 1.8538745387453875e-05, 'epoch': 0.36900369003690037}\n",
      "{'loss': 0.5145, 'grad_norm': 9.515280723571777, 'learning_rate': 1.7800738007380077e-05, 'epoch': 0.5535055350553506}\n",
      "{'loss': 0.5155, 'grad_norm': 11.663983345031738, 'learning_rate': 1.7062730627306276e-05, 'epoch': 0.7380073800738007}\n",
      "{'loss': 0.5078, 'grad_norm': 8.443514823913574, 'learning_rate': 1.6324723247232474e-05, 'epoch': 0.922509225092251}\n",
      "{'eval_loss': 0.5038653016090393, 'eval_accuracy': 0.7634011090573013, 'eval_f1': 0.8078078078078078, 'eval_precision': 0.7535014005602241, 'eval_recall': 0.8705501618122977, 'eval_runtime': 2.3189, 'eval_samples_per_second': 233.295, 'eval_steps_per_second': 14.662, 'epoch': 1.0}\n",
      "{'loss': 0.42, 'grad_norm': 13.553136825561523, 'learning_rate': 1.5586715867158672e-05, 'epoch': 1.1070110701107012}\n",
      "{'loss': 0.4154, 'grad_norm': 7.713811874389648, 'learning_rate': 1.4848708487084872e-05, 'epoch': 1.2915129151291513}\n",
      "{'loss': 0.4409, 'grad_norm': 26.68247413635254, 'learning_rate': 1.4110701107011071e-05, 'epoch': 1.4760147601476015}\n",
      "{'loss': 0.3919, 'grad_norm': 6.864077568054199, 'learning_rate': 1.3372693726937271e-05, 'epoch': 1.6605166051660518}\n",
      "{'loss': 0.4349, 'grad_norm': 10.254611015319824, 'learning_rate': 1.263468634686347e-05, 'epoch': 1.8450184501845017}\n",
      "{'eval_loss': 0.5178724527359009, 'eval_accuracy': 0.7707948243992606, 'eval_f1': 0.80625, 'eval_precision': 0.7794561933534743, 'eval_recall': 0.8349514563106796, 'eval_runtime': 2.319, 'eval_samples_per_second': 233.291, 'eval_steps_per_second': 14.662, 'epoch': 2.0}\n",
      "{'train_runtime': 130.4726, 'train_samples_per_second': 82.929, 'train_steps_per_second': 10.385, 'train_loss': 0.48009963581042975, 'epoch': 2.0}\n",
      "{'eval_loss': 0.5038653016090393, 'eval_model_preparation_time': 0.0004, 'eval_accuracy': 0.7634011090573013, 'eval_f1': 0.8078078078078078, 'eval_precision': 0.7535014005602241, 'eval_recall': 0.8705501618122977, 'eval_runtime': 2.4132, 'eval_samples_per_second': 224.185, 'eval_steps_per_second': 14.089}\n",
      " ↪ Fold 5/5\n"
     ]
    },
    {
     "data": {
      "application/vnd.jupyter.widget-view+json": {
       "model_id": "3be4dc8590914249b9b55dae54876dc1",
       "version_major": 2,
       "version_minor": 0
      },
      "text/plain": [
       "Map:   0%|          | 0/2164 [00:00<?, ? examples/s]"
      ]
     },
     "metadata": {},
     "output_type": "display_data"
    },
    {
     "data": {
      "application/vnd.jupyter.widget-view+json": {
       "model_id": "b8338f43af334fa29d6ed28e36c9481f",
       "version_major": 2,
       "version_minor": 0
      },
      "text/plain": [
       "Map:   0%|          | 0/541 [00:00<?, ? examples/s]"
      ]
     },
     "metadata": {},
     "output_type": "display_data"
    },
    {
     "name": "stderr",
     "output_type": "stream",
     "text": [
      "/Users/gchhetri/Developer/Python/15min-city-bench/.venv/lib/python3.12/site-packages/transformers/training_args.py:1604: FutureWarning: using `no_cuda` is deprecated and will be removed in version 5.0 of 🤗 Transformers. Use `use_cpu` instead\n",
      "  warnings.warn(\n"
     ]
    },
    {
     "name": "stdout",
     "output_type": "stream",
     "text": [
      "{'loss': 0.6808, 'grad_norm': 5.392425060272217, 'learning_rate': 1.9276752767527677e-05, 'epoch': 0.18450184501845018}\n",
      "{'loss': 0.5639, 'grad_norm': 3.2917251586914062, 'learning_rate': 1.8538745387453875e-05, 'epoch': 0.36900369003690037}\n",
      "{'loss': 0.5694, 'grad_norm': 20.245378494262695, 'learning_rate': 1.7800738007380077e-05, 'epoch': 0.5535055350553506}\n",
      "{'loss': 0.4581, 'grad_norm': 13.10313892364502, 'learning_rate': 1.7062730627306276e-05, 'epoch': 0.7380073800738007}\n",
      "{'loss': 0.5008, 'grad_norm': 9.649072647094727, 'learning_rate': 1.6324723247232474e-05, 'epoch': 0.922509225092251}\n",
      "{'eval_loss': 0.46618127822875977, 'eval_accuracy': 0.7781885397412199, 'eval_f1': 0.8165137614678899, 'eval_precision': 0.7739130434782608, 'eval_recall': 0.8640776699029126, 'eval_runtime': 1.9067, 'eval_samples_per_second': 283.73, 'eval_steps_per_second': 17.831, 'epoch': 1.0}\n",
      "{'loss': 0.4171, 'grad_norm': 12.271933555603027, 'learning_rate': 1.5586715867158672e-05, 'epoch': 1.1070110701107012}\n",
      "{'loss': 0.4588, 'grad_norm': 10.292905807495117, 'learning_rate': 1.4848708487084872e-05, 'epoch': 1.2915129151291513}\n",
      "{'loss': 0.4044, 'grad_norm': 24.313308715820312, 'learning_rate': 1.4110701107011071e-05, 'epoch': 1.4760147601476015}\n",
      "{'loss': 0.4128, 'grad_norm': 10.539417266845703, 'learning_rate': 1.3372693726937271e-05, 'epoch': 1.6605166051660518}\n",
      "{'loss': 0.4143, 'grad_norm': 7.125800609588623, 'learning_rate': 1.263468634686347e-05, 'epoch': 1.8450184501845017}\n",
      "{'eval_loss': 0.4436854422092438, 'eval_accuracy': 0.7874306839186691, 'eval_f1': 0.8183254344391785, 'eval_precision': 0.7993827160493827, 'eval_recall': 0.8381877022653722, 'eval_runtime': 2.0371, 'eval_samples_per_second': 265.568, 'eval_steps_per_second': 16.69, 'epoch': 2.0}\n",
      "{'loss': 0.4275, 'grad_norm': 6.929159641265869, 'learning_rate': 1.189667896678967e-05, 'epoch': 2.029520295202952}\n",
      "{'loss': 0.3157, 'grad_norm': 28.238910675048828, 'learning_rate': 1.1158671586715868e-05, 'epoch': 2.2140221402214024}\n",
      "{'loss': 0.32, 'grad_norm': 3.8184847831726074, 'learning_rate': 1.0420664206642068e-05, 'epoch': 2.3985239852398523}\n",
      "{'loss': 0.4144, 'grad_norm': 32.903076171875, 'learning_rate': 9.682656826568266e-06, 'epoch': 2.5830258302583027}\n",
      "{'loss': 0.3009, 'grad_norm': 3.744413137435913, 'learning_rate': 8.944649446494466e-06, 'epoch': 2.767527675276753}\n",
      "{'loss': 0.2784, 'grad_norm': 31.384254455566406, 'learning_rate': 8.206642066420665e-06, 'epoch': 2.952029520295203}\n",
      "{'eval_loss': 0.7546713352203369, 'eval_accuracy': 0.7818853974121996, 'eval_f1': 0.8212121212121212, 'eval_precision': 0.7720797720797721, 'eval_recall': 0.8770226537216829, 'eval_runtime': 2.074, 'eval_samples_per_second': 260.846, 'eval_steps_per_second': 16.393, 'epoch': 3.0}\n",
      "{'train_runtime': 199.1757, 'train_samples_per_second': 54.324, 'train_steps_per_second': 6.803, 'train_loss': 0.4313469971238027, 'epoch': 3.0}\n",
      "{'eval_loss': 0.4436854422092438, 'eval_model_preparation_time': 0.0004, 'eval_accuracy': 0.7874306839186691, 'eval_f1': 0.8183254344391785, 'eval_precision': 0.7993827160493827, 'eval_recall': 0.8381877022653722, 'eval_runtime': 2.0066, 'eval_samples_per_second': 269.616, 'eval_steps_per_second': 16.944}\n",
      "\n",
      "🔍 Model: distilbert-base-uncased\n",
      " ↪ Fold 1/5\n"
     ]
    },
    {
     "data": {
      "application/vnd.jupyter.widget-view+json": {
       "model_id": "7cf172a5a1da4da2b168036b0e899fe4",
       "version_major": 2,
       "version_minor": 0
      },
      "text/plain": [
       "Map:   0%|          | 0/2164 [00:00<?, ? examples/s]"
      ]
     },
     "metadata": {},
     "output_type": "display_data"
    },
    {
     "data": {
      "application/vnd.jupyter.widget-view+json": {
       "model_id": "234a0d5d440f4023879cdf375e81c937",
       "version_major": 2,
       "version_minor": 0
      },
      "text/plain": [
       "Map:   0%|          | 0/541 [00:00<?, ? examples/s]"
      ]
     },
     "metadata": {},
     "output_type": "display_data"
    },
    {
     "name": "stderr",
     "output_type": "stream",
     "text": [
      "/Users/gchhetri/Developer/Python/15min-city-bench/.venv/lib/python3.12/site-packages/transformers/training_args.py:1604: FutureWarning: using `no_cuda` is deprecated and will be removed in version 5.0 of 🤗 Transformers. Use `use_cpu` instead\n",
      "  warnings.warn(\n"
     ]
    },
    {
     "name": "stdout",
     "output_type": "stream",
     "text": [
      "{'loss': 0.6415, 'grad_norm': 3.644869089126587, 'learning_rate': 1.9276752767527677e-05, 'epoch': 0.18450184501845018}\n",
      "{'loss': 0.608, 'grad_norm': 5.545026779174805, 'learning_rate': 1.8538745387453875e-05, 'epoch': 0.36900369003690037}\n",
      "{'loss': 0.5582, 'grad_norm': 3.8678479194641113, 'learning_rate': 1.7800738007380077e-05, 'epoch': 0.5535055350553506}\n",
      "{'loss': 0.5188, 'grad_norm': 5.029913902282715, 'learning_rate': 1.7062730627306276e-05, 'epoch': 0.7380073800738007}\n",
      "{'loss': 0.4984, 'grad_norm': 6.950965881347656, 'learning_rate': 1.6324723247232474e-05, 'epoch': 0.922509225092251}\n",
      "{'eval_loss': 0.48806047439575195, 'eval_accuracy': 0.7652495378927912, 'eval_f1': 0.8072837632776935, 'eval_precision': 0.7621776504297995, 'eval_recall': 0.8580645161290322, 'eval_runtime': 1.8894, 'eval_samples_per_second': 286.339, 'eval_steps_per_second': 17.995, 'epoch': 1.0}\n",
      "{'loss': 0.4413, 'grad_norm': 6.30697774887085, 'learning_rate': 1.5586715867158672e-05, 'epoch': 1.1070110701107012}\n",
      "{'loss': 0.3841, 'grad_norm': 8.146907806396484, 'learning_rate': 1.4848708487084872e-05, 'epoch': 1.2915129151291513}\n",
      "{'loss': 0.4391, 'grad_norm': 12.3273286819458, 'learning_rate': 1.4110701107011071e-05, 'epoch': 1.4760147601476015}\n",
      "{'loss': 0.3476, 'grad_norm': 7.8522443771362305, 'learning_rate': 1.3372693726937271e-05, 'epoch': 1.6605166051660518}\n",
      "{'loss': 0.438, 'grad_norm': 10.101337432861328, 'learning_rate': 1.263468634686347e-05, 'epoch': 1.8450184501845017}\n",
      "{'eval_loss': 0.5361039042472839, 'eval_accuracy': 0.7597042513863216, 'eval_f1': 0.8071216617210683, 'eval_precision': 0.7472527472527473, 'eval_recall': 0.8774193548387097, 'eval_runtime': 1.9989, 'eval_samples_per_second': 270.654, 'eval_steps_per_second': 17.01, 'epoch': 2.0}\n",
      "{'train_runtime': 107.3139, 'train_samples_per_second': 100.826, 'train_steps_per_second': 12.627, 'train_loss': 0.4761823077043484, 'epoch': 2.0}\n",
      "{'eval_loss': 0.48806047439575195, 'eval_model_preparation_time': 0.0004, 'eval_accuracy': 0.7652495378927912, 'eval_f1': 0.8072837632776935, 'eval_precision': 0.7621776504297995, 'eval_recall': 0.8580645161290322, 'eval_runtime': 2.0541, 'eval_samples_per_second': 263.37, 'eval_steps_per_second': 16.552}\n",
      " ↪ Fold 2/5\n"
     ]
    },
    {
     "data": {
      "application/vnd.jupyter.widget-view+json": {
       "model_id": "552059848f594b71bce940db892d4670",
       "version_major": 2,
       "version_minor": 0
      },
      "text/plain": [
       "Map:   0%|          | 0/2164 [00:00<?, ? examples/s]"
      ]
     },
     "metadata": {},
     "output_type": "display_data"
    },
    {
     "data": {
      "application/vnd.jupyter.widget-view+json": {
       "model_id": "3074a77975f9413ea19b463587264195",
       "version_major": 2,
       "version_minor": 0
      },
      "text/plain": [
       "Map:   0%|          | 0/541 [00:00<?, ? examples/s]"
      ]
     },
     "metadata": {},
     "output_type": "display_data"
    },
    {
     "name": "stderr",
     "output_type": "stream",
     "text": [
      "/Users/gchhetri/Developer/Python/15min-city-bench/.venv/lib/python3.12/site-packages/transformers/training_args.py:1604: FutureWarning: using `no_cuda` is deprecated and will be removed in version 5.0 of 🤗 Transformers. Use `use_cpu` instead\n",
      "  warnings.warn(\n"
     ]
    },
    {
     "name": "stdout",
     "output_type": "stream",
     "text": [
      "{'loss': 0.6368, 'grad_norm': 4.8972978591918945, 'learning_rate': 1.9276752767527677e-05, 'epoch': 0.18450184501845018}\n",
      "{'loss': 0.5947, 'grad_norm': 3.3506314754486084, 'learning_rate': 1.8538745387453875e-05, 'epoch': 0.36900369003690037}\n",
      "{'loss': 0.577, 'grad_norm': 5.035531520843506, 'learning_rate': 1.7800738007380077e-05, 'epoch': 0.5535055350553506}\n",
      "{'loss': 0.4878, 'grad_norm': 5.284509658813477, 'learning_rate': 1.7062730627306276e-05, 'epoch': 0.7380073800738007}\n",
      "{'loss': 0.4764, 'grad_norm': 3.660808801651001, 'learning_rate': 1.6324723247232474e-05, 'epoch': 0.922509225092251}\n",
      "{'eval_loss': 0.4741344153881073, 'eval_accuracy': 0.7855822550831792, 'eval_f1': 0.8047138047138047, 'eval_precision': 0.8415492957746479, 'eval_recall': 0.7709677419354839, 'eval_runtime': 2.0506, 'eval_samples_per_second': 263.821, 'eval_steps_per_second': 16.58, 'epoch': 1.0}\n",
      "{'loss': 0.4328, 'grad_norm': 5.526778697967529, 'learning_rate': 1.5586715867158672e-05, 'epoch': 1.1070110701107012}\n",
      "{'loss': 0.4535, 'grad_norm': 4.174771785736084, 'learning_rate': 1.4848708487084872e-05, 'epoch': 1.2915129151291513}\n",
      "{'loss': 0.3717, 'grad_norm': 7.462094306945801, 'learning_rate': 1.4110701107011071e-05, 'epoch': 1.4760147601476015}\n",
      "{'loss': 0.3503, 'grad_norm': 5.328719139099121, 'learning_rate': 1.3372693726937271e-05, 'epoch': 1.6605166051660518}\n",
      "{'loss': 0.4166, 'grad_norm': 9.534578323364258, 'learning_rate': 1.263468634686347e-05, 'epoch': 1.8450184501845017}\n",
      "{'eval_loss': 0.488626092672348, 'eval_accuracy': 0.7874306839186691, 'eval_f1': 0.8217054263565892, 'eval_precision': 0.7910447761194029, 'eval_recall': 0.8548387096774194, 'eval_runtime': 2.0146, 'eval_samples_per_second': 268.534, 'eval_steps_per_second': 16.876, 'epoch': 2.0}\n",
      "{'train_runtime': 107.6365, 'train_samples_per_second': 100.523, 'train_steps_per_second': 12.589, 'train_loss': 0.4719800069323325, 'epoch': 2.0}\n",
      "{'eval_loss': 0.4741344153881073, 'eval_model_preparation_time': 0.0004, 'eval_accuracy': 0.7855822550831792, 'eval_f1': 0.8047138047138047, 'eval_precision': 0.8415492957746479, 'eval_recall': 0.7709677419354839, 'eval_runtime': 2.0797, 'eval_samples_per_second': 260.134, 'eval_steps_per_second': 16.349}\n",
      " ↪ Fold 3/5\n"
     ]
    },
    {
     "data": {
      "application/vnd.jupyter.widget-view+json": {
       "model_id": "9c82e71d666247dcb9308769a7f7eafb",
       "version_major": 2,
       "version_minor": 0
      },
      "text/plain": [
       "Map:   0%|          | 0/2164 [00:00<?, ? examples/s]"
      ]
     },
     "metadata": {},
     "output_type": "display_data"
    },
    {
     "data": {
      "application/vnd.jupyter.widget-view+json": {
       "model_id": "6cedba20e796486b836c91551adceeb2",
       "version_major": 2,
       "version_minor": 0
      },
      "text/plain": [
       "Map:   0%|          | 0/541 [00:00<?, ? examples/s]"
      ]
     },
     "metadata": {},
     "output_type": "display_data"
    },
    {
     "name": "stderr",
     "output_type": "stream",
     "text": [
      "/Users/gchhetri/Developer/Python/15min-city-bench/.venv/lib/python3.12/site-packages/transformers/training_args.py:1604: FutureWarning: using `no_cuda` is deprecated and will be removed in version 5.0 of 🤗 Transformers. Use `use_cpu` instead\n",
      "  warnings.warn(\n"
     ]
    },
    {
     "name": "stdout",
     "output_type": "stream",
     "text": [
      "{'loss': 0.6539, 'grad_norm': 3.385134220123291, 'learning_rate': 1.9276752767527677e-05, 'epoch': 0.18450184501845018}\n",
      "{'loss': 0.5754, 'grad_norm': 4.173018455505371, 'learning_rate': 1.8538745387453875e-05, 'epoch': 0.36900369003690037}\n",
      "{'loss': 0.5217, 'grad_norm': 4.932323932647705, 'learning_rate': 1.7800738007380077e-05, 'epoch': 0.5535055350553506}\n",
      "{'loss': 0.4743, 'grad_norm': 3.8181936740875244, 'learning_rate': 1.7062730627306276e-05, 'epoch': 0.7380073800738007}\n",
      "{'loss': 0.5235, 'grad_norm': 4.641900539398193, 'learning_rate': 1.6324723247232474e-05, 'epoch': 0.922509225092251}\n",
      "{'eval_loss': 0.4916287064552307, 'eval_accuracy': 0.7689463955637708, 'eval_f1': 0.8175182481751825, 'eval_precision': 0.7466666666666667, 'eval_recall': 0.9032258064516129, 'eval_runtime': 2.1422, 'eval_samples_per_second': 252.549, 'eval_steps_per_second': 15.872, 'epoch': 1.0}\n",
      "{'loss': 0.451, 'grad_norm': 9.55419921875, 'learning_rate': 1.5586715867158672e-05, 'epoch': 1.1070110701107012}\n",
      "{'loss': 0.3374, 'grad_norm': 19.899133682250977, 'learning_rate': 1.4848708487084872e-05, 'epoch': 1.2915129151291513}\n",
      "{'loss': 0.4112, 'grad_norm': 13.079635620117188, 'learning_rate': 1.4110701107011071e-05, 'epoch': 1.4760147601476015}\n",
      "{'loss': 0.3981, 'grad_norm': 10.363930702209473, 'learning_rate': 1.3372693726937271e-05, 'epoch': 1.6605166051660518}\n",
      "{'loss': 0.4127, 'grad_norm': 14.400284767150879, 'learning_rate': 1.263468634686347e-05, 'epoch': 1.8450184501845017}\n",
      "{'eval_loss': 0.49172285199165344, 'eval_accuracy': 0.7874306839186691, 'eval_f1': 0.8217054263565892, 'eval_precision': 0.7910447761194029, 'eval_recall': 0.8548387096774194, 'eval_runtime': 2.1496, 'eval_samples_per_second': 251.67, 'eval_steps_per_second': 15.817, 'epoch': 2.0}\n",
      "{'train_runtime': 106.9739, 'train_samples_per_second': 101.146, 'train_steps_per_second': 12.667, 'train_loss': 0.47020198850174233, 'epoch': 2.0}\n",
      "{'eval_loss': 0.4916287064552307, 'eval_model_preparation_time': 0.0004, 'eval_accuracy': 0.7689463955637708, 'eval_f1': 0.8175182481751825, 'eval_precision': 0.7466666666666667, 'eval_recall': 0.9032258064516129, 'eval_runtime': 2.2153, 'eval_samples_per_second': 244.214, 'eval_steps_per_second': 15.348}\n",
      " ↪ Fold 4/5\n"
     ]
    },
    {
     "data": {
      "application/vnd.jupyter.widget-view+json": {
       "model_id": "52b8ed0e946f434f9d433867139428d9",
       "version_major": 2,
       "version_minor": 0
      },
      "text/plain": [
       "Map:   0%|          | 0/2164 [00:00<?, ? examples/s]"
      ]
     },
     "metadata": {},
     "output_type": "display_data"
    },
    {
     "data": {
      "application/vnd.jupyter.widget-view+json": {
       "model_id": "ff91a5d4e94c4df684ea5e9207109fba",
       "version_major": 2,
       "version_minor": 0
      },
      "text/plain": [
       "Map:   0%|          | 0/541 [00:00<?, ? examples/s]"
      ]
     },
     "metadata": {},
     "output_type": "display_data"
    },
    {
     "name": "stderr",
     "output_type": "stream",
     "text": [
      "/Users/gchhetri/Developer/Python/15min-city-bench/.venv/lib/python3.12/site-packages/transformers/training_args.py:1604: FutureWarning: using `no_cuda` is deprecated and will be removed in version 5.0 of 🤗 Transformers. Use `use_cpu` instead\n",
      "  warnings.warn(\n"
     ]
    },
    {
     "name": "stdout",
     "output_type": "stream",
     "text": [
      "{'loss': 0.6612, 'grad_norm': 4.072965145111084, 'learning_rate': 1.9276752767527677e-05, 'epoch': 0.18450184501845018}\n",
      "{'loss': 0.5792, 'grad_norm': 6.911856174468994, 'learning_rate': 1.8538745387453875e-05, 'epoch': 0.36900369003690037}\n",
      "{'loss': 0.5362, 'grad_norm': 3.8841660022735596, 'learning_rate': 1.7800738007380077e-05, 'epoch': 0.5535055350553506}\n",
      "{'loss': 0.5277, 'grad_norm': 4.7496209144592285, 'learning_rate': 1.7062730627306276e-05, 'epoch': 0.7380073800738007}\n",
      "{'loss': 0.4664, 'grad_norm': 4.707864284515381, 'learning_rate': 1.6324723247232474e-05, 'epoch': 0.922509225092251}\n",
      "{'eval_loss': 0.4889822006225586, 'eval_accuracy': 0.767097966728281, 'eval_f1': 0.8037383177570093, 'eval_precision': 0.7747747747747747, 'eval_recall': 0.8349514563106796, 'eval_runtime': 1.9804, 'eval_samples_per_second': 273.177, 'eval_steps_per_second': 17.168, 'epoch': 1.0}\n",
      "{'loss': 0.4302, 'grad_norm': 5.273223876953125, 'learning_rate': 1.5586715867158672e-05, 'epoch': 1.1070110701107012}\n",
      "{'loss': 0.4028, 'grad_norm': 4.99480676651001, 'learning_rate': 1.4848708487084872e-05, 'epoch': 1.2915129151291513}\n",
      "{'loss': 0.3852, 'grad_norm': 10.248825073242188, 'learning_rate': 1.4110701107011071e-05, 'epoch': 1.4760147601476015}\n",
      "{'loss': 0.3832, 'grad_norm': 16.816360473632812, 'learning_rate': 1.3372693726937271e-05, 'epoch': 1.6605166051660518}\n",
      "{'loss': 0.4105, 'grad_norm': 4.422568321228027, 'learning_rate': 1.263468634686347e-05, 'epoch': 1.8450184501845017}\n",
      "{'eval_loss': 0.5003378987312317, 'eval_accuracy': 0.7689463955637708, 'eval_f1': 0.7877758913412564, 'eval_precision': 0.8285714285714286, 'eval_recall': 0.7508090614886731, 'eval_runtime': 1.9352, 'eval_samples_per_second': 279.563, 'eval_steps_per_second': 17.57, 'epoch': 2.0}\n",
      "{'train_runtime': 107.7036, 'train_samples_per_second': 100.461, 'train_steps_per_second': 12.581, 'train_loss': 0.47092886780460824, 'epoch': 2.0}\n",
      "{'eval_loss': 0.4889822006225586, 'eval_model_preparation_time': 0.0004, 'eval_accuracy': 0.767097966728281, 'eval_f1': 0.8037383177570093, 'eval_precision': 0.7747747747747747, 'eval_recall': 0.8349514563106796, 'eval_runtime': 2.0801, 'eval_samples_per_second': 260.079, 'eval_steps_per_second': 16.345}\n",
      " ↪ Fold 5/5\n"
     ]
    },
    {
     "data": {
      "application/vnd.jupyter.widget-view+json": {
       "model_id": "a65bfc7c98264330ada4d0685d134cbb",
       "version_major": 2,
       "version_minor": 0
      },
      "text/plain": [
       "Map:   0%|          | 0/2164 [00:00<?, ? examples/s]"
      ]
     },
     "metadata": {},
     "output_type": "display_data"
    },
    {
     "data": {
      "application/vnd.jupyter.widget-view+json": {
       "model_id": "f13067e63b6e446f8943bd78c7a6dd2e",
       "version_major": 2,
       "version_minor": 0
      },
      "text/plain": [
       "Map:   0%|          | 0/541 [00:00<?, ? examples/s]"
      ]
     },
     "metadata": {},
     "output_type": "display_data"
    },
    {
     "name": "stderr",
     "output_type": "stream",
     "text": [
      "/Users/gchhetri/Developer/Python/15min-city-bench/.venv/lib/python3.12/site-packages/transformers/training_args.py:1604: FutureWarning: using `no_cuda` is deprecated and will be removed in version 5.0 of 🤗 Transformers. Use `use_cpu` instead\n",
      "  warnings.warn(\n"
     ]
    },
    {
     "name": "stdout",
     "output_type": "stream",
     "text": [
      "{'loss': 0.67, 'grad_norm': 2.9662485122680664, 'learning_rate': 1.9276752767527677e-05, 'epoch': 0.18450184501845018}\n",
      "{'loss': 0.5852, 'grad_norm': 2.262160539627075, 'learning_rate': 1.8538745387453875e-05, 'epoch': 0.36900369003690037}\n",
      "{'loss': 0.582, 'grad_norm': 7.582458972930908, 'learning_rate': 1.7800738007380077e-05, 'epoch': 0.5535055350553506}\n",
      "{'loss': 0.4599, 'grad_norm': 10.345844268798828, 'learning_rate': 1.7062730627306276e-05, 'epoch': 0.7380073800738007}\n",
      "{'loss': 0.481, 'grad_norm': 7.385904788970947, 'learning_rate': 1.6324723247232474e-05, 'epoch': 0.922509225092251}\n",
      "{'eval_loss': 0.481075257062912, 'eval_accuracy': 0.7837338262476895, 'eval_f1': 0.8085106382978723, 'eval_precision': 0.8178807947019867, 'eval_recall': 0.7993527508090615, 'eval_runtime': 1.9907, 'eval_samples_per_second': 271.77, 'eval_steps_per_second': 17.08, 'epoch': 1.0}\n",
      "{'loss': 0.4475, 'grad_norm': 6.542410850524902, 'learning_rate': 1.5586715867158672e-05, 'epoch': 1.1070110701107012}\n",
      "{'loss': 0.4289, 'grad_norm': 4.3718976974487305, 'learning_rate': 1.4848708487084872e-05, 'epoch': 1.2915129151291513}\n",
      "{'loss': 0.4066, 'grad_norm': 7.784212589263916, 'learning_rate': 1.4110701107011071e-05, 'epoch': 1.4760147601476015}\n",
      "{'loss': 0.3775, 'grad_norm': 5.717595100402832, 'learning_rate': 1.3372693726937271e-05, 'epoch': 1.6605166051660518}\n",
      "{'loss': 0.3841, 'grad_norm': 4.349404811859131, 'learning_rate': 1.263468634686347e-05, 'epoch': 1.8450184501845017}\n",
      "{'eval_loss': 0.492245614528656, 'eval_accuracy': 0.7781885397412199, 'eval_f1': 0.8058252427184466, 'eval_precision': 0.8058252427184466, 'eval_recall': 0.8058252427184466, 'eval_runtime': 2.1331, 'eval_samples_per_second': 253.617, 'eval_steps_per_second': 15.939, 'epoch': 2.0}\n",
      "{'train_runtime': 108.7461, 'train_samples_per_second': 99.498, 'train_steps_per_second': 12.46, 'train_loss': 0.4773064328295718, 'epoch': 2.0}\n",
      "{'eval_loss': 0.481075257062912, 'eval_model_preparation_time': 0.0004, 'eval_accuracy': 0.7837338262476895, 'eval_f1': 0.8085106382978723, 'eval_precision': 0.8178807947019867, 'eval_recall': 0.7993527508090615, 'eval_runtime': 1.9662, 'eval_samples_per_second': 275.148, 'eval_steps_per_second': 17.292}\n",
      "\n",
      "🔍 Model: nreimers/MiniLM-L6-H384-uncased\n",
      " ↪ Fold 1/5\n"
     ]
    },
    {
     "data": {
      "application/vnd.jupyter.widget-view+json": {
       "model_id": "98a0b29729284063b63681eafae1f1a9",
       "version_major": 2,
       "version_minor": 0
      },
      "text/plain": [
       "Map:   0%|          | 0/2164 [00:00<?, ? examples/s]"
      ]
     },
     "metadata": {},
     "output_type": "display_data"
    },
    {
     "data": {
      "application/vnd.jupyter.widget-view+json": {
       "model_id": "e8e47dc667604e6d9a08a1c19a022652",
       "version_major": 2,
       "version_minor": 0
      },
      "text/plain": [
       "Map:   0%|          | 0/541 [00:00<?, ? examples/s]"
      ]
     },
     "metadata": {},
     "output_type": "display_data"
    },
    {
     "name": "stderr",
     "output_type": "stream",
     "text": [
      "/Users/gchhetri/Developer/Python/15min-city-bench/.venv/lib/python3.12/site-packages/transformers/training_args.py:1604: FutureWarning: using `no_cuda` is deprecated and will be removed in version 5.0 of 🤗 Transformers. Use `use_cpu` instead\n",
      "  warnings.warn(\n"
     ]
    },
    {
     "name": "stdout",
     "output_type": "stream",
     "text": [
      "{'loss': 0.6758, 'grad_norm': 0.891433835029602, 'learning_rate': 1.9276752767527677e-05, 'epoch': 0.18450184501845018}\n",
      "{'loss': 0.667, 'grad_norm': 3.1647918224334717, 'learning_rate': 1.8538745387453875e-05, 'epoch': 0.36900369003690037}\n",
      "{'loss': 0.6186, 'grad_norm': 5.853017330169678, 'learning_rate': 1.7800738007380077e-05, 'epoch': 0.5535055350553506}\n",
      "{'loss': 0.5942, 'grad_norm': 2.5941524505615234, 'learning_rate': 1.7062730627306276e-05, 'epoch': 0.7380073800738007}\n",
      "{'loss': 0.5473, 'grad_norm': 3.740128517150879, 'learning_rate': 1.6324723247232474e-05, 'epoch': 0.922509225092251}\n",
      "{'eval_loss': 0.5449878573417664, 'eval_accuracy': 0.7338262476894639, 'eval_f1': 0.7894736842105263, 'eval_precision': 0.7219251336898396, 'eval_recall': 0.8709677419354839, 'eval_runtime': 0.9468, 'eval_samples_per_second': 571.379, 'eval_steps_per_second': 35.909, 'epoch': 1.0}\n",
      "{'loss': 0.5174, 'grad_norm': 2.6852879524230957, 'learning_rate': 1.5586715867158672e-05, 'epoch': 1.1070110701107012}\n",
      "{'loss': 0.4698, 'grad_norm': 6.963504314422607, 'learning_rate': 1.4848708487084872e-05, 'epoch': 1.2915129151291513}\n",
      "{'loss': 0.5366, 'grad_norm': 12.174248695373535, 'learning_rate': 1.4110701107011071e-05, 'epoch': 1.4760147601476015}\n",
      "{'loss': 0.4474, 'grad_norm': 5.396435737609863, 'learning_rate': 1.3372693726937271e-05, 'epoch': 1.6605166051660518}\n",
      "{'loss': 0.5306, 'grad_norm': 4.465493679046631, 'learning_rate': 1.263468634686347e-05, 'epoch': 1.8450184501845017}\n",
      "{'eval_loss': 0.5072349309921265, 'eval_accuracy': 0.7578558225508318, 'eval_f1': 0.8030075187969925, 'eval_precision': 0.752112676056338, 'eval_recall': 0.8612903225806452, 'eval_runtime': 1.0989, 'eval_samples_per_second': 492.33, 'eval_steps_per_second': 30.941, 'epoch': 2.0}\n",
      "{'loss': 0.4486, 'grad_norm': 4.02716064453125, 'learning_rate': 1.189667896678967e-05, 'epoch': 2.029520295202952}\n",
      "{'loss': 0.4688, 'grad_norm': 14.647527694702148, 'learning_rate': 1.1158671586715868e-05, 'epoch': 2.2140221402214024}\n",
      "{'loss': 0.414, 'grad_norm': 5.323817729949951, 'learning_rate': 1.0420664206642068e-05, 'epoch': 2.3985239852398523}\n",
      "{'loss': 0.4107, 'grad_norm': 11.363423347473145, 'learning_rate': 9.682656826568266e-06, 'epoch': 2.5830258302583027}\n",
      "{'loss': 0.4249, 'grad_norm': 9.45446491241455, 'learning_rate': 8.944649446494466e-06, 'epoch': 2.767527675276753}\n",
      "{'loss': 0.4476, 'grad_norm': 9.76099681854248, 'learning_rate': 8.206642066420665e-06, 'epoch': 2.952029520295203}\n",
      "{'eval_loss': 0.5271576046943665, 'eval_accuracy': 0.7744916820702403, 'eval_f1': 0.8069620253164557, 'eval_precision': 0.7919254658385093, 'eval_recall': 0.8225806451612904, 'eval_runtime': 0.947, 'eval_samples_per_second': 571.271, 'eval_steps_per_second': 35.902, 'epoch': 3.0}\n",
      "{'train_runtime': 77.0709, 'train_samples_per_second': 140.39, 'train_steps_per_second': 17.581, 'train_loss': 0.5132410329792919, 'epoch': 3.0}\n",
      "{'eval_loss': 0.5072349309921265, 'eval_model_preparation_time': 0.0004, 'eval_accuracy': 0.7578558225508318, 'eval_f1': 0.8030075187969925, 'eval_precision': 0.752112676056338, 'eval_recall': 0.8612903225806452, 'eval_runtime': 1.128, 'eval_samples_per_second': 479.598, 'eval_steps_per_second': 30.141}\n",
      " ↪ Fold 2/5\n"
     ]
    },
    {
     "data": {
      "application/vnd.jupyter.widget-view+json": {
       "model_id": "17b107f45cbc492ebb4f4a6e7302a7b9",
       "version_major": 2,
       "version_minor": 0
      },
      "text/plain": [
       "Map:   0%|          | 0/2164 [00:00<?, ? examples/s]"
      ]
     },
     "metadata": {},
     "output_type": "display_data"
    },
    {
     "data": {
      "application/vnd.jupyter.widget-view+json": {
       "model_id": "2244ad8e7a84482f86da36d057a9835f",
       "version_major": 2,
       "version_minor": 0
      },
      "text/plain": [
       "Map:   0%|          | 0/541 [00:00<?, ? examples/s]"
      ]
     },
     "metadata": {},
     "output_type": "display_data"
    },
    {
     "name": "stderr",
     "output_type": "stream",
     "text": [
      "/Users/gchhetri/Developer/Python/15min-city-bench/.venv/lib/python3.12/site-packages/transformers/training_args.py:1604: FutureWarning: using `no_cuda` is deprecated and will be removed in version 5.0 of 🤗 Transformers. Use `use_cpu` instead\n",
      "  warnings.warn(\n"
     ]
    },
    {
     "name": "stdout",
     "output_type": "stream",
     "text": [
      "{'loss': 0.6814, 'grad_norm': 1.6446183919906616, 'learning_rate': 1.9276752767527677e-05, 'epoch': 0.18450184501845018}\n",
      "{'loss': 0.622, 'grad_norm': 3.040900707244873, 'learning_rate': 1.8538745387453875e-05, 'epoch': 0.36900369003690037}\n",
      "{'loss': 0.6371, 'grad_norm': 2.978882312774658, 'learning_rate': 1.7800738007380077e-05, 'epoch': 0.5535055350553506}\n",
      "{'loss': 0.5605, 'grad_norm': 3.0470709800720215, 'learning_rate': 1.7062730627306276e-05, 'epoch': 0.7380073800738007}\n",
      "{'loss': 0.5375, 'grad_norm': 4.322759628295898, 'learning_rate': 1.6324723247232474e-05, 'epoch': 0.922509225092251}\n",
      "{'eval_loss': 0.5265315175056458, 'eval_accuracy': 0.7523105360443623, 'eval_f1': 0.7721088435374149, 'eval_precision': 0.8165467625899281, 'eval_recall': 0.7322580645161291, 'eval_runtime': 1.0973, 'eval_samples_per_second': 493.018, 'eval_steps_per_second': 30.984, 'epoch': 1.0}\n",
      "{'loss': 0.5036, 'grad_norm': 5.643391132354736, 'learning_rate': 1.5586715867158672e-05, 'epoch': 1.1070110701107012}\n",
      "{'loss': 0.5442, 'grad_norm': 4.00276517868042, 'learning_rate': 1.4848708487084872e-05, 'epoch': 1.2915129151291513}\n",
      "{'loss': 0.4901, 'grad_norm': 15.708436012268066, 'learning_rate': 1.4110701107011071e-05, 'epoch': 1.4760147601476015}\n",
      "{'loss': 0.4412, 'grad_norm': 5.443984508514404, 'learning_rate': 1.3372693726937271e-05, 'epoch': 1.6605166051660518}\n",
      "{'loss': 0.5069, 'grad_norm': 10.888289451599121, 'learning_rate': 1.263468634686347e-05, 'epoch': 1.8450184501845017}\n",
      "{'eval_loss': 0.5046131610870361, 'eval_accuracy': 0.7800369685767098, 'eval_f1': 0.8166409861325116, 'eval_precision': 0.7817109144542773, 'eval_recall': 0.8548387096774194, 'eval_runtime': 1.1062, 'eval_samples_per_second': 489.072, 'eval_steps_per_second': 30.737, 'epoch': 2.0}\n",
      "{'loss': 0.4488, 'grad_norm': 6.80612325668335, 'learning_rate': 1.189667896678967e-05, 'epoch': 2.029520295202952}\n",
      "{'loss': 0.4142, 'grad_norm': 8.304987907409668, 'learning_rate': 1.1158671586715868e-05, 'epoch': 2.2140221402214024}\n",
      "{'loss': 0.4178, 'grad_norm': 22.736520767211914, 'learning_rate': 1.0420664206642068e-05, 'epoch': 2.3985239852398523}\n",
      "{'loss': 0.4464, 'grad_norm': 20.362628936767578, 'learning_rate': 9.682656826568266e-06, 'epoch': 2.5830258302583027}\n",
      "{'loss': 0.4219, 'grad_norm': 13.507524490356445, 'learning_rate': 8.944649446494466e-06, 'epoch': 2.767527675276753}\n",
      "{'loss': 0.3673, 'grad_norm': 11.028334617614746, 'learning_rate': 8.206642066420665e-06, 'epoch': 2.952029520295203}\n",
      "{'eval_loss': 0.5171118378639221, 'eval_accuracy': 0.7781885397412199, 'eval_f1': 0.8045602605863192, 'eval_precision': 0.8125, 'eval_recall': 0.7967741935483871, 'eval_runtime': 1.1066, 'eval_samples_per_second': 488.869, 'eval_steps_per_second': 30.724, 'epoch': 3.0}\n",
      "{'train_runtime': 78.7944, 'train_samples_per_second': 137.319, 'train_steps_per_second': 17.197, 'train_loss': 0.5011230089860942, 'epoch': 3.0}\n",
      "{'eval_loss': 0.5046131610870361, 'eval_model_preparation_time': 0.0004, 'eval_accuracy': 0.7800369685767098, 'eval_f1': 0.8166409861325116, 'eval_precision': 0.7817109144542773, 'eval_recall': 0.8548387096774194, 'eval_runtime': 1.2954, 'eval_samples_per_second': 417.629, 'eval_steps_per_second': 26.247}\n",
      " ↪ Fold 3/5\n"
     ]
    },
    {
     "data": {
      "application/vnd.jupyter.widget-view+json": {
       "model_id": "dfc985efaab64f538e999feaaf090054",
       "version_major": 2,
       "version_minor": 0
      },
      "text/plain": [
       "Map:   0%|          | 0/2164 [00:00<?, ? examples/s]"
      ]
     },
     "metadata": {},
     "output_type": "display_data"
    },
    {
     "data": {
      "application/vnd.jupyter.widget-view+json": {
       "model_id": "5bab21c19c2e410da9bfbd392544fe46",
       "version_major": 2,
       "version_minor": 0
      },
      "text/plain": [
       "Map:   0%|          | 0/541 [00:00<?, ? examples/s]"
      ]
     },
     "metadata": {},
     "output_type": "display_data"
    },
    {
     "name": "stderr",
     "output_type": "stream",
     "text": [
      "/Users/gchhetri/Developer/Python/15min-city-bench/.venv/lib/python3.12/site-packages/transformers/training_args.py:1604: FutureWarning: using `no_cuda` is deprecated and will be removed in version 5.0 of 🤗 Transformers. Use `use_cpu` instead\n",
      "  warnings.warn(\n"
     ]
    },
    {
     "name": "stdout",
     "output_type": "stream",
     "text": [
      "{'loss': 0.688, 'grad_norm': 2.111790418624878, 'learning_rate': 1.9276752767527677e-05, 'epoch': 0.18450184501845018}\n",
      "{'loss': 0.6601, 'grad_norm': 2.28493070602417, 'learning_rate': 1.8538745387453875e-05, 'epoch': 0.36900369003690037}\n",
      "{'loss': 0.6057, 'grad_norm': 6.266758918762207, 'learning_rate': 1.7800738007380077e-05, 'epoch': 0.5535055350553506}\n",
      "{'loss': 0.5587, 'grad_norm': 5.391426086425781, 'learning_rate': 1.7062730627306276e-05, 'epoch': 0.7380073800738007}\n",
      "{'loss': 0.5609, 'grad_norm': 3.717111825942993, 'learning_rate': 1.6324723247232474e-05, 'epoch': 0.922509225092251}\n",
      "{'eval_loss': 0.5372664332389832, 'eval_accuracy': 0.7282809611829945, 'eval_f1': 0.7815750371471025, 'eval_precision': 0.7245179063360881, 'eval_recall': 0.8483870967741935, 'eval_runtime': 0.9335, 'eval_samples_per_second': 579.521, 'eval_steps_per_second': 36.421, 'epoch': 1.0}\n",
      "{'loss': 0.543, 'grad_norm': 6.851960182189941, 'learning_rate': 1.5586715867158672e-05, 'epoch': 1.1070110701107012}\n",
      "{'loss': 0.4545, 'grad_norm': 8.578118324279785, 'learning_rate': 1.4848708487084872e-05, 'epoch': 1.2915129151291513}\n",
      "{'loss': 0.5088, 'grad_norm': 12.266718864440918, 'learning_rate': 1.4110701107011071e-05, 'epoch': 1.4760147601476015}\n",
      "{'loss': 0.4767, 'grad_norm': 4.84519100189209, 'learning_rate': 1.3372693726937271e-05, 'epoch': 1.6605166051660518}\n",
      "{'loss': 0.4915, 'grad_norm': 9.601551055908203, 'learning_rate': 1.263468634686347e-05, 'epoch': 1.8450184501845017}\n",
      "{'eval_loss': 0.4841976463794708, 'eval_accuracy': 0.767097966728281, 'eval_f1': 0.797427652733119, 'eval_precision': 0.7948717948717948, 'eval_recall': 0.8, 'eval_runtime': 1.1458, 'eval_samples_per_second': 472.158, 'eval_steps_per_second': 29.674, 'epoch': 2.0}\n",
      "{'loss': 0.4839, 'grad_norm': 17.792627334594727, 'learning_rate': 1.189667896678967e-05, 'epoch': 2.029520295202952}\n",
      "{'loss': 0.4328, 'grad_norm': 8.780610084533691, 'learning_rate': 1.1158671586715868e-05, 'epoch': 2.2140221402214024}\n",
      "{'loss': 0.3812, 'grad_norm': 18.703393936157227, 'learning_rate': 1.0420664206642068e-05, 'epoch': 2.3985239852398523}\n",
      "{'loss': 0.4524, 'grad_norm': 13.574044227600098, 'learning_rate': 9.682656826568266e-06, 'epoch': 2.5830258302583027}\n",
      "{'loss': 0.4871, 'grad_norm': 9.02596664428711, 'learning_rate': 8.944649446494466e-06, 'epoch': 2.767527675276753}\n",
      "{'loss': 0.3752, 'grad_norm': 29.232662200927734, 'learning_rate': 8.206642066420665e-06, 'epoch': 2.952029520295203}\n",
      "{'eval_loss': 0.5244253873825073, 'eval_accuracy': 0.7874306839186691, 'eval_f1': 0.8188976377952756, 'eval_precision': 0.8, 'eval_recall': 0.8387096774193549, 'eval_runtime': 1.0697, 'eval_samples_per_second': 505.737, 'eval_steps_per_second': 31.784, 'epoch': 3.0}\n",
      "{'train_runtime': 76.473, 'train_samples_per_second': 141.488, 'train_steps_per_second': 17.719, 'train_loss': 0.5091662846808064, 'epoch': 3.0}\n",
      "{'eval_loss': 0.4841976463794708, 'eval_model_preparation_time': 0.0004, 'eval_accuracy': 0.767097966728281, 'eval_f1': 0.797427652733119, 'eval_precision': 0.7948717948717948, 'eval_recall': 0.8, 'eval_runtime': 1.1042, 'eval_samples_per_second': 489.936, 'eval_steps_per_second': 30.791}\n",
      " ↪ Fold 4/5\n"
     ]
    },
    {
     "data": {
      "application/vnd.jupyter.widget-view+json": {
       "model_id": "d2352ec7d0574ce9b0711acd4f995632",
       "version_major": 2,
       "version_minor": 0
      },
      "text/plain": [
       "Map:   0%|          | 0/2164 [00:00<?, ? examples/s]"
      ]
     },
     "metadata": {},
     "output_type": "display_data"
    },
    {
     "data": {
      "application/vnd.jupyter.widget-view+json": {
       "model_id": "4466177b2db545598df15c53427e8457",
       "version_major": 2,
       "version_minor": 0
      },
      "text/plain": [
       "Map:   0%|          | 0/541 [00:00<?, ? examples/s]"
      ]
     },
     "metadata": {},
     "output_type": "display_data"
    },
    {
     "name": "stderr",
     "output_type": "stream",
     "text": [
      "/Users/gchhetri/Developer/Python/15min-city-bench/.venv/lib/python3.12/site-packages/transformers/training_args.py:1604: FutureWarning: using `no_cuda` is deprecated and will be removed in version 5.0 of 🤗 Transformers. Use `use_cpu` instead\n",
      "  warnings.warn(\n"
     ]
    },
    {
     "name": "stdout",
     "output_type": "stream",
     "text": [
      "{'loss': 0.6868, 'grad_norm': 0.7931824922561646, 'learning_rate': 1.9276752767527677e-05, 'epoch': 0.18450184501845018}\n",
      "{'loss': 0.6465, 'grad_norm': 2.131150007247925, 'learning_rate': 1.8538745387453875e-05, 'epoch': 0.36900369003690037}\n",
      "{'loss': 0.5975, 'grad_norm': 4.614065647125244, 'learning_rate': 1.7800738007380077e-05, 'epoch': 0.5535055350553506}\n",
      "{'loss': 0.5927, 'grad_norm': 10.01741886138916, 'learning_rate': 1.7062730627306276e-05, 'epoch': 0.7380073800738007}\n",
      "{'loss': 0.5477, 'grad_norm': 5.9681715965271, 'learning_rate': 1.6324723247232474e-05, 'epoch': 0.922509225092251}\n",
      "{'eval_loss': 0.5223366022109985, 'eval_accuracy': 0.7523105360443623, 'eval_f1': 0.7879746835443038, 'eval_precision': 0.7708978328173375, 'eval_recall': 0.8058252427184466, 'eval_runtime': 1.085, 'eval_samples_per_second': 498.6, 'eval_steps_per_second': 31.335, 'epoch': 1.0}\n",
      "{'loss': 0.5151, 'grad_norm': 9.820189476013184, 'learning_rate': 1.5586715867158672e-05, 'epoch': 1.1070110701107012}\n",
      "{'loss': 0.4965, 'grad_norm': 6.362156391143799, 'learning_rate': 1.4848708487084872e-05, 'epoch': 1.2915129151291513}\n",
      "{'loss': 0.4773, 'grad_norm': 6.964390277862549, 'learning_rate': 1.4110701107011071e-05, 'epoch': 1.4760147601476015}\n",
      "{'loss': 0.4526, 'grad_norm': 9.244678497314453, 'learning_rate': 1.3372693726937271e-05, 'epoch': 1.6605166051660518}\n",
      "{'loss': 0.513, 'grad_norm': 10.175663948059082, 'learning_rate': 1.263468634686347e-05, 'epoch': 1.8450184501845017}\n",
      "{'eval_loss': 0.532204806804657, 'eval_accuracy': 0.7634011090573013, 'eval_f1': 0.806060606060606, 'eval_precision': 0.7578347578347578, 'eval_recall': 0.86084142394822, 'eval_runtime': 1.1267, 'eval_samples_per_second': 480.144, 'eval_steps_per_second': 30.175, 'epoch': 2.0}\n",
      "{'train_runtime': 52.96, 'train_samples_per_second': 204.305, 'train_steps_per_second': 25.585, 'train_loss': 0.5473983103058875, 'epoch': 2.0}\n",
      "{'eval_loss': 0.5223366022109985, 'eval_model_preparation_time': 0.0004, 'eval_accuracy': 0.7523105360443623, 'eval_f1': 0.7879746835443038, 'eval_precision': 0.7708978328173375, 'eval_recall': 0.8058252427184466, 'eval_runtime': 1.1929, 'eval_samples_per_second': 453.528, 'eval_steps_per_second': 28.503}\n",
      " ↪ Fold 5/5\n"
     ]
    },
    {
     "data": {
      "application/vnd.jupyter.widget-view+json": {
       "model_id": "c6259d4cc970479faa95141ca6dbde09",
       "version_major": 2,
       "version_minor": 0
      },
      "text/plain": [
       "Map:   0%|          | 0/2164 [00:00<?, ? examples/s]"
      ]
     },
     "metadata": {},
     "output_type": "display_data"
    },
    {
     "data": {
      "application/vnd.jupyter.widget-view+json": {
       "model_id": "4b832c91311b409b96d214aa2530b583",
       "version_major": 2,
       "version_minor": 0
      },
      "text/plain": [
       "Map:   0%|          | 0/541 [00:00<?, ? examples/s]"
      ]
     },
     "metadata": {},
     "output_type": "display_data"
    },
    {
     "name": "stderr",
     "output_type": "stream",
     "text": [
      "/Users/gchhetri/Developer/Python/15min-city-bench/.venv/lib/python3.12/site-packages/transformers/training_args.py:1604: FutureWarning: using `no_cuda` is deprecated and will be removed in version 5.0 of 🤗 Transformers. Use `use_cpu` instead\n",
      "  warnings.warn(\n"
     ]
    },
    {
     "name": "stdout",
     "output_type": "stream",
     "text": [
      "{'loss': 0.6853, 'grad_norm': 1.328438401222229, 'learning_rate': 1.9276752767527677e-05, 'epoch': 0.18450184501845018}\n",
      "{'loss': 0.6441, 'grad_norm': 1.7439939975738525, 'learning_rate': 1.8538745387453875e-05, 'epoch': 0.36900369003690037}\n",
      "{'loss': 0.6094, 'grad_norm': 3.0900068283081055, 'learning_rate': 1.7800738007380077e-05, 'epoch': 0.5535055350553506}\n",
      "{'loss': 0.5529, 'grad_norm': 5.844950199127197, 'learning_rate': 1.7062730627306276e-05, 'epoch': 0.7380073800738007}\n",
      "{'loss': 0.5311, 'grad_norm': 6.936277866363525, 'learning_rate': 1.6324723247232474e-05, 'epoch': 0.922509225092251}\n",
      "{'eval_loss': 0.49935680627822876, 'eval_accuracy': 0.7744916820702403, 'eval_f1': 0.8157099697885196, 'eval_precision': 0.7648725212464589, 'eval_recall': 0.8737864077669902, 'eval_runtime': 1.2472, 'eval_samples_per_second': 433.771, 'eval_steps_per_second': 27.261, 'epoch': 1.0}\n",
      "{'loss': 0.4592, 'grad_norm': 11.82394027709961, 'learning_rate': 1.5586715867158672e-05, 'epoch': 1.1070110701107012}\n",
      "{'loss': 0.5104, 'grad_norm': 6.749191761016846, 'learning_rate': 1.4848708487084872e-05, 'epoch': 1.2915129151291513}\n",
      "{'loss': 0.4735, 'grad_norm': 10.83111572265625, 'learning_rate': 1.4110701107011071e-05, 'epoch': 1.4760147601476015}\n",
      "{'loss': 0.4483, 'grad_norm': 7.574835300445557, 'learning_rate': 1.3372693726937271e-05, 'epoch': 1.6605166051660518}\n",
      "{'loss': 0.4827, 'grad_norm': 5.293222427368164, 'learning_rate': 1.263468634686347e-05, 'epoch': 1.8450184501845017}\n",
      "{'eval_loss': 0.529694139957428, 'eval_accuracy': 0.767097966728281, 'eval_f1': 0.8141592920353983, 'eval_precision': 0.7479674796747967, 'eval_recall': 0.8932038834951457, 'eval_runtime': 0.9798, 'eval_samples_per_second': 552.154, 'eval_steps_per_second': 34.701, 'epoch': 2.0}\n",
      "{'train_runtime': 53.3344, 'train_samples_per_second': 202.871, 'train_steps_per_second': 25.406, 'train_loss': 0.5373312327254742, 'epoch': 2.0}\n",
      "{'eval_loss': 0.49935680627822876, 'eval_model_preparation_time': 0.0005, 'eval_accuracy': 0.7744916820702403, 'eval_f1': 0.8157099697885196, 'eval_precision': 0.7648725212464589, 'eval_recall': 0.8737864077669902, 'eval_runtime': 1.1549, 'eval_samples_per_second': 468.457, 'eval_steps_per_second': 29.441}\n",
      "\n",
      "🔍 Model: google/electra-small-discriminator\n",
      " ↪ Fold 1/5\n"
     ]
    },
    {
     "data": {
      "application/vnd.jupyter.widget-view+json": {
       "model_id": "f92f09b04c1a4d9993984145cc99e7a8",
       "version_major": 2,
       "version_minor": 0
      },
      "text/plain": [
       "Map:   0%|          | 0/2164 [00:00<?, ? examples/s]"
      ]
     },
     "metadata": {},
     "output_type": "display_data"
    },
    {
     "data": {
      "application/vnd.jupyter.widget-view+json": {
       "model_id": "4aef0c3503604675b7d20b4849dbccda",
       "version_major": 2,
       "version_minor": 0
      },
      "text/plain": [
       "Map:   0%|          | 0/541 [00:00<?, ? examples/s]"
      ]
     },
     "metadata": {},
     "output_type": "display_data"
    },
    {
     "name": "stderr",
     "output_type": "stream",
     "text": [
      "/Users/gchhetri/Developer/Python/15min-city-bench/.venv/lib/python3.12/site-packages/transformers/training_args.py:1604: FutureWarning: using `no_cuda` is deprecated and will be removed in version 5.0 of 🤗 Transformers. Use `use_cpu` instead\n",
      "  warnings.warn(\n"
     ]
    },
    {
     "name": "stdout",
     "output_type": "stream",
     "text": [
      "{'loss': 0.6706, 'grad_norm': 1.0456337928771973, 'learning_rate': 1.9276752767527677e-05, 'epoch': 0.18450184501845018}\n",
      "{'loss': 0.6666, 'grad_norm': 2.429389715194702, 'learning_rate': 1.8538745387453875e-05, 'epoch': 0.36900369003690037}\n",
      "{'loss': 0.6475, 'grad_norm': 4.233270168304443, 'learning_rate': 1.7800738007380077e-05, 'epoch': 0.5535055350553506}\n",
      "{'loss': 0.623, 'grad_norm': 2.390976905822754, 'learning_rate': 1.7062730627306276e-05, 'epoch': 0.7380073800738007}\n",
      "{'loss': 0.5805, 'grad_norm': 4.893255233764648, 'learning_rate': 1.6324723247232474e-05, 'epoch': 0.922509225092251}\n",
      "{'eval_loss': 0.5680114030838013, 'eval_accuracy': 0.7171903881700554, 'eval_f1': 0.777292576419214, 'eval_precision': 0.7082228116710876, 'eval_recall': 0.8612903225806452, 'eval_runtime': 1.7506, 'eval_samples_per_second': 309.045, 'eval_steps_per_second': 19.422, 'epoch': 1.0}\n",
      "{'loss': 0.5609, 'grad_norm': 4.455507278442383, 'learning_rate': 1.5586715867158672e-05, 'epoch': 1.1070110701107012}\n",
      "{'loss': 0.5099, 'grad_norm': 4.063070774078369, 'learning_rate': 1.4848708487084872e-05, 'epoch': 1.2915129151291513}\n",
      "{'loss': 0.5513, 'grad_norm': 7.047718524932861, 'learning_rate': 1.4110701107011071e-05, 'epoch': 1.4760147601476015}\n",
      "{'loss': 0.4856, 'grad_norm': 3.239515781402588, 'learning_rate': 1.3372693726937271e-05, 'epoch': 1.6605166051660518}\n",
      "{'loss': 0.5551, 'grad_norm': 5.663821220397949, 'learning_rate': 1.263468634686347e-05, 'epoch': 1.8450184501845017}\n",
      "{'eval_loss': 0.5216572284698486, 'eval_accuracy': 0.7338262476894639, 'eval_f1': 0.7728706624605678, 'eval_precision': 0.7561728395061729, 'eval_recall': 0.7903225806451613, 'eval_runtime': 1.6428, 'eval_samples_per_second': 329.319, 'eval_steps_per_second': 20.697, 'epoch': 2.0}\n",
      "{'loss': 0.5002, 'grad_norm': 3.660494089126587, 'learning_rate': 1.189667896678967e-05, 'epoch': 2.029520295202952}\n",
      "{'loss': 0.4856, 'grad_norm': 10.52316665649414, 'learning_rate': 1.1158671586715868e-05, 'epoch': 2.2140221402214024}\n",
      "{'loss': 0.4335, 'grad_norm': 5.4632720947265625, 'learning_rate': 1.0420664206642068e-05, 'epoch': 2.3985239852398523}\n",
      "{'loss': 0.4429, 'grad_norm': 6.621538162231445, 'learning_rate': 9.682656826568266e-06, 'epoch': 2.5830258302583027}\n",
      "{'loss': 0.454, 'grad_norm': 16.80376625061035, 'learning_rate': 8.944649446494466e-06, 'epoch': 2.767527675276753}\n",
      "{'loss': 0.4673, 'grad_norm': 10.980215072631836, 'learning_rate': 8.206642066420665e-06, 'epoch': 2.952029520295203}\n",
      "{'eval_loss': 0.5239246487617493, 'eval_accuracy': 0.767097966728281, 'eval_f1': 0.8, 'eval_precision': 0.7875, 'eval_recall': 0.8129032258064516, 'eval_runtime': 1.8945, 'eval_samples_per_second': 285.568, 'eval_steps_per_second': 17.947, 'epoch': 3.0}\n",
      "{'train_runtime': 87.4942, 'train_samples_per_second': 123.665, 'train_steps_per_second': 15.487, 'train_loss': 0.5390033334823552, 'epoch': 3.0}\n",
      "{'eval_loss': 0.5216572284698486, 'eval_model_preparation_time': 0.0008, 'eval_accuracy': 0.7338262476894639, 'eval_f1': 0.7728706624605678, 'eval_precision': 0.7561728395061729, 'eval_recall': 0.7903225806451613, 'eval_runtime': 2.2568, 'eval_samples_per_second': 239.723, 'eval_steps_per_second': 15.066}\n",
      " ↪ Fold 2/5\n"
     ]
    },
    {
     "data": {
      "application/vnd.jupyter.widget-view+json": {
       "model_id": "74ac950cc58c4908a0ce7443332eaeaa",
       "version_major": 2,
       "version_minor": 0
      },
      "text/plain": [
       "Map:   0%|          | 0/2164 [00:00<?, ? examples/s]"
      ]
     },
     "metadata": {},
     "output_type": "display_data"
    },
    {
     "data": {
      "application/vnd.jupyter.widget-view+json": {
       "model_id": "30e92781c78842268d7c9849a4cd74eb",
       "version_major": 2,
       "version_minor": 0
      },
      "text/plain": [
       "Map:   0%|          | 0/541 [00:00<?, ? examples/s]"
      ]
     },
     "metadata": {},
     "output_type": "display_data"
    },
    {
     "name": "stderr",
     "output_type": "stream",
     "text": [
      "/Users/gchhetri/Developer/Python/15min-city-bench/.venv/lib/python3.12/site-packages/transformers/training_args.py:1604: FutureWarning: using `no_cuda` is deprecated and will be removed in version 5.0 of 🤗 Transformers. Use `use_cpu` instead\n",
      "  warnings.warn(\n"
     ]
    },
    {
     "name": "stdout",
     "output_type": "stream",
     "text": [
      "{'loss': 0.6754, 'grad_norm': 1.4552444219589233, 'learning_rate': 1.9276752767527677e-05, 'epoch': 0.18450184501845018}\n",
      "{'loss': 0.6459, 'grad_norm': 1.7439923286437988, 'learning_rate': 1.8538745387453875e-05, 'epoch': 0.36900369003690037}\n",
      "{'loss': 0.6535, 'grad_norm': 2.3988430500030518, 'learning_rate': 1.7800738007380077e-05, 'epoch': 0.5535055350553506}\n",
      "{'loss': 0.6124, 'grad_norm': 2.664525032043457, 'learning_rate': 1.7062730627306276e-05, 'epoch': 0.7380073800738007}\n",
      "{'loss': 0.5879, 'grad_norm': 3.1489944458007812, 'learning_rate': 1.6324723247232474e-05, 'epoch': 0.922509225092251}\n",
      "{'eval_loss': 0.5614460706710815, 'eval_accuracy': 0.7245841035120147, 'eval_f1': 0.7569331158238173, 'eval_precision': 0.7656765676567657, 'eval_recall': 0.7483870967741936, 'eval_runtime': 1.5394, 'eval_samples_per_second': 351.442, 'eval_steps_per_second': 22.087, 'epoch': 1.0}\n",
      "{'loss': 0.5647, 'grad_norm': 5.5065226554870605, 'learning_rate': 1.5586715867158672e-05, 'epoch': 1.1070110701107012}\n",
      "{'loss': 0.5758, 'grad_norm': 3.2262489795684814, 'learning_rate': 1.4848708487084872e-05, 'epoch': 1.2915129151291513}\n",
      "{'loss': 0.5378, 'grad_norm': 5.803066253662109, 'learning_rate': 1.4110701107011071e-05, 'epoch': 1.4760147601476015}\n",
      "{'loss': 0.493, 'grad_norm': 8.253668785095215, 'learning_rate': 1.3372693726937271e-05, 'epoch': 1.6605166051660518}\n",
      "{'loss': 0.521, 'grad_norm': 7.64608097076416, 'learning_rate': 1.263468634686347e-05, 'epoch': 1.8450184501845017}\n",
      "{'eval_loss': 0.5069645643234253, 'eval_accuracy': 0.7523105360443623, 'eval_f1': 0.7957317073170732, 'eval_precision': 0.7543352601156069, 'eval_recall': 0.8419354838709677, 'eval_runtime': 1.5223, 'eval_samples_per_second': 355.376, 'eval_steps_per_second': 22.334, 'epoch': 2.0}\n",
      "{'loss': 0.4758, 'grad_norm': 3.9879744052886963, 'learning_rate': 1.189667896678967e-05, 'epoch': 2.029520295202952}\n",
      "{'loss': 0.4343, 'grad_norm': 10.808878898620605, 'learning_rate': 1.1158671586715868e-05, 'epoch': 2.2140221402214024}\n",
      "{'loss': 0.4382, 'grad_norm': 14.453776359558105, 'learning_rate': 1.0420664206642068e-05, 'epoch': 2.3985239852398523}\n",
      "{'loss': 0.5168, 'grad_norm': 15.221918106079102, 'learning_rate': 9.682656826568266e-06, 'epoch': 2.5830258302583027}\n",
      "{'loss': 0.4398, 'grad_norm': 6.150838851928711, 'learning_rate': 8.944649446494466e-06, 'epoch': 2.767527675276753}\n",
      "{'loss': 0.4264, 'grad_norm': 5.957521438598633, 'learning_rate': 8.206642066420665e-06, 'epoch': 2.952029520295203}\n",
      "{'eval_loss': 0.4950047731399536, 'eval_accuracy': 0.767097966728281, 'eval_f1': 0.7835051546391752, 'eval_precision': 0.8382352941176471, 'eval_recall': 0.7354838709677419, 'eval_runtime': 1.4764, 'eval_samples_per_second': 366.434, 'eval_steps_per_second': 23.029, 'epoch': 3.0}\n",
      "{'loss': 0.4143, 'grad_norm': 12.776002883911133, 'learning_rate': 7.468634686346864e-06, 'epoch': 3.1365313653136533}\n",
      "{'loss': 0.409, 'grad_norm': 10.345924377441406, 'learning_rate': 6.730627306273063e-06, 'epoch': 3.321033210332103}\n",
      "{'loss': 0.4008, 'grad_norm': 13.029167175292969, 'learning_rate': 5.9926199261992625e-06, 'epoch': 3.5055350553505535}\n",
      "{'loss': 0.3835, 'grad_norm': 14.481529235839844, 'learning_rate': 5.254612546125462e-06, 'epoch': 3.6900369003690034}\n",
      "{'loss': 0.4122, 'grad_norm': 10.02595329284668, 'learning_rate': 4.516605166051661e-06, 'epoch': 3.874538745387454}\n",
      "{'eval_loss': 0.5269548892974854, 'eval_accuracy': 0.7652495378927912, 'eval_f1': 0.8107302533532041, 'eval_precision': 0.7534626038781164, 'eval_recall': 0.8774193548387097, 'eval_runtime': 1.4747, 'eval_samples_per_second': 366.857, 'eval_steps_per_second': 23.056, 'epoch': 4.0}\n",
      "{'train_runtime': 112.4258, 'train_samples_per_second': 96.241, 'train_steps_per_second': 12.052, 'train_loss': 0.5015899897501478, 'epoch': 4.0}\n",
      "{'eval_loss': 0.4950047731399536, 'eval_model_preparation_time': 0.0008, 'eval_accuracy': 0.767097966728281, 'eval_f1': 0.7835051546391752, 'eval_precision': 0.8382352941176471, 'eval_recall': 0.7354838709677419, 'eval_runtime': 1.571, 'eval_samples_per_second': 344.372, 'eval_steps_per_second': 21.643}\n",
      " ↪ Fold 3/5\n"
     ]
    },
    {
     "data": {
      "application/vnd.jupyter.widget-view+json": {
       "model_id": "e695b9c611864112b1dac62a5aa69ad2",
       "version_major": 2,
       "version_minor": 0
      },
      "text/plain": [
       "Map:   0%|          | 0/2164 [00:00<?, ? examples/s]"
      ]
     },
     "metadata": {},
     "output_type": "display_data"
    },
    {
     "data": {
      "application/vnd.jupyter.widget-view+json": {
       "model_id": "fc0999cf5246418fa91cbdcb582fa938",
       "version_major": 2,
       "version_minor": 0
      },
      "text/plain": [
       "Map:   0%|          | 0/541 [00:00<?, ? examples/s]"
      ]
     },
     "metadata": {},
     "output_type": "display_data"
    },
    {
     "name": "stderr",
     "output_type": "stream",
     "text": [
      "/Users/gchhetri/Developer/Python/15min-city-bench/.venv/lib/python3.12/site-packages/transformers/training_args.py:1604: FutureWarning: using `no_cuda` is deprecated and will be removed in version 5.0 of 🤗 Transformers. Use `use_cpu` instead\n",
      "  warnings.warn(\n"
     ]
    },
    {
     "name": "stdout",
     "output_type": "stream",
     "text": [
      "{'loss': 0.6833, 'grad_norm': 1.755516529083252, 'learning_rate': 1.9276752767527677e-05, 'epoch': 0.18450184501845018}\n",
      "{'loss': 0.66, 'grad_norm': 1.5060088634490967, 'learning_rate': 1.8538745387453875e-05, 'epoch': 0.36900369003690037}\n",
      "{'loss': 0.6453, 'grad_norm': 2.8222436904907227, 'learning_rate': 1.7800738007380077e-05, 'epoch': 0.5535055350553506}\n",
      "{'loss': 0.6148, 'grad_norm': 2.955977439880371, 'learning_rate': 1.7062730627306276e-05, 'epoch': 0.7380073800738007}\n",
      "{'loss': 0.6125, 'grad_norm': 2.8826375007629395, 'learning_rate': 1.6324723247232474e-05, 'epoch': 0.922509225092251}\n",
      "{'eval_loss': 0.5843824744224548, 'eval_accuracy': 0.7153419593345656, 'eval_f1': 0.7830985915492957, 'eval_precision': 0.695, 'eval_recall': 0.896774193548387, 'eval_runtime': 1.8465, 'eval_samples_per_second': 292.993, 'eval_steps_per_second': 18.414, 'epoch': 1.0}\n",
      "{'loss': 0.592, 'grad_norm': 4.876107692718506, 'learning_rate': 1.5586715867158672e-05, 'epoch': 1.1070110701107012}\n",
      "{'loss': 0.5454, 'grad_norm': 8.371244430541992, 'learning_rate': 1.4848708487084872e-05, 'epoch': 1.2915129151291513}\n",
      "{'loss': 0.5344, 'grad_norm': 6.855348110198975, 'learning_rate': 1.4110701107011071e-05, 'epoch': 1.4760147601476015}\n",
      "{'loss': 0.5281, 'grad_norm': 7.545343399047852, 'learning_rate': 1.3372693726937271e-05, 'epoch': 1.6605166051660518}\n",
      "{'loss': 0.5314, 'grad_norm': 10.025130271911621, 'learning_rate': 1.263468634686347e-05, 'epoch': 1.8450184501845017}\n",
      "{'eval_loss': 0.5123853087425232, 'eval_accuracy': 0.7597042513863216, 'eval_f1': 0.8071216617210683, 'eval_precision': 0.7472527472527473, 'eval_recall': 0.8774193548387097, 'eval_runtime': 1.9084, 'eval_samples_per_second': 283.481, 'eval_steps_per_second': 17.816, 'epoch': 2.0}\n",
      "{'loss': 0.5549, 'grad_norm': 6.738640785217285, 'learning_rate': 1.189667896678967e-05, 'epoch': 2.029520295202952}\n",
      "{'loss': 0.4949, 'grad_norm': 15.143377304077148, 'learning_rate': 1.1158671586715868e-05, 'epoch': 2.2140221402214024}\n",
      "{'loss': 0.4617, 'grad_norm': 3.85441517829895, 'learning_rate': 1.0420664206642068e-05, 'epoch': 2.3985239852398523}\n",
      "{'loss': 0.4993, 'grad_norm': 7.125458240509033, 'learning_rate': 9.682656826568266e-06, 'epoch': 2.5830258302583027}\n",
      "{'loss': 0.4963, 'grad_norm': 12.724259376525879, 'learning_rate': 8.944649446494466e-06, 'epoch': 2.767527675276753}\n",
      "{'loss': 0.4352, 'grad_norm': 13.967171669006348, 'learning_rate': 8.206642066420665e-06, 'epoch': 2.952029520295203}\n",
      "{'eval_loss': 0.49841997027397156, 'eval_accuracy': 0.7781885397412199, 'eval_f1': 0.8095238095238095, 'eval_precision': 0.796875, 'eval_recall': 0.8225806451612904, 'eval_runtime': 1.8883, 'eval_samples_per_second': 286.503, 'eval_steps_per_second': 18.006, 'epoch': 3.0}\n",
      "{'loss': 0.4781, 'grad_norm': 16.890810012817383, 'learning_rate': 7.468634686346864e-06, 'epoch': 3.1365313653136533}\n",
      "{'loss': 0.4456, 'grad_norm': 8.580499649047852, 'learning_rate': 6.730627306273063e-06, 'epoch': 3.321033210332103}\n",
      "{'loss': 0.4162, 'grad_norm': 12.914058685302734, 'learning_rate': 5.9926199261992625e-06, 'epoch': 3.5055350553505535}\n",
      "{'loss': 0.3901, 'grad_norm': 10.02307415008545, 'learning_rate': 5.254612546125462e-06, 'epoch': 3.6900369003690034}\n",
      "{'loss': 0.4277, 'grad_norm': 2.4580986499786377, 'learning_rate': 4.516605166051661e-06, 'epoch': 3.874538745387454}\n",
      "{'eval_loss': 0.4943694770336151, 'eval_accuracy': 0.7726432532347505, 'eval_f1': 0.7925801011804384, 'eval_precision': 0.8303886925795053, 'eval_recall': 0.7580645161290323, 'eval_runtime': 1.8782, 'eval_samples_per_second': 288.039, 'eval_steps_per_second': 18.102, 'epoch': 4.0}\n",
      "{'loss': 0.4007, 'grad_norm': 26.21567153930664, 'learning_rate': 3.77859778597786e-06, 'epoch': 4.059040590405904}\n",
      "{'loss': 0.3837, 'grad_norm': 11.138785362243652, 'learning_rate': 3.040590405904059e-06, 'epoch': 4.243542435424354}\n",
      "{'loss': 0.3982, 'grad_norm': 4.660371780395508, 'learning_rate': 2.3025830258302582e-06, 'epoch': 4.428044280442805}\n",
      "{'loss': 0.4008, 'grad_norm': 4.3548583984375, 'learning_rate': 1.5645756457564577e-06, 'epoch': 4.612546125461255}\n",
      "{'loss': 0.3988, 'grad_norm': 3.7961864471435547, 'learning_rate': 8.265682656826569e-07, 'epoch': 4.797047970479705}\n",
      "{'loss': 0.4107, 'grad_norm': 14.333635330200195, 'learning_rate': 8.85608856088561e-08, 'epoch': 4.9815498154981555}\n",
      "{'eval_loss': 0.5074129104614258, 'eval_accuracy': 0.7726432532347505, 'eval_f1': 0.8110599078341014, 'eval_precision': 0.7741935483870968, 'eval_recall': 0.8516129032258064, 'eval_runtime': 1.7354, 'eval_samples_per_second': 311.737, 'eval_steps_per_second': 19.592, 'epoch': 5.0}\n",
      "{'train_runtime': 144.2412, 'train_samples_per_second': 75.013, 'train_steps_per_second': 9.394, 'train_loss': 0.49791289343605183, 'epoch': 5.0}\n",
      "{'eval_loss': 0.4943694770336151, 'eval_model_preparation_time': 0.0008, 'eval_accuracy': 0.7726432532347505, 'eval_f1': 0.7925801011804384, 'eval_precision': 0.8303886925795053, 'eval_recall': 0.7580645161290323, 'eval_runtime': 2.0033, 'eval_samples_per_second': 270.056, 'eval_steps_per_second': 16.972}\n",
      " ↪ Fold 4/5\n"
     ]
    },
    {
     "data": {
      "application/vnd.jupyter.widget-view+json": {
       "model_id": "cf290329bfa94d159d8f17f42b6363bf",
       "version_major": 2,
       "version_minor": 0
      },
      "text/plain": [
       "Map:   0%|          | 0/2164 [00:00<?, ? examples/s]"
      ]
     },
     "metadata": {},
     "output_type": "display_data"
    },
    {
     "data": {
      "application/vnd.jupyter.widget-view+json": {
       "model_id": "8a3ece3de9fc45e6a4edab584b0ce20a",
       "version_major": 2,
       "version_minor": 0
      },
      "text/plain": [
       "Map:   0%|          | 0/541 [00:00<?, ? examples/s]"
      ]
     },
     "metadata": {},
     "output_type": "display_data"
    },
    {
     "name": "stderr",
     "output_type": "stream",
     "text": [
      "/Users/gchhetri/Developer/Python/15min-city-bench/.venv/lib/python3.12/site-packages/transformers/training_args.py:1604: FutureWarning: using `no_cuda` is deprecated and will be removed in version 5.0 of 🤗 Transformers. Use `use_cpu` instead\n",
      "  warnings.warn(\n"
     ]
    },
    {
     "name": "stdout",
     "output_type": "stream",
     "text": [
      "{'loss': 0.68, 'grad_norm': 1.1564017534255981, 'learning_rate': 1.9276752767527677e-05, 'epoch': 0.18450184501845018}\n",
      "{'loss': 0.6518, 'grad_norm': 3.4106643199920654, 'learning_rate': 1.8538745387453875e-05, 'epoch': 0.36900369003690037}\n",
      "{'loss': 0.6369, 'grad_norm': 3.584158182144165, 'learning_rate': 1.7800738007380077e-05, 'epoch': 0.5535055350553506}\n",
      "{'loss': 0.6263, 'grad_norm': 4.425158977508545, 'learning_rate': 1.7062730627306276e-05, 'epoch': 0.7380073800738007}\n",
      "{'loss': 0.6107, 'grad_norm': 2.801501512527466, 'learning_rate': 1.6324723247232474e-05, 'epoch': 0.922509225092251}\n",
      "{'eval_loss': 0.5884409546852112, 'eval_accuracy': 0.711645101663586, 'eval_f1': 0.7732558139534884, 'eval_precision': 0.7018469656992085, 'eval_recall': 0.86084142394822, 'eval_runtime': 1.5038, 'eval_samples_per_second': 359.746, 'eval_steps_per_second': 22.609, 'epoch': 1.0}\n",
      "{'loss': 0.5767, 'grad_norm': 3.0217182636260986, 'learning_rate': 1.5586715867158672e-05, 'epoch': 1.1070110701107012}\n",
      "{'loss': 0.5632, 'grad_norm': 4.478481769561768, 'learning_rate': 1.4848708487084872e-05, 'epoch': 1.2915129151291513}\n",
      "{'loss': 0.5477, 'grad_norm': 6.031150817871094, 'learning_rate': 1.4110701107011071e-05, 'epoch': 1.4760147601476015}\n",
      "{'loss': 0.5072, 'grad_norm': 5.650233268737793, 'learning_rate': 1.3372693726937271e-05, 'epoch': 1.6605166051660518}\n",
      "{'loss': 0.5391, 'grad_norm': 7.241168022155762, 'learning_rate': 1.263468634686347e-05, 'epoch': 1.8450184501845017}\n",
      "{'eval_loss': 0.5269272327423096, 'eval_accuracy': 0.7523105360443623, 'eval_f1': 0.797583081570997, 'eval_precision': 0.7478753541076487, 'eval_recall': 0.8543689320388349, 'eval_runtime': 1.4626, 'eval_samples_per_second': 369.893, 'eval_steps_per_second': 23.246, 'epoch': 2.0}\n",
      "{'loss': 0.4996, 'grad_norm': 5.920715808868408, 'learning_rate': 1.189667896678967e-05, 'epoch': 2.029520295202952}\n",
      "{'loss': 0.4445, 'grad_norm': 4.032529830932617, 'learning_rate': 1.1158671586715868e-05, 'epoch': 2.2140221402214024}\n",
      "{'loss': 0.4679, 'grad_norm': 5.304721832275391, 'learning_rate': 1.0420664206642068e-05, 'epoch': 2.3985239852398523}\n",
      "{'loss': 0.488, 'grad_norm': 6.194744110107422, 'learning_rate': 9.682656826568266e-06, 'epoch': 2.5830258302583027}\n",
      "{'loss': 0.4624, 'grad_norm': 2.372532606124878, 'learning_rate': 8.944649446494466e-06, 'epoch': 2.767527675276753}\n",
      "{'loss': 0.4416, 'grad_norm': 6.398229598999023, 'learning_rate': 8.206642066420665e-06, 'epoch': 2.952029520295203}\n",
      "{'eval_loss': 0.5171433091163635, 'eval_accuracy': 0.7486136783733827, 'eval_f1': 0.7875, 'eval_precision': 0.7613293051359517, 'eval_recall': 0.8155339805825242, 'eval_runtime': 1.5044, 'eval_samples_per_second': 359.617, 'eval_steps_per_second': 22.601, 'epoch': 3.0}\n",
      "{'loss': 0.4798, 'grad_norm': 3.5620312690734863, 'learning_rate': 7.468634686346864e-06, 'epoch': 3.1365313653136533}\n",
      "{'loss': 0.4235, 'grad_norm': 9.639341354370117, 'learning_rate': 6.730627306273063e-06, 'epoch': 3.321033210332103}\n",
      "{'loss': 0.3955, 'grad_norm': 11.31283950805664, 'learning_rate': 5.9926199261992625e-06, 'epoch': 3.5055350553505535}\n",
      "{'loss': 0.3882, 'grad_norm': 6.459001541137695, 'learning_rate': 5.254612546125462e-06, 'epoch': 3.6900369003690034}\n",
      "{'loss': 0.4125, 'grad_norm': 10.770421028137207, 'learning_rate': 4.516605166051661e-06, 'epoch': 3.874538745387454}\n",
      "{'eval_loss': 0.564892053604126, 'eval_accuracy': 0.7356746765249538, 'eval_f1': 0.7856071964017991, 'eval_precision': 0.7318435754189944, 'eval_recall': 0.8478964401294499, 'eval_runtime': 1.6454, 'eval_samples_per_second': 328.795, 'eval_steps_per_second': 20.664, 'epoch': 4.0}\n",
      "{'train_runtime': 111.8267, 'train_samples_per_second': 96.757, 'train_steps_per_second': 12.117, 'train_loss': 0.512003604776305, 'epoch': 4.0}\n",
      "{'eval_loss': 0.5171433091163635, 'eval_model_preparation_time': 0.0008, 'eval_accuracy': 0.7486136783733827, 'eval_f1': 0.7875, 'eval_precision': 0.7613293051359517, 'eval_recall': 0.8155339805825242, 'eval_runtime': 1.4916, 'eval_samples_per_second': 362.7, 'eval_steps_per_second': 22.794}\n",
      " ↪ Fold 5/5\n"
     ]
    },
    {
     "data": {
      "application/vnd.jupyter.widget-view+json": {
       "model_id": "9dcb9e745d664994a0fdf7d06d4f2ed6",
       "version_major": 2,
       "version_minor": 0
      },
      "text/plain": [
       "Map:   0%|          | 0/2164 [00:00<?, ? examples/s]"
      ]
     },
     "metadata": {},
     "output_type": "display_data"
    },
    {
     "data": {
      "application/vnd.jupyter.widget-view+json": {
       "model_id": "5886069de9564f7bb18a049506bc5555",
       "version_major": 2,
       "version_minor": 0
      },
      "text/plain": [
       "Map:   0%|          | 0/541 [00:00<?, ? examples/s]"
      ]
     },
     "metadata": {},
     "output_type": "display_data"
    },
    {
     "name": "stderr",
     "output_type": "stream",
     "text": [
      "/Users/gchhetri/Developer/Python/15min-city-bench/.venv/lib/python3.12/site-packages/transformers/training_args.py:1604: FutureWarning: using `no_cuda` is deprecated and will be removed in version 5.0 of 🤗 Transformers. Use `use_cpu` instead\n",
      "  warnings.warn(\n"
     ]
    },
    {
     "name": "stdout",
     "output_type": "stream",
     "text": [
      "{'loss': 0.6819, 'grad_norm': 1.6870958805084229, 'learning_rate': 1.9276752767527677e-05, 'epoch': 0.18450184501845018}\n",
      "{'loss': 0.6576, 'grad_norm': 1.299269199371338, 'learning_rate': 1.8538745387453875e-05, 'epoch': 0.36900369003690037}\n",
      "{'loss': 0.6513, 'grad_norm': 2.0378713607788086, 'learning_rate': 1.7800738007380077e-05, 'epoch': 0.5535055350553506}\n",
      "{'loss': 0.5909, 'grad_norm': 3.805234432220459, 'learning_rate': 1.7062730627306276e-05, 'epoch': 0.7380073800738007}\n",
      "{'loss': 0.5841, 'grad_norm': 2.729715585708618, 'learning_rate': 1.6324723247232474e-05, 'epoch': 0.922509225092251}\n",
      "{'eval_loss': 0.5385247468948364, 'eval_accuracy': 0.756007393715342, 'eval_f1': 0.7962962962962963, 'eval_precision': 0.7610619469026548, 'eval_recall': 0.8349514563106796, 'eval_runtime': 1.5164, 'eval_samples_per_second': 356.765, 'eval_steps_per_second': 22.421, 'epoch': 1.0}\n",
      "{'loss': 0.5264, 'grad_norm': 6.826160907745361, 'learning_rate': 1.5586715867158672e-05, 'epoch': 1.1070110701107012}\n",
      "{'loss': 0.5249, 'grad_norm': 9.471855163574219, 'learning_rate': 1.4848708487084872e-05, 'epoch': 1.2915129151291513}\n",
      "{'loss': 0.5203, 'grad_norm': 4.744584083557129, 'learning_rate': 1.4110701107011071e-05, 'epoch': 1.4760147601476015}\n",
      "{'loss': 0.4843, 'grad_norm': 11.909701347351074, 'learning_rate': 1.3372693726937271e-05, 'epoch': 1.6605166051660518}\n",
      "{'loss': 0.5196, 'grad_norm': 2.641141653060913, 'learning_rate': 1.263468634686347e-05, 'epoch': 1.8450184501845017}\n",
      "{'eval_loss': 0.5156057476997375, 'eval_accuracy': 0.7615526802218114, 'eval_f1': 0.8111273792093704, 'eval_precision': 0.7406417112299465, 'eval_recall': 0.8964401294498382, 'eval_runtime': 1.7578, 'eval_samples_per_second': 307.771, 'eval_steps_per_second': 19.342, 'epoch': 2.0}\n",
      "{'loss': 0.5066, 'grad_norm': 6.732268333435059, 'learning_rate': 1.189667896678967e-05, 'epoch': 2.029520295202952}\n",
      "{'loss': 0.4388, 'grad_norm': 8.395023345947266, 'learning_rate': 1.1158671586715868e-05, 'epoch': 2.2140221402214024}\n",
      "{'loss': 0.4312, 'grad_norm': 6.943046569824219, 'learning_rate': 1.0420664206642068e-05, 'epoch': 2.3985239852398523}\n",
      "{'loss': 0.5032, 'grad_norm': 2.9276955127716064, 'learning_rate': 9.682656826568266e-06, 'epoch': 2.5830258302583027}\n",
      "{'loss': 0.4245, 'grad_norm': 4.26996374130249, 'learning_rate': 8.944649446494466e-06, 'epoch': 2.767527675276753}\n",
      "{'loss': 0.4158, 'grad_norm': 11.60062313079834, 'learning_rate': 8.206642066420665e-06, 'epoch': 2.952029520295203}\n",
      "{'eval_loss': 0.5037861466407776, 'eval_accuracy': 0.7781885397412199, 'eval_f1': 0.8125, 'eval_precision': 0.7854984894259819, 'eval_recall': 0.8414239482200647, 'eval_runtime': 1.8418, 'eval_samples_per_second': 293.733, 'eval_steps_per_second': 18.46, 'epoch': 3.0}\n",
      "{'loss': 0.4205, 'grad_norm': 7.284976959228516, 'learning_rate': 7.468634686346864e-06, 'epoch': 3.1365313653136533}\n",
      "{'loss': 0.418, 'grad_norm': 5.3838605880737305, 'learning_rate': 6.730627306273063e-06, 'epoch': 3.321033210332103}\n",
      "{'loss': 0.3942, 'grad_norm': 4.124778747558594, 'learning_rate': 5.9926199261992625e-06, 'epoch': 3.5055350553505535}\n",
      "{'loss': 0.3632, 'grad_norm': 11.878693580627441, 'learning_rate': 5.254612546125462e-06, 'epoch': 3.6900369003690034}\n",
      "{'loss': 0.424, 'grad_norm': 21.9459285736084, 'learning_rate': 4.516605166051661e-06, 'epoch': 3.874538745387454}\n",
      "{'eval_loss': 0.5330241918563843, 'eval_accuracy': 0.7707948243992606, 'eval_f1': 0.8109756097560976, 'eval_precision': 0.7665706051873199, 'eval_recall': 0.86084142394822, 'eval_runtime': 1.6176, 'eval_samples_per_second': 334.441, 'eval_steps_per_second': 21.018, 'epoch': 4.0}\n",
      "{'train_runtime': 114.2573, 'train_samples_per_second': 94.699, 'train_steps_per_second': 11.859, 'train_loss': 0.4941009278666929, 'epoch': 4.0}\n",
      "{'eval_loss': 0.5037861466407776, 'eval_model_preparation_time': 0.0045, 'eval_accuracy': 0.7781885397412199, 'eval_f1': 0.8125, 'eval_precision': 0.7854984894259819, 'eval_recall': 0.8414239482200647, 'eval_runtime': 1.6731, 'eval_samples_per_second': 323.359, 'eval_steps_per_second': 20.322}\n",
      "\n",
      "🔍 Model: huawei-noah/TinyBERT_General_4L_312D\n",
      " ↪ Fold 1/5\n"
     ]
    },
    {
     "data": {
      "application/vnd.jupyter.widget-view+json": {
       "model_id": "b9e041ed2b984ee5a1ad7744c94fc10b",
       "version_major": 2,
       "version_minor": 0
      },
      "text/plain": [
       "Map:   0%|          | 0/2164 [00:00<?, ? examples/s]"
      ]
     },
     "metadata": {},
     "output_type": "display_data"
    },
    {
     "data": {
      "application/vnd.jupyter.widget-view+json": {
       "model_id": "2b34a5d8965b4ddda1b901f3291315e7",
       "version_major": 2,
       "version_minor": 0
      },
      "text/plain": [
       "Map:   0%|          | 0/541 [00:00<?, ? examples/s]"
      ]
     },
     "metadata": {},
     "output_type": "display_data"
    },
    {
     "name": "stderr",
     "output_type": "stream",
     "text": [
      "/Users/gchhetri/Developer/Python/15min-city-bench/.venv/lib/python3.12/site-packages/transformers/training_args.py:1604: FutureWarning: using `no_cuda` is deprecated and will be removed in version 5.0 of 🤗 Transformers. Use `use_cpu` instead\n",
      "  warnings.warn(\n"
     ]
    },
    {
     "name": "stdout",
     "output_type": "stream",
     "text": [
      "{'loss': 0.6734, 'grad_norm': 1.0330833196640015, 'learning_rate': 1.9276752767527677e-05, 'epoch': 0.18450184501845018}\n",
      "{'loss': 0.6439, 'grad_norm': 3.7261335849761963, 'learning_rate': 1.8538745387453875e-05, 'epoch': 0.36900369003690037}\n",
      "{'loss': 0.6214, 'grad_norm': 9.091059684753418, 'learning_rate': 1.7800738007380077e-05, 'epoch': 0.5535055350553506}\n",
      "{'loss': 0.6023, 'grad_norm': 4.052025318145752, 'learning_rate': 1.7062730627306276e-05, 'epoch': 0.7380073800738007}\n",
      "{'loss': 0.5547, 'grad_norm': 3.947922945022583, 'learning_rate': 1.6324723247232474e-05, 'epoch': 0.922509225092251}\n",
      "{'eval_loss': 0.5752870440483093, 'eval_accuracy': 0.6857670979667283, 'eval_f1': 0.7557471264367817, 'eval_precision': 0.6813471502590673, 'eval_recall': 0.8483870967741935, 'eval_runtime': 0.6139, 'eval_samples_per_second': 881.231, 'eval_steps_per_second': 55.382, 'epoch': 1.0}\n",
      "{'loss': 0.5609, 'grad_norm': 4.7591657638549805, 'learning_rate': 1.5586715867158672e-05, 'epoch': 1.1070110701107012}\n",
      "{'loss': 0.5142, 'grad_norm': 7.416353225708008, 'learning_rate': 1.4848708487084872e-05, 'epoch': 1.2915129151291513}\n",
      "{'loss': 0.5442, 'grad_norm': 25.875486373901367, 'learning_rate': 1.4110701107011071e-05, 'epoch': 1.4760147601476015}\n",
      "{'loss': 0.4894, 'grad_norm': 10.661966323852539, 'learning_rate': 1.3372693726937271e-05, 'epoch': 1.6605166051660518}\n",
      "{'loss': 0.5738, 'grad_norm': 14.32033920288086, 'learning_rate': 1.263468634686347e-05, 'epoch': 1.8450184501845017}\n",
      "{'eval_loss': 0.5350685715675354, 'eval_accuracy': 0.7412199630314233, 'eval_f1': 0.7885196374622356, 'eval_precision': 0.7414772727272727, 'eval_recall': 0.8419354838709677, 'eval_runtime': 0.6329, 'eval_samples_per_second': 854.828, 'eval_steps_per_second': 53.723, 'epoch': 2.0}\n",
      "{'loss': 0.4784, 'grad_norm': 7.889455795288086, 'learning_rate': 1.189667896678967e-05, 'epoch': 2.029520295202952}\n",
      "{'loss': 0.4798, 'grad_norm': 42.40837860107422, 'learning_rate': 1.1158671586715868e-05, 'epoch': 2.2140221402214024}\n",
      "{'loss': 0.4353, 'grad_norm': 10.7036771774292, 'learning_rate': 1.0420664206642068e-05, 'epoch': 2.3985239852398523}\n",
      "{'loss': 0.4458, 'grad_norm': 5.013640880584717, 'learning_rate': 9.682656826568266e-06, 'epoch': 2.5830258302583027}\n",
      "{'loss': 0.4756, 'grad_norm': 33.088844299316406, 'learning_rate': 8.944649446494466e-06, 'epoch': 2.767527675276753}\n",
      "{'loss': 0.4631, 'grad_norm': 12.512114524841309, 'learning_rate': 8.206642066420665e-06, 'epoch': 2.952029520295203}\n",
      "{'eval_loss': 0.5237665176391602, 'eval_accuracy': 0.7597042513863216, 'eval_f1': 0.7987616099071208, 'eval_precision': 0.7678571428571429, 'eval_recall': 0.832258064516129, 'eval_runtime': 0.6963, 'eval_samples_per_second': 777.003, 'eval_steps_per_second': 48.832, 'epoch': 3.0}\n",
      "{'loss': 0.4378, 'grad_norm': 29.059627532958984, 'learning_rate': 7.468634686346864e-06, 'epoch': 3.1365313653136533}\n",
      "{'loss': 0.4279, 'grad_norm': 8.620377540588379, 'learning_rate': 6.730627306273063e-06, 'epoch': 3.321033210332103}\n",
      "{'loss': 0.4387, 'grad_norm': 8.32248592376709, 'learning_rate': 5.9926199261992625e-06, 'epoch': 3.5055350553505535}\n",
      "{'loss': 0.4371, 'grad_norm': 18.14919090270996, 'learning_rate': 5.254612546125462e-06, 'epoch': 3.6900369003690034}\n",
      "{'loss': 0.4429, 'grad_norm': 27.004968643188477, 'learning_rate': 4.516605166051661e-06, 'epoch': 3.874538745387454}\n",
      "{'eval_loss': 0.5608851313591003, 'eval_accuracy': 0.7597042513863216, 'eval_f1': 0.8024316109422492, 'eval_precision': 0.7586206896551724, 'eval_recall': 0.8516129032258064, 'eval_runtime': 0.619, 'eval_samples_per_second': 874.006, 'eval_steps_per_second': 54.928, 'epoch': 4.0}\n",
      "{'train_runtime': 67.2201, 'train_samples_per_second': 160.964, 'train_steps_per_second': 20.158, 'train_loss': 0.507710750692445, 'epoch': 4.0}\n",
      "{'eval_loss': 0.5237665176391602, 'eval_model_preparation_time': 0.0003, 'eval_accuracy': 0.7597042513863216, 'eval_f1': 0.7987616099071208, 'eval_precision': 0.7678571428571429, 'eval_recall': 0.832258064516129, 'eval_runtime': 0.6555, 'eval_samples_per_second': 825.361, 'eval_steps_per_second': 51.871}\n",
      " ↪ Fold 2/5\n"
     ]
    },
    {
     "data": {
      "application/vnd.jupyter.widget-view+json": {
       "model_id": "efb3f8eac26640169261695e8bd888ae",
       "version_major": 2,
       "version_minor": 0
      },
      "text/plain": [
       "Map:   0%|          | 0/2164 [00:00<?, ? examples/s]"
      ]
     },
     "metadata": {},
     "output_type": "display_data"
    },
    {
     "data": {
      "application/vnd.jupyter.widget-view+json": {
       "model_id": "ac207a2b75384e6ca71c78793fbe6809",
       "version_major": 2,
       "version_minor": 0
      },
      "text/plain": [
       "Map:   0%|          | 0/541 [00:00<?, ? examples/s]"
      ]
     },
     "metadata": {},
     "output_type": "display_data"
    },
    {
     "name": "stderr",
     "output_type": "stream",
     "text": [
      "/Users/gchhetri/Developer/Python/15min-city-bench/.venv/lib/python3.12/site-packages/transformers/training_args.py:1604: FutureWarning: using `no_cuda` is deprecated and will be removed in version 5.0 of 🤗 Transformers. Use `use_cpu` instead\n",
      "  warnings.warn(\n"
     ]
    },
    {
     "name": "stdout",
     "output_type": "stream",
     "text": [
      "{'loss': 0.6713, 'grad_norm': 2.384836196899414, 'learning_rate': 1.9276752767527677e-05, 'epoch': 0.18450184501845018}\n",
      "{'loss': 0.6267, 'grad_norm': 2.832188129425049, 'learning_rate': 1.8538745387453875e-05, 'epoch': 0.36900369003690037}\n",
      "{'loss': 0.6403, 'grad_norm': 3.377864360809326, 'learning_rate': 1.7800738007380077e-05, 'epoch': 0.5535055350553506}\n",
      "{'loss': 0.5902, 'grad_norm': 1.4343371391296387, 'learning_rate': 1.7062730627306276e-05, 'epoch': 0.7380073800738007}\n",
      "{'loss': 0.5835, 'grad_norm': 2.209688901901245, 'learning_rate': 1.6324723247232474e-05, 'epoch': 0.922509225092251}\n",
      "{'eval_loss': 0.5735596418380737, 'eval_accuracy': 0.7005545286506469, 'eval_f1': 0.7530487804878049, 'eval_precision': 0.7138728323699421, 'eval_recall': 0.7967741935483871, 'eval_runtime': 0.7259, 'eval_samples_per_second': 745.321, 'eval_steps_per_second': 46.841, 'epoch': 1.0}\n",
      "{'loss': 0.5547, 'grad_norm': 6.43011474609375, 'learning_rate': 1.5586715867158672e-05, 'epoch': 1.1070110701107012}\n",
      "{'loss': 0.5709, 'grad_norm': 11.826822280883789, 'learning_rate': 1.4848708487084872e-05, 'epoch': 1.2915129151291513}\n",
      "{'loss': 0.5351, 'grad_norm': 8.49781322479248, 'learning_rate': 1.4110701107011071e-05, 'epoch': 1.4760147601476015}\n",
      "{'loss': 0.5057, 'grad_norm': 11.632807731628418, 'learning_rate': 1.3372693726937271e-05, 'epoch': 1.6605166051660518}\n",
      "{'loss': 0.522, 'grad_norm': 9.810935974121094, 'learning_rate': 1.263468634686347e-05, 'epoch': 1.8450184501845017}\n",
      "{'eval_loss': 0.5308141708374023, 'eval_accuracy': 0.7578558225508318, 'eval_f1': 0.8018154311649016, 'eval_precision': 0.7549857549857549, 'eval_recall': 0.8548387096774194, 'eval_runtime': 0.6566, 'eval_samples_per_second': 823.962, 'eval_steps_per_second': 51.783, 'epoch': 2.0}\n",
      "{'loss': 0.4755, 'grad_norm': 19.462600708007812, 'learning_rate': 1.189667896678967e-05, 'epoch': 2.029520295202952}\n",
      "{'loss': 0.4811, 'grad_norm': 14.034889221191406, 'learning_rate': 1.1158671586715868e-05, 'epoch': 2.2140221402214024}\n",
      "{'loss': 0.4666, 'grad_norm': 4.5763092041015625, 'learning_rate': 1.0420664206642068e-05, 'epoch': 2.3985239852398523}\n",
      "{'loss': 0.5236, 'grad_norm': 21.0301513671875, 'learning_rate': 9.682656826568266e-06, 'epoch': 2.5830258302583027}\n",
      "{'loss': 0.4459, 'grad_norm': 28.909177780151367, 'learning_rate': 8.944649446494466e-06, 'epoch': 2.767527675276753}\n",
      "{'loss': 0.4232, 'grad_norm': 14.36967658996582, 'learning_rate': 8.206642066420665e-06, 'epoch': 2.952029520295203}\n",
      "{'eval_loss': 0.5328323841094971, 'eval_accuracy': 0.7578558225508318, 'eval_f1': 0.8012139605462822, 'eval_precision': 0.7564469914040115, 'eval_recall': 0.8516129032258064, 'eval_runtime': 0.7183, 'eval_samples_per_second': 753.199, 'eval_steps_per_second': 47.336, 'epoch': 3.0}\n",
      "{'train_runtime': 51.65, 'train_samples_per_second': 209.487, 'train_steps_per_second': 26.234, 'train_loss': 0.5369538322439347, 'epoch': 3.0}\n",
      "{'eval_loss': 0.5308141708374023, 'eval_model_preparation_time': 0.0003, 'eval_accuracy': 0.7578558225508318, 'eval_f1': 0.8018154311649016, 'eval_precision': 0.7549857549857549, 'eval_recall': 0.8548387096774194, 'eval_runtime': 0.7266, 'eval_samples_per_second': 744.542, 'eval_steps_per_second': 46.792}\n",
      " ↪ Fold 3/5\n"
     ]
    },
    {
     "data": {
      "application/vnd.jupyter.widget-view+json": {
       "model_id": "2fd70e0d090e46cc95553a5c1438c1bc",
       "version_major": 2,
       "version_minor": 0
      },
      "text/plain": [
       "Map:   0%|          | 0/2164 [00:00<?, ? examples/s]"
      ]
     },
     "metadata": {},
     "output_type": "display_data"
    },
    {
     "data": {
      "application/vnd.jupyter.widget-view+json": {
       "model_id": "14378f70351f4b58ae3f47956f80137a",
       "version_major": 2,
       "version_minor": 0
      },
      "text/plain": [
       "Map:   0%|          | 0/541 [00:00<?, ? examples/s]"
      ]
     },
     "metadata": {},
     "output_type": "display_data"
    },
    {
     "name": "stderr",
     "output_type": "stream",
     "text": [
      "/Users/gchhetri/Developer/Python/15min-city-bench/.venv/lib/python3.12/site-packages/transformers/training_args.py:1604: FutureWarning: using `no_cuda` is deprecated and will be removed in version 5.0 of 🤗 Transformers. Use `use_cpu` instead\n",
      "  warnings.warn(\n"
     ]
    },
    {
     "name": "stdout",
     "output_type": "stream",
     "text": [
      "{'loss': 0.6837, 'grad_norm': 1.5802969932556152, 'learning_rate': 1.9276752767527677e-05, 'epoch': 0.18450184501845018}\n",
      "{'loss': 0.6482, 'grad_norm': 1.8523855209350586, 'learning_rate': 1.8538745387453875e-05, 'epoch': 0.36900369003690037}\n",
      "{'loss': 0.6257, 'grad_norm': 6.302910804748535, 'learning_rate': 1.7800738007380077e-05, 'epoch': 0.5535055350553506}\n",
      "{'loss': 0.5868, 'grad_norm': 4.535139560699463, 'learning_rate': 1.7062730627306276e-05, 'epoch': 0.7380073800738007}\n",
      "{'loss': 0.5805, 'grad_norm': 3.7358829975128174, 'learning_rate': 1.6324723247232474e-05, 'epoch': 0.922509225092251}\n",
      "{'eval_loss': 0.5549963116645813, 'eval_accuracy': 0.7134935304990758, 'eval_f1': 0.7633587786259542, 'eval_precision': 0.7246376811594203, 'eval_recall': 0.8064516129032258, 'eval_runtime': 0.7059, 'eval_samples_per_second': 766.395, 'eval_steps_per_second': 48.165, 'epoch': 1.0}\n",
      "{'loss': 0.5735, 'grad_norm': 10.139005661010742, 'learning_rate': 1.5586715867158672e-05, 'epoch': 1.1070110701107012}\n",
      "{'loss': 0.5166, 'grad_norm': 11.28725814819336, 'learning_rate': 1.4848708487084872e-05, 'epoch': 1.2915129151291513}\n",
      "{'loss': 0.5042, 'grad_norm': 19.074817657470703, 'learning_rate': 1.4110701107011071e-05, 'epoch': 1.4760147601476015}\n",
      "{'loss': 0.5136, 'grad_norm': 13.819747924804688, 'learning_rate': 1.3372693726937271e-05, 'epoch': 1.6605166051660518}\n",
      "{'loss': 0.5, 'grad_norm': 15.771634101867676, 'learning_rate': 1.263468634686347e-05, 'epoch': 1.8450184501845017}\n",
      "{'eval_loss': 0.5131850838661194, 'eval_accuracy': 0.7486136783733827, 'eval_f1': 0.7945619335347432, 'eval_precision': 0.7471590909090909, 'eval_recall': 0.8483870967741935, 'eval_runtime': 0.6892, 'eval_samples_per_second': 785.009, 'eval_steps_per_second': 49.335, 'epoch': 2.0}\n",
      "{'loss': 0.505, 'grad_norm': 21.354738235473633, 'learning_rate': 1.189667896678967e-05, 'epoch': 2.029520295202952}\n",
      "{'loss': 0.4492, 'grad_norm': 24.448331832885742, 'learning_rate': 1.1158671586715868e-05, 'epoch': 2.2140221402214024}\n",
      "{'loss': 0.4242, 'grad_norm': 18.150333404541016, 'learning_rate': 1.0420664206642068e-05, 'epoch': 2.3985239852398523}\n",
      "{'loss': 0.4908, 'grad_norm': 29.832326889038086, 'learning_rate': 9.682656826568266e-06, 'epoch': 2.5830258302583027}\n",
      "{'loss': 0.5017, 'grad_norm': 13.97315502166748, 'learning_rate': 8.944649446494466e-06, 'epoch': 2.767527675276753}\n",
      "{'loss': 0.4158, 'grad_norm': 17.05853271484375, 'learning_rate': 8.206642066420665e-06, 'epoch': 2.952029520295203}\n",
      "{'eval_loss': 0.5500341653823853, 'eval_accuracy': 0.7523105360443623, 'eval_f1': 0.8029411764705883, 'eval_precision': 0.7378378378378379, 'eval_recall': 0.8806451612903226, 'eval_runtime': 0.7119, 'eval_samples_per_second': 759.887, 'eval_steps_per_second': 47.756, 'epoch': 3.0}\n",
      "{'train_runtime': 50.9247, 'train_samples_per_second': 212.471, 'train_steps_per_second': 26.608, 'train_loss': 0.5298671869041002, 'epoch': 3.0}\n",
      "{'eval_loss': 0.5131850838661194, 'eval_model_preparation_time': 0.0003, 'eval_accuracy': 0.7486136783733827, 'eval_f1': 0.7945619335347432, 'eval_precision': 0.7471590909090909, 'eval_recall': 0.8483870967741935, 'eval_runtime': 0.7439, 'eval_samples_per_second': 727.224, 'eval_steps_per_second': 45.704}\n",
      " ↪ Fold 4/5\n"
     ]
    },
    {
     "data": {
      "application/vnd.jupyter.widget-view+json": {
       "model_id": "c8eaaf9269e04448bf31e19b680e9c25",
       "version_major": 2,
       "version_minor": 0
      },
      "text/plain": [
       "Map:   0%|          | 0/2164 [00:00<?, ? examples/s]"
      ]
     },
     "metadata": {},
     "output_type": "display_data"
    },
    {
     "data": {
      "application/vnd.jupyter.widget-view+json": {
       "model_id": "db741cf9bbc04d08a5e4c93907abaf6f",
       "version_major": 2,
       "version_minor": 0
      },
      "text/plain": [
       "Map:   0%|          | 0/541 [00:00<?, ? examples/s]"
      ]
     },
     "metadata": {},
     "output_type": "display_data"
    },
    {
     "name": "stderr",
     "output_type": "stream",
     "text": [
      "/Users/gchhetri/Developer/Python/15min-city-bench/.venv/lib/python3.12/site-packages/transformers/training_args.py:1604: FutureWarning: using `no_cuda` is deprecated and will be removed in version 5.0 of 🤗 Transformers. Use `use_cpu` instead\n",
      "  warnings.warn(\n"
     ]
    },
    {
     "name": "stdout",
     "output_type": "stream",
     "text": [
      "{'loss': 0.6824, 'grad_norm': 1.026371955871582, 'learning_rate': 1.9276752767527677e-05, 'epoch': 0.18450184501845018}\n",
      "{'loss': 0.6349, 'grad_norm': 3.3838675022125244, 'learning_rate': 1.8538745387453875e-05, 'epoch': 0.36900369003690037}\n",
      "{'loss': 0.6161, 'grad_norm': 4.0729546546936035, 'learning_rate': 1.7800738007380077e-05, 'epoch': 0.5535055350553506}\n",
      "{'loss': 0.6133, 'grad_norm': 4.425028324127197, 'learning_rate': 1.7062730627306276e-05, 'epoch': 0.7380073800738007}\n",
      "{'loss': 0.5743, 'grad_norm': 4.055292129516602, 'learning_rate': 1.6324723247232474e-05, 'epoch': 0.922509225092251}\n",
      "{'eval_loss': 0.566743791103363, 'eval_accuracy': 0.7134935304990758, 'eval_f1': 0.7832167832167832, 'eval_precision': 0.6896551724137931, 'eval_recall': 0.9061488673139159, 'eval_runtime': 0.6972, 'eval_samples_per_second': 776.0, 'eval_steps_per_second': 48.769, 'epoch': 1.0}\n",
      "{'loss': 0.5567, 'grad_norm': 8.141851425170898, 'learning_rate': 1.5586715867158672e-05, 'epoch': 1.1070110701107012}\n",
      "{'loss': 0.5413, 'grad_norm': 2.6126291751861572, 'learning_rate': 1.4848708487084872e-05, 'epoch': 1.2915129151291513}\n",
      "{'loss': 0.5106, 'grad_norm': 35.734222412109375, 'learning_rate': 1.4110701107011071e-05, 'epoch': 1.4760147601476015}\n",
      "{'loss': 0.5087, 'grad_norm': 14.730109214782715, 'learning_rate': 1.3372693726937271e-05, 'epoch': 1.6605166051660518}\n",
      "{'loss': 0.5335, 'grad_norm': 19.1456298828125, 'learning_rate': 1.263468634686347e-05, 'epoch': 1.8450184501845017}\n",
      "{'eval_loss': 0.5223671793937683, 'eval_accuracy': 0.7597042513863216, 'eval_f1': 0.8088235294117647, 'eval_precision': 0.7412398921832885, 'eval_recall': 0.889967637540453, 'eval_runtime': 0.6751, 'eval_samples_per_second': 801.354, 'eval_steps_per_second': 50.362, 'epoch': 2.0}\n",
      "{'loss': 0.504, 'grad_norm': 7.318662166595459, 'learning_rate': 1.189667896678967e-05, 'epoch': 2.029520295202952}\n",
      "{'loss': 0.4581, 'grad_norm': 8.41965389251709, 'learning_rate': 1.1158671586715868e-05, 'epoch': 2.2140221402214024}\n",
      "{'loss': 0.4602, 'grad_norm': 2.816934823989868, 'learning_rate': 1.0420664206642068e-05, 'epoch': 2.3985239852398523}\n",
      "{'loss': 0.4855, 'grad_norm': 7.5589518547058105, 'learning_rate': 9.682656826568266e-06, 'epoch': 2.5830258302583027}\n",
      "{'loss': 0.4766, 'grad_norm': 15.946236610412598, 'learning_rate': 8.944649446494466e-06, 'epoch': 2.767527675276753}\n",
      "{'loss': 0.4315, 'grad_norm': 11.790971755981445, 'learning_rate': 8.206642066420665e-06, 'epoch': 2.952029520295203}\n",
      "{'eval_loss': 0.5068112015724182, 'eval_accuracy': 0.7541589648798521, 'eval_f1': 0.7975646879756468, 'eval_precision': 0.7528735632183908, 'eval_recall': 0.8478964401294499, 'eval_runtime': 0.6137, 'eval_samples_per_second': 881.497, 'eval_steps_per_second': 55.399, 'epoch': 3.0}\n",
      "{'loss': 0.4707, 'grad_norm': 8.619333267211914, 'learning_rate': 7.468634686346864e-06, 'epoch': 3.1365313653136533}\n",
      "{'loss': 0.4236, 'grad_norm': 16.52927589416504, 'learning_rate': 6.730627306273063e-06, 'epoch': 3.321033210332103}\n",
      "{'loss': 0.3977, 'grad_norm': 24.827573776245117, 'learning_rate': 5.9926199261992625e-06, 'epoch': 3.5055350553505535}\n",
      "{'loss': 0.4034, 'grad_norm': 22.078475952148438, 'learning_rate': 5.254612546125462e-06, 'epoch': 3.6900369003690034}\n",
      "{'loss': 0.4089, 'grad_norm': 23.559810638427734, 'learning_rate': 4.516605166051661e-06, 'epoch': 3.874538745387454}\n",
      "{'eval_loss': 0.553487241268158, 'eval_accuracy': 0.7541589648798521, 'eval_f1': 0.8023774145616642, 'eval_precision': 0.7417582417582418, 'eval_recall': 0.8737864077669902, 'eval_runtime': 0.6629, 'eval_samples_per_second': 816.169, 'eval_steps_per_second': 51.293, 'epoch': 4.0}\n",
      "{'train_runtime': 67.1373, 'train_samples_per_second': 161.162, 'train_steps_per_second': 20.183, 'train_loss': 0.5056939204240637, 'epoch': 4.0}\n",
      "{'eval_loss': 0.5068112015724182, 'eval_model_preparation_time': 0.0003, 'eval_accuracy': 0.7541589648798521, 'eval_f1': 0.7975646879756468, 'eval_precision': 0.7528735632183908, 'eval_recall': 0.8478964401294499, 'eval_runtime': 0.7065, 'eval_samples_per_second': 765.74, 'eval_steps_per_second': 48.124}\n",
      " ↪ Fold 5/5\n"
     ]
    },
    {
     "data": {
      "application/vnd.jupyter.widget-view+json": {
       "model_id": "8f9ed77179194422a6f697ffb6d8f862",
       "version_major": 2,
       "version_minor": 0
      },
      "text/plain": [
       "Map:   0%|          | 0/2164 [00:00<?, ? examples/s]"
      ]
     },
     "metadata": {},
     "output_type": "display_data"
    },
    {
     "data": {
      "application/vnd.jupyter.widget-view+json": {
       "model_id": "45968cdfe33e424f8d8a090089bcb1ef",
       "version_major": 2,
       "version_minor": 0
      },
      "text/plain": [
       "Map:   0%|          | 0/541 [00:00<?, ? examples/s]"
      ]
     },
     "metadata": {},
     "output_type": "display_data"
    },
    {
     "name": "stderr",
     "output_type": "stream",
     "text": [
      "/Users/gchhetri/Developer/Python/15min-city-bench/.venv/lib/python3.12/site-packages/transformers/training_args.py:1604: FutureWarning: using `no_cuda` is deprecated and will be removed in version 5.0 of 🤗 Transformers. Use `use_cpu` instead\n",
      "  warnings.warn(\n"
     ]
    },
    {
     "name": "stdout",
     "output_type": "stream",
     "text": [
      "{'loss': 0.6858, 'grad_norm': 1.826180338859558, 'learning_rate': 1.9276752767527677e-05, 'epoch': 0.18450184501845018}\n",
      "{'loss': 0.6424, 'grad_norm': 2.0221266746520996, 'learning_rate': 1.8538745387453875e-05, 'epoch': 0.36900369003690037}\n",
      "{'loss': 0.6435, 'grad_norm': 5.970825672149658, 'learning_rate': 1.7800738007380077e-05, 'epoch': 0.5535055350553506}\n",
      "{'loss': 0.578, 'grad_norm': 6.533298969268799, 'learning_rate': 1.7062730627306276e-05, 'epoch': 0.7380073800738007}\n",
      "{'loss': 0.5674, 'grad_norm': 6.677089214324951, 'learning_rate': 1.6324723247232474e-05, 'epoch': 0.922509225092251}\n",
      "{'eval_loss': 0.5403273105621338, 'eval_accuracy': 0.7486136783733827, 'eval_f1': 0.7951807228915663, 'eval_precision': 0.7436619718309859, 'eval_recall': 0.8543689320388349, 'eval_runtime': 0.6106, 'eval_samples_per_second': 885.966, 'eval_steps_per_second': 55.68, 'epoch': 1.0}\n",
      "{'loss': 0.5184, 'grad_norm': 10.174674034118652, 'learning_rate': 1.5586715867158672e-05, 'epoch': 1.1070110701107012}\n",
      "{'loss': 0.5148, 'grad_norm': 10.08718490600586, 'learning_rate': 1.4848708487084872e-05, 'epoch': 1.2915129151291513}\n",
      "{'loss': 0.5154, 'grad_norm': 11.779829978942871, 'learning_rate': 1.4110701107011071e-05, 'epoch': 1.4760147601476015}\n",
      "{'loss': 0.477, 'grad_norm': 19.963571548461914, 'learning_rate': 1.3372693726937271e-05, 'epoch': 1.6605166051660518}\n",
      "{'loss': 0.5257, 'grad_norm': 5.745619773864746, 'learning_rate': 1.263468634686347e-05, 'epoch': 1.8450184501845017}\n",
      "{'eval_loss': 0.5224542617797852, 'eval_accuracy': 0.756007393715342, 'eval_f1': 0.8135593220338984, 'eval_precision': 0.7218045112781954, 'eval_recall': 0.9320388349514563, 'eval_runtime': 0.6097, 'eval_samples_per_second': 887.341, 'eval_steps_per_second': 55.766, 'epoch': 2.0}\n",
      "{'loss': 0.5091, 'grad_norm': 8.895689964294434, 'learning_rate': 1.189667896678967e-05, 'epoch': 2.029520295202952}\n",
      "{'loss': 0.4646, 'grad_norm': 25.235857009887695, 'learning_rate': 1.1158671586715868e-05, 'epoch': 2.2140221402214024}\n",
      "{'loss': 0.4713, 'grad_norm': 5.1510701179504395, 'learning_rate': 1.0420664206642068e-05, 'epoch': 2.3985239852398523}\n",
      "{'loss': 0.514, 'grad_norm': 2.3910226821899414, 'learning_rate': 9.682656826568266e-06, 'epoch': 2.5830258302583027}\n",
      "{'loss': 0.4405, 'grad_norm': 2.980321168899536, 'learning_rate': 8.944649446494466e-06, 'epoch': 2.767527675276753}\n",
      "{'loss': 0.4222, 'grad_norm': 15.943611145019531, 'learning_rate': 8.206642066420665e-06, 'epoch': 2.952029520295203}\n",
      "{'eval_loss': 0.5408833026885986, 'eval_accuracy': 0.7578558225508318, 'eval_f1': 0.812051649928264, 'eval_precision': 0.729381443298969, 'eval_recall': 0.9158576051779935, 'eval_runtime': 0.6165, 'eval_samples_per_second': 877.548, 'eval_steps_per_second': 55.151, 'epoch': 3.0}\n",
      "{'train_runtime': 50.1394, 'train_samples_per_second': 215.798, 'train_steps_per_second': 27.025, 'train_loss': 0.5295204993103703, 'epoch': 3.0}\n",
      "{'eval_loss': 0.5224542617797852, 'eval_model_preparation_time': 0.0003, 'eval_accuracy': 0.756007393715342, 'eval_f1': 0.8135593220338984, 'eval_precision': 0.7218045112781954, 'eval_recall': 0.9320388349514563, 'eval_runtime': 0.7186, 'eval_samples_per_second': 752.849, 'eval_steps_per_second': 47.314}\n",
      "\n",
      "✅ Multimodal Benchmarking complete. Results saved to multimodal_results.csv\n"
     ]
    }
   ],
   "source": [
    "import os\n",
    "import sqlite3\n",
    "import time\n",
    "import torch\n",
    "import numpy as np\n",
    "import pandas as pd\n",
    "import matplotlib.pyplot as plt\n",
    "import logging\n",
    "import warnings\n",
    "\n",
    "from sklearn.model_selection import StratifiedKFold\n",
    "from sklearn.metrics import accuracy_score, precision_score, recall_score, f1_score, roc_curve, auc\n",
    "\n",
    "from transformers import (\n",
    "    AutoTokenizer,\n",
    "    AutoModelForSequenceClassification\n",
    ")\n",
    "from transformers.data.data_collator import DataCollatorWithPadding\n",
    "from transformers.trainer_callback import EarlyStoppingCallback\n",
    "from transformers.training_args import TrainingArguments\n",
    "from transformers.trainer import Trainer\n",
    "\n",
    "from datasets import Dataset\n",
    "from tqdm.auto import tqdm\n",
    "\n",
    "# === Silence warnings/logging ===\n",
    "warnings.filterwarnings(\"ignore\", message=\".*pin_memory.*\")\n",
    "logging.getLogger(\"transformers\").setLevel(logging.ERROR)\n",
    "\n",
    "# === Model list ===\n",
    "MODELS = [\n",
    "    \"distilroberta-base\",\n",
    "    \"distilbert-base-uncased\",\n",
    "    \"nreimers/MiniLM-L6-H384-uncased\",\n",
    "    \"google/electra-small-discriminator\",\n",
    "    \"huawei-noah/TinyBERT_General_4L_312D\"\n",
    "]\n",
    "\n",
    "# === Dataset info ===\n",
    "DATASETS = {\n",
    "    \"news\": \"data/news.db\",\n",
    "    \"reddit\": \"data/reddit.db\",\n",
    "    \"twitter\": \"data/twitter.db\"\n",
    "}\n",
    "\n",
    "# === Metric computation ===\n",
    "def compute_metrics(eval_pred):\n",
    "    logits, labels = eval_pred\n",
    "    preds = np.argmax(logits, axis=1)\n",
    "    return {\n",
    "        \"accuracy\": accuracy_score(labels, preds),\n",
    "        \"f1\": f1_score(labels, preds, zero_division=0),\n",
    "        \"precision\": precision_score(labels, preds, zero_division=0),\n",
    "        \"recall\": recall_score(labels, preds)\n",
    "    }\n",
    "\n",
    "# === Benchmark loop over datasets ===\n",
    "all_results = []\n",
    "\n",
    "for source_name, db_path in tqdm(DATASETS.items(), desc=\"🔬 Benchmarking Datasets\"):\n",
    "    print(f\"\\n📂 Benchmarking on dataset: {source_name}\")\n",
    "    con = sqlite3.connect(db_path)\n",
    "    df = pd.read_sql(\"SELECT summary AS text, label FROM labeled_data\", con)\n",
    "    con.close()\n",
    "    df.dropna(subset=[\"text\", \"label\"], inplace=True)   \n",
    "    df[\"label\"] = df[\"label\"].astype(int)\n",
    "\n",
    "    skf = StratifiedKFold(n_splits=5, shuffle=True, random_state=42)\n",
    "\n",
    "    for model_name in tqdm(MODELS, desc=f\"🔬 Benchmarking Models on {source_name}\"):\n",
    "        print(f\"\\n🔍 Model: {model_name}\")\n",
    "        fold_scores, all_probs, all_labels = [], [], []\n",
    "\n",
    "        for fold, (train_idx, val_idx) in enumerate(skf.split(df[\"text\"], df[\"label\"])):\n",
    "            print(f\" ↪ Fold {fold+1}/5\")\n",
    "            train_df, val_df = df.iloc[train_idx], df.iloc[val_idx]\n",
    "\n",
    "            tokenizer = AutoTokenizer.from_pretrained(model_name, use_fast=True)\n",
    "            safe_model_name = model_name.replace(\"/\", \"_\").replace(\"-\", \"_\")\n",
    "            model_dir = f\"./results/{source_name}_{safe_model_name}_fold{fold+1}\"\n",
    "\n",
    "            if os.path.exists(model_dir):\n",
    "                model = AutoModelForSequenceClassification.from_pretrained(model_dir)\n",
    "            else:\n",
    "                model = AutoModelForSequenceClassification.from_pretrained(model_name, num_labels=2)\n",
    "\n",
    "            train_ds = Dataset.from_pandas(train_df).map(lambda x: tokenizer(x[\"text\"], truncation=True, max_length=512), batched=True)\n",
    "            val_ds = Dataset.from_pandas(val_df).map(lambda x: tokenizer(x[\"text\"], truncation=True, max_length=512), batched=True)\n",
    "\n",
    "            train_ds = train_ds.rename_column(\"label\", \"labels\")\n",
    "            val_ds = val_ds.rename_column(\"label\", \"labels\")\n",
    "            train_ds.set_format(type='torch', columns=['input_ids', 'attention_mask', 'labels'])\n",
    "            val_ds.set_format(type='torch', columns=['input_ids', 'attention_mask', 'labels'])\n",
    "\n",
    "            args = TrainingArguments(\n",
    "                output_dir=model_dir,\n",
    "                per_device_train_batch_size=8,\n",
    "                per_device_eval_batch_size=16,\n",
    "                num_train_epochs=5,\n",
    "                eval_strategy=\"epoch\",\n",
    "                save_strategy=\"epoch\",\n",
    "                save_total_limit=1,\n",
    "                load_best_model_at_end=True,\n",
    "                logging_steps=50,\n",
    "                report_to=\"none\",\n",
    "                disable_tqdm=True,\n",
    "                fp16=False,\n",
    "                learning_rate=2e-5,\n",
    "                no_cuda=True,\n",
    "            )\n",
    "\n",
    "            checkpoint_path = os.path.join(model_dir, \"pytorch_model.bin\")\n",
    "            if os.path.exists(checkpoint_path):\n",
    "                model = AutoModelForSequenceClassification.from_pretrained(model_dir)\n",
    "                model.to(\"cpu\")\n",
    "                train_time = 0.0\n",
    "            else:\n",
    "                trainer = Trainer(\n",
    "                    model=model,\n",
    "                    args=args,\n",
    "                    train_dataset=train_ds,\n",
    "                    eval_dataset=val_ds,\n",
    "                    compute_metrics=compute_metrics,\n",
    "                    data_collator=DataCollatorWithPadding(tokenizer),\n",
    "                    callbacks=[EarlyStoppingCallback(early_stopping_patience=1)]\n",
    "                )\n",
    "                start = time.time()\n",
    "                trainer.train()\n",
    "                trainer.save_model(model_dir)\n",
    "                train_time = round(time.time() - start, 2)\n",
    "\n",
    "            trainer = Trainer(\n",
    "                model=model,\n",
    "                args=args,\n",
    "                train_dataset=train_ds,\n",
    "                eval_dataset=val_ds,\n",
    "                compute_metrics=compute_metrics,\n",
    "                data_collator=DataCollatorWithPadding(tokenizer),\n",
    "                callbacks=[EarlyStoppingCallback(early_stopping_patience=1)]\n",
    "            )\n",
    "\n",
    "            metrics = trainer.evaluate()\n",
    "            metrics[\"training_time\"] = train_time\n",
    "\n",
    "            preds = trainer.predict(val_ds)\n",
    "            probs = torch.nn.functional.softmax(torch.tensor(preds.predictions), dim=1).numpy()\n",
    "            true_labels = preds.label_ids\n",
    "\n",
    "            all_probs.append(probs[:, 1])\n",
    "            all_labels.append(true_labels)\n",
    "\n",
    "            fpr, tpr, _ = roc_curve(true_labels, probs[:, 1])\n",
    "            roc_auc = auc(fpr, tpr)\n",
    "            metrics[\"auc\"] = roc_auc\n",
    "\n",
    "            os.makedirs(\"roc_curves\", exist_ok=True)\n",
    "            plt.figure()\n",
    "            plt.plot(fpr, tpr, color='darkorange', lw=2, label=f\"AUC={roc_auc:.2f}\")\n",
    "            plt.plot([0, 1], [0, 1], linestyle='--', color='navy')\n",
    "            plt.xlabel(\"False Positive Rate\")\n",
    "            plt.ylabel(\"True Positive Rate\")\n",
    "            plt.title(f\"{model_name} Fold {fold+1} ROC ({source_name})\")\n",
    "            plt.legend(loc=\"lower right\")\n",
    "            plt.savefig(f\"roc_curves/{source_name}_{safe_model_name}_fold{fold+1}.png\")\n",
    "            plt.close()\n",
    "\n",
    "            fold_scores.append({k.replace(\"eval_\", \"\"): v for k, v in metrics.items()})\n",
    "\n",
    "        # Overall ROC curve\n",
    "        if fold_scores:\n",
    "            all_probs_flat = np.concatenate(all_probs)\n",
    "            all_labels_flat = np.concatenate(all_labels)\n",
    "            fpr, tpr, _ = roc_curve(all_labels_flat, all_probs_flat)\n",
    "            overall_auc = auc(fpr, tpr)\n",
    "\n",
    "            plt.figure()\n",
    "            plt.plot(fpr, tpr, color='green', lw=2, label=f\"AUC={overall_auc:.2f}\")\n",
    "            plt.plot([0, 1], [0, 1], linestyle='--', color='gray')\n",
    "            plt.xlabel(\"False Positive Rate\")\n",
    "            plt.ylabel(\"True Positive Rate\")\n",
    "            plt.title(f\"{model_name} Overall ROC ({source_name})\")\n",
    "            plt.legend(loc=\"lower right\")\n",
    "            os.makedirs(\"roc_overall\", exist_ok=True)\n",
    "            plt.savefig(f\"roc_overall/{source_name}_{safe_model_name}_overall.png\")\n",
    "            plt.close()\n",
    "\n",
    "            avg = pd.DataFrame(fold_scores).mean().to_dict()\n",
    "            avg.update({\"model\": model_name, \"auc\": overall_auc, \"source\": source_name})\n",
    "            all_results.append(avg)\n",
    "\n",
    "# === Save Final Results ===\n",
    "results_df = pd.DataFrame(all_results)\n",
    "required_cols = [\"source\", \"model\", \"accuracy\", \"f1\", \"precision\", \"recall\", \"auc\", \"training_time\"]\n",
    "results_df = results_df[[col for col in required_cols if col in results_df.columns]]\n",
    "results_df.to_csv(\"multimodal_results.csv\", index=False)\n",
    "print(\"\\n✅ Multimodal Benchmarking complete. Results saved to multimodal_results.csv\")\n"
   ]
  }
 ],
 "metadata": {
  "kernelspec": {
   "display_name": ".venv",
   "language": "python",
   "name": "python3"
  },
  "language_info": {
   "codemirror_mode": {
    "name": "ipython",
    "version": 3
   },
   "file_extension": ".py",
   "mimetype": "text/x-python",
   "name": "python",
   "nbconvert_exporter": "python",
   "pygments_lexer": "ipython3",
   "version": "3.12.11"
  }
 },
 "nbformat": 4,
 "nbformat_minor": 5
}
